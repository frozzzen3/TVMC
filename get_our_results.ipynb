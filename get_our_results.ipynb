{
 "cells": [
  {
   "cell_type": "code",
   "id": "initial_id",
   "metadata": {
    "collapsed": true,
    "ExecuteTime": {
     "end_time": "2024-09-11T20:46:52.680302Z",
     "start_time": "2024-09-11T20:46:51.550547Z"
    }
   },
   "source": [
    "from copy import deepcopy\n",
    "import subprocess\n",
    "import numpy as np\n",
    "import open3d as o3d\n",
    "import trimesh\n",
    "import os\n",
    "print(o3d.__version__)"
   ],
   "outputs": [
    {
     "name": "stdout",
     "output_type": "stream",
     "text": [
      "Jupyter environment detected. Enabling Open3D WebVisualizer.\n",
      "[Open3D INFO] WebRTC GUI backend enabled.\n",
      "[Open3D INFO] WebRTCWindowSystem: HTTP handshake server disabled.\n"
     ]
    }
   ],
   "execution_count": 1
  },
  {
   "metadata": {
    "ExecuteTime": {
     "end_time": "2024-09-11T20:47:18.756022Z",
     "start_time": "2024-09-11T20:47:18.724781Z"
    }
   },
   "cell_type": "code",
   "source": [
    "def subdivide_surface_fitting(decimated_mesh, target_mesh, iterations=1):\n",
    "    subdivided_mesh = o3d.geometry.TriangleMesh.subdivide_midpoint(decimated_mesh, number_of_iterations=iterations)\n",
    "    print(subdivided_mesh)\n",
    "    subdivided_mesh.compute_vertex_normals()\n",
    "    \n",
    "    pcd_target = o3d.geometry.PointCloud()\n",
    "    pcd_target.points = o3d.utility.Vector3dVector(target_mesh.vertices)\n",
    "    pcd_tree = o3d.geometry.KDTreeFlann(pcd_target)\n",
    "    subdivided_vertices = np.array(subdivided_mesh.vertices)\n",
    "    target_vertices = np.array(target_mesh.vertices)\n",
    "    fitting_vertices = deepcopy(subdivided_vertices)\n",
    "    \n",
    "    for i in range(0, len(subdivided_vertices)):\n",
    "        [k, index, _] = pcd_tree.search_knn_vector_3d(subdivided_vertices[i], 1)\n",
    "        fitting_vertices[i] = target_vertices[index[0]]\n",
    "\n",
    "    subdivided_mesh.vertices = o3d.utility.Vector3dVector(fitting_vertices)\n",
    "    return subdivided_mesh"
   ],
   "id": "fffe541e735d365f",
   "outputs": [],
   "execution_count": 2
  },
  {
   "metadata": {
    "ExecuteTime": {
     "end_time": "2024-09-11T20:47:21.046501Z",
     "start_time": "2024-09-11T20:47:21.015243Z"
    }
   },
   "cell_type": "code",
   "source": [
    "def read_triangle_mesh_with_trimesh(avatar_name,enable_post_processing=False):\n",
    "    # EDIT: next 4 lines replace to maintain order even in case of degenerate and non referenced\n",
    "    # scene_patch = trimesh.load(avatar_name,process=enable_post_processing)\n",
    "    if enable_post_processing:\n",
    "        scene_patch = trimesh.load(avatar_name,process=True)\n",
    "    else:\n",
    "        scene_patch = trimesh.load(avatar_name,process=False,maintain_order=True) \n",
    "    mesh = o3d.geometry.TriangleMesh(\n",
    "        o3d.utility.Vector3dVector(scene_patch.vertices),\n",
    "        o3d.utility.Vector3iVector(scene_patch.faces)\n",
    "    ) \n",
    "    if scene_patch.vertex_normals.size:\n",
    "        mesh.vertex_normals = o3d.utility.Vector3dVector(scene_patch.vertex_normals.copy())\n",
    "    if scene_patch.visual.defined:\n",
    "        # either texture or vertex colors if no uvs present.\n",
    "        if scene_patch.visual.kind == 'vertex':\n",
    "            mesh.vertex_colors = o3d.utility.Vector3dVector(scene_patch.visual.vertex_colors[:,:3]/255) # no alpha channel support\n",
    "        elif scene_patch.visual.kind == 'texture':\n",
    "            uv = scene_patch.visual.uv\n",
    "            if uv.shape[0] == scene_patch.vertices.shape[0]:\n",
    "                mesh.triangle_uvs = o3d.utility.Vector2dVector(uv[scene_patch.faces.flatten()])\n",
    "            elif uv.shape[0] != scene_patch.faces.shape[0] * 3:\n",
    "                assert False\n",
    "            else:\n",
    "                mesh.triangle_uvs = o3d.utility.Vector2dVector(uv)\n",
    "                if scene_patch.visual.material is not None and scene_patch.visual.material.image is not None:\n",
    "                    if scene_patch.visual.material.image.mode == 'RGB':\n",
    "                        mesh.textures = [o3d.geometry.Image(np.asarray(scene_patch.visual.material.image))]\n",
    "                    else:\n",
    "                        assert False\n",
    "        else:\n",
    "            assert False\n",
    "    return mesh"
   ],
   "id": "10d5ab1e18103cb7",
   "outputs": [],
   "execution_count": 3
  },
  {
   "metadata": {
    "ExecuteTime": {
     "end_time": "2024-09-09T17:05:00.882555Z",
     "start_time": "2024-09-09T17:05:00.692037Z"
    }
   },
   "cell_type": "code",
   "outputs": [
    {
     "name": "stdout",
     "output_type": "stream",
     "text": [
      "TriangleMesh with 20002 points and 40000 triangles.\n"
     ]
    },
    {
     "data": {
      "text/plain": [
       "True"
      ]
     },
     "execution_count": 5,
     "metadata": {},
     "output_type": "execute_result"
    }
   ],
   "execution_count": 5,
   "source": [
    "load_reference_mesh = o3d.io.read_triangle_mesh(r'G:\\VS2022Projects\\tvm-editing-master\\TVMEditor.Test\\bin\\Release\\net5.0\\Data\\Dancer/reference_mesh.obj', enable_post_processing = False)\n",
    "print(load_reference_mesh)\n",
    "o3d.io.write_triangle_mesh(r'G:\\VS2022Projects\\tvm-editing-master\\TVMEditor.Test\\bin\\Release\\net5.0\\Data\\Dancer/reference_mesh.obj', load_reference_mesh, write_vertex_normals=False, write_vertex_colors=False, write_triangle_uvs=False)"
   ],
   "id": "c425796e3c366ad9"
  },
  {
   "metadata": {
    "ExecuteTime": {
     "end_time": "2024-09-09T17:06:23.399645Z",
     "start_time": "2024-09-09T17:06:23.335276Z"
    }
   },
   "cell_type": "code",
   "outputs": [
    {
     "name": "stdout",
     "output_type": "stream",
     "text": [
      "[[ 0.0791106   0.90974599 -0.477777  ]\n",
      " [ 0.0861452   0.90974599 -0.48245999]\n",
      " [ 0.0861452   0.905756   -0.48109001]\n",
      " ...\n",
      " [-0.127333    1.02546     0.26905501]\n",
      " [ 0.174541   -0.25041699  0.27527499]\n",
      " [-0.0575035   0.39899501  0.31645399]]\n"
     ]
    }
   ],
   "execution_count": 7,
   "source": [
    "load_reference_mesh = o3d.io.read_triangle_mesh(r'G:\\VS2022Projects\\tvm-editing-master\\TVMEditor.Test\\bin\\Release\\net5.0\\Data\\Dancer/reference_mesh.obj', enable_post_processing = False)\n",
    "print(np.array(load_reference_mesh.vertices))"
   ],
   "id": "6084dde14b90523"
  },
  {
   "metadata": {
    "ExecuteTime": {
     "end_time": "2024-09-10T14:10:18.815614Z",
     "start_time": "2024-09-10T14:10:18.429611Z"
    }
   },
   "cell_type": "code",
   "source": [
    "load_reference_mesh_trimesh = read_triangle_mesh_with_trimesh(r'G:\\VS2022Projects\\tvm-editing-master\\TVMEditor.Test\\bin\\Release\\net5.0\\Data\\Dancer/reference_mesh.obj', enable_post_processing = False)\n",
    "\n",
    "print(np.array(load_reference_mesh_trimesh.vertices).__len__())\n",
    "decimated_reference_mesh = o3d.geometry.TriangleMesh.simplify_quadric_decimation(load_reference_mesh_trimesh, 10000, boundary_weight= 8000)\n",
    "print(decimated_reference_mesh)\n",
    "\n",
    "subdivided_mesh = o3d.geometry.TriangleMesh.subdivide_midpoint(decimated_reference_mesh, number_of_iterations=1)\n",
    "print(subdivided_mesh)\n",
    "o3d.io.write_triangle_mesh(r'G:\\VS2022Projects\\tvm-editing-master\\TVMEditor.Test\\bin\\Release\\net5.0\\Data\\Dancer\\reference_mesh/decimated_reference_mesh.obj', decimated_reference_mesh, write_vertex_normals=False, write_vertex_colors=False, write_triangle_uvs=False)\n",
    "o3d.io.write_triangle_mesh(r'G:\\VS2022Projects\\tvm-editing-master\\TVMEditor.Test\\bin\\Release\\net5.0\\Data\\Dancer\\reference_mesh/subdivided_reference_mesh.obj', subdivided_mesh, write_vertex_normals=False, write_vertex_colors=False, write_triangle_uvs=False)\n"
   ],
   "id": "a1103c5a089b4c19",
   "outputs": [
    {
     "name": "stdout",
     "output_type": "stream",
     "text": [
      "20002\n",
      "TriangleMesh with 5002 points and 10000 triangles.\n",
      "TriangleMesh with 20002 points and 40000 triangles.\n"
     ]
    },
    {
     "data": {
      "text/plain": [
       "True"
      ]
     },
     "execution_count": 90,
     "metadata": {},
     "output_type": "execute_result"
    }
   ],
   "execution_count": 90
  },
  {
   "metadata": {
    "ExecuteTime": {
     "end_time": "2024-09-10T13:32:14.624925Z",
     "start_time": "2024-09-10T13:32:14.491926Z"
    }
   },
   "cell_type": "code",
   "source": [
    "subdivided_mesh = o3d.geometry.TriangleMesh.subdivide_midpoint(decimated_reference_mesh, number_of_iterations=1)\n",
    "o3d.io.write_triangle_mesh(r'G:\\VS2022Projects\\tvm-editing-master\\TVMEditor.Test\\bin\\Release\\net5.0\\Data\\Dancer\\reference_mesh/subdivided_reference_mesh1.obj', subdivided_mesh, write_vertex_normals=False, write_vertex_colors=False, write_triangle_uvs=False)"
   ],
   "id": "336e06e4be8cdf25",
   "outputs": [
    {
     "data": {
      "text/plain": [
       "True"
      ]
     },
     "execution_count": 74,
     "metadata": {},
     "output_type": "execute_result"
    }
   ],
   "execution_count": 74
  },
  {
   "metadata": {
    "ExecuteTime": {
     "end_time": "2024-09-10T14:10:30.614824Z",
     "start_time": "2024-09-10T14:10:27.405726Z"
    }
   },
   "cell_type": "code",
   "source": [
    "reconstruct_dancer_5 = o3d.io.read_triangle_mesh(r'G:\\VS2022Projects\\tvm-editing-master\\TVMEditor.Test\\bin\\Release\\net5.0\\output\\Dancer\\reference/deformed_reference_mesh_005.obj')\n",
    "original_dancer_5 = o3d.io.read_triangle_mesh(r'G:\\VS2022Projects\\tvm-editing-master\\TVMEditor.Test\\bin\\Release\\net5.0\\Data\\Dancer\\meshes/dancer_fr0005.obj')\n",
    "print(reconstruct_dancer_5)\n",
    "print(original_dancer_5)\n",
    "reconstruct_dancer_5.compute_vertex_normals()\n",
    "original_dancer_5.compute_vertex_normals()\n",
    "o3d.visualization.draw_geometries([reconstruct_dancer_5])"
   ],
   "id": "4bd21da4b4b85b81",
   "outputs": [
    {
     "name": "stdout",
     "output_type": "stream",
     "text": [
      "TriangleMesh with 4996 points and 10000 triangles.\n",
      "TriangleMesh with 19724 points and 39380 triangles.\n"
     ]
    }
   ],
   "execution_count": 91
  },
  {
   "metadata": {
    "ExecuteTime": {
     "end_time": "2024-09-09T17:21:25.250076Z",
     "start_time": "2024-09-09T17:21:05.848154Z"
    }
   },
   "cell_type": "code",
   "source": [
    "decimated_reconstructed_5 = o3d.geometry.TriangleMesh.simplify_quadric_decimation(reconstruct_dancer_5, 10000, boundary_weight= 8000)\n",
    "fitting_mesh_dancer_5 = subdivide_surface_fitting(decimated_reconstructed_5, original_dancer_5, 1)\n",
    "fitting_mesh_dancer_5.compute_vertex_normals()\n",
    "\n",
    "o3d.visualization.draw_geometries([fitting_mesh_dancer_5])\n"
   ],
   "id": "55ab7031411c2271",
   "outputs": [
    {
     "name": "stdout",
     "output_type": "stream",
     "text": [
      "TriangleMesh with 5002 points and 10000 triangles.\n",
      "TriangleMesh with 20002 points and 40000 triangles.\n",
      "TriangleMesh with 20002 points and 40000 triangles.\n"
     ]
    }
   ],
   "execution_count": 8
  },
  {
   "metadata": {},
   "cell_type": "code",
   "outputs": [],
   "execution_count": null,
   "source": "o3d.io.write_triangle_mesh(r'G:\\VS2022Projects\\tvm-editing-master\\TVMEditor.Test\\bin\\Release\\net5.0\\output\\Dancer\\reference/fitting_mesh_dancer_5.obj', fitting_mesh_dancer_5, write_vertex_normals=False, write_vertex_colors=False, write_triangle_uvs=False)",
   "id": "2dc0b370bdbef53b"
  },
  {
   "metadata": {
    "ExecuteTime": {
     "end_time": "2024-09-10T17:52:14.409685Z",
     "start_time": "2024-09-10T17:52:12.852546Z"
    }
   },
   "cell_type": "code",
   "source": [
    "GoF = 5\n",
    "for i in range(0, GoF):\n",
    "    offset = 5\n",
    "    reconstruct_dancer_i = o3d.io.read_triangle_mesh(fr'G:\\VS2022Projects\\tvm-editing-master\\TVMEditor.Test\\bin\\Release\\net5.0\\output\\Dancer\\reference/deformed_reference_mesh_{i+offset:03}.obj')\n",
    "    original_dancer_i = o3d.io.read_triangle_mesh(fr'G:\\VS2022Projects\\tvm-editing-master\\TVMEditor.Test\\bin\\Release\\net5.0\\Data\\Dancer\\meshes/dancer_fr0{i+offset:03}.obj')\n",
    "    #print(reconstruct_dancer_i)\n",
    "    #print(original_dancer_i)\n",
    "    reconstruct_dancer_i.compute_vertex_normals()\n",
    "    original_dancer_i.compute_vertex_normals()\n",
    "    #o3d.visualization.draw_geometries([reconstruct_dancer_i])\n",
    "    decimated_reconstructed_i = o3d.geometry.TriangleMesh.simplify_quadric_decimation(reconstruct_dancer_i, 10000, boundary_weight= 8000)\n",
    "    #print(decimated_reconstructed_i)\n",
    "    o3d.io.write_triangle_mesh(fr'G:\\VS2022Projects\\tvm-editing-master\\TVMEditor.Test\\bin\\Release\\net5.0\\output\\Dancer\\reference/decimated_reconstructed_{i+offset:03}.obj', decimated_reconstructed_i, write_vertex_normals=False, write_vertex_colors=False, write_triangle_uvs=False)\n",
    "    fitting_mesh_dancer_i = subdivide_surface_fitting(decimated_reconstructed_i, original_dancer_i, 1)\n",
    "    #print(fitting_mesh_dancer_i)\n",
    "    fitting_mesh_dancer_i.compute_vertex_normals()\n",
    "    o3d.io.write_triangle_mesh(fr'G:\\VS2022Projects\\tvm-editing-master\\TVMEditor.Test\\bin\\Release\\net5.0\\output\\Dancer\\reference/fitting_mesh_dancer_{i+offset:03}.obj', fitting_mesh_dancer_i, write_vertex_normals=False, write_vertex_colors=False, write_triangle_uvs=False)\n",
    "    #o3d.visualization.draw_geometries([fitting_mesh_dancer_i])"
   ],
   "id": "667e3ec49316de2c",
   "outputs": [
    {
     "name": "stdout",
     "output_type": "stream",
     "text": [
      "[Open3D WARNING] Write OBJ can not include triangle normals.\n",
      "TriangleMesh with 19996 points and 40000 triangles.\n",
      "[Open3D WARNING] Write OBJ can not include triangle normals.\n",
      "[Open3D WARNING] Write OBJ can not include triangle normals.\n",
      "TriangleMesh with 19996 points and 40000 triangles.\n",
      "[Open3D WARNING] Write OBJ can not include triangle normals.\n",
      "[Open3D WARNING] Write OBJ can not include triangle normals.\n",
      "TriangleMesh with 19996 points and 40000 triangles.\n",
      "[Open3D WARNING] Write OBJ can not include triangle normals.\n",
      "[Open3D WARNING] Write OBJ can not include triangle normals.\n",
      "TriangleMesh with 19996 points and 40000 triangles.\n",
      "[Open3D WARNING] Write OBJ can not include triangle normals.\n",
      "[Open3D WARNING] Write OBJ can not include triangle normals.\n",
      "TriangleMesh with 19996 points and 40000 triangles.\n",
      "[Open3D WARNING] Write OBJ can not include triangle normals.\n"
     ]
    }
   ],
   "execution_count": 5
  },
  {
   "metadata": {
    "ExecuteTime": {
     "end_time": "2024-09-11T20:47:24.261913Z",
     "start_time": "2024-09-11T20:47:24.230655Z"
    }
   },
   "cell_type": "code",
   "source": [
    "def compute_D1_psnr(original_mesh, decoded_mesh):\n",
    "    \n",
    "    original_vertices = np.array(original_mesh.vertices)\n",
    "    #original_vertices = normalize_vertices(original_vertices)\n",
    "    decoded_vertices = np.array(decoded_mesh.vertices)\n",
    "    #decoded_vertices = normalize_vertices(decoded_vertices)\n",
    "    \n",
    "    pcd_original = o3d.geometry.PointCloud()\n",
    "    pcd_original.points = o3d.utility.Vector3dVector(original_vertices)\n",
    "    \n",
    "    pcd_decoded = o3d.geometry.PointCloud()\n",
    "    pcd_decoded.points = o3d.utility.Vector3dVector(decoded_vertices)\n",
    "    pcd_tree = o3d.geometry.KDTreeFlann(pcd_decoded)\n",
    "    \n",
    "    MSE = 0\n",
    "    for i in range(0, len(original_vertices)):\n",
    "        [k, index, _] = pcd_tree.search_knn_vector_3d(original_vertices[i], 1)\n",
    "        MSE += np.square(original_vertices[i] - decoded_vertices[index])\n",
    "\n",
    "    MSE = np.mean(MSE)\n",
    "    #print(MSE)\n",
    "    aabb = pcd_original.get_axis_aligned_bounding_box()\n",
    "    min_bound = aabb.get_min_bound()\n",
    "\n",
    "    max_bound = aabb.get_max_bound()\n",
    "\n",
    "    signal_peak = np.linalg.norm(max_bound - min_bound)\n",
    "    #print(signal_peak)\n",
    "    psnr = 20 * np.log10(signal_peak) - 10 * np.log10(MSE)\n",
    "    print(psnr)\n",
    "    return psnr"
   ],
   "id": "e1fe0068afac68e2",
   "outputs": [],
   "execution_count": 4
  },
  {
   "metadata": {
    "ExecuteTime": {
     "end_time": "2024-09-11T18:09:32.950030Z",
     "start_time": "2024-09-11T18:09:31.302028Z"
    }
   },
   "cell_type": "code",
   "source": [
    "GoF = 5\n",
    "for i in range(0, 5):\n",
    "    offset = 5\n",
    "    reconstruct_dancer_i = o3d.io.read_triangle_mesh(fr'G:\\VS2022Projects\\tvm-editing-master\\TVMEditor.Test\\bin\\Release\\net5.0\\output\\Dancer\\reference/deformed_reference_mesh_{i+offset:03}.obj', enable_post_processing=False)\n",
    "    original_dancer_i = read_triangle_mesh_with_trimesh(fr'G:\\VS2022Projects\\tvm-editing-master\\TVMEditor.Test\\bin\\Release\\net5.0\\Data\\Dancer\\meshes/dancer_fr0{i+offset:03}.obj')\n",
    "    print(reconstruct_dancer_i)\n",
    "    print(original_dancer_i)\n",
    "    fitting_mesh_dancer_i = subdivide_surface_fitting(reconstruct_dancer_i, original_dancer_i, 1)\n",
    "    fitting_mesh_dancer_i.compute_vertex_normals()\n",
    "    o3d.io.write_triangle_mesh(fr'G:\\VS2022Projects\\tvm-editing-master\\TVMEditor.Test\\bin\\Release\\net5.0\\output\\Dancer\\reference/fitting_mesh_dancer_{i+offset:03}.obj', fitting_mesh_dancer_i, write_vertex_normals=False, write_vertex_colors=False, write_triangle_uvs=False)\n",
    "    #o3d.visualization.draw_geometries([fitting_mesh_dancer_i])"
   ],
   "id": "f2eed38eacd695c1",
   "outputs": [
    {
     "name": "stdout",
     "output_type": "stream",
     "text": [
      "TriangleMesh with 4996 points and 10000 triangles.\n",
      "TriangleMesh with 20788 points and 39380 triangles.\n",
      "TriangleMesh with 19996 points and 40000 triangles.\n",
      "[Open3D WARNING] Write OBJ can not include triangle normals.\n",
      "TriangleMesh with 4996 points and 10000 triangles.\n",
      "TriangleMesh with 20833 points and 39411 triangles.\n",
      "TriangleMesh with 19996 points and 40000 triangles.\n",
      "[Open3D WARNING] Write OBJ can not include triangle normals.\n",
      "TriangleMesh with 4996 points and 10000 triangles.\n",
      "TriangleMesh with 20658 points and 39373 triangles.\n",
      "TriangleMesh with 19996 points and 40000 triangles.\n",
      "[Open3D WARNING] Write OBJ can not include triangle normals.\n",
      "TriangleMesh with 4996 points and 10000 triangles.\n",
      "TriangleMesh with 20778 points and 39392 triangles.\n",
      "TriangleMesh with 19996 points and 40000 triangles.\n",
      "[Open3D WARNING] Write OBJ can not include triangle normals.\n",
      "TriangleMesh with 4996 points and 10000 triangles.\n",
      "TriangleMesh with 20887 points and 39356 triangles.\n",
      "TriangleMesh with 19996 points and 40000 triangles.\n",
      "[Open3D WARNING] Write OBJ can not include triangle normals.\n"
     ]
    }
   ],
   "execution_count": 44
  },
  {
   "metadata": {
    "ExecuteTime": {
     "end_time": "2024-09-09T17:52:32.051Z",
     "start_time": "2024-09-09T17:52:32.043540Z"
    }
   },
   "cell_type": "code",
   "source": [
    "input_path = r'G:\\VS2022Projects\\tvm-editing-master\\TVMEditor.Test\\bin\\Release\\net5.0\\Data\\Dancer\\reference_mesh/reference_mesh.obj'\n",
    "input_path2 = r'G:\\VS2022Projects\\tvm-editing-master\\TVMEditor.Test\\bin\\Release\\net5.0\\Data\\Dancer\\reference_mesh/order_reference_mesh.obj'\n",
    "output_path = r'G:\\VS2022Projects\\tvm-editing-master\\TVMEditor.Test\\bin\\Release\\net5.0\\Data\\Dancer\\reference_mesh/encode.drc'"
   ],
   "id": "33a9f447fdd62d78",
   "outputs": [],
   "execution_count": 27
  },
  {
   "metadata": {},
   "cell_type": "markdown",
   "source": "## get error",
   "id": "c1a810d654242a2e"
  },
  {
   "metadata": {
    "ExecuteTime": {
     "end_time": "2024-09-11T18:10:29.785960Z",
     "start_time": "2024-09-11T18:10:29.484709Z"
    }
   },
   "cell_type": "code",
   "source": [
    "reference_mesh = read_triangle_mesh_with_trimesh(r'G:\\VS2022Projects\\tvm-editing-master\\TVMEditor.Test\\bin\\Release\\net5.0\\Data\\Dancer/reference_mesh.obj')\n",
    "print(reference_mesh)\n",
    "decimated_reference_mesh = o3d.geometry.TriangleMesh.simplify_quadric_decimation(reference_mesh, 10000, boundary_weight= 8000)\n",
    "print(decimated_reference_mesh)\n",
    "decimated_reference_mesh_vertices = np.array(decimated_reference_mesh.vertices)\n",
    "o3d.io.write_triangle_mesh(r'G:\\VS2022Projects\\tvm-editing-master\\TVMEditor.Test\\bin\\Release\\net5.0\\Data\\Dancer\\reference_mesh/decimated_reference_mesh.obj', decimated_reference_mesh, write_vertex_normals=False, write_vertex_colors=False, write_triangle_uvs=False)\n",
    "loaded_decimated_reference_mesh = read_triangle_mesh_with_trimesh(r'G:\\VS2022Projects\\tvm-editing-master\\TVMEditor.Test\\bin\\Release\\net5.0\\Data\\Dancer\\reference_mesh/decimated_reference_mesh.obj', enable_post_processing=False)\n",
    "print(loaded_decimated_reference_mesh)\n",
    "loaded_decimated_reference_mesh_vertices = np.array(loaded_decimated_reference_mesh.vertices)"
   ],
   "id": "92b6281169d111c4",
   "outputs": [
    {
     "name": "stdout",
     "output_type": "stream",
     "text": [
      "TriangleMesh with 20002 points and 40000 triangles.\n",
      "TriangleMesh with 5002 points and 10000 triangles.\n",
      "TriangleMesh with 4996 points and 10000 triangles.\n"
     ]
    },
    {
     "data": {
      "text/plain": [
       "array([[ 0.0758296,  0.911741 , -0.472649 ],\n",
       "       [ 0.0902357,  0.911741 , -0.48194  ],\n",
       "       [ 0.0901355,  0.903519 , -0.477867 ],\n",
       "       ...,\n",
       "       [ 0.0342721,  0.614468 ,  0.0390702],\n",
       "       [ 0.289648 , -0.456912 ,  0.0853124],\n",
       "       [-0.201152 ,  0.548629 ,  0.0756965]])"
      ]
     },
     "execution_count": 49,
     "metadata": {},
     "output_type": "execute_result"
    }
   ],
   "execution_count": 49
  },
  {
   "metadata": {
    "ExecuteTime": {
     "end_time": "2024-09-11T18:10:51.672489Z",
     "start_time": "2024-09-11T18:10:51.666489Z"
    }
   },
   "cell_type": "code",
   "source": [
    "subdivided_decimated_reference_mesh = o3d.geometry.TriangleMesh.subdivide_midpoint(decimated_reference_mesh, number_of_iterations=1)\n",
    "print(subdivided_decimated_reference_mesh)\n",
    "subdivided_decimated_reference_mesh_vertices = np.array(subdivided_decimated_reference_mesh.vertices)"
   ],
   "id": "ba98f035802243b",
   "outputs": [
    {
     "name": "stdout",
     "output_type": "stream",
     "text": [
      "TriangleMesh with 20002 points and 40000 triangles.\n"
     ]
    }
   ],
   "execution_count": 51
  },
  {
   "metadata": {},
   "cell_type": "markdown",
   "source": "## get displacements",
   "id": "625b9793fec60cc3"
  },
  {
   "metadata": {
    "ExecuteTime": {
     "end_time": "2024-09-11T18:10:55.585403Z",
     "start_time": "2024-09-11T18:10:55.580405Z"
    }
   },
   "cell_type": "code",
   "source": [
    "decimated_reference_mesh = loaded_decimated_reference_mesh\n",
    "print(decimated_reference_mesh)"
   ],
   "id": "97351f77388b3e19",
   "outputs": [
    {
     "name": "stdout",
     "output_type": "stream",
     "text": [
      "TriangleMesh with 4996 points and 10000 triangles.\n"
     ]
    }
   ],
   "execution_count": 52
  },
  {
   "metadata": {
    "ExecuteTime": {
     "end_time": "2024-09-11T20:50:38.918567Z",
     "start_time": "2024-09-11T20:50:38.902928Z"
    }
   },
   "cell_type": "code",
   "source": [
    "dataset = 'Dancer'\n",
    "GoF = 5"
   ],
   "id": "e8f1ca3c1bea36f8",
   "outputs": [],
   "execution_count": 13
  },
  {
   "metadata": {
    "ExecuteTime": {
     "end_time": "2024-09-11T18:11:12.352163Z",
     "start_time": "2024-09-11T18:11:10.711888Z"
    }
   },
   "cell_type": "code",
   "source": [
    "for i in range(0, GoF):\n",
    "    offset = 5\n",
    "    reconstruct_dancer_i = read_triangle_mesh_with_trimesh(fr'G:\\VS2022Projects\\tvm-editing-master\\TVMEditor.Test\\bin\\Release\\net5.0\\output\\Dancer\\reference/deformed_reference_mesh_{i+offset:03}.obj')\n",
    "    original_dancer_i = read_triangle_mesh_with_trimesh(fr'G:\\VS2022Projects\\tvm-editing-master\\TVMEditor.Test\\bin\\Release\\net5.0\\Data\\Dancer\\meshes/dancer_fr0{i+offset:03}.obj')\n",
    "\n",
    "    fitting_mesh_dancer_i = subdivide_surface_fitting(reconstruct_dancer_i, original_dancer_i, 1)\n",
    "    print(fitting_mesh_dancer_i)\n",
    "    o3d.io.write_triangle_mesh(fr'G:\\VS2022Projects\\tvm-editing-master\\TVMEditor.Test\\bin\\Release\\net5.0\\output\\Dancer\\reference/fitting_mesh_dancer_{i+offset:03}.obj', fitting_mesh_dancer_i, write_vertex_normals=False, write_vertex_colors=False, write_triangle_uvs=False)\n",
    "    #o3d.visualization.draw_geometries([fitting_mesh_dancer_i])"
   ],
   "id": "523a5cc74ba5c68b",
   "outputs": [
    {
     "name": "stdout",
     "output_type": "stream",
     "text": [
      "TriangleMesh with 19996 points and 40000 triangles.\n",
      "TriangleMesh with 19996 points and 40000 triangles.\n",
      "[Open3D WARNING] Write OBJ can not include triangle normals.\n",
      "TriangleMesh with 19996 points and 40000 triangles.\n",
      "TriangleMesh with 19996 points and 40000 triangles.\n",
      "[Open3D WARNING] Write OBJ can not include triangle normals.\n",
      "TriangleMesh with 19996 points and 40000 triangles.\n",
      "TriangleMesh with 19996 points and 40000 triangles.\n",
      "[Open3D WARNING] Write OBJ can not include triangle normals.\n",
      "TriangleMesh with 19996 points and 40000 triangles.\n",
      "TriangleMesh with 19996 points and 40000 triangles.\n",
      "[Open3D WARNING] Write OBJ can not include triangle normals.\n",
      "TriangleMesh with 19996 points and 40000 triangles.\n",
      "TriangleMesh with 19996 points and 40000 triangles.\n",
      "[Open3D WARNING] Write OBJ can not include triangle normals.\n"
     ]
    }
   ],
   "execution_count": 54
  },
  {
   "metadata": {
    "ExecuteTime": {
     "end_time": "2024-09-11T18:12:12.426727Z",
     "start_time": "2024-09-11T18:12:12.411730Z"
    }
   },
   "cell_type": "code",
   "source": [
    "subdivided_decimated_reference_mesh = o3d.geometry.TriangleMesh.subdivide_midpoint(decimated_reference_mesh, number_of_iterations=1)\n",
    "print(subdivided_decimated_reference_mesh)\n",
    "subdivided_decimated_reference_mesh_vertices = np.array(subdivided_decimated_reference_mesh.vertices)\n",
    "subdivided_decimated_reference_mesh_vertices"
   ],
   "id": "51d7680736e505d3",
   "outputs": [
    {
     "name": "stdout",
     "output_type": "stream",
     "text": [
      "TriangleMesh with 19996 points and 40000 triangles.\n"
     ]
    },
    {
     "data": {
      "text/plain": [
       "array([[ 0.0758296 ,  0.911741  , -0.472649  ],\n",
       "       [ 0.0902357 ,  0.911741  , -0.48194   ],\n",
       "       [ 0.0901355 ,  0.903519  , -0.477867  ],\n",
       "       ...,\n",
       "       [ 0.1807615 , -0.4135865 ,  0.306595  ],\n",
       "       [-0.0433    ,  0.7934835 ,  0.3187445 ],\n",
       "       [-0.05850105,  0.398496  ,  0.316869  ]])"
      ]
     },
     "execution_count": 56,
     "metadata": {},
     "output_type": "execute_result"
    }
   ],
   "execution_count": 56
  },
  {
   "metadata": {
    "ExecuteTime": {
     "end_time": "2024-09-11T18:12:18.673522Z",
     "start_time": "2024-09-11T18:12:17.992958Z"
    }
   },
   "cell_type": "code",
   "source": [
    "displacements = []\n",
    "for i in range(0, GoF):\n",
    "    offset = 5\n",
    "    fitting_mesh_dancer_i = read_triangle_mesh_with_trimesh(fr'G:\\VS2022Projects\\tvm-editing-master\\TVMEditor.Test\\bin\\Release\\net5.0\\output\\Dancer\\reference/fitting_mesh_dancer_{i+offset:03}.obj')\n",
    "    print(fitting_mesh_dancer_i, subdivided_decimated_reference_mesh)\n",
    "    fitting_mesh_vertices = np.array(fitting_mesh_dancer_i.vertices)\n",
    "    displacement_i = subdivided_decimated_reference_mesh_vertices - fitting_mesh_vertices\n",
    "    \n",
    "    np.savetxt(fr'G:\\VS2022Projects\\tvm-editing-master\\TVMEditor.Test\\bin\\Release\\net5.0\\output\\Dancer\\reference/displacements_{dataset}_{i+offset:03}.txt', displacement_i, fmt='%8f')\n",
    "    displacements.append(displacement_i)"
   ],
   "id": "12ab10dc7f6c788",
   "outputs": [
    {
     "name": "stdout",
     "output_type": "stream",
     "text": [
      "TriangleMesh with 19996 points and 40000 triangles. TriangleMesh with 19996 points and 40000 triangles.\n",
      "TriangleMesh with 19996 points and 40000 triangles. TriangleMesh with 19996 points and 40000 triangles.\n",
      "TriangleMesh with 19996 points and 40000 triangles. TriangleMesh with 19996 points and 40000 triangles.\n",
      "TriangleMesh with 19996 points and 40000 triangles. TriangleMesh with 19996 points and 40000 triangles.\n",
      "TriangleMesh with 19996 points and 40000 triangles. TriangleMesh with 19996 points and 40000 triangles.\n"
     ]
    }
   ],
   "execution_count": 57
  },
  {
   "metadata": {
    "ExecuteTime": {
     "end_time": "2024-09-11T18:12:27.246881Z",
     "start_time": "2024-09-11T18:12:27.212882Z"
    }
   },
   "cell_type": "code",
   "source": [
    "input_reference_mesh_path = r'G:\\VS2022Projects\\tvm-editing-master\\TVMEditor.Test\\bin\\Release\\net5.0\\Data\\Dancer\\reference_mesh/decimated_reference_mesh.obj'\n",
    "input_decimated_reference_mesh = read_triangle_mesh_with_trimesh(input_reference_mesh_path, enable_post_processing=False)\n",
    "np.array(input_decimated_reference_mesh.vertices)"
   ],
   "id": "4c882e5caf8beccb",
   "outputs": [
    {
     "data": {
      "text/plain": [
       "array([[ 0.0758296,  0.911741 , -0.472649 ],\n",
       "       [ 0.0902357,  0.911741 , -0.48194  ],\n",
       "       [ 0.0901355,  0.903519 , -0.477867 ],\n",
       "       ...,\n",
       "       [ 0.0342721,  0.614468 ,  0.0390702],\n",
       "       [ 0.289648 , -0.456912 ,  0.0853124],\n",
       "       [-0.201152 ,  0.548629 ,  0.0756965]])"
      ]
     },
     "execution_count": 58,
     "metadata": {},
     "output_type": "execute_result"
    }
   ],
   "execution_count": 58
  },
  {
   "metadata": {
    "ExecuteTime": {
     "end_time": "2024-09-11T22:06:27.081223Z",
     "start_time": "2024-09-11T22:06:27.018721Z"
    }
   },
   "cell_type": "code",
   "source": [
    "output_path = r'G:\\VS2022Projects\\tvm-editing-master\\TVMEditor.Test\\bin\\Release\\net5.0\\Data\\Dancer\\reference_mesh/encoded_decimated_reference_mesh.drc'\n",
    "result = subprocess.run([\n",
    "                            r'G:\\Github\\draco\\build\\Debug\\draco_encoder',\n",
    "                            '-i', input_reference_mesh_path,\n",
    "                            '-o', output_path,\n",
    "                            '-qp', str('14'),\n",
    "                            '-cl', '7'\n",
    "                            ], capture_output=True, text=True)\n",
    "print(result.stdout)\n",
    "print(result.stderr)"
   ],
   "id": "6e1578844a89b960",
   "outputs": [
    {
     "ename": "NameError",
     "evalue": "name 'input_reference_mesh_path' is not defined",
     "output_type": "error",
     "traceback": [
      "\u001B[1;31m---------------------------------------------------------------------------\u001B[0m",
      "\u001B[1;31mNameError\u001B[0m                                 Traceback (most recent call last)",
      "Cell \u001B[1;32mIn[86], line 4\u001B[0m\n\u001B[0;32m      1\u001B[0m output_path \u001B[38;5;241m=\u001B[39m \u001B[38;5;124mr\u001B[39m\u001B[38;5;124m'\u001B[39m\u001B[38;5;124mG:\u001B[39m\u001B[38;5;124m\\\u001B[39m\u001B[38;5;124mVS2022Projects\u001B[39m\u001B[38;5;124m\\\u001B[39m\u001B[38;5;124mtvm-editing-master\u001B[39m\u001B[38;5;124m\\\u001B[39m\u001B[38;5;124mTVMEditor.Test\u001B[39m\u001B[38;5;124m\\\u001B[39m\u001B[38;5;124mbin\u001B[39m\u001B[38;5;124m\\\u001B[39m\u001B[38;5;124mRelease\u001B[39m\u001B[38;5;124m\\\u001B[39m\u001B[38;5;124mnet5.0\u001B[39m\u001B[38;5;124m\\\u001B[39m\u001B[38;5;124mData\u001B[39m\u001B[38;5;124m\\\u001B[39m\u001B[38;5;124mDancer\u001B[39m\u001B[38;5;124m\\\u001B[39m\u001B[38;5;124mreference_mesh/encoded_decimated_reference.drc\u001B[39m\u001B[38;5;124m'\u001B[39m\n\u001B[0;32m      2\u001B[0m result \u001B[38;5;241m=\u001B[39m subprocess\u001B[38;5;241m.\u001B[39mrun([\n\u001B[0;32m      3\u001B[0m                             \u001B[38;5;124mr\u001B[39m\u001B[38;5;124m'\u001B[39m\u001B[38;5;124mG:\u001B[39m\u001B[38;5;124m\\\u001B[39m\u001B[38;5;124mGithub\u001B[39m\u001B[38;5;124m\\\u001B[39m\u001B[38;5;124mdraco\u001B[39m\u001B[38;5;124m\\\u001B[39m\u001B[38;5;124mbuild\u001B[39m\u001B[38;5;124m\\\u001B[39m\u001B[38;5;124mDebug\u001B[39m\u001B[38;5;124m\\\u001B[39m\u001B[38;5;124mdraco_encoder\u001B[39m\u001B[38;5;124m'\u001B[39m,\n\u001B[1;32m----> 4\u001B[0m                             \u001B[38;5;124m'\u001B[39m\u001B[38;5;124m-i\u001B[39m\u001B[38;5;124m'\u001B[39m, \u001B[43minput_reference_mesh_path\u001B[49m,\n\u001B[0;32m      5\u001B[0m                             \u001B[38;5;124m'\u001B[39m\u001B[38;5;124m-o\u001B[39m\u001B[38;5;124m'\u001B[39m, output_path,\n\u001B[0;32m      6\u001B[0m                             \u001B[38;5;124m'\u001B[39m\u001B[38;5;124m-qp\u001B[39m\u001B[38;5;124m'\u001B[39m, \u001B[38;5;28mstr\u001B[39m(\u001B[38;5;124m'\u001B[39m\u001B[38;5;124m14\u001B[39m\u001B[38;5;124m'\u001B[39m),\n\u001B[0;32m      7\u001B[0m                             \u001B[38;5;124m'\u001B[39m\u001B[38;5;124m-cl\u001B[39m\u001B[38;5;124m'\u001B[39m, \u001B[38;5;124m'\u001B[39m\u001B[38;5;124m7\u001B[39m\u001B[38;5;124m'\u001B[39m\n\u001B[0;32m      8\u001B[0m                             ], capture_output\u001B[38;5;241m=\u001B[39m\u001B[38;5;28;01mTrue\u001B[39;00m, text\u001B[38;5;241m=\u001B[39m\u001B[38;5;28;01mTrue\u001B[39;00m)\n\u001B[0;32m      9\u001B[0m \u001B[38;5;28mprint\u001B[39m(result\u001B[38;5;241m.\u001B[39mstdout)\n",
      "\u001B[1;31mNameError\u001B[0m: name 'input_reference_mesh_path' is not defined"
     ]
    }
   ],
   "execution_count": 86
  },
  {
   "metadata": {
    "ExecuteTime": {
     "end_time": "2024-09-11T18:12:36.630089Z",
     "start_time": "2024-09-11T18:12:36.548089Z"
    }
   },
   "cell_type": "code",
   "source": [
    "result = subprocess.run([\n",
    "                            r'G:\\Github\\draco\\build\\Debug\\draco_decoder',\n",
    "                            '-i', output_path,\n",
    "                            '-o', r'G:\\VS2022Projects\\tvm-editing-master\\TVMEditor.Test\\bin\\Release\\net5.0\\Data\\Dancer\\reference_mesh/decode_decimated_reference_mesh.obj'\n",
    "                            ], capture_output=True, text=True)\n",
    "print(result.stdout)\n",
    "print(result.stderr)"
   ],
   "id": "1db58be58f18535",
   "outputs": [
    {
     "name": "stdout",
     "output_type": "stream",
     "text": [
      "Decoded geometry saved to G:\\VS2022Projects\\tvm-editing-master\\TVMEditor.Test\\bin\\Release\\net5.0\\Data\\Dancer\\reference_mesh/decode.obj (13 ms to decode)\n",
      "\n"
     ]
    }
   ],
   "execution_count": 60
  },
  {
   "metadata": {
    "ExecuteTime": {
     "end_time": "2024-09-11T16:40:01.458986Z",
     "start_time": "2024-09-11T16:40:01.447988Z"
    }
   },
   "cell_type": "code",
   "source": [
    "pcd = o3d.geometry.PointCloud()\n",
    "points = displacement\n",
    "pcd.points = o3d.utility.Vector3dVector(points)\n",
    "print(pcd)\n",
    "o3d.io.write_point_cloud(r'G:\\VS2022Projects\\tvm-editing-master\\TVMEditor.Test\\bin\\Release\\net5.0\\Data\\Dancer\\reference_mesh/dis.ply', pcd)"
   ],
   "id": "16d4c49609d2d109",
   "outputs": [
    {
     "name": "stdout",
     "output_type": "stream",
     "text": [
      "PointCloud with 19996 points.\n"
     ]
    },
    {
     "data": {
      "text/plain": [
       "True"
      ]
     },
     "execution_count": 5,
     "metadata": {},
     "output_type": "execute_result"
    }
   ],
   "execution_count": 5
  },
  {
   "metadata": {
    "ExecuteTime": {
     "end_time": "2024-09-10T19:58:06.353407Z",
     "start_time": "2024-09-10T19:58:06.318419Z"
    }
   },
   "cell_type": "code",
   "source": [
    "displacement = np.loadtxt(fr'G:\\VS2022Projects\\tvm-editing-master\\TVMEditor.Test\\bin\\Release\\net5.0\\output\\{dataset}\\reference/displacements_{dataset}_005')\n",
    "pcd = o3d.geometry.PointCloud()\n",
    "points = displacement\n",
    "pcd.points = o3d.utility.Vector3dVector(points)\n",
    "print(pcd)\n",
    "o3d.io.write_point_cloud(r'G:\\VS2022Projects\\tvm-editing-master\\TVMEditor.Test\\bin\\Release\\net5.0\\Data\\Dancer\\reference_mesh/dis.ply', pcd)\n",
    "points=np.asarray(pcd.points)\n",
    "dtype = o3d.core.float32\n",
    "p_tensor = o3d.core.Tensor(points, dtype=dtype)\n",
    "pc = o3d.t.geometry.PointCloud(p_tensor)\n",
    "o3d.t.io.write_point_cloud(r'G:\\VS2022Projects\\tvm-editing-master\\TVMEditor.Test\\bin\\Release\\net5.0\\Data\\Dancer\\reference_mesh/dis_32.ply', pc, write_ascii=True)"
   ],
   "id": "bc6875066e41d60d",
   "outputs": [
    {
     "data": {
      "text/plain": [
       "True"
      ]
     },
     "execution_count": 124,
     "metadata": {},
     "output_type": "execute_result"
    }
   ],
   "execution_count": 124
  },
  {
   "metadata": {
    "ExecuteTime": {
     "end_time": "2024-09-11T21:12:08.169127Z",
     "start_time": "2024-09-11T21:12:08.043527Z"
    }
   },
   "cell_type": "code",
   "source": [
    "qp = 8\n",
    "result = subprocess.run([\n",
    "                            r'G:\\Github\\draco\\build\\Debug\\draco_encoder',\n",
    "                            #r'G:\\Github\\draco\\buildforSequenceEncoding\\Debug\\draco_encoder',\n",
    "                            '-point_cloud',\n",
    "                            '-i', r'G:\\VS2022Projects\\tvm-editing-master\\TVMEditor.Test\\bin\\Release\\net5.0\\Data\\Dancer\\reference_mesh/dis_32.ply',\n",
    "                            '-o', r'G:\\VS2022Projects\\tvm-editing-master\\TVMEditor.Test\\bin\\Release\\net5.0\\Data\\Dancer\\reference_mesh/dis.drc',\n",
    "                            '-qp', str(qp),\n",
    "                            '-cl', '10'\n",
    "                            ], capture_output=True, text=True)\n",
    "print(result.stdout)\n",
    "\n",
    "result = subprocess.run([\n",
    "                            r'G:\\Github\\draco\\build\\Debug\\draco_encoder',\n",
    "                            #r'G:\\Github\\draco\\buildforSequenceEncoding\\Debug\\draco_encoder',\n",
    "                            '-point_cloud',\n",
    "                            '-i', r'G:\\VS2022Projects\\tvm-editing-master\\TVMEditor.Test\\bin\\Release\\net5.0\\Data\\Dancer\\reference_mesh/dis_32.ply',\n",
    "                            '-o', r'G:\\VS2022Projects\\tvm-editing-master\\TVMEditor.Test\\bin\\Release\\net5.0\\Data\\Dancer\\reference_mesh/dis_0.drc',\n",
    "                            '-qp', str(qp),\n",
    "                            '-cl', '0'\n",
    "                            ], capture_output=True, text=True)\n",
    "print(result.stdout)"
   ],
   "id": "b4428b99255b500c",
   "outputs": [
    {
     "name": "stdout",
     "output_type": "stream",
     "text": [
      "Encoder options:\n",
      "  Compression level = 10\n",
      "  Positions: Quantization = 8 bits\n",
      "\n",
      "Encoded point cloud saved to G:\\VS2022Projects\\tvm-editing-master\\TVMEditor.Test\\bin\\Release\\net5.0\\Data\\Dancer\\reference_mesh/dis.drc (23 ms to encode).\n",
      "\n",
      "Encoded size = 7679 bytes\n",
      "\n",
      "\n",
      "Encoder options:\n",
      "  Compression level = 0\n",
      "  Positions: Quantization = 8 bits\n",
      "\n",
      "Encoded point cloud saved to G:\\VS2022Projects\\tvm-editing-master\\TVMEditor.Test\\bin\\Release\\net5.0\\Data\\Dancer\\reference_mesh/dis_0.drc (5 ms to encode).\n",
      "\n",
      "Encoded size = 33516 bytes\n",
      "\n",
      "For better compression, increase the compression level up to '-cl 10' .\n",
      "\n",
      "\n"
     ]
    }
   ],
   "execution_count": 81
  },
  {
   "metadata": {
    "ExecuteTime": {
     "end_time": "2024-09-11T21:12:11.378945Z",
     "start_time": "2024-09-11T21:12:11.316449Z"
    }
   },
   "cell_type": "code",
   "source": [
    "result = subprocess.run([\n",
    "                            r'G:\\Github\\draco\\build\\Debug\\draco_decoder',\n",
    "                            '-i', r'G:\\VS2022Projects\\tvm-editing-master\\TVMEditor.Test\\bin\\Release\\net5.0\\Data\\Dancer\\reference_mesh/dis_0.drc',\n",
    "                            '-o', r'G:\\VS2022Projects\\tvm-editing-master\\TVMEditor.Test\\bin\\Release\\net5.0\\Data\\Dancer\\reference_mesh/decoded_displacements.ply'\n",
    "                            ], capture_output=True, text=True)\n",
    "print(result.stdout)"
   ],
   "id": "872964a90431e5c0",
   "outputs": [
    {
     "name": "stdout",
     "output_type": "stream",
     "text": [
      "Decoded geometry saved to G:\\VS2022Projects\\tvm-editing-master\\TVMEditor.Test\\bin\\Release\\net5.0\\Data\\Dancer\\reference_mesh/decoded_displacements.ply (3 ms to decode)\n",
      "\n"
     ]
    }
   ],
   "execution_count": 82
  },
  {
   "metadata": {
    "ExecuteTime": {
     "end_time": "2024-09-11T20:50:23.218224Z",
     "start_time": "2024-09-11T20:50:23.202599Z"
    }
   },
   "cell_type": "code",
   "source": [
    "def calculate_bitrate(file_size, duration):\n",
    "    return file_size * 8 / duration"
   ],
   "id": "9a1029f191a1d935",
   "outputs": [],
   "execution_count": 9
  },
  {
   "metadata": {
    "ExecuteTime": {
     "end_time": "2024-09-11T20:50:24.211025Z",
     "start_time": "2024-09-11T20:50:24.195402Z"
    }
   },
   "cell_type": "code",
   "source": [
    "number_frames = 5\n",
    "frame_rate = 30"
   ],
   "id": "37809e0a051b9b2f",
   "outputs": [],
   "execution_count": 10
  },
  {
   "metadata": {
    "ExecuteTime": {
     "end_time": "2024-09-11T21:12:14.394450Z",
     "start_time": "2024-09-11T21:12:14.378816Z"
    }
   },
   "cell_type": "code",
   "source": [
    "total_size = 0\n",
    "displacement_file_path = r'G:\\VS2022Projects\\tvm-editing-master\\TVMEditor.Test\\bin\\Release\\net5.0\\Data\\Dancer\\reference_mesh/dis.drc'\n",
    "displacement_file_size = os.path.getsize(displacement_file_path)\n",
    "total_size += displacement_file_size * number_frames\n",
    "reference_mesh_file_path = r'G:\\VS2022Projects\\tvm-editing-master\\TVMEditor.Test\\bin\\Release\\net5.0\\Data\\Dancer\\reference_mesh/1.drc'\n",
    "reference_mesh_file_size = os.path.getsize(reference_mesh_file_path)\n",
    "total_size += reference_mesh_file_size\n",
    "total_duration = number_frames / frame_rate\n",
    "overall_bitrate = calculate_bitrate(total_size, total_duration)\n",
    "\n",
    "print(f\"Total Size of {number_frames} DRC Files: {total_size} bytes\")\n",
    "print(f\"Overall Bitrate: {overall_bitrate} bits per second\")\n",
    "\n",
    "bitrate_kbps = overall_bitrate / 1000\n",
    "bitrate_mbps = overall_bitrate / 1000000\n",
    "\n",
    "\n",
    "print(f\"Overall Bitrate: {bitrate_kbps:.2f} Kbps\")\n",
    "print(f\"Overall Bitrate: {bitrate_mbps:.2f} Mbps\")"
   ],
   "id": "9fa2c7b92e88cca9",
   "outputs": [
    {
     "name": "stdout",
     "output_type": "stream",
     "text": [
      "Total Size of 5 DRC Files: 56506 bytes\n",
      "Overall Bitrate: 2712288.0 bits per second\n",
      "Overall Bitrate: 2712.29 Kbps\n",
      "Overall Bitrate: 2.71 Mbps\n"
     ]
    }
   ],
   "execution_count": 83
  },
  {
   "metadata": {
    "ExecuteTime": {
     "end_time": "2024-09-11T21:12:16.710996Z",
     "start_time": "2024-09-11T21:12:16.695362Z"
    }
   },
   "cell_type": "code",
   "source": [
    "original_displacements = np.loadtxt(fr'G:\\VS2022Projects\\tvm-editing-master\\TVMEditor.Test\\bin\\Release\\net5.0\\output\\Dancer\\reference/displacements_{dataset}_005.txt')\n",
    "decoded_displacements = o3d.io.read_point_cloud(fr'G:\\VS2022Projects\\tvm-editing-master\\TVMEditor.Test\\bin\\Release\\net5.0\\Data\\Dancer\\reference_mesh/decoded_displacements.ply')\n",
    "dis_ply = o3d.io.read_point_cloud(fr'G:\\VS2022Projects\\tvm-editing-master\\TVMEditor.Test\\bin\\Release\\net5.0\\Data\\Dancer\\reference_mesh/decoded_displacements.ply')\n",
    "displacement = np.array(dis_ply.points)\n",
    "displacement"
   ],
   "id": "a224d841a10266ba",
   "outputs": [
    {
     "data": {
      "text/plain": [
       "array([[ 0.20739794,  0.0246602 ,  0.00486234],\n",
       "       [ 0.20542887,  0.0246602 ,  0.0068314 ],\n",
       "       [ 0.20542887,  0.0246602 ,  0.00880047],\n",
       "       ...,\n",
       "       [ 0.0203366 ,  0.00300047,  0.00486234],\n",
       "       [-0.0032922 , -0.00881393,  0.00486234],\n",
       "       [ 0.00458407,  0.0010314 , -0.00301393]])"
      ]
     },
     "execution_count": 84,
     "metadata": {},
     "output_type": "execute_result"
    }
   ],
   "execution_count": 84
  },
  {
   "metadata": {
    "ExecuteTime": {
     "end_time": "2024-09-11T21:12:20.334581Z",
     "start_time": "2024-09-11T21:12:18.368900Z"
    }
   },
   "cell_type": "code",
   "source": [
    "decode_decimated_reference_mesh = read_triangle_mesh_with_trimesh(r'G:\\VS2022Projects\\tvm-editing-master\\TVMEditor.Test\\bin\\Release\\net5.0\\Data\\Dancer\\reference_mesh/decode_decimated_reference_mesh.obj', enable_post_processing=False)\n",
    "print(decode_decimated_reference_mesh)\n",
    "np.array(decode_decimated_reference_mesh.vertices)\n",
    "subdivided_decoded_mesh = o3d.geometry.TriangleMesh.subdivide_midpoint(decode_decimated_reference_mesh, number_of_iterations=1)\n",
    "print(subdivided_decoded_mesh)\n",
    "input_decimated_reference_mesh = read_triangle_mesh_with_trimesh(r'G:\\VS2022Projects\\tvm-editing-master\\TVMEditor.Test\\bin\\Release\\net5.0\\Data\\Dancer\\reference_mesh/decimated_reference_mesh.obj', enable_post_processing=False)\n",
    "subdivided_mesh = o3d.geometry.TriangleMesh.subdivide_midpoint(input_decimated_reference_mesh, number_of_iterations=1)\n",
    "print(subdivided_mesh)\n",
    "original_dancer = read_triangle_mesh_with_trimesh(fr'G:\\VS2022Projects\\tvm-editing-master\\TVMEditor.Test\\bin\\Release\\net5.0\\Data\\Dancer\\meshes/dancer_fr0005.obj')\n",
    "print(original_dancer)\n",
    "decoded_mesh_vertices = np.array(decode_decimated_reference_mesh.vertices)\n",
    "subdivided_decoded_mesh_vertices = np.array(subdivided_decoded_mesh.vertices)\n",
    "\n",
    "\n",
    "displacement = np.array(decoded_displacements.points)\n",
    "\n",
    "dis_indexer = o3d.geometry.PointCloud()\n",
    "dis_indexer.points = o3d.utility.Vector3dVector(original_displacements)\n",
    "dis_tree = o3d.geometry.KDTreeFlann(dis_indexer)\n",
    "\n",
    "pcd_indexer = o3d.geometry.PointCloud()\n",
    "pcd_indexer.points = o3d.utility.Vector3dVector(subdivided_mesh.vertices)\n",
    "pcd_tree = o3d.geometry.KDTreeFlann(pcd_indexer)\n",
    "\n",
    "reordered_vertices = deepcopy(subdivided_decoded_mesh_vertices)\n",
    "\n",
    "for i in range(0, len(subdivided_decoded_mesh_vertices)):\n",
    "    [k, index, _] = pcd_tree.search_knn_vector_3d(subdivided_decoded_mesh_vertices[i], 1)\n",
    "    [j, dis_index, _] = dis_tree.search_knn_vector_3d(original_displacements[index[0]], 1)\n",
    "    #print(displacement[dis_index], original_displacements[index[0]])\n",
    "    reordered_vertices[i] -= displacement[dis_index[0]]\n",
    "    \n",
    "\n",
    "subdivided_decoded_mesh.vertices = o3d.utility.Vector3dVector(reordered_vertices)\n",
    "subdivided_decoded_mesh.compute_vertex_normals()\n",
    "o3d.visualization.draw_geometries([subdivided_decoded_mesh])\n",
    "d1 = max(compute_D1_psnr(original_dancer, subdivided_decoded_mesh), compute_D1_psnr(subdivided_decoded_mesh, original_dancer))\n",
    "print(d1)"
   ],
   "id": "8c4323933228077e",
   "outputs": [
    {
     "name": "stdout",
     "output_type": "stream",
     "text": [
      "TriangleMesh with 4996 points and 10000 triangles.\n",
      "TriangleMesh with 19996 points and 40000 triangles.\n",
      "TriangleMesh with 19996 points and 40000 triangles.\n",
      "TriangleMesh with 20788 points and 39380 triangles.\n",
      "16.42492108690567\n",
      "28.556041826916335\n",
      "28.556041826916335\n"
     ]
    }
   ],
   "execution_count": 85
  }
 ],
 "metadata": {
  "kernelspec": {
   "display_name": "Python 3",
   "language": "python",
   "name": "python3"
  },
  "language_info": {
   "codemirror_mode": {
    "name": "ipython",
    "version": 2
   },
   "file_extension": ".py",
   "mimetype": "text/x-python",
   "name": "python",
   "nbconvert_exporter": "python",
   "pygments_lexer": "ipython2",
   "version": "2.7.6"
  }
 },
 "nbformat": 4,
 "nbformat_minor": 5
}
