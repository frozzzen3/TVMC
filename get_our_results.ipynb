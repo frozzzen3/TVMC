{
 "cells": [
  {
   "cell_type": "code",
   "id": "initial_id",
   "metadata": {
    "collapsed": true,
    "ExecuteTime": {
     "end_time": "2024-09-19T18:23:00.300252Z",
     "start_time": "2024-09-19T18:23:00.284624Z"
    }
   },
   "source": [
    "from copy import deepcopy\n",
    "import subprocess\n",
    "import numpy as np\n",
    "import open3d as o3d\n",
    "import trimesh\n",
    "import os\n",
    "import time\n",
    "print(o3d.__version__)"
   ],
   "outputs": [
    {
     "name": "stdout",
     "output_type": "stream",
     "text": [
      "0.18.0\n"
     ]
    }
   ],
   "execution_count": 162
  },
  {
   "metadata": {
    "ExecuteTime": {
     "end_time": "2024-09-19T16:46:59.407651Z",
     "start_time": "2024-09-19T16:46:59.392036Z"
    }
   },
   "cell_type": "code",
   "source": [
    "def subdivide_surface_fitting(decimated_mesh, target_mesh, iterations=1):\n",
    "    subdivided_mesh = o3d.geometry.TriangleMesh.subdivide_midpoint(decimated_mesh, number_of_iterations=iterations)\n",
    "    print(subdivided_mesh)\n",
    "    subdivided_mesh.compute_vertex_normals()\n",
    "    \n",
    "    pcd_target = o3d.geometry.PointCloud()\n",
    "    pcd_target.points = o3d.utility.Vector3dVector(target_mesh.vertices)\n",
    "    pcd_tree = o3d.geometry.KDTreeFlann(pcd_target)\n",
    "    subdivided_vertices = np.array(subdivided_mesh.vertices)\n",
    "    target_vertices = np.array(target_mesh.vertices)\n",
    "    fitting_vertices = deepcopy(subdivided_vertices)\n",
    "    \n",
    "    for i in range(0, len(subdivided_vertices)):\n",
    "        [k, index, _] = pcd_tree.search_knn_vector_3d(subdivided_vertices[i], 1)\n",
    "        fitting_vertices[i] = target_vertices[index[0]]\n",
    "\n",
    "    subdivided_mesh.vertices = o3d.utility.Vector3dVector(fitting_vertices)\n",
    "    return subdivided_mesh"
   ],
   "id": "fffe541e735d365f",
   "outputs": [],
   "execution_count": 2
  },
  {
   "metadata": {
    "ExecuteTime": {
     "end_time": "2024-09-19T16:47:01.111098Z",
     "start_time": "2024-09-19T16:47:01.095462Z"
    }
   },
   "cell_type": "code",
   "source": [
    "def read_triangle_mesh_with_trimesh(avatar_name,enable_post_processing=False):\n",
    "    # EDIT: next 4 lines replace to maintain order even in case of degenerate and non referenced\n",
    "    # scene_patch = trimesh.load(avatar_name,process=enable_post_processing)\n",
    "    if enable_post_processing:\n",
    "        scene_patch = trimesh.load(avatar_name,process=True)\n",
    "    else:\n",
    "        scene_patch = trimesh.load(avatar_name,process=False,maintain_order=True) \n",
    "    mesh = o3d.geometry.TriangleMesh(\n",
    "        o3d.utility.Vector3dVector(scene_patch.vertices),\n",
    "        o3d.utility.Vector3iVector(scene_patch.faces)\n",
    "    ) \n",
    "    if scene_patch.vertex_normals.size:\n",
    "        mesh.vertex_normals = o3d.utility.Vector3dVector(scene_patch.vertex_normals.copy())\n",
    "    if scene_patch.visual.defined:\n",
    "        # either texture or vertex colors if no uvs present.\n",
    "        if scene_patch.visual.kind == 'vertex':\n",
    "            mesh.vertex_colors = o3d.utility.Vector3dVector(scene_patch.visual.vertex_colors[:,:3]/255) # no alpha channel support\n",
    "        elif scene_patch.visual.kind == 'texture':\n",
    "            uv = scene_patch.visual.uv\n",
    "            if uv.shape[0] == scene_patch.vertices.shape[0]:\n",
    "                mesh.triangle_uvs = o3d.utility.Vector2dVector(uv[scene_patch.faces.flatten()])\n",
    "            elif uv.shape[0] != scene_patch.faces.shape[0] * 3:\n",
    "                assert False\n",
    "            else:\n",
    "                mesh.triangle_uvs = o3d.utility.Vector2dVector(uv)\n",
    "                if scene_patch.visual.material is not None and scene_patch.visual.material.image is not None:\n",
    "                    if scene_patch.visual.material.image.mode == 'RGB':\n",
    "                        mesh.textures = [o3d.geometry.Image(np.asarray(scene_patch.visual.material.image))]\n",
    "                    else:\n",
    "                        assert False\n",
    "        else:\n",
    "            assert False\n",
    "    return mesh"
   ],
   "id": "10d5ab1e18103cb7",
   "outputs": [],
   "execution_count": 3
  },
  {
   "metadata": {
    "ExecuteTime": {
     "end_time": "2024-09-19T16:47:03.947495Z",
     "start_time": "2024-09-19T16:47:03.919853Z"
    }
   },
   "cell_type": "code",
   "source": "GoF = 10",
   "id": "a3ce5a6f73af2e68",
   "outputs": [],
   "execution_count": 4
  },
  {
   "metadata": {
    "ExecuteTime": {
     "end_time": "2024-09-19T16:47:21.083819Z",
     "start_time": "2024-09-19T16:47:21.003649Z"
    }
   },
   "cell_type": "code",
   "source": [
    "load_reference_mesh = o3d.io.read_triangle_mesh(fr'G:\\VS2022Projects\\tvm-editing-master\\TVMEditor.Test\\bin\\Release\\net5.0\\Data\\Dancer/reference_mesh/reference_mesh_{GoF}.obj', enable_post_processing = False)\n",
    "print(np.array(load_reference_mesh.vertices), load_reference_mesh)"
   ],
   "id": "6084dde14b90523",
   "outputs": [
    {
     "name": "stdout",
     "output_type": "stream",
     "text": [
      "[[ 0.0993192   0.916233   -0.474626  ]\n",
      " [ 0.0916947   0.92080802 -0.47391701]\n",
      " [ 0.0993192   0.92080802 -0.47630101]\n",
      " ...\n",
      " [-0.128957    0.92681497  0.0804478 ]\n",
      " [ 0.107329    0.300055    0.107815  ]\n",
      " [-0.148982    1.08901     0.208021  ]] TriangleMesh with 19998 points and 40000 triangles.\n"
     ]
    }
   ],
   "execution_count": 6
  },
  {
   "metadata": {
    "ExecuteTime": {
     "end_time": "2024-09-19T16:47:39.170893Z",
     "start_time": "2024-09-19T16:47:35.914354Z"
    }
   },
   "cell_type": "code",
   "source": [
    "reconstruct_dancer_5 = o3d.io.read_triangle_mesh(r'G:\\VS2022Projects\\tvm-editing-master\\TVMEditor.Test\\bin\\Release\\net5.0\\output\\Dancer\\reference/deformed_reference_mesh_005.obj')\n",
    "original_dancer_5 = o3d.io.read_triangle_mesh(r'G:\\VS2022Projects\\tvm-editing-master\\TVMEditor.Test\\bin\\Release\\net5.0\\Data\\Dancer\\meshes/dancer_fr0005.obj')\n",
    "print(reconstruct_dancer_5)\n",
    "print(original_dancer_5)\n",
    "reconstruct_dancer_5.compute_vertex_normals()\n",
    "original_dancer_5.compute_vertex_normals()\n",
    "o3d.visualization.draw_geometries([reconstruct_dancer_5])"
   ],
   "id": "4bd21da4b4b85b81",
   "outputs": [
    {
     "name": "stdout",
     "output_type": "stream",
     "text": [
      "TriangleMesh with 4999 points and 10000 triangles.\n",
      "TriangleMesh with 19724 points and 39380 triangles.\n"
     ]
    }
   ],
   "execution_count": 8
  },
  {
   "metadata": {
    "ExecuteTime": {
     "end_time": "2024-09-19T16:47:41.697144Z",
     "start_time": "2024-09-19T16:47:40.302196Z"
    }
   },
   "cell_type": "code",
   "source": [
    "decimated_reconstructed_5 = o3d.geometry.TriangleMesh.simplify_quadric_decimation(reconstruct_dancer_5, 10000, boundary_weight= 8000)\n",
    "fitting_mesh_dancer_5 = subdivide_surface_fitting(decimated_reconstructed_5, original_dancer_5, 1)\n",
    "fitting_mesh_dancer_5.compute_vertex_normals()\n",
    "\n",
    "o3d.visualization.draw_geometries([fitting_mesh_dancer_5])\n"
   ],
   "id": "55ab7031411c2271",
   "outputs": [
    {
     "name": "stdout",
     "output_type": "stream",
     "text": [
      "TriangleMesh with 19999 points and 40000 triangles.\n"
     ]
    }
   ],
   "execution_count": 9
  },
  {
   "metadata": {},
   "cell_type": "code",
   "outputs": [],
   "execution_count": null,
   "source": "o3d.io.write_triangle_mesh(r'G:\\VS2022Projects\\tvm-editing-master\\TVMEditor.Test\\bin\\Release\\net5.0\\output\\Dancer\\reference/fitting_mesh_dancer_5.obj', fitting_mesh_dancer_5, write_vertex_normals=False, write_vertex_colors=False, write_triangle_uvs=False)",
   "id": "2dc0b370bdbef53b"
  },
  {
   "metadata": {},
   "cell_type": "markdown",
   "source": "",
   "id": "192131f5110e0f96"
  },
  {
   "metadata": {
    "ExecuteTime": {
     "end_time": "2024-09-19T17:22:02.186342Z",
     "start_time": "2024-09-19T17:21:59.323598Z"
    }
   },
   "cell_type": "code",
   "source": [
    "GoF = 10\n",
    "for i in range(0, GoF):\n",
    "    offset = 5\n",
    "    reconstruct_dancer_i = o3d.io.read_triangle_mesh(fr'G:\\VS2022Projects\\tvm-editing-master\\TVMEditor.Test\\bin\\Release\\net5.0\\output\\Dancer\\reference/deformed_reference_mesh_{i+offset:03}.obj')\n",
    "    original_dancer_i = o3d.io.read_triangle_mesh(fr'G:\\VS2022Projects\\tvm-editing-master\\TVMEditor.Test\\bin\\Release\\net5.0\\Data\\Dancer\\meshes/dancer_fr0{i+offset:03}.obj')\n",
    "    #print(reconstruct_dancer_i)\n",
    "    #print(original_dancer_i)\n",
    "    reconstruct_dancer_i.compute_vertex_normals()\n",
    "    original_dancer_i.compute_vertex_normals()\n",
    "    #o3d.visualization.draw_geometries([reconstruct_dancer_i])\n",
    "    decimated_reconstructed_i = o3d.geometry.TriangleMesh.simplify_quadric_decimation(reconstruct_dancer_i, 10000, boundary_weight= 8000)\n",
    "    #print(decimated_reconstructed_i)\n",
    "    o3d.io.write_triangle_mesh(fr'G:\\VS2022Projects\\tvm-editing-master\\TVMEditor.Test\\bin\\Release\\net5.0\\output\\Dancer\\reference/decimated_reconstructed_{i+offset:03}.obj', decimated_reconstructed_i, write_vertex_normals=False, write_vertex_colors=False, write_triangle_uvs=False)\n",
    "    fitting_mesh_dancer_i = subdivide_surface_fitting(decimated_reconstructed_i, original_dancer_i, 1)\n",
    "    #print(fitting_mesh_dancer_i)\n",
    "    fitting_mesh_dancer_i.compute_vertex_normals()\n",
    "    o3d.io.write_triangle_mesh(fr'G:\\VS2022Projects\\tvm-editing-master\\TVMEditor.Test\\bin\\Release\\net5.0\\output\\Dancer\\reference/fitting_mesh_dancer_{i+offset:03}.obj', fitting_mesh_dancer_i, write_vertex_normals=False, write_vertex_colors=False, write_triangle_uvs=False)\n",
    "    #o3d.visualization.draw_geometries([fitting_mesh_dancer_i])"
   ],
   "id": "667e3ec49316de2c",
   "outputs": [
    {
     "name": "stdout",
     "output_type": "stream",
     "text": [
      "[Open3D WARNING] Write OBJ can not include triangle normals.\n",
      "TriangleMesh with 19999 points and 40000 triangles.\n",
      "[Open3D WARNING] Write OBJ can not include triangle normals.\n",
      "[Open3D WARNING] Write OBJ can not include triangle normals.\n",
      "TriangleMesh with 19999 points and 40000 triangles.\n",
      "[Open3D WARNING] Write OBJ can not include triangle normals.\n",
      "[Open3D WARNING] Write OBJ can not include triangle normals.\n",
      "TriangleMesh with 19999 points and 40000 triangles.\n",
      "[Open3D WARNING] Write OBJ can not include triangle normals.\n",
      "[Open3D WARNING] Write OBJ can not include triangle normals.\n",
      "TriangleMesh with 19999 points and 40000 triangles.\n",
      "[Open3D WARNING] Write OBJ can not include triangle normals.\n",
      "[Open3D WARNING] Write OBJ can not include triangle normals.\n",
      "TriangleMesh with 19999 points and 40000 triangles.\n",
      "[Open3D WARNING] Write OBJ can not include triangle normals.\n",
      "[Open3D WARNING] Write OBJ can not include triangle normals.\n",
      "TriangleMesh with 19999 points and 40000 triangles.\n",
      "[Open3D WARNING] Write OBJ can not include triangle normals.\n",
      "[Open3D WARNING] Write OBJ can not include triangle normals.\n",
      "TriangleMesh with 19999 points and 40000 triangles.\n",
      "[Open3D WARNING] Write OBJ can not include triangle normals.\n",
      "[Open3D WARNING] Write OBJ can not include triangle normals.\n",
      "TriangleMesh with 19999 points and 40000 triangles.\n",
      "[Open3D WARNING] Write OBJ can not include triangle normals.\n",
      "[Open3D WARNING] Write OBJ can not include triangle normals.\n",
      "TriangleMesh with 19999 points and 40000 triangles.\n",
      "[Open3D WARNING] Write OBJ can not include triangle normals.\n",
      "[Open3D WARNING] Write OBJ can not include triangle normals.\n",
      "TriangleMesh with 19999 points and 40000 triangles.\n",
      "[Open3D WARNING] Write OBJ can not include triangle normals.\n"
     ]
    }
   ],
   "execution_count": 86
  },
  {
   "metadata": {
    "ExecuteTime": {
     "end_time": "2024-09-19T17:22:03.386789Z",
     "start_time": "2024-09-19T17:22:03.371164Z"
    }
   },
   "cell_type": "code",
   "source": [
    "def compute_D1_psnr(original_mesh, decoded_mesh):\n",
    "    \n",
    "    original_vertices = np.array(original_mesh.vertices)\n",
    "    #original_vertices = normalize_vertices(original_vertices)\n",
    "    decoded_vertices = np.array(decoded_mesh.vertices)\n",
    "    #decoded_vertices = normalize_vertices(decoded_vertices)\n",
    "    \n",
    "    pcd_original = o3d.geometry.PointCloud()\n",
    "    pcd_original.points = o3d.utility.Vector3dVector(original_vertices)\n",
    "    \n",
    "    pcd_decoded = o3d.geometry.PointCloud()\n",
    "    pcd_decoded.points = o3d.utility.Vector3dVector(decoded_vertices)\n",
    "    pcd_tree = o3d.geometry.KDTreeFlann(pcd_decoded)\n",
    "    \n",
    "    MSE = 0\n",
    "    for i in range(0, len(original_vertices)):\n",
    "        [k, index, _] = pcd_tree.search_knn_vector_3d(original_vertices[i], 1)\n",
    "        MSE += np.square(np.linalg.norm(original_vertices[i] - decoded_vertices[index]))\n",
    "    MSE = MSE / len(original_vertices)\n",
    "    #print(\"D1 mse:\",MSE)\n",
    "    aabb = pcd_original.get_axis_aligned_bounding_box()\n",
    "    min_bound = aabb.get_min_bound()\n",
    "\n",
    "    max_bound = aabb.get_max_bound()\n",
    "\n",
    "    signal_peak = np.linalg.norm(max_bound - min_bound)\n",
    "    #print(signal_peak)\n",
    "    psnr = 20 * np.log10(signal_peak) - 10 * np.log10(MSE)\n",
    "    #print(psnr)\n",
    "    return psnr"
   ],
   "id": "e1fe0068afac68e2",
   "outputs": [],
   "execution_count": 87
  },
  {
   "metadata": {
    "ExecuteTime": {
     "end_time": "2024-09-19T17:22:05.989492Z",
     "start_time": "2024-09-19T17:22:05.958228Z"
    }
   },
   "cell_type": "code",
   "source": [
    "def compute_D2_psnr(original_mesh, decoded_mesh):\n",
    "    decoded_mesh.compute_vertex_normals()\n",
    "    \n",
    "    original_vertices = np.array(original_mesh.vertices)\n",
    "    decoded_vertices = np.array(decoded_mesh.vertices)\n",
    "    \n",
    "    pcd_original = o3d.geometry.PointCloud()\n",
    "    pcd_original.points = o3d.utility.Vector3dVector(original_vertices)\n",
    "    \n",
    "    \n",
    "    pcd_decoded = o3d.geometry.PointCloud()\n",
    "    pcd_decoded.points = o3d.utility.Vector3dVector(decoded_vertices)\n",
    "    pcd_decoded.normals = o3d.utility.Vector3dVector(decoded_mesh.vertex_normals)\n",
    "    pcd_tree = o3d.geometry.KDTreeFlann(pcd_decoded)\n",
    "    \n",
    "    MSE = 0\n",
    "    for i in range(0, len(original_vertices)):\n",
    "        [k, index, _] = pcd_tree.search_knn_vector_3d(original_vertices[i], 1)\n",
    "        MSE += np.square(np.dot((original_vertices[i] - decoded_vertices[index])[0], np.array(pcd_decoded.normals)[index][0]))\n",
    "    MSE = MSE / len(original_vertices)\n",
    "    \n",
    "    aabb = pcd_original.get_axis_aligned_bounding_box()\n",
    "    min_bound = aabb.get_min_bound()\n",
    "\n",
    "    max_bound = aabb.get_max_bound()\n",
    "\n",
    "    signal_peak = np.linalg.norm(max_bound - min_bound)\n",
    "    psnr = 20 * np.log10(signal_peak) - 10 * np.log10(MSE)\n",
    "    \n",
    "    return psnr\n",
    "\n",
    "def compute_MSE_RMSE(original_mesh, decoded_mesh):\n",
    "    \n",
    "    original_vertices = np.array(original_mesh.vertices)\n",
    "    #original_vertices = normalize_vertices(original_vertices)\n",
    "    decoded_vertices = np.array(decoded_mesh.vertices)\n",
    "    #decoded_vertices = normalize_vertices(decoded_vertices)\n",
    "    \n",
    "    pcd_original = o3d.geometry.PointCloud()\n",
    "    pcd_original.points = o3d.utility.Vector3dVector(original_vertices)\n",
    "    \n",
    "    pcd_decoded = o3d.geometry.PointCloud()\n",
    "    pcd_decoded.points = o3d.utility.Vector3dVector(decoded_vertices)\n",
    "    pcd_tree = o3d.geometry.KDTreeFlann(pcd_decoded)\n",
    "    \n",
    "    MSE = 0\n",
    "    for i in range(0, len(original_vertices)):\n",
    "        [k, index, _] = pcd_tree.search_knn_vector_3d(original_vertices[i], 1)\n",
    "        MSE += np.square(np.linalg.norm(original_vertices[i] - decoded_vertices[index]))\n",
    "    MSE = MSE / len(original_vertices)\n",
    "    #print(\"MSE:\", MSE)\n",
    "    RMSE =np.sqrt(MSE)\n",
    "    \n",
    "    return np.log10(MSE), np.log10(RMSE)\n",
    "\n",
    "from scipy.spatial.distance import directed_hausdorff\n",
    "def compute_Hausdorff(original_mesh, decoded_mesh):\n",
    "    original_vertices = np.array(original_mesh.vertices)\n",
    "    decoded_vertices = np.array(decoded_mesh.vertices)\n",
    "    hausdorff = directed_hausdorff(original_vertices, decoded_vertices)\n",
    "    return hausdorff[0] * 1e4\n"
   ],
   "id": "5c7aa8a62b1a5a89",
   "outputs": [],
   "execution_count": 88
  },
  {
   "metadata": {},
   "cell_type": "markdown",
   "source": "## get error",
   "id": "c1a810d654242a2e"
  },
  {
   "metadata": {
    "ExecuteTime": {
     "end_time": "2024-09-19T16:51:01.194083Z",
     "start_time": "2024-09-19T16:51:00.893946Z"
    }
   },
   "cell_type": "code",
   "source": [
    "reference_mesh = read_triangle_mesh_with_trimesh(fr'G:\\VS2022Projects\\tvm-editing-master\\TVMEditor.Test\\bin\\Release\\net5.0\\Data\\Dancer/reference_mesh/reference_mesh_{GoF}.obj')\n",
    "print(reference_mesh)\n",
    "decimated_reference_mesh = o3d.geometry.TriangleMesh.simplify_quadric_decimation(reference_mesh, 10000, boundary_weight= 8000)\n",
    "print(decimated_reference_mesh)\n",
    "decimated_reference_mesh_vertices = np.array(decimated_reference_mesh.vertices)\n",
    "o3d.io.write_triangle_mesh(r'G:\\VS2022Projects\\tvm-editing-master\\TVMEditor.Test\\bin\\Release\\net5.0\\Data\\Dancer\\reference_mesh/decimated_reference_mesh.obj', decimated_reference_mesh, write_vertex_normals=False, write_vertex_colors=False, write_triangle_uvs=False)\n",
    "loaded_decimated_reference_mesh = read_triangle_mesh_with_trimesh(r'G:\\VS2022Projects\\tvm-editing-master\\TVMEditor.Test\\bin\\Release\\net5.0\\Data\\Dancer\\reference_mesh/decimated_reference_mesh.obj', enable_post_processing=False)\n",
    "print(loaded_decimated_reference_mesh)\n",
    "loaded_decimated_reference_mesh_vertices = np.array(loaded_decimated_reference_mesh.vertices)"
   ],
   "id": "92b6281169d111c4",
   "outputs": [
    {
     "name": "stdout",
     "output_type": "stream",
     "text": [
      "TriangleMesh with 19998 points and 40000 triangles.\n",
      "TriangleMesh with 4999 points and 10000 triangles.\n",
      "TriangleMesh with 4999 points and 10000 triangles.\n"
     ]
    }
   ],
   "execution_count": 40
  },
  {
   "metadata": {},
   "cell_type": "markdown",
   "source": "## get displacements",
   "id": "625b9793fec60cc3"
  },
  {
   "metadata": {
    "ExecuteTime": {
     "end_time": "2024-09-19T18:23:21.483153Z",
     "start_time": "2024-09-19T18:23:21.467521Z"
    }
   },
   "cell_type": "code",
   "source": [
    "dataset = 'Dancer'\n",
    "GoF = 15"
   ],
   "id": "e8f1ca3c1bea36f8",
   "outputs": [],
   "execution_count": 164
  },
  {
   "metadata": {
    "ExecuteTime": {
     "end_time": "2024-09-19T18:23:34.146591Z",
     "start_time": "2024-09-19T18:23:30.479402Z"
    }
   },
   "cell_type": "code",
   "source": [
    "fitting_mesh_dancer = []\n",
    "for i in range(0, GoF):\n",
    "    offset = 5\n",
    "    reconstruct_dancer_i = o3d.io.read_triangle_mesh(fr'G:\\VS2022Projects\\tvm-editing-master\\TVMEditor.Test\\bin\\Release\\net5.0\\output\\Dancer\\reference/deformed_reference_mesh_{i+offset:03}.obj')\n",
    "    original_dancer_i = o3d.io.read_triangle_mesh(fr'G:\\VS2022Projects\\tvm-editing-master\\TVMEditor.Test\\bin\\Release\\net5.0\\Data\\Dancer\\meshes/dancer_fr0{i+offset:03}.obj')\n",
    "    print(reconstruct_dancer_i)\n",
    "    print(original_dancer_i)\n",
    "    reconstruct_dancer_i.compute_vertex_normals()\n",
    "    original_dancer_i.compute_vertex_normals()\n",
    "    #o3d.visualization.draw_geometries([reconstruct_dancer_i])\n",
    "    fitting_mesh_dancer_i = subdivide_surface_fitting(reconstruct_dancer_i, original_dancer_i, 1)\n",
    "    #print(np.array(fitting_mesh_dancer_i.triangles))\n",
    "    fitting_mesh_dancer.append(fitting_mesh_dancer_i)\n",
    "    o3d.io.write_triangle_mesh(fr'G:\\VS2022Projects\\tvm-editing-master\\TVMEditor.Test\\bin\\Release\\net5.0\\output\\Dancer\\reference/fitting_mesh_dancer_{i+offset:03}.obj', fitting_mesh_dancer_i, write_vertex_normals=False, write_vertex_colors=False, write_triangle_uvs=False)\n",
    "    #o3d.visualization.draw_geometries([fitting_mesh_dancer_i])"
   ],
   "id": "3c008558a90d2665",
   "outputs": [
    {
     "name": "stdout",
     "output_type": "stream",
     "text": [
      "TriangleMesh with 4991 points and 10000 triangles.\n",
      "TriangleMesh with 19724 points and 39380 triangles.\n",
      "TriangleMesh with 19991 points and 40000 triangles.\n",
      "[Open3D WARNING] Write OBJ can not include triangle normals.\n",
      "TriangleMesh with 4991 points and 10000 triangles.\n",
      "TriangleMesh with 19734 points and 39411 triangles.\n",
      "TriangleMesh with 19991 points and 40000 triangles.\n",
      "[Open3D WARNING] Write OBJ can not include triangle normals.\n",
      "TriangleMesh with 4991 points and 10000 triangles.\n",
      "TriangleMesh with 19717 points and 39373 triangles.\n",
      "TriangleMesh with 19991 points and 40000 triangles.\n",
      "[Open3D WARNING] Write OBJ can not include triangle normals.\n",
      "TriangleMesh with 4991 points and 10000 triangles.\n",
      "TriangleMesh with 19730 points and 39392 triangles.\n",
      "TriangleMesh with 19991 points and 40000 triangles.\n",
      "[Open3D WARNING] Write OBJ can not include triangle normals.\n",
      "TriangleMesh with 4991 points and 10000 triangles.\n",
      "TriangleMesh with 19712 points and 39356 triangles.\n",
      "TriangleMesh with 19991 points and 40000 triangles.\n",
      "[Open3D WARNING] Write OBJ can not include triangle normals.\n",
      "TriangleMesh with 4991 points and 10000 triangles.\n",
      "TriangleMesh with 19713 points and 39357 triangles.\n",
      "TriangleMesh with 19991 points and 40000 triangles.\n",
      "[Open3D WARNING] Write OBJ can not include triangle normals.\n",
      "TriangleMesh with 4991 points and 10000 triangles.\n",
      "TriangleMesh with 19726 points and 39375 triangles.\n",
      "TriangleMesh with 19991 points and 40000 triangles.\n",
      "[Open3D WARNING] Write OBJ can not include triangle normals.\n",
      "TriangleMesh with 4991 points and 10000 triangles.\n",
      "TriangleMesh with 19716 points and 39365 triangles.\n",
      "TriangleMesh with 19991 points and 40000 triangles.\n",
      "[Open3D WARNING] Write OBJ can not include triangle normals.\n",
      "TriangleMesh with 4991 points and 10000 triangles.\n",
      "TriangleMesh with 19720 points and 39375 triangles.\n",
      "TriangleMesh with 19991 points and 40000 triangles.\n",
      "[Open3D WARNING] Write OBJ can not include triangle normals.\n",
      "TriangleMesh with 4991 points and 10000 triangles.\n",
      "TriangleMesh with 19697 points and 39345 triangles.\n",
      "TriangleMesh with 19991 points and 40000 triangles.\n",
      "[Open3D WARNING] Write OBJ can not include triangle normals.\n",
      "TriangleMesh with 4991 points and 10000 triangles.\n",
      "TriangleMesh with 19740 points and 39421 triangles.\n",
      "TriangleMesh with 19991 points and 40000 triangles.\n",
      "[Open3D WARNING] Write OBJ can not include triangle normals.\n",
      "TriangleMesh with 4991 points and 10000 triangles.\n",
      "TriangleMesh with 19705 points and 39355 triangles.\n",
      "TriangleMesh with 19991 points and 40000 triangles.\n",
      "[Open3D WARNING] Write OBJ can not include triangle normals.\n",
      "TriangleMesh with 4991 points and 10000 triangles.\n",
      "TriangleMesh with 19735 points and 39421 triangles.\n",
      "TriangleMesh with 19991 points and 40000 triangles.\n",
      "[Open3D WARNING] Write OBJ can not include triangle normals.\n",
      "TriangleMesh with 4991 points and 10000 triangles.\n",
      "TriangleMesh with 19706 points and 39344 triangles.\n",
      "TriangleMesh with 19991 points and 40000 triangles.\n",
      "[Open3D WARNING] Write OBJ can not include triangle normals.\n",
      "TriangleMesh with 4991 points and 10000 triangles.\n",
      "TriangleMesh with 19740 points and 39411 triangles.\n",
      "TriangleMesh with 19991 points and 40000 triangles.\n",
      "[Open3D WARNING] Write OBJ can not include triangle normals.\n"
     ]
    }
   ],
   "execution_count": 165
  },
  {
   "metadata": {
    "ExecuteTime": {
     "end_time": "2024-09-19T17:15:25.282671Z",
     "start_time": "2024-09-19T17:15:25.235209Z"
    }
   },
   "cell_type": "code",
   "source": [
    "loaded_decimated_reference_mesh = read_triangle_mesh_with_trimesh(r'G:\\VS2022Projects\\tvm-editing-master\\TVMEditor.Test\\bin\\Release\\net5.0\\Data\\Dancer\\reference_mesh/decimated_reference_mesh.obj', enable_post_processing=False)\n",
    "print(loaded_decimated_reference_mesh)\n",
    "loaded_decimated_reference_mesh_vertices = np.array(loaded_decimated_reference_mesh.vertices)"
   ],
   "id": "c259405a07704f2e",
   "outputs": [
    {
     "name": "stdout",
     "output_type": "stream",
     "text": [
      "TriangleMesh with 4999 points and 10000 triangles.\n"
     ]
    }
   ],
   "execution_count": 82
  },
  {
   "metadata": {
    "ExecuteTime": {
     "end_time": "2024-09-19T17:03:14.364359Z",
     "start_time": "2024-09-19T17:03:14.348736Z"
    }
   },
   "cell_type": "code",
   "source": "print(np.array(loaded_decimated_reference_mesh.triangles))",
   "id": "b1c76860b100610c",
   "outputs": [
    {
     "name": "stdout",
     "output_type": "stream",
     "text": [
      "[[   3    0    2]\n",
      " [  34   19   33]\n",
      " [  33   22   45]\n",
      " ...\n",
      " [4950 4890 4877]\n",
      " [4920 4950 4877]\n",
      " [4879 4846 4937]]\n"
     ]
    }
   ],
   "execution_count": 64
  },
  {
   "metadata": {
    "ExecuteTime": {
     "end_time": "2024-09-19T18:24:15.698913Z",
     "start_time": "2024-09-19T18:24:15.667680Z"
    }
   },
   "cell_type": "code",
   "source": [
    "loaded_decimated_reference_mesh = o3d.io.read_triangle_mesh(r'G:\\VS2022Projects\\tvm-editing-master\\TVMEditor.Test\\bin\\Release\\net5.0\\Data\\Dancer\\reference_mesh/decimated_reference_mesh.obj', enable_post_processing=False)\n",
    "print(loaded_decimated_reference_mesh)\n",
    "loaded_decimated_reference_mesh_vertices = np.array(loaded_decimated_reference_mesh.vertices)\n",
    "#loaded_decimated_reference_mesh_vertices"
   ],
   "id": "aa16fdb1c5622f9d",
   "outputs": [
    {
     "name": "stdout",
     "output_type": "stream",
     "text": [
      "TriangleMesh with 4991 points and 10000 triangles.\n"
     ]
    }
   ],
   "execution_count": 166
  },
  {
   "metadata": {
    "ExecuteTime": {
     "end_time": "2024-09-19T17:22:35.925780Z",
     "start_time": "2024-09-19T17:22:35.910147Z"
    }
   },
   "cell_type": "code",
   "source": "print(np.array(loaded_decimated_reference_mesh.triangles))",
   "id": "5b17ec9bb111fe17",
   "outputs": [
    {
     "name": "stdout",
     "output_type": "stream",
     "text": [
      "[[   0    1    2]\n",
      " [   3    4    5]\n",
      " [   5    6    7]\n",
      " ...\n",
      " [4946 4699 4698]\n",
      " [4959 4946 4698]\n",
      " [1894 1528 2956]]\n"
     ]
    }
   ],
   "execution_count": 92
  },
  {
   "metadata": {
    "ExecuteTime": {
     "end_time": "2024-09-19T17:22:58.307562Z",
     "start_time": "2024-09-19T17:22:58.276311Z"
    }
   },
   "cell_type": "code",
   "source": [
    "subdivided_decimated_reference_mesh = o3d.geometry.TriangleMesh.subdivide_midpoint(loaded_decimated_reference_mesh, number_of_iterations=1)\n",
    "print(subdivided_decimated_reference_mesh)\n",
    "print(np.array(subdivided_decimated_reference_mesh.triangles))\n",
    "subdivided_decimated_reference_mesh_vertices = np.array(subdivided_decimated_reference_mesh.vertices)\n",
    "subdivided_decimated_reference_mesh_vertices"
   ],
   "id": "9e26bffede174b85",
   "outputs": [
    {
     "name": "stdout",
     "output_type": "stream",
     "text": [
      "TriangleMesh with 19999 points and 40000 triangles.\n",
      "[[    0  4999  5001]\n",
      " [ 4999     1  5000]\n",
      " [ 5000     2  5001]\n",
      " ...\n",
      " [14460  1528 14065]\n",
      " [14065  2956  9635]\n",
      " [14460 14065  9635]]\n"
     ]
    },
    {
     "data": {
      "text/plain": [
       "array([[ 0.107329  ,  0.93036002, -0.47013801],\n",
       "       [ 0.102824  ,  0.92076302, -0.47527599],\n",
       "       [ 0.0863939 ,  0.92366898, -0.47173601],\n",
       "       ...,\n",
       "       [-0.202161  ,  0.566742  ,  0.313417  ],\n",
       "       [-0.135154  ,  0.85064352,  0.3180875 ],\n",
       "       [-0.118677  ,  0.42133701,  0.3275625 ]])"
      ]
     },
     "execution_count": 93,
     "metadata": {},
     "output_type": "execute_result"
    }
   ],
   "execution_count": 93
  },
  {
   "metadata": {
    "ExecuteTime": {
     "end_time": "2024-09-19T18:24:38.075947Z",
     "start_time": "2024-09-19T18:24:35.882103Z"
    }
   },
   "cell_type": "code",
   "source": [
    "subdivided_decimated_reference_mesh = o3d.geometry.TriangleMesh.subdivide_midpoint(loaded_decimated_reference_mesh, number_of_iterations=1)\n",
    "#print(subdivided_decimated_reference_mesh)\n",
    "subdivided_decimated_reference_mesh_vertices = np.array(subdivided_decimated_reference_mesh.vertices)\n",
    "#o3d.visualization.draw_geometries([subdivided_decimated_reference_mesh])\n",
    "displacements = []\n",
    "for i in range(0, GoF):\n",
    "    offset = 5\n",
    "    fitting_mesh_dancer_i = read_triangle_mesh_with_trimesh(fr'G:\\VS2022Projects\\tvm-editing-master\\TVMEditor.Test\\bin\\Release\\net5.0\\output\\Dancer\\reference/fitting_mesh_dancer_{i+offset:03}.obj', enable_post_processing=False)\n",
    "    #fitting_mesh_dancer_i = fitting_mesh_dancer[i]\n",
    "    print(fitting_mesh_dancer_i, subdivided_decimated_reference_mesh)\n",
    "    fitting_mesh_vertices = np.array(fitting_mesh_dancer_i.vertices)\n",
    "    #print(np.array(fitting_mesh_dancer_i.triangles))\n",
    "    displacement_i = fitting_mesh_vertices - subdivided_decimated_reference_mesh_vertices\n",
    "    np.savetxt(fr'G:\\VS2022Projects\\tvm-editing-master\\TVMEditor.Test\\bin\\Release\\net5.0\\output\\Dancer\\reference/displacements_{dataset}_{i+offset:03}.txt', displacement_i, fmt='%8f')\n",
    "    displacements.append(displacement_i)\n",
    "\n"
   ],
   "id": "12ab10dc7f6c788",
   "outputs": [
    {
     "name": "stdout",
     "output_type": "stream",
     "text": [
      "TriangleMesh with 19991 points and 40000 triangles. TriangleMesh with 19991 points and 40000 triangles.\n",
      "TriangleMesh with 19991 points and 40000 triangles. TriangleMesh with 19991 points and 40000 triangles.\n",
      "TriangleMesh with 19991 points and 40000 triangles. TriangleMesh with 19991 points and 40000 triangles.\n",
      "TriangleMesh with 19991 points and 40000 triangles. TriangleMesh with 19991 points and 40000 triangles.\n",
      "TriangleMesh with 19991 points and 40000 triangles. TriangleMesh with 19991 points and 40000 triangles.\n",
      "TriangleMesh with 19991 points and 40000 triangles. TriangleMesh with 19991 points and 40000 triangles.\n",
      "TriangleMesh with 19991 points and 40000 triangles. TriangleMesh with 19991 points and 40000 triangles.\n",
      "TriangleMesh with 19991 points and 40000 triangles. TriangleMesh with 19991 points and 40000 triangles.\n",
      "TriangleMesh with 19991 points and 40000 triangles. TriangleMesh with 19991 points and 40000 triangles.\n",
      "TriangleMesh with 19991 points and 40000 triangles. TriangleMesh with 19991 points and 40000 triangles.\n",
      "TriangleMesh with 19991 points and 40000 triangles. TriangleMesh with 19991 points and 40000 triangles.\n",
      "TriangleMesh with 19991 points and 40000 triangles. TriangleMesh with 19991 points and 40000 triangles.\n",
      "TriangleMesh with 19991 points and 40000 triangles. TriangleMesh with 19991 points and 40000 triangles.\n",
      "TriangleMesh with 19991 points and 40000 triangles. TriangleMesh with 19991 points and 40000 triangles.\n",
      "TriangleMesh with 19991 points and 40000 triangles. TriangleMesh with 19991 points and 40000 triangles.\n"
     ]
    }
   ],
   "execution_count": 167
  },
  {
   "metadata": {
    "ExecuteTime": {
     "end_time": "2024-09-19T18:24:46.525255Z",
     "start_time": "2024-09-19T18:24:46.478364Z"
    }
   },
   "cell_type": "code",
   "source": [
    "input_reference_mesh_path = r'G:\\VS2022Projects\\tvm-editing-master\\TVMEditor.Test\\bin\\Release\\net5.0\\Data\\Dancer\\reference_mesh/decimated_reference_mesh.obj'\n",
    "input_decimated_reference_mesh = read_triangle_mesh_with_trimesh(input_reference_mesh_path, enable_post_processing=False)\n",
    "print(input_decimated_reference_mesh)\n",
    "np.array(input_decimated_reference_mesh.vertices)"
   ],
   "id": "4c882e5caf8beccb",
   "outputs": [
    {
     "name": "stdout",
     "output_type": "stream",
     "text": [
      "TriangleMesh with 4991 points and 10000 triangles.\n"
     ]
    },
    {
     "data": {
      "text/plain": [
       "array([[ 0.0739506 ,  0.887841  , -0.468468  ],\n",
       "       [ 0.0729764 ,  0.90885   , -0.464515  ],\n",
       "       [ 0.0900176 ,  0.892868  , -0.459414  ],\n",
       "       ...,\n",
       "       [-0.050106  ,  0.561692  ,  0.0432026 ],\n",
       "       [-0.0140896 ,  0.55794   ,  0.042252  ],\n",
       "       [-0.00408506,  0.681747  ,  0.065295  ]])"
      ]
     },
     "execution_count": 168,
     "metadata": {},
     "output_type": "execute_result"
    }
   ],
   "execution_count": 168
  },
  {
   "metadata": {
    "ExecuteTime": {
     "end_time": "2024-09-19T18:24:49.104389Z",
     "start_time": "2024-09-19T18:24:49.010646Z"
    }
   },
   "cell_type": "code",
   "source": [
    "output_path = r'G:\\VS2022Projects\\tvm-editing-master\\TVMEditor.Test\\bin\\Release\\net5.0\\Data\\Dancer\\reference_mesh/encoded_decimated_reference_mesh.drc'\n",
    "result = subprocess.run([\n",
    "                            r'G:\\Github\\draco\\build\\Debug\\draco_encoder',\n",
    "                            '-i', input_reference_mesh_path,\n",
    "                            '-o', output_path,\n",
    "                            '-qp', str('14'),\n",
    "                            '-cl', '7'\n",
    "                            ], capture_output=True, text=True)\n",
    "print(result.stdout)\n",
    "print(result.stderr)"
   ],
   "id": "6e1578844a89b960",
   "outputs": [
    {
     "name": "stdout",
     "output_type": "stream",
     "text": [
      "Encoder options:\n",
      "  Compression level = 7\n",
      "  Positions: Quantization = 14 bits\n",
      "\n",
      "Encoded mesh saved to G:\\VS2022Projects\\tvm-editing-master\\TVMEditor.Test\\bin\\Release\\net5.0\\Data\\Dancer\\reference_mesh/encoded_decimated_reference_mesh.drc (47 ms to encode).\n",
      "\n",
      "Encoded size = 18130 bytes\n",
      "\n",
      "For better compression, increase the compression level up to '-cl 10' .\n",
      "\n",
      "\n",
      "\n"
     ]
    }
   ],
   "execution_count": 169
  },
  {
   "metadata": {
    "ExecuteTime": {
     "end_time": "2024-09-19T18:24:50.839221Z",
     "start_time": "2024-09-19T18:24:50.745464Z"
    }
   },
   "cell_type": "code",
   "source": [
    "result = subprocess.run([\n",
    "                            r'G:\\Github\\draco\\build\\Debug\\draco_decoder',\n",
    "                            '-i', output_path,\n",
    "                            '-o', r'G:\\VS2022Projects\\tvm-editing-master\\TVMEditor.Test\\bin\\Release\\net5.0\\Data\\Dancer\\reference_mesh/decode_decimated_reference_mesh.obj'\n",
    "                            ], capture_output=True, text=True)\n",
    "print(result.stdout)\n",
    "print(result.stderr)"
   ],
   "id": "1db58be58f18535",
   "outputs": [
    {
     "name": "stdout",
     "output_type": "stream",
     "text": [
      "Decoded geometry saved to G:\\VS2022Projects\\tvm-editing-master\\TVMEditor.Test\\bin\\Release\\net5.0\\Data\\Dancer\\reference_mesh/decode_decimated_reference_mesh.obj (13 ms to decode)\n",
      "\n",
      "\n"
     ]
    }
   ],
   "execution_count": 170
  },
  {
   "metadata": {
    "ExecuteTime": {
     "end_time": "2024-09-19T18:24:58.869604Z",
     "start_time": "2024-09-19T18:24:58.478064Z"
    }
   },
   "cell_type": "code",
   "source": [
    "for i in range(0, GoF):\n",
    "    offset = 5\n",
    "    displacement = np.loadtxt(fr'G:\\VS2022Projects\\tvm-editing-master\\TVMEditor.Test\\bin\\Release\\net5.0\\output\\Dancer\\reference/displacements_{dataset}_{i+offset:03}.txt')\n",
    "    pcd = o3d.geometry.PointCloud()\n",
    "    points = displacement\n",
    "    pcd.points = o3d.utility.Vector3dVector(points)\n",
    "    print(pcd)\n",
    "    #o3d.io.write_point_cloud(r'G:\\VS2022Projects\\tvm-editing-master\\TVMEditor.Test\\bin\\Release\\net5.0\\Data\\Dancer\\reference_mesh/dis.ply', pcd)\n",
    "    points=np.asarray(pcd.points)\n",
    "    dtype = o3d.core.float32\n",
    "    p_tensor = o3d.core.Tensor(points, dtype=dtype)\n",
    "    pc = o3d.t.geometry.PointCloud(p_tensor)\n",
    "    o3d.t.io.write_point_cloud(fr'G:\\VS2022Projects\\tvm-editing-master\\TVMEditor.Test\\bin\\Release\\net5.0\\Data\\Dancer\\reference_mesh/dis_{dataset}_{i+offset:03}.ply', pc, write_ascii=True)"
   ],
   "id": "bc6875066e41d60d",
   "outputs": [
    {
     "name": "stdout",
     "output_type": "stream",
     "text": [
      "PointCloud with 19991 points.\n",
      "PointCloud with 19991 points.\n",
      "PointCloud with 19991 points.\n",
      "PointCloud with 19991 points.\n",
      "PointCloud with 19991 points.\n",
      "PointCloud with 19991 points.\n",
      "PointCloud with 19991 points.\n",
      "PointCloud with 19991 points.\n",
      "PointCloud with 19991 points.\n",
      "PointCloud with 19991 points.\n",
      "PointCloud with 19991 points.\n",
      "PointCloud with 19991 points.\n",
      "PointCloud with 19991 points.\n",
      "PointCloud with 19991 points.\n",
      "PointCloud with 19991 points.\n"
     ]
    }
   ],
   "execution_count": 171
  },
  {
   "metadata": {
    "ExecuteTime": {
     "end_time": "2024-09-19T20:51:56.467328Z",
     "start_time": "2024-09-19T20:51:54.662945Z"
    }
   },
   "cell_type": "code",
   "source": [
    "qp = 16\n",
    "for i in range(0, GoF):\n",
    "    offset = 5\n",
    "    result = subprocess.run([\n",
    "                                r'G:\\Github\\draco\\build\\Debug\\draco_encoder',\n",
    "                                #r'G:\\Github\\draco\\buildforSequenceEncoding\\Debug\\draco_encoder',\n",
    "                                '-point_cloud',\n",
    "                                '-i', fr'G:\\VS2022Projects\\tvm-editing-master\\TVMEditor.Test\\bin\\Release\\net5.0\\Data\\Dancer\\reference_mesh/dis_{dataset}_{i+offset:03}.ply',\n",
    "                                '-o', fr'G:\\VS2022Projects\\tvm-editing-master\\TVMEditor.Test\\bin\\Release\\net5.0\\Data\\Dancer\\reference_mesh/GoF{GoF}/dis_{dataset}_{i+offset:03}.drc',\n",
    "                                '-qp', str(qp),\n",
    "                                '-cl', '10'\n",
    "                                ], capture_output=True, text=True)\n",
    "    print(result.stdout)\n",
    "    \n",
    "    result = subprocess.run([\n",
    "                                r'G:\\Github\\draco\\build\\Debug\\draco_encoder',\n",
    "                                #r'G:\\Github\\draco\\buildforSequenceEncoding\\Debug\\draco_encoder',\n",
    "                                '-point_cloud',\n",
    "                                '-i', fr'G:\\VS2022Projects\\tvm-editing-master\\TVMEditor.Test\\bin\\Release\\net5.0\\Data\\Dancer\\reference_mesh/dis_{dataset}_{i+offset:03}.ply',\n",
    "                                '-o', fr'G:\\VS2022Projects\\tvm-editing-master\\TVMEditor.Test\\bin\\Release\\net5.0\\Data\\Dancer\\reference_mesh/GoF{GoF}/dis_{dataset}_{i+offset:03}_0.drc',\n",
    "                                '-qp', str(qp),\n",
    "                                '-cl', '0'\n",
    "                                ], capture_output=True, text=True)\n",
    "    print(result.stdout)"
   ],
   "id": "b4428b99255b500c",
   "outputs": [
    {
     "name": "stdout",
     "output_type": "stream",
     "text": [
      "Encoder options:\n",
      "  Compression level = 10\n",
      "  Positions: Quantization = 16 bits\n",
      "\n",
      "Encoded point cloud saved to G:\\VS2022Projects\\tvm-editing-master\\TVMEditor.Test\\bin\\Release\\net5.0\\Data\\Dancer\\reference_mesh/GoF15/dis_Dancer_005.drc (27 ms to encode).\n",
      "\n",
      "Encoded size = 67554 bytes\n",
      "\n",
      "\n",
      "Encoder options:\n",
      "  Compression level = 0\n",
      "  Positions: Quantization = 16 bits\n",
      "\n",
      "Encoded point cloud saved to G:\\VS2022Projects\\tvm-editing-master\\TVMEditor.Test\\bin\\Release\\net5.0\\Data\\Dancer\\reference_mesh/GoF15/dis_Dancer_005_0.drc (8 ms to encode).\n",
      "\n",
      "Encoded size = 95123 bytes\n",
      "\n",
      "For better compression, increase the compression level up to '-cl 10' .\n",
      "\n",
      "\n",
      "Encoder options:\n",
      "  Compression level = 10\n",
      "  Positions: Quantization = 16 bits\n",
      "\n",
      "Encoded point cloud saved to G:\\VS2022Projects\\tvm-editing-master\\TVMEditor.Test\\bin\\Release\\net5.0\\Data\\Dancer\\reference_mesh/GoF15/dis_Dancer_006.drc (27 ms to encode).\n",
      "\n",
      "Encoded size = 67043 bytes\n",
      "\n",
      "\n",
      "Encoder options:\n",
      "  Compression level = 0\n",
      "  Positions: Quantization = 16 bits\n",
      "\n",
      "Encoded point cloud saved to G:\\VS2022Projects\\tvm-editing-master\\TVMEditor.Test\\bin\\Release\\net5.0\\Data\\Dancer\\reference_mesh/GoF15/dis_Dancer_006_0.drc (8 ms to encode).\n",
      "\n",
      "Encoded size = 94762 bytes\n",
      "\n",
      "For better compression, increase the compression level up to '-cl 10' .\n",
      "\n",
      "\n",
      "Encoder options:\n",
      "  Compression level = 10\n",
      "  Positions: Quantization = 16 bits\n",
      "\n",
      "Encoded point cloud saved to G:\\VS2022Projects\\tvm-editing-master\\TVMEditor.Test\\bin\\Release\\net5.0\\Data\\Dancer\\reference_mesh/GoF15/dis_Dancer_007.drc (27 ms to encode).\n",
      "\n",
      "Encoded size = 66923 bytes\n",
      "\n",
      "\n",
      "Encoder options:\n",
      "  Compression level = 0\n",
      "  Positions: Quantization = 16 bits\n",
      "\n",
      "Encoded point cloud saved to G:\\VS2022Projects\\tvm-editing-master\\TVMEditor.Test\\bin\\Release\\net5.0\\Data\\Dancer\\reference_mesh/GoF15/dis_Dancer_007_0.drc (8 ms to encode).\n",
      "\n",
      "Encoded size = 94850 bytes\n",
      "\n",
      "For better compression, increase the compression level up to '-cl 10' .\n",
      "\n",
      "\n",
      "Encoder options:\n",
      "  Compression level = 10\n",
      "  Positions: Quantization = 16 bits\n",
      "\n",
      "Encoded point cloud saved to G:\\VS2022Projects\\tvm-editing-master\\TVMEditor.Test\\bin\\Release\\net5.0\\Data\\Dancer\\reference_mesh/GoF15/dis_Dancer_008.drc (26 ms to encode).\n",
      "\n",
      "Encoded size = 67484 bytes\n",
      "\n",
      "\n",
      "Encoder options:\n",
      "  Compression level = 0\n",
      "  Positions: Quantization = 16 bits\n",
      "\n",
      "Encoded point cloud saved to G:\\VS2022Projects\\tvm-editing-master\\TVMEditor.Test\\bin\\Release\\net5.0\\Data\\Dancer\\reference_mesh/GoF15/dis_Dancer_008_0.drc (8 ms to encode).\n",
      "\n",
      "Encoded size = 95688 bytes\n",
      "\n",
      "For better compression, increase the compression level up to '-cl 10' .\n",
      "\n",
      "\n",
      "Encoder options:\n",
      "  Compression level = 10\n",
      "  Positions: Quantization = 16 bits\n",
      "\n",
      "Encoded point cloud saved to G:\\VS2022Projects\\tvm-editing-master\\TVMEditor.Test\\bin\\Release\\net5.0\\Data\\Dancer\\reference_mesh/GoF15/dis_Dancer_009.drc (27 ms to encode).\n",
      "\n",
      "Encoded size = 68842 bytes\n",
      "\n",
      "\n",
      "Encoder options:\n",
      "  Compression level = 0\n",
      "  Positions: Quantization = 16 bits\n",
      "\n",
      "Encoded point cloud saved to G:\\VS2022Projects\\tvm-editing-master\\TVMEditor.Test\\bin\\Release\\net5.0\\Data\\Dancer\\reference_mesh/GoF15/dis_Dancer_009_0.drc (8 ms to encode).\n",
      "\n",
      "Encoded size = 97179 bytes\n",
      "\n",
      "For better compression, increase the compression level up to '-cl 10' .\n",
      "\n",
      "\n",
      "Encoder options:\n",
      "  Compression level = 10\n",
      "  Positions: Quantization = 16 bits\n",
      "\n",
      "Encoded point cloud saved to G:\\VS2022Projects\\tvm-editing-master\\TVMEditor.Test\\bin\\Release\\net5.0\\Data\\Dancer\\reference_mesh/GoF15/dis_Dancer_010.drc (28 ms to encode).\n",
      "\n",
      "Encoded size = 69605 bytes\n",
      "\n",
      "\n",
      "Encoder options:\n",
      "  Compression level = 0\n",
      "  Positions: Quantization = 16 bits\n",
      "\n",
      "Encoded point cloud saved to G:\\VS2022Projects\\tvm-editing-master\\TVMEditor.Test\\bin\\Release\\net5.0\\Data\\Dancer\\reference_mesh/GoF15/dis_Dancer_010_0.drc (8 ms to encode).\n",
      "\n",
      "Encoded size = 98637 bytes\n",
      "\n",
      "For better compression, increase the compression level up to '-cl 10' .\n",
      "\n",
      "\n",
      "Encoder options:\n",
      "  Compression level = 10\n",
      "  Positions: Quantization = 16 bits\n",
      "\n",
      "Encoded point cloud saved to G:\\VS2022Projects\\tvm-editing-master\\TVMEditor.Test\\bin\\Release\\net5.0\\Data\\Dancer\\reference_mesh/GoF15/dis_Dancer_011.drc (26 ms to encode).\n",
      "\n",
      "Encoded size = 71277 bytes\n",
      "\n",
      "\n",
      "Encoder options:\n",
      "  Compression level = 0\n",
      "  Positions: Quantization = 16 bits\n",
      "\n",
      "Encoded point cloud saved to G:\\VS2022Projects\\tvm-editing-master\\TVMEditor.Test\\bin\\Release\\net5.0\\Data\\Dancer\\reference_mesh/GoF15/dis_Dancer_011_0.drc (8 ms to encode).\n",
      "\n",
      "Encoded size = 100089 bytes\n",
      "\n",
      "For better compression, increase the compression level up to '-cl 10' .\n",
      "\n",
      "\n",
      "Encoder options:\n",
      "  Compression level = 10\n",
      "  Positions: Quantization = 16 bits\n",
      "\n",
      "Encoded point cloud saved to G:\\VS2022Projects\\tvm-editing-master\\TVMEditor.Test\\bin\\Release\\net5.0\\Data\\Dancer\\reference_mesh/GoF15/dis_Dancer_012.drc (25 ms to encode).\n",
      "\n",
      "Encoded size = 74131 bytes\n",
      "\n",
      "\n",
      "Encoder options:\n",
      "  Compression level = 0\n",
      "  Positions: Quantization = 16 bits\n",
      "\n",
      "Encoded point cloud saved to G:\\VS2022Projects\\tvm-editing-master\\TVMEditor.Test\\bin\\Release\\net5.0\\Data\\Dancer\\reference_mesh/GoF15/dis_Dancer_012_0.drc (9 ms to encode).\n",
      "\n",
      "Encoded size = 102160 bytes\n",
      "\n",
      "For better compression, increase the compression level up to '-cl 10' .\n",
      "\n",
      "\n",
      "Encoder options:\n",
      "  Compression level = 10\n",
      "  Positions: Quantization = 16 bits\n",
      "\n",
      "Encoded point cloud saved to G:\\VS2022Projects\\tvm-editing-master\\TVMEditor.Test\\bin\\Release\\net5.0\\Data\\Dancer\\reference_mesh/GoF15/dis_Dancer_013.drc (25 ms to encode).\n",
      "\n",
      "Encoded size = 75405 bytes\n",
      "\n",
      "\n",
      "Encoder options:\n",
      "  Compression level = 0\n",
      "  Positions: Quantization = 16 bits\n",
      "\n",
      "Encoded point cloud saved to G:\\VS2022Projects\\tvm-editing-master\\TVMEditor.Test\\bin\\Release\\net5.0\\Data\\Dancer\\reference_mesh/GoF15/dis_Dancer_013_0.drc (8 ms to encode).\n",
      "\n",
      "Encoded size = 103428 bytes\n",
      "\n",
      "For better compression, increase the compression level up to '-cl 10' .\n",
      "\n",
      "\n",
      "Encoder options:\n",
      "  Compression level = 10\n",
      "  Positions: Quantization = 16 bits\n",
      "\n",
      "Encoded point cloud saved to G:\\VS2022Projects\\tvm-editing-master\\TVMEditor.Test\\bin\\Release\\net5.0\\Data\\Dancer\\reference_mesh/GoF15/dis_Dancer_014.drc (25 ms to encode).\n",
      "\n",
      "Encoded size = 74805 bytes\n",
      "\n",
      "\n",
      "Encoder options:\n",
      "  Compression level = 0\n",
      "  Positions: Quantization = 16 bits\n",
      "\n",
      "Encoded point cloud saved to G:\\VS2022Projects\\tvm-editing-master\\TVMEditor.Test\\bin\\Release\\net5.0\\Data\\Dancer\\reference_mesh/GoF15/dis_Dancer_014_0.drc (8 ms to encode).\n",
      "\n",
      "Encoded size = 102429 bytes\n",
      "\n",
      "For better compression, increase the compression level up to '-cl 10' .\n",
      "\n",
      "\n",
      "Encoder options:\n",
      "  Compression level = 10\n",
      "  Positions: Quantization = 16 bits\n",
      "\n",
      "Encoded point cloud saved to G:\\VS2022Projects\\tvm-editing-master\\TVMEditor.Test\\bin\\Release\\net5.0\\Data\\Dancer\\reference_mesh/GoF15/dis_Dancer_015.drc (25 ms to encode).\n",
      "\n",
      "Encoded size = 74424 bytes\n",
      "\n",
      "\n",
      "Encoder options:\n",
      "  Compression level = 0\n",
      "  Positions: Quantization = 16 bits\n",
      "\n",
      "Encoded point cloud saved to G:\\VS2022Projects\\tvm-editing-master\\TVMEditor.Test\\bin\\Release\\net5.0\\Data\\Dancer\\reference_mesh/GoF15/dis_Dancer_015_0.drc (9 ms to encode).\n",
      "\n",
      "Encoded size = 101688 bytes\n",
      "\n",
      "For better compression, increase the compression level up to '-cl 10' .\n",
      "\n",
      "\n",
      "Encoder options:\n",
      "  Compression level = 10\n",
      "  Positions: Quantization = 16 bits\n",
      "\n",
      "Encoded point cloud saved to G:\\VS2022Projects\\tvm-editing-master\\TVMEditor.Test\\bin\\Release\\net5.0\\Data\\Dancer\\reference_mesh/GoF15/dis_Dancer_016.drc (26 ms to encode).\n",
      "\n",
      "Encoded size = 74070 bytes\n",
      "\n",
      "\n",
      "Encoder options:\n",
      "  Compression level = 0\n",
      "  Positions: Quantization = 16 bits\n",
      "\n",
      "Encoded point cloud saved to G:\\VS2022Projects\\tvm-editing-master\\TVMEditor.Test\\bin\\Release\\net5.0\\Data\\Dancer\\reference_mesh/GoF15/dis_Dancer_016_0.drc (8 ms to encode).\n",
      "\n",
      "Encoded size = 101142 bytes\n",
      "\n",
      "For better compression, increase the compression level up to '-cl 10' .\n",
      "\n",
      "\n",
      "Encoder options:\n",
      "  Compression level = 10\n",
      "  Positions: Quantization = 16 bits\n",
      "\n",
      "Encoded point cloud saved to G:\\VS2022Projects\\tvm-editing-master\\TVMEditor.Test\\bin\\Release\\net5.0\\Data\\Dancer\\reference_mesh/GoF15/dis_Dancer_017.drc (25 ms to encode).\n",
      "\n",
      "Encoded size = 74058 bytes\n",
      "\n",
      "\n",
      "Encoder options:\n",
      "  Compression level = 0\n",
      "  Positions: Quantization = 16 bits\n",
      "\n",
      "Encoded point cloud saved to G:\\VS2022Projects\\tvm-editing-master\\TVMEditor.Test\\bin\\Release\\net5.0\\Data\\Dancer\\reference_mesh/GoF15/dis_Dancer_017_0.drc (9 ms to encode).\n",
      "\n",
      "Encoded size = 101090 bytes\n",
      "\n",
      "For better compression, increase the compression level up to '-cl 10' .\n",
      "\n",
      "\n",
      "Encoder options:\n",
      "  Compression level = 10\n",
      "  Positions: Quantization = 16 bits\n",
      "\n",
      "Encoded point cloud saved to G:\\VS2022Projects\\tvm-editing-master\\TVMEditor.Test\\bin\\Release\\net5.0\\Data\\Dancer\\reference_mesh/GoF15/dis_Dancer_018.drc (26 ms to encode).\n",
      "\n",
      "Encoded size = 74085 bytes\n",
      "\n",
      "\n",
      "Encoder options:\n",
      "  Compression level = 0\n",
      "  Positions: Quantization = 16 bits\n",
      "\n",
      "Encoded point cloud saved to G:\\VS2022Projects\\tvm-editing-master\\TVMEditor.Test\\bin\\Release\\net5.0\\Data\\Dancer\\reference_mesh/GoF15/dis_Dancer_018_0.drc (9 ms to encode).\n",
      "\n",
      "Encoded size = 101296 bytes\n",
      "\n",
      "For better compression, increase the compression level up to '-cl 10' .\n",
      "\n",
      "\n",
      "Encoder options:\n",
      "  Compression level = 10\n",
      "  Positions: Quantization = 16 bits\n",
      "\n",
      "Encoded point cloud saved to G:\\VS2022Projects\\tvm-editing-master\\TVMEditor.Test\\bin\\Release\\net5.0\\Data\\Dancer\\reference_mesh/GoF15/dis_Dancer_019.drc (25 ms to encode).\n",
      "\n",
      "Encoded size = 74734 bytes\n",
      "\n",
      "\n",
      "Encoder options:\n",
      "  Compression level = 0\n",
      "  Positions: Quantization = 16 bits\n",
      "\n",
      "Encoded point cloud saved to G:\\VS2022Projects\\tvm-editing-master\\TVMEditor.Test\\bin\\Release\\net5.0\\Data\\Dancer\\reference_mesh/GoF15/dis_Dancer_019_0.drc (8 ms to encode).\n",
      "\n",
      "Encoded size = 102209 bytes\n",
      "\n",
      "For better compression, increase the compression level up to '-cl 10' .\n",
      "\n",
      "\n"
     ]
    }
   ],
   "execution_count": 219
  },
  {
   "metadata": {
    "ExecuteTime": {
     "end_time": "2024-09-19T20:51:59.342035Z",
     "start_time": "2024-09-19T20:51:58.422638Z"
    }
   },
   "cell_type": "code",
   "source": [
    "for i in range(0, GoF):\n",
    "    offset = 5\n",
    "    result = subprocess.run([\n",
    "                                r'G:\\Github\\draco\\build\\Debug\\draco_decoder',\n",
    "                                '-i', fr'G:\\VS2022Projects\\tvm-editing-master\\TVMEditor.Test\\bin\\Release\\net5.0\\Data\\Dancer\\reference_mesh/GoF{GoF}/dis_{dataset}_{i+offset:03}_0.drc',\n",
    "                                '-o', fr'G:\\VS2022Projects\\tvm-editing-master\\TVMEditor.Test\\bin\\Release\\net5.0\\Data\\Dancer\\reference_mesh/GoF{GoF}/decoded_{dataset}_{i+offset:03}_displacements.ply'\n",
    "                                ], capture_output=True, text=True)\n",
    "    print(result.stdout)\n",
    "    \n",
    "    result = subprocess.run([\n",
    "                                r'G:\\Github\\draco\\build\\Debug\\draco_decoder',\n",
    "                                '-i', fr'G:\\VS2022Projects\\tvm-editing-master\\TVMEditor.Test\\bin\\Release\\net5.0\\Data\\Dancer\\reference_mesh/GoF{GoF}/dis_{dataset}_{i+offset:03}.drc',\n",
    "                                '-o', fr'G:\\VS2022Projects\\tvm-editing-master\\TVMEditor.Test\\bin\\Release\\net5.0\\Data\\Dancer\\reference_mesh/GoF{GoF}/decoded_{dataset}_{i+offset:03}_displacements_10.ply'\n",
    "                                ], capture_output=True, text=True)\n",
    "    print(result.stdout)"
   ],
   "id": "872964a90431e5c0",
   "outputs": [
    {
     "name": "stdout",
     "output_type": "stream",
     "text": [
      "Decoded geometry saved to G:\\VS2022Projects\\tvm-editing-master\\TVMEditor.Test\\bin\\Release\\net5.0\\Data\\Dancer\\reference_mesh/GoF15/decoded_Dancer_005_displacements.ply (4 ms to decode)\n",
      "\n",
      "Decoded geometry saved to G:\\VS2022Projects\\tvm-editing-master\\TVMEditor.Test\\bin\\Release\\net5.0\\Data\\Dancer\\reference_mesh/GoF15/decoded_Dancer_005_displacements_10.ply (14 ms to decode)\n",
      "\n",
      "Decoded geometry saved to G:\\VS2022Projects\\tvm-editing-master\\TVMEditor.Test\\bin\\Release\\net5.0\\Data\\Dancer\\reference_mesh/GoF15/decoded_Dancer_006_displacements.ply (4 ms to decode)\n",
      "\n",
      "Decoded geometry saved to G:\\VS2022Projects\\tvm-editing-master\\TVMEditor.Test\\bin\\Release\\net5.0\\Data\\Dancer\\reference_mesh/GoF15/decoded_Dancer_006_displacements_10.ply (12 ms to decode)\n",
      "\n",
      "Decoded geometry saved to G:\\VS2022Projects\\tvm-editing-master\\TVMEditor.Test\\bin\\Release\\net5.0\\Data\\Dancer\\reference_mesh/GoF15/decoded_Dancer_007_displacements.ply (4 ms to decode)\n",
      "\n",
      "Decoded geometry saved to G:\\VS2022Projects\\tvm-editing-master\\TVMEditor.Test\\bin\\Release\\net5.0\\Data\\Dancer\\reference_mesh/GoF15/decoded_Dancer_007_displacements_10.ply (13 ms to decode)\n",
      "\n",
      "Decoded geometry saved to G:\\VS2022Projects\\tvm-editing-master\\TVMEditor.Test\\bin\\Release\\net5.0\\Data\\Dancer\\reference_mesh/GoF15/decoded_Dancer_008_displacements.ply (4 ms to decode)\n",
      "\n",
      "Decoded geometry saved to G:\\VS2022Projects\\tvm-editing-master\\TVMEditor.Test\\bin\\Release\\net5.0\\Data\\Dancer\\reference_mesh/GoF15/decoded_Dancer_008_displacements_10.ply (12 ms to decode)\n",
      "\n",
      "Decoded geometry saved to G:\\VS2022Projects\\tvm-editing-master\\TVMEditor.Test\\bin\\Release\\net5.0\\Data\\Dancer\\reference_mesh/GoF15/decoded_Dancer_009_displacements.ply (4 ms to decode)\n",
      "\n",
      "Decoded geometry saved to G:\\VS2022Projects\\tvm-editing-master\\TVMEditor.Test\\bin\\Release\\net5.0\\Data\\Dancer\\reference_mesh/GoF15/decoded_Dancer_009_displacements_10.ply (12 ms to decode)\n",
      "\n",
      "Decoded geometry saved to G:\\VS2022Projects\\tvm-editing-master\\TVMEditor.Test\\bin\\Release\\net5.0\\Data\\Dancer\\reference_mesh/GoF15/decoded_Dancer_010_displacements.ply (4 ms to decode)\n",
      "\n",
      "Decoded geometry saved to G:\\VS2022Projects\\tvm-editing-master\\TVMEditor.Test\\bin\\Release\\net5.0\\Data\\Dancer\\reference_mesh/GoF15/decoded_Dancer_010_displacements_10.ply (12 ms to decode)\n",
      "\n",
      "Decoded geometry saved to G:\\VS2022Projects\\tvm-editing-master\\TVMEditor.Test\\bin\\Release\\net5.0\\Data\\Dancer\\reference_mesh/GoF15/decoded_Dancer_011_displacements.ply (4 ms to decode)\n",
      "\n",
      "Decoded geometry saved to G:\\VS2022Projects\\tvm-editing-master\\TVMEditor.Test\\bin\\Release\\net5.0\\Data\\Dancer\\reference_mesh/GoF15/decoded_Dancer_011_displacements_10.ply (13 ms to decode)\n",
      "\n",
      "Decoded geometry saved to G:\\VS2022Projects\\tvm-editing-master\\TVMEditor.Test\\bin\\Release\\net5.0\\Data\\Dancer\\reference_mesh/GoF15/decoded_Dancer_012_displacements.ply (4 ms to decode)\n",
      "\n",
      "Decoded geometry saved to G:\\VS2022Projects\\tvm-editing-master\\TVMEditor.Test\\bin\\Release\\net5.0\\Data\\Dancer\\reference_mesh/GoF15/decoded_Dancer_012_displacements_10.ply (13 ms to decode)\n",
      "\n",
      "Decoded geometry saved to G:\\VS2022Projects\\tvm-editing-master\\TVMEditor.Test\\bin\\Release\\net5.0\\Data\\Dancer\\reference_mesh/GoF15/decoded_Dancer_013_displacements.ply (4 ms to decode)\n",
      "\n",
      "Decoded geometry saved to G:\\VS2022Projects\\tvm-editing-master\\TVMEditor.Test\\bin\\Release\\net5.0\\Data\\Dancer\\reference_mesh/GoF15/decoded_Dancer_013_displacements_10.ply (13 ms to decode)\n",
      "\n",
      "Decoded geometry saved to G:\\VS2022Projects\\tvm-editing-master\\TVMEditor.Test\\bin\\Release\\net5.0\\Data\\Dancer\\reference_mesh/GoF15/decoded_Dancer_014_displacements.ply (4 ms to decode)\n",
      "\n",
      "Decoded geometry saved to G:\\VS2022Projects\\tvm-editing-master\\TVMEditor.Test\\bin\\Release\\net5.0\\Data\\Dancer\\reference_mesh/GoF15/decoded_Dancer_014_displacements_10.ply (14 ms to decode)\n",
      "\n",
      "Decoded geometry saved to G:\\VS2022Projects\\tvm-editing-master\\TVMEditor.Test\\bin\\Release\\net5.0\\Data\\Dancer\\reference_mesh/GoF15/decoded_Dancer_015_displacements.ply (4 ms to decode)\n",
      "\n",
      "Decoded geometry saved to G:\\VS2022Projects\\tvm-editing-master\\TVMEditor.Test\\bin\\Release\\net5.0\\Data\\Dancer\\reference_mesh/GoF15/decoded_Dancer_015_displacements_10.ply (13 ms to decode)\n",
      "\n",
      "Decoded geometry saved to G:\\VS2022Projects\\tvm-editing-master\\TVMEditor.Test\\bin\\Release\\net5.0\\Data\\Dancer\\reference_mesh/GoF15/decoded_Dancer_016_displacements.ply (4 ms to decode)\n",
      "\n",
      "Decoded geometry saved to G:\\VS2022Projects\\tvm-editing-master\\TVMEditor.Test\\bin\\Release\\net5.0\\Data\\Dancer\\reference_mesh/GoF15/decoded_Dancer_016_displacements_10.ply (13 ms to decode)\n",
      "\n",
      "Decoded geometry saved to G:\\VS2022Projects\\tvm-editing-master\\TVMEditor.Test\\bin\\Release\\net5.0\\Data\\Dancer\\reference_mesh/GoF15/decoded_Dancer_017_displacements.ply (4 ms to decode)\n",
      "\n",
      "Decoded geometry saved to G:\\VS2022Projects\\tvm-editing-master\\TVMEditor.Test\\bin\\Release\\net5.0\\Data\\Dancer\\reference_mesh/GoF15/decoded_Dancer_017_displacements_10.ply (13 ms to decode)\n",
      "\n",
      "Decoded geometry saved to G:\\VS2022Projects\\tvm-editing-master\\TVMEditor.Test\\bin\\Release\\net5.0\\Data\\Dancer\\reference_mesh/GoF15/decoded_Dancer_018_displacements.ply (4 ms to decode)\n",
      "\n",
      "Decoded geometry saved to G:\\VS2022Projects\\tvm-editing-master\\TVMEditor.Test\\bin\\Release\\net5.0\\Data\\Dancer\\reference_mesh/GoF15/decoded_Dancer_018_displacements_10.ply (13 ms to decode)\n",
      "\n",
      "Decoded geometry saved to G:\\VS2022Projects\\tvm-editing-master\\TVMEditor.Test\\bin\\Release\\net5.0\\Data\\Dancer\\reference_mesh/GoF15/decoded_Dancer_019_displacements.ply (4 ms to decode)\n",
      "\n",
      "Decoded geometry saved to G:\\VS2022Projects\\tvm-editing-master\\TVMEditor.Test\\bin\\Release\\net5.0\\Data\\Dancer\\reference_mesh/GoF15/decoded_Dancer_019_displacements_10.ply (13 ms to decode)\n",
      "\n"
     ]
    }
   ],
   "execution_count": 220
  },
  {
   "metadata": {
    "ExecuteTime": {
     "end_time": "2024-09-19T17:52:13.292991Z",
     "start_time": "2024-09-19T17:52:13.277358Z"
    }
   },
   "cell_type": "code",
   "source": [
    "def calculate_bitrate(file_size, duration):\n",
    "    return file_size * 8 / duration"
   ],
   "id": "9a1029f191a1d935",
   "outputs": [],
   "execution_count": 108
  },
  {
   "metadata": {
    "ExecuteTime": {
     "end_time": "2024-09-19T18:25:44.145611Z",
     "start_time": "2024-09-19T18:25:44.129976Z"
    }
   },
   "cell_type": "code",
   "source": [
    "number_frames = GoF\n",
    "frame_rate = 30"
   ],
   "id": "37809e0a051b9b2f",
   "outputs": [],
   "execution_count": 174
  },
  {
   "metadata": {
    "ExecuteTime": {
     "end_time": "2024-09-19T20:52:01.907696Z",
     "start_time": "2024-09-19T20:52:01.887987Z"
    }
   },
   "cell_type": "code",
   "source": [
    "total_size = 0\n",
    "offset = 5\n",
    "for i in range(0, GoF):\n",
    "    displacement_file_path = fr'G:\\VS2022Projects\\tvm-editing-master\\TVMEditor.Test\\bin\\Release\\net5.0\\Data\\Dancer\\reference_mesh/GoF{GoF}/dis_{dataset}_{i+offset:03}.drc'\n",
    "    displacement_file_size = os.path.getsize(displacement_file_path)\n",
    "    total_size += displacement_file_size\n",
    "reference_mesh_file_path = r'G:\\VS2022Projects\\tvm-editing-master\\TVMEditor.Test\\bin\\Release\\net5.0\\Data\\Dancer\\reference_mesh/encoded_decimated_reference_mesh.drc'\n",
    "reference_mesh_file_size = os.path.getsize(reference_mesh_file_path)\n",
    "total_size += reference_mesh_file_size\n",
    "total_duration = number_frames / frame_rate\n",
    "overall_bitrate = calculate_bitrate(total_size, total_duration)\n",
    "\n",
    "print(f\"Total Size of {number_frames} DRC Files: {total_size} bytes\")\n",
    "print(f\"Overall Bitrate: {overall_bitrate} bits per second\")\n",
    "\n",
    "bitrate_kbps = overall_bitrate / 1000\n",
    "bitrate_mbps = overall_bitrate / 1000000\n",
    "\n",
    "\n",
    "print(f\"Overall Bitrate: {bitrate_kbps:.2f} Kbps\")\n",
    "print(f\"Overall Bitrate: {bitrate_mbps:.2f} Mbps\")"
   ],
   "id": "9fa2c7b92e88cca9",
   "outputs": [
    {
     "name": "stdout",
     "output_type": "stream",
     "text": [
      "Total Size of 15 DRC Files: 1092570 bytes\n",
      "Overall Bitrate: 17481120.0 bits per second\n",
      "Overall Bitrate: 17481.12 Kbps\n",
      "Overall Bitrate: 17.48 Mbps\n"
     ]
    }
   ],
   "execution_count": 221
  },
  {
   "metadata": {
    "ExecuteTime": {
     "end_time": "2024-09-19T20:52:05.353104Z",
     "start_time": "2024-09-19T20:52:05.225509Z"
    }
   },
   "cell_type": "code",
   "source": [
    "original_displacements = []\n",
    "decoded_displacements = []\n",
    "dis_plys= []\n",
    "for i in range(0, GoF):\n",
    "    original_displacement = np.loadtxt(fr'G:\\VS2022Projects\\tvm-editing-master\\TVMEditor.Test\\bin\\Release\\net5.0\\output\\Dancer\\reference/displacements_{dataset}_{i+offset:03}.txt')\n",
    "    decoded_displacement = o3d.io.read_point_cloud(fr'G:\\VS2022Projects\\tvm-editing-master\\TVMEditor.Test\\bin\\Release\\net5.0\\Data\\Dancer\\reference_mesh/GoF{GoF}/decoded_{dataset}_{i+offset:03}_displacements.ply')\n",
    "    dis_ply = o3d.io.read_point_cloud(fr'G:\\VS2022Projects\\tvm-editing-master\\TVMEditor.Test\\bin\\Release\\net5.0\\Data\\Dancer\\reference_mesh/GoF{GoF}/decoded_{dataset}_{i+offset:03}_displacements.ply')\n",
    "    original_displacements.append(original_displacement)\n",
    "    decoded_displacements.append(decoded_displacement)\n",
    "    dis_plys.append(dis_ply)"
   ],
   "id": "a224d841a10266ba",
   "outputs": [],
   "execution_count": 222
  },
  {
   "metadata": {
    "ExecuteTime": {
     "end_time": "2024-09-19T20:53:06.709837Z",
     "start_time": "2024-09-19T20:52:08.242696Z"
    }
   },
   "cell_type": "code",
   "source": [
    "d1s = []\n",
    "d2s = []\n",
    "mses = []\n",
    "rmses = []\n",
    "hausdorffs = []\n",
    "for m in range(0, GoF):\n",
    "    decode_decimated_reference_mesh = o3d.io.read_triangle_mesh(r'G:\\VS2022Projects\\tvm-editing-master\\TVMEditor.Test\\bin\\Release\\net5.0\\Data\\Dancer\\reference_mesh/decode_decimated_reference_mesh.obj', enable_post_processing=False)\n",
    "    #print(decode_decimated_reference_mesh)\n",
    "    np.array(decode_decimated_reference_mesh.vertices)\n",
    "    start = time.time()\n",
    "    subdivided_decoded_mesh = o3d.geometry.TriangleMesh.subdivide_midpoint(decode_decimated_reference_mesh, number_of_iterations=1)\n",
    "    mesh = deepcopy(subdivided_decoded_mesh)\n",
    "    triangles = deepcopy(mesh.triangles)\n",
    "    end = time.time()\n",
    "    print(\"subdivision time:\", end - start)\n",
    "    #print(subdivided_decoded_mesh)\n",
    "    input_decimated_reference_mesh = o3d.io.read_triangle_mesh(r'G:\\VS2022Projects\\tvm-editing-master\\TVMEditor.Test\\bin\\Release\\net5.0\\Data\\Dancer\\reference_mesh/decimated_reference_mesh.obj', enable_post_processing=False)\n",
    "    subdivided_mesh = o3d.geometry.TriangleMesh.subdivide_midpoint(input_decimated_reference_mesh, number_of_iterations=1)\n",
    "    #print(subdivided_mesh)\n",
    "    original_dancer = o3d.io.read_triangle_mesh(fr'G:\\VS2022Projects\\tvm-editing-master\\TVMEditor.Test\\bin\\Release\\net5.0\\Data\\Dancer\\meshes/dancer_fr0{m+offset:03}.obj')\n",
    "    #print(original_dancer)\n",
    "    decoded_mesh_vertices = np.array(decode_decimated_reference_mesh.vertices)\n",
    "    subdivided_decoded_mesh_vertices = np.array(subdivided_decoded_mesh.vertices)\n",
    "    \n",
    "    \n",
    "    displacement = np.array(decoded_displacements[m].points)\n",
    "    \n",
    "    dis_indexer = o3d.geometry.PointCloud()\n",
    "    dis_indexer.points = o3d.utility.Vector3dVector(original_displacements[m])\n",
    "    dis_tree = o3d.geometry.KDTreeFlann(dis_indexer)\n",
    "    \n",
    "    pcd_indexer = o3d.geometry.PointCloud()\n",
    "    pcd_indexer.points = o3d.utility.Vector3dVector(subdivided_mesh.vertices)\n",
    "    pcd_tree = o3d.geometry.KDTreeFlann(pcd_indexer)\n",
    "    \n",
    "    reordered_vertices = deepcopy(subdivided_decoded_mesh_vertices)\n",
    "    start = time.time()\n",
    "    for i in range(0, len(subdivided_decoded_mesh_vertices)):\n",
    "        [k, index, _] = pcd_tree.search_knn_vector_3d(subdivided_decoded_mesh_vertices[i], 1)\n",
    "        [j, dis_index, _] = dis_tree.search_knn_vector_3d(original_displacements[m][index[0]], 1)\n",
    "        #print(displacement[dis_index], original_displacements[index[0]])\n",
    "        reordered_vertices[i] += displacement[dis_index[0]]\n",
    "    end = time.time()\n",
    "    print(\"rematching time:\", end - start)\n",
    "    reconstruct_mesh = o3d.geometry.TriangleMesh()\n",
    "    reconstruct_mesh.triangles = subdivided_decoded_mesh.triangles\n",
    "    reconstruct_mesh.vertices = o3d.utility.Vector3dVector(reordered_vertices)\n",
    "    reconstruct_mesh.compute_vertex_normals()\n",
    "    #o3d.visualization.draw_geometries([reconstruct_mesh])\n",
    "    #o3d.io.write_triangle_mesh(fr'G:\\PycharmProjects\\Mesh_Editing\\Results\\decode_Ours\\{dataset}/GoF{GoF}/decoded_dancer_fr0{m+offset:03}.obj', reconstruct_mesh, write_vertex_normals=False, write_vertex_colors=False, write_triangle_uvs=False)\n",
    "    \n",
    "    d1 = max(compute_D1_psnr(original_dancer, reconstruct_mesh), compute_D1_psnr(reconstruct_mesh, original_dancer))\n",
    "    print(\"D1:\", d1)\n",
    "    d1s.append(d1)\n",
    "    \n",
    "    d2 = max(compute_D2_psnr(original_dancer, reconstruct_mesh), compute_D2_psnr(reconstruct_mesh, original_dancer))\n",
    "    print(\"D2:\", d2)\n",
    "    d2s.append(d2)\n",
    "\n",
    "    logmse1, logrmse1 = compute_MSE_RMSE(original_dancer, reconstruct_mesh)\n",
    "    logmse2, logrmse2 = compute_MSE_RMSE(reconstruct_mesh, original_dancer)\n",
    "    logmse = min(logmse1, logmse2)\n",
    "    logrmse = min(logrmse1, logrmse2)\n",
    "    print(\"log10 of mse:\", logmse, \", log10 of rmse:\", logrmse)\n",
    "    mses.append(logmse)\n",
    "    rmses.append(logrmse)\n",
    "    \n",
    "    hausdorff = compute_Hausdorff(original_dancer, reconstruct_mesh)\n",
    "    print(\"Hausdorff distance:\", hausdorff)\n",
    "    hausdorffs.append(hausdorff)\n",
    "o3d.visualization.draw_geometries([reconstruct_mesh])\n",
    "print(\"average D1:\", np.mean(d1s))\n",
    "print(\"average D2:\", np.mean(d2s))\n",
    "print(\"average log10 of mse:\", np.mean(mses))\n",
    "print(\"average log10 of rmse:\", np.mean(rmses))\n",
    "print(\"average Hausdorff:\", np.mean(hausdorffs))"
   ],
   "id": "8c4323933228077e",
   "outputs": [
    {
     "name": "stdout",
     "output_type": "stream",
     "text": [
      "subdivision time: 0.0\n",
      "rematching time: 0.13027644157409668\n",
      "D1: 93.31603735558024\n",
      "D2: 98.2053897397806\n",
      "log10 of mse: -8.665094350894428 , log10 of rmse: -4.332547175447214\n",
      "Hausdorff distance: 351.9598173615471\n",
      "subdivision time: 0.0\n",
      "rematching time: 0.1347799301147461\n",
      "D1: 93.29355651917835\n",
      "D2: 98.15403790711369\n",
      "log10 of mse: -8.665043741251504 , log10 of rmse: -4.332521870625752\n",
      "Hausdorff distance: 334.5974806741235\n",
      "subdivision time: 0.0050275325775146484\n",
      "rematching time: 0.13231873512268066\n",
      "D1: 93.29779062848263\n",
      "D2: 98.17631002260079\n",
      "log10 of mse: -8.665045365867583 , log10 of rmse: -4.33252268293379\n",
      "Hausdorff distance: 428.59738369550075\n",
      "subdivision time: 0.0\n",
      "rematching time: 0.16617631912231445\n",
      "D1: 93.34571954494018\n",
      "D2: 98.25883891872743\n",
      "log10 of mse: -8.665913511954164 , log10 of rmse: -4.332956755977082\n",
      "Hausdorff distance: 343.630967303074\n",
      "subdivision time: 0.005059480667114258\n",
      "rematching time: 0.13582611083984375\n",
      "D1: 93.38862727016142\n",
      "D2: 98.25983304020384\n",
      "log10 of mse: -8.666707458243332 , log10 of rmse: -4.333353729121666\n",
      "Hausdorff distance: 318.91295489118244\n",
      "subdivision time: 0.0\n",
      "rematching time: 0.1398026943206787\n",
      "D1: 93.41513967295967\n",
      "D2: 98.26244695369758\n",
      "log10 of mse: -8.667249979954567 , log10 of rmse: -4.333624989977284\n",
      "Hausdorff distance: 345.48529701034556\n",
      "subdivision time: 0.005070209503173828\n",
      "rematching time: 0.13532543182373047\n",
      "D1: 93.43382924158661\n",
      "D2: 98.26469466214746\n",
      "log10 of mse: -8.667336524428919 , log10 of rmse: -4.333668262214459\n",
      "Hausdorff distance: 342.475343448577\n",
      "subdivision time: 0.0\n",
      "rematching time: 0.13827133178710938\n",
      "D1: 93.43316173405881\n",
      "D2: 98.26827439522779\n",
      "log10 of mse: -8.667659205699513 , log10 of rmse: -4.3338296028497565\n",
      "Hausdorff distance: 168.05523175786863\n",
      "subdivision time: 0.0\n",
      "rematching time: 0.1453227996826172\n",
      "D1: 93.41236430646136\n",
      "D2: 98.27580378223757\n",
      "log10 of mse: -8.667640815924821 , log10 of rmse: -4.333820407962411\n",
      "Hausdorff distance: 277.74861175735265\n",
      "subdivision time: 0.005560159683227539\n",
      "rematching time: 0.14826560020446777\n",
      "D1: 93.3550126368883\n",
      "D2: 98.22333538381179\n",
      "log10 of mse: -8.667123540344141 , log10 of rmse: -4.333561770172071\n",
      "Hausdorff distance: 323.92642606111446\n",
      "subdivision time: 0.0\n",
      "rematching time: 0.13989591598510742\n",
      "D1: 93.35470677823322\n",
      "D2: 98.20233614991727\n",
      "log10 of mse: -8.667061521077025 , log10 of rmse: -4.333530760538513\n",
      "Hausdorff distance: 327.1924903173277\n",
      "subdivision time: 0.0\n",
      "rematching time: 0.14121675491333008\n",
      "D1: 93.34143547142618\n",
      "D2: 98.14943980455652\n",
      "log10 of mse: -8.666809748906992 , log10 of rmse: -4.333404874453496\n",
      "Hausdorff distance: 281.99924335786545\n",
      "subdivision time: 0.0\n",
      "rematching time: 0.13600468635559082\n",
      "D1: 93.37248726585969\n",
      "D2: 98.1876235645133\n",
      "log10 of mse: -8.6663108374548 , log10 of rmse: -4.3331554187274\n",
      "Hausdorff distance: 284.3507105066027\n",
      "subdivision time: 0.0020275115966796875\n",
      "rematching time: 0.1509380340576172\n",
      "D1: 93.37239829142042\n",
      "D2: 98.19070075226392\n",
      "log10 of mse: -8.666883143408944 , log10 of rmse: -4.333441571704472\n",
      "Hausdorff distance: 314.76556885130464\n",
      "subdivision time: 0.005061626434326172\n",
      "rematching time: 0.13696646690368652\n",
      "D1: 93.3515940629536\n",
      "D2: 98.23342814907562\n",
      "log10 of mse: -8.667048118440368 , log10 of rmse: -4.333524059220184\n",
      "Hausdorff distance: 420.52527425682484\n",
      "average D1: 93.36559071867939\n",
      "average D2: 98.22083288172502\n",
      "average log10 of mse: -8.666595190923406\n",
      "average log10 of rmse: -4.333297595461703\n",
      "average Hausdorff: 324.28152008337406\n"
     ]
    }
   ],
   "execution_count": 223
  },
  {
   "metadata": {
    "ExecuteTime": {
     "end_time": "2024-09-18T14:23:32.024410Z",
     "start_time": "2024-09-18T14:23:31.993149Z"
    }
   },
   "cell_type": "code",
   "source": [
    "original_displacements = np.loadtxt(fr'G:\\VS2022Projects\\tvm-editing-master\\TVMEditor.Test\\bin\\Release\\net5.0\\output\\Dancer\\reference/displacements_{dataset}_005.txt')\n",
    "decoded_displacements = o3d.io.read_point_cloud(fr'G:\\VS2022Projects\\tvm-editing-master\\TVMEditor.Test\\bin\\Release\\net5.0\\Data\\Dancer\\reference_mesh\\GoF5/decoded_Dancer_005_displacements.ply')\n",
    "dis_ply = o3d.io.read_point_cloud(fr'G:\\VS2022Projects\\tvm-editing-master\\TVMEditor.Test\\bin\\Release\\net5.0\\Data\\Dancer\\reference_mesh/decoded_displacements.ply')\n",
    "displacement = np.array(decoded_displacements.points)\n",
    "displacement"
   ],
   "id": "81ea6da131d3cf9f",
   "outputs": [
    {
     "name": "stdout",
     "output_type": "stream",
     "text": [
      "[Open3D WARNING] Read PLY failed: unable to open file: G:\\VS2022Projects\\tvm-editing-master\\TVMEditor.Test\\bin\\Release\\net5.0\\Data\\Dancer\\reference_mesh/decoded_displacements.ply\n"
     ]
    },
    {
     "data": {
      "text/plain": [
       "array([[-0.20739794, -0.0242124 , -0.00519706],\n",
       "       [-0.20542887, -0.0242124 , -0.00716613],\n",
       "       [-0.20542887, -0.0242124 , -0.00716613],\n",
       "       ...,\n",
       "       [-0.02427474,  0.03289054,  0.00464827],\n",
       "       [-0.02230567,  0.03289054, -0.00125893],\n",
       "       [ 0.01510659,  0.00729267,  0.00464827]])"
      ]
     },
     "execution_count": 90,
     "metadata": {},
     "output_type": "execute_result"
    }
   ],
   "execution_count": 90
  },
  {
   "metadata": {
    "ExecuteTime": {
     "end_time": "2024-09-18T14:23:34.807027Z",
     "start_time": "2024-09-18T14:23:34.760140Z"
    }
   },
   "cell_type": "code",
   "source": [
    "decode_decimated_reference_mesh = read_triangle_mesh_with_trimesh(r'G:\\VS2022Projects\\tvm-editing-master\\TVMEditor.Test\\bin\\Release\\net5.0\\Data\\Dancer\\reference_mesh/decode_decimated_reference_mesh.obj', enable_post_processing=False)\n",
    "print(decode_decimated_reference_mesh)\n",
    "np.array(decode_decimated_reference_mesh.vertices)\n",
    "subdivided_decoded_mesh = o3d.geometry.TriangleMesh.subdivide_midpoint(decode_decimated_reference_mesh, number_of_iterations=1)\n",
    "print(subdivided_decoded_mesh)\n",
    "np.array(subdivided_decoded_mesh.vertices)"
   ],
   "id": "8b04c36455e30c8e",
   "outputs": [
    {
     "name": "stdout",
     "output_type": "stream",
     "text": [
      "TriangleMesh with 4996 points and 10000 triangles.\n",
      "TriangleMesh with 19996 points and 40000 triangles.\n"
     ]
    },
    {
     "data": {
      "text/plain": [
       "array([[-0.192079 ,  0.876832 ,  0.039511 ],\n",
       "       [-0.203194 ,  0.901284 ,  0.047818 ],\n",
       "       [-0.187633 ,  0.898944 ,  0.048052 ],\n",
       "       ...,\n",
       "       [ 0.09304  ,  0.9013425, -0.4686025],\n",
       "       [ 0.085143 ,  0.904092 , -0.4722295],\n",
       "       [ 0.0829785,  0.9076015, -0.475271 ]])"
      ]
     },
     "execution_count": 91,
     "metadata": {},
     "output_type": "execute_result"
    }
   ],
   "execution_count": 91
  },
  {
   "metadata": {
    "ExecuteTime": {
     "end_time": "2024-09-18T14:23:41.281328Z",
     "start_time": "2024-09-18T14:23:37.406196Z"
    }
   },
   "cell_type": "code",
   "source": [
    "decode_decimated_reference_mesh = read_triangle_mesh_with_trimesh(r'G:\\VS2022Projects\\tvm-editing-master\\TVMEditor.Test\\bin\\Release\\net5.0\\Data\\Dancer\\reference_mesh/decode_decimated_reference_mesh.obj', enable_post_processing=False)\n",
    "print(decode_decimated_reference_mesh)\n",
    "np.array(decode_decimated_reference_mesh.vertices)\n",
    "subdivided_decoded_mesh = o3d.geometry.TriangleMesh.subdivide_midpoint(decode_decimated_reference_mesh, number_of_iterations=1)\n",
    "print(subdivided_decoded_mesh)\n",
    "input_decimated_reference_mesh = read_triangle_mesh_with_trimesh(r'G:\\VS2022Projects\\tvm-editing-master\\TVMEditor.Test\\bin\\Release\\net5.0\\Data\\Dancer\\reference_mesh/decimated_reference_mesh.obj', enable_post_processing=False)\n",
    "subdivided_mesh = o3d.geometry.TriangleMesh.subdivide_midpoint(input_decimated_reference_mesh, number_of_iterations=1)\n",
    "print(subdivided_mesh)\n",
    "original_dancer = read_triangle_mesh_with_trimesh(fr'G:\\VS2022Projects\\tvm-editing-master\\TVMEditor.Test\\bin\\Release\\net5.0\\Data\\Dancer\\meshes/dancer_fr0005.obj')\n",
    "print(original_dancer)\n",
    "decoded_mesh_vertices = np.array(decode_decimated_reference_mesh.vertices)\n",
    "subdivided_decoded_mesh_vertices = np.array(subdivided_decoded_mesh.vertices)\n",
    "\n",
    "\n",
    "displacement = np.array(decoded_displacements.points)\n",
    "\n",
    "dis_indexer = o3d.geometry.PointCloud()\n",
    "dis_indexer.points = o3d.utility.Vector3dVector(original_displacements)\n",
    "dis_tree = o3d.geometry.KDTreeFlann(dis_indexer)\n",
    "\n",
    "pcd_indexer = o3d.geometry.PointCloud()\n",
    "pcd_indexer.points = o3d.utility.Vector3dVector(subdivided_mesh.vertices)\n",
    "pcd_tree = o3d.geometry.KDTreeFlann(pcd_indexer)\n",
    "\n",
    "reordered_vertices = deepcopy(subdivided_decoded_mesh_vertices)\n",
    "\n",
    "for i in range(0, len(subdivided_decoded_mesh_vertices)):\n",
    "    [k, index, _] = pcd_tree.search_knn_vector_3d(subdivided_decoded_mesh_vertices[i], 1)\n",
    "    #print(subdivided_decoded_mesh_vertices[i], np.array(subdivided_mesh.vertices)[index[0]], original_displacements[index[0]])\n",
    "    [j, dis_index, _] = dis_tree.search_knn_vector_3d(original_displacements[index[0]], 1)\n",
    "    #print(displacement[dis_index], original_displacements[index[0]])\n",
    "    reordered_vertices[i] += displacement[dis_index[0]]\n",
    "    \n",
    "subdivided_decoded_mesh.vertices = o3d.utility.Vector3dVector(reordered_vertices)\n",
    "\n",
    "o3d.visualization.draw_geometries([subdivided_decoded_mesh])\n",
    "d1 = max(compute_D1_psnr(original_dancer, subdivided_decoded_mesh), compute_D1_psnr(subdivided_decoded_mesh, original_dancer))\n",
    "print(\"D1:\", d1)\n",
    "d2 = max(compute_D2_psnr(original_dancer, subdivided_decoded_mesh), compute_D2_psnr(subdivided_decoded_mesh, original_dancer))\n",
    "print(\"D2:\", d2)"
   ],
   "id": "d9aa000fcd634c14",
   "outputs": [
    {
     "name": "stdout",
     "output_type": "stream",
     "text": [
      "TriangleMesh with 4996 points and 10000 triangles.\n",
      "TriangleMesh with 19996 points and 40000 triangles.\n",
      "TriangleMesh with 19996 points and 40000 triangles.\n",
      "TriangleMesh with 20788 points and 39380 triangles.\n",
      "D1: 53.08561264203229\n",
      "D2: 63.88097225514851\n"
     ]
    }
   ],
   "execution_count": 92
  }
 ],
 "metadata": {
  "kernelspec": {
   "display_name": "Python 3",
   "language": "python",
   "name": "python3"
  },
  "language_info": {
   "codemirror_mode": {
    "name": "ipython",
    "version": 2
   },
   "file_extension": ".py",
   "mimetype": "text/x-python",
   "name": "python",
   "nbconvert_exporter": "python",
   "pygments_lexer": "ipython2",
   "version": "2.7.6"
  }
 },
 "nbformat": 4,
 "nbformat_minor": 5
}
