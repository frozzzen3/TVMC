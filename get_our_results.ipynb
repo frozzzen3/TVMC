{
 "cells": [
  {
   "cell_type": "code",
   "id": "initial_id",
   "metadata": {
    "collapsed": true,
    "ExecuteTime": {
     "end_time": "2024-09-21T21:04:18.680286Z",
     "start_time": "2024-09-21T21:04:17.930307Z"
    }
   },
   "source": [
    "from copy import deepcopy\n",
    "import subprocess\n",
    "import numpy as np\n",
    "import open3d as o3d\n",
    "import trimesh\n",
    "import os\n",
    "import time\n",
    "print(o3d.__version__)"
   ],
   "outputs": [
    {
     "name": "stdout",
     "output_type": "stream",
     "text": [
      "Jupyter environment detected. Enabling Open3D WebVisualizer.\n",
      "[Open3D INFO] WebRTC GUI backend enabled.\n",
      "[Open3D INFO] WebRTCWindowSystem: HTTP handshake server disabled.\n",
      "0.18.0\n"
     ]
    }
   ],
   "execution_count": 1
  },
  {
   "metadata": {
    "ExecuteTime": {
     "end_time": "2024-09-21T21:04:19.851859Z",
     "start_time": "2024-09-21T21:04:19.836205Z"
    }
   },
   "cell_type": "code",
   "source": [
    "def subdivide_surface_fitting(decimated_mesh, target_mesh, iterations=1):\n",
    "    subdivided_mesh = o3d.geometry.TriangleMesh.subdivide_midpoint(decimated_mesh, number_of_iterations=iterations)\n",
    "    print(subdivided_mesh)\n",
    "    subdivided_mesh.compute_vertex_normals()\n",
    "    \n",
    "    pcd_target = o3d.geometry.PointCloud()\n",
    "    pcd_target.points = o3d.utility.Vector3dVector(target_mesh.vertices)\n",
    "    pcd_tree = o3d.geometry.KDTreeFlann(pcd_target)\n",
    "    subdivided_vertices = np.array(subdivided_mesh.vertices)\n",
    "    target_vertices = np.array(target_mesh.vertices)\n",
    "    fitting_vertices = deepcopy(subdivided_vertices)\n",
    "    \n",
    "    for i in range(0, len(subdivided_vertices)):\n",
    "        [k, index, _] = pcd_tree.search_knn_vector_3d(subdivided_vertices[i], 1)\n",
    "        fitting_vertices[i] = target_vertices[index[0]]\n",
    "\n",
    "    subdivided_mesh.vertices = o3d.utility.Vector3dVector(fitting_vertices)\n",
    "    return subdivided_mesh"
   ],
   "id": "fffe541e735d365f",
   "outputs": [],
   "execution_count": 2
  },
  {
   "metadata": {
    "ExecuteTime": {
     "end_time": "2024-09-21T21:04:21.894272Z",
     "start_time": "2024-09-21T21:04:21.862991Z"
    }
   },
   "cell_type": "code",
   "source": [
    "def read_triangle_mesh_with_trimesh(avatar_name,enable_post_processing=False):\n",
    "    # EDIT: next 4 lines replace to maintain order even in case of degenerate and non referenced\n",
    "    # scene_patch = trimesh.load(avatar_name,process=enable_post_processing)\n",
    "    if enable_post_processing:\n",
    "        scene_patch = trimesh.load(avatar_name,process=True)\n",
    "    else:\n",
    "        scene_patch = trimesh.load(avatar_name,process=False,maintain_order=True) \n",
    "    mesh = o3d.geometry.TriangleMesh(\n",
    "        o3d.utility.Vector3dVector(scene_patch.vertices),\n",
    "        o3d.utility.Vector3iVector(scene_patch.faces)\n",
    "    ) \n",
    "    if scene_patch.vertex_normals.size:\n",
    "        mesh.vertex_normals = o3d.utility.Vector3dVector(scene_patch.vertex_normals.copy())\n",
    "    if scene_patch.visual.defined:\n",
    "        # either texture or vertex colors if no uvs present.\n",
    "        if scene_patch.visual.kind == 'vertex':\n",
    "            mesh.vertex_colors = o3d.utility.Vector3dVector(scene_patch.visual.vertex_colors[:,:3]/255) # no alpha channel support\n",
    "        elif scene_patch.visual.kind == 'texture':\n",
    "            uv = scene_patch.visual.uv\n",
    "            if uv.shape[0] == scene_patch.vertices.shape[0]:\n",
    "                mesh.triangle_uvs = o3d.utility.Vector2dVector(uv[scene_patch.faces.flatten()])\n",
    "            elif uv.shape[0] != scene_patch.faces.shape[0] * 3:\n",
    "                assert False\n",
    "            else:\n",
    "                mesh.triangle_uvs = o3d.utility.Vector2dVector(uv)\n",
    "                if scene_patch.visual.material is not None and scene_patch.visual.material.image is not None:\n",
    "                    if scene_patch.visual.material.image.mode == 'RGB':\n",
    "                        mesh.textures = [o3d.geometry.Image(np.asarray(scene_patch.visual.material.image))]\n",
    "                    else:\n",
    "                        assert False\n",
    "        else:\n",
    "            assert False\n",
    "    return mesh"
   ],
   "id": "10d5ab1e18103cb7",
   "outputs": [],
   "execution_count": 3
  },
  {
   "metadata": {
    "ExecuteTime": {
     "end_time": "2024-09-21T21:04:23.342806Z",
     "start_time": "2024-09-21T21:04:23.327198Z"
    }
   },
   "cell_type": "code",
   "source": "GoF = 5",
   "id": "a3ce5a6f73af2e68",
   "outputs": [],
   "execution_count": 4
  },
  {
   "metadata": {
    "ExecuteTime": {
     "end_time": "2024-09-19T16:47:21.083819Z",
     "start_time": "2024-09-19T16:47:21.003649Z"
    }
   },
   "cell_type": "code",
   "source": [
    "load_reference_mesh = o3d.io.read_triangle_mesh(fr'G:\\VS2022Projects\\tvm-editing-master\\TVMEditor.Test\\bin\\Release\\net5.0\\Data\\Dancer/reference_mesh/reference_mesh_{GoF}.obj', enable_post_processing = False)\n",
    "print(np.array(load_reference_mesh.vertices), load_reference_mesh)"
   ],
   "id": "6084dde14b90523",
   "outputs": [
    {
     "name": "stdout",
     "output_type": "stream",
     "text": [
      "[[ 0.0993192   0.916233   -0.474626  ]\n",
      " [ 0.0916947   0.92080802 -0.47391701]\n",
      " [ 0.0993192   0.92080802 -0.47630101]\n",
      " ...\n",
      " [-0.128957    0.92681497  0.0804478 ]\n",
      " [ 0.107329    0.300055    0.107815  ]\n",
      " [-0.148982    1.08901     0.208021  ]] TriangleMesh with 19998 points and 40000 triangles.\n"
     ]
    }
   ],
   "execution_count": 6
  },
  {
   "metadata": {
    "ExecuteTime": {
     "end_time": "2024-09-19T16:47:39.170893Z",
     "start_time": "2024-09-19T16:47:35.914354Z"
    }
   },
   "cell_type": "code",
   "source": [
    "reconstruct_dancer_5 = o3d.io.read_triangle_mesh(r'G:\\VS2022Projects\\tvm-editing-master\\TVMEditor.Test\\bin\\Release\\net5.0\\output\\Dancer\\reference/deformed_reference_mesh_005.obj')\n",
    "original_dancer_5 = o3d.io.read_triangle_mesh(r'G:\\VS2022Projects\\tvm-editing-master\\TVMEditor.Test\\bin\\Release\\net5.0\\Data\\Dancer\\meshes/dancer_fr0005.obj')\n",
    "print(reconstruct_dancer_5)\n",
    "print(original_dancer_5)\n",
    "reconstruct_dancer_5.compute_vertex_normals()\n",
    "original_dancer_5.compute_vertex_normals()\n",
    "o3d.visualization.draw_geometries([reconstruct_dancer_5])"
   ],
   "id": "4bd21da4b4b85b81",
   "outputs": [
    {
     "name": "stdout",
     "output_type": "stream",
     "text": [
      "TriangleMesh with 4999 points and 10000 triangles.\n",
      "TriangleMesh with 19724 points and 39380 triangles.\n"
     ]
    }
   ],
   "execution_count": 8
  },
  {
   "metadata": {
    "ExecuteTime": {
     "end_time": "2024-09-19T16:47:41.697144Z",
     "start_time": "2024-09-19T16:47:40.302196Z"
    }
   },
   "cell_type": "code",
   "source": [
    "decimated_reconstructed_5 = o3d.geometry.TriangleMesh.simplify_quadric_decimation(reconstruct_dancer_5, 10000, boundary_weight= 8000)\n",
    "fitting_mesh_dancer_5 = subdivide_surface_fitting(decimated_reconstructed_5, original_dancer_5, 1)\n",
    "fitting_mesh_dancer_5.compute_vertex_normals()\n",
    "\n",
    "o3d.visualization.draw_geometries([fitting_mesh_dancer_5])\n"
   ],
   "id": "55ab7031411c2271",
   "outputs": [
    {
     "name": "stdout",
     "output_type": "stream",
     "text": [
      "TriangleMesh with 19999 points and 40000 triangles.\n"
     ]
    }
   ],
   "execution_count": 9
  },
  {
   "metadata": {},
   "cell_type": "code",
   "outputs": [],
   "execution_count": null,
   "source": "o3d.io.write_triangle_mesh(r'G:\\VS2022Projects\\tvm-editing-master\\TVMEditor.Test\\bin\\Release\\net5.0\\output\\Dancer\\reference/fitting_mesh_dancer_5.obj', fitting_mesh_dancer_5, write_vertex_normals=False, write_vertex_colors=False, write_triangle_uvs=False)",
   "id": "2dc0b370bdbef53b"
  },
  {
   "metadata": {},
   "cell_type": "markdown",
   "source": "",
   "id": "192131f5110e0f96"
  },
  {
   "metadata": {
    "ExecuteTime": {
     "end_time": "2024-09-19T17:22:02.186342Z",
     "start_time": "2024-09-19T17:21:59.323598Z"
    }
   },
   "cell_type": "code",
   "source": [
    "GoF = 10\n",
    "for i in range(0, GoF):\n",
    "    offset = 5\n",
    "    reconstruct_dancer_i = o3d.io.read_triangle_mesh(fr'G:\\VS2022Projects\\tvm-editing-master\\TVMEditor.Test\\bin\\Release\\net5.0\\output\\Dancer\\reference/deformed_reference_mesh_{i+offset:03}.obj')\n",
    "    original_dancer_i = o3d.io.read_triangle_mesh(fr'G:\\VS2022Projects\\tvm-editing-master\\TVMEditor.Test\\bin\\Release\\net5.0\\Data\\Dancer\\meshes/dancer_fr0{i+offset:03}.obj')\n",
    "    #print(reconstruct_dancer_i)\n",
    "    #print(original_dancer_i)\n",
    "    reconstruct_dancer_i.compute_vertex_normals()\n",
    "    original_dancer_i.compute_vertex_normals()\n",
    "    #o3d.visualization.draw_geometries([reconstruct_dancer_i])\n",
    "    decimated_reconstructed_i = o3d.geometry.TriangleMesh.simplify_quadric_decimation(reconstruct_dancer_i, 10000, boundary_weight= 8000)\n",
    "    #print(decimated_reconstructed_i)\n",
    "    o3d.io.write_triangle_mesh(fr'G:\\VS2022Projects\\tvm-editing-master\\TVMEditor.Test\\bin\\Release\\net5.0\\output\\Dancer\\reference/decimated_reconstructed_{i+offset:03}.obj', decimated_reconstructed_i, write_vertex_normals=False, write_vertex_colors=False, write_triangle_uvs=False)\n",
    "    fitting_mesh_dancer_i = subdivide_surface_fitting(decimated_reconstructed_i, original_dancer_i, 1)\n",
    "    #print(fitting_mesh_dancer_i)\n",
    "    fitting_mesh_dancer_i.compute_vertex_normals()\n",
    "    o3d.io.write_triangle_mesh(fr'G:\\VS2022Projects\\tvm-editing-master\\TVMEditor.Test\\bin\\Release\\net5.0\\output\\Dancer\\reference/fitting_mesh_dancer_{i+offset:03}.obj', fitting_mesh_dancer_i, write_vertex_normals=False, write_vertex_colors=False, write_triangle_uvs=False)\n",
    "    #o3d.visualization.draw_geometries([fitting_mesh_dancer_i])"
   ],
   "id": "667e3ec49316de2c",
   "outputs": [
    {
     "name": "stdout",
     "output_type": "stream",
     "text": [
      "[Open3D WARNING] Write OBJ can not include triangle normals.\n",
      "TriangleMesh with 19999 points and 40000 triangles.\n",
      "[Open3D WARNING] Write OBJ can not include triangle normals.\n",
      "[Open3D WARNING] Write OBJ can not include triangle normals.\n",
      "TriangleMesh with 19999 points and 40000 triangles.\n",
      "[Open3D WARNING] Write OBJ can not include triangle normals.\n",
      "[Open3D WARNING] Write OBJ can not include triangle normals.\n",
      "TriangleMesh with 19999 points and 40000 triangles.\n",
      "[Open3D WARNING] Write OBJ can not include triangle normals.\n",
      "[Open3D WARNING] Write OBJ can not include triangle normals.\n",
      "TriangleMesh with 19999 points and 40000 triangles.\n",
      "[Open3D WARNING] Write OBJ can not include triangle normals.\n",
      "[Open3D WARNING] Write OBJ can not include triangle normals.\n",
      "TriangleMesh with 19999 points and 40000 triangles.\n",
      "[Open3D WARNING] Write OBJ can not include triangle normals.\n",
      "[Open3D WARNING] Write OBJ can not include triangle normals.\n",
      "TriangleMesh with 19999 points and 40000 triangles.\n",
      "[Open3D WARNING] Write OBJ can not include triangle normals.\n",
      "[Open3D WARNING] Write OBJ can not include triangle normals.\n",
      "TriangleMesh with 19999 points and 40000 triangles.\n",
      "[Open3D WARNING] Write OBJ can not include triangle normals.\n",
      "[Open3D WARNING] Write OBJ can not include triangle normals.\n",
      "TriangleMesh with 19999 points and 40000 triangles.\n",
      "[Open3D WARNING] Write OBJ can not include triangle normals.\n",
      "[Open3D WARNING] Write OBJ can not include triangle normals.\n",
      "TriangleMesh with 19999 points and 40000 triangles.\n",
      "[Open3D WARNING] Write OBJ can not include triangle normals.\n",
      "[Open3D WARNING] Write OBJ can not include triangle normals.\n",
      "TriangleMesh with 19999 points and 40000 triangles.\n",
      "[Open3D WARNING] Write OBJ can not include triangle normals.\n"
     ]
    }
   ],
   "execution_count": 86
  },
  {
   "metadata": {
    "ExecuteTime": {
     "end_time": "2024-09-21T21:04:33.755306Z",
     "start_time": "2024-09-21T21:04:33.739668Z"
    }
   },
   "cell_type": "code",
   "source": [
    "def compute_D1_psnr(original_mesh, decoded_mesh):\n",
    "    \n",
    "    original_vertices = np.array(original_mesh.vertices)\n",
    "    #original_vertices = normalize_vertices(original_vertices)\n",
    "    decoded_vertices = np.array(decoded_mesh.vertices)\n",
    "    #decoded_vertices = normalize_vertices(decoded_vertices)\n",
    "    \n",
    "    pcd_original = o3d.geometry.PointCloud()\n",
    "    pcd_original.points = o3d.utility.Vector3dVector(original_vertices)\n",
    "    \n",
    "    pcd_decoded = o3d.geometry.PointCloud()\n",
    "    pcd_decoded.points = o3d.utility.Vector3dVector(decoded_vertices)\n",
    "    pcd_tree = o3d.geometry.KDTreeFlann(pcd_decoded)\n",
    "    \n",
    "    MSE = 0\n",
    "    for i in range(0, len(original_vertices)):\n",
    "        [k, index, _] = pcd_tree.search_knn_vector_3d(original_vertices[i], 1)\n",
    "        MSE += np.square(np.linalg.norm(original_vertices[i] - decoded_vertices[index]))\n",
    "    MSE = MSE / len(original_vertices)\n",
    "    #print(\"D1 mse:\",MSE)\n",
    "    aabb = pcd_original.get_axis_aligned_bounding_box()\n",
    "    min_bound = aabb.get_min_bound()\n",
    "\n",
    "    max_bound = aabb.get_max_bound()\n",
    "\n",
    "    signal_peak = np.linalg.norm(max_bound - min_bound)\n",
    "    #print(signal_peak)\n",
    "    psnr = 20 * np.log10(signal_peak) - 10 * np.log10(MSE)\n",
    "    #print(psnr)\n",
    "    return psnr"
   ],
   "id": "e1fe0068afac68e2",
   "outputs": [],
   "execution_count": 5
  },
  {
   "metadata": {
    "ExecuteTime": {
     "end_time": "2024-09-21T21:04:34.627031Z",
     "start_time": "2024-09-21T21:04:34.595771Z"
    }
   },
   "cell_type": "code",
   "source": [
    "def compute_D2_psnr(original_mesh, decoded_mesh):\n",
    "    decoded_mesh.compute_vertex_normals()\n",
    "    \n",
    "    original_vertices = np.array(original_mesh.vertices)\n",
    "    decoded_vertices = np.array(decoded_mesh.vertices)\n",
    "    \n",
    "    pcd_original = o3d.geometry.PointCloud()\n",
    "    pcd_original.points = o3d.utility.Vector3dVector(original_vertices)\n",
    "    \n",
    "    \n",
    "    pcd_decoded = o3d.geometry.PointCloud()\n",
    "    pcd_decoded.points = o3d.utility.Vector3dVector(decoded_vertices)\n",
    "    pcd_decoded.normals = o3d.utility.Vector3dVector(decoded_mesh.vertex_normals)\n",
    "    pcd_tree = o3d.geometry.KDTreeFlann(pcd_decoded)\n",
    "    \n",
    "    MSE = 0\n",
    "    for i in range(0, len(original_vertices)):\n",
    "        [k, index, _] = pcd_tree.search_knn_vector_3d(original_vertices[i], 1)\n",
    "        MSE += np.square(np.dot((original_vertices[i] - decoded_vertices[index])[0], np.array(pcd_decoded.normals)[index][0]))\n",
    "    MSE = MSE / len(original_vertices)\n",
    "    \n",
    "    aabb = pcd_original.get_axis_aligned_bounding_box()\n",
    "    min_bound = aabb.get_min_bound()\n",
    "\n",
    "    max_bound = aabb.get_max_bound()\n",
    "\n",
    "    signal_peak = np.linalg.norm(max_bound - min_bound)\n",
    "    psnr = 20 * np.log10(signal_peak) - 10 * np.log10(MSE)\n",
    "    \n",
    "    return psnr\n",
    "\n",
    "def compute_MSE_RMSE(original_mesh, decoded_mesh):\n",
    "    \n",
    "    original_vertices = np.array(original_mesh.vertices)\n",
    "    #original_vertices = normalize_vertices(original_vertices)\n",
    "    decoded_vertices = np.array(decoded_mesh.vertices)\n",
    "    #decoded_vertices = normalize_vertices(decoded_vertices)\n",
    "    \n",
    "    pcd_original = o3d.geometry.PointCloud()\n",
    "    pcd_original.points = o3d.utility.Vector3dVector(original_vertices)\n",
    "    \n",
    "    pcd_decoded = o3d.geometry.PointCloud()\n",
    "    pcd_decoded.points = o3d.utility.Vector3dVector(decoded_vertices)\n",
    "    pcd_tree = o3d.geometry.KDTreeFlann(pcd_decoded)\n",
    "    \n",
    "    MSE = 0\n",
    "    for i in range(0, len(original_vertices)):\n",
    "        [k, index, _] = pcd_tree.search_knn_vector_3d(original_vertices[i], 1)\n",
    "        MSE += np.square(np.linalg.norm(original_vertices[i] - decoded_vertices[index]))\n",
    "    MSE = MSE / len(original_vertices)\n",
    "    #print(\"MSE:\", MSE)\n",
    "    RMSE =np.sqrt(MSE)\n",
    "    \n",
    "    return np.log10(MSE), np.log10(RMSE)\n",
    "\n",
    "from scipy.spatial.distance import directed_hausdorff\n",
    "def compute_Hausdorff(original_mesh, decoded_mesh):\n",
    "    original_vertices = np.array(original_mesh.vertices)\n",
    "    decoded_vertices = np.array(decoded_mesh.vertices)\n",
    "    hausdorff = directed_hausdorff(original_vertices, decoded_vertices)\n",
    "    return hausdorff[0] * 1e4\n"
   ],
   "id": "5c7aa8a62b1a5a89",
   "outputs": [],
   "execution_count": 6
  },
  {
   "metadata": {},
   "cell_type": "markdown",
   "source": "## get error",
   "id": "c1a810d654242a2e"
  },
  {
   "metadata": {
    "ExecuteTime": {
     "end_time": "2024-09-19T16:51:01.194083Z",
     "start_time": "2024-09-19T16:51:00.893946Z"
    }
   },
   "cell_type": "code",
   "source": [
    "reference_mesh = read_triangle_mesh_with_trimesh(fr'G:\\VS2022Projects\\tvm-editing-master\\TVMEditor.Test\\bin\\Release\\net5.0\\Data\\Dancer/reference_mesh/reference_mesh_{GoF}.obj')\n",
    "print(reference_mesh)\n",
    "decimated_reference_mesh = o3d.geometry.TriangleMesh.simplify_quadric_decimation(reference_mesh, 10000, boundary_weight= 8000)\n",
    "print(decimated_reference_mesh)\n",
    "decimated_reference_mesh_vertices = np.array(decimated_reference_mesh.vertices)\n",
    "o3d.io.write_triangle_mesh(r'G:\\VS2022Projects\\tvm-editing-master\\TVMEditor.Test\\bin\\Release\\net5.0\\Data\\Dancer\\reference_mesh/decimated_reference_mesh.obj', decimated_reference_mesh, write_vertex_normals=False, write_vertex_colors=False, write_triangle_uvs=False)\n",
    "loaded_decimated_reference_mesh = read_triangle_mesh_with_trimesh(r'G:\\VS2022Projects\\tvm-editing-master\\TVMEditor.Test\\bin\\Release\\net5.0\\Data\\Dancer\\reference_mesh/decimated_reference_mesh.obj', enable_post_processing=False)\n",
    "print(loaded_decimated_reference_mesh)\n",
    "loaded_decimated_reference_mesh_vertices = np.array(loaded_decimated_reference_mesh.vertices)"
   ],
   "id": "92b6281169d111c4",
   "outputs": [
    {
     "name": "stdout",
     "output_type": "stream",
     "text": [
      "TriangleMesh with 19998 points and 40000 triangles.\n",
      "TriangleMesh with 4999 points and 10000 triangles.\n",
      "TriangleMesh with 4999 points and 10000 triangles.\n"
     ]
    }
   ],
   "execution_count": 40
  },
  {
   "metadata": {},
   "cell_type": "markdown",
   "source": "## get displacements",
   "id": "625b9793fec60cc3"
  },
  {
   "metadata": {
    "ExecuteTime": {
     "end_time": "2024-09-21T21:17:26.043530Z",
     "start_time": "2024-09-21T21:17:26.028357Z"
    }
   },
   "cell_type": "code",
   "source": [
    "dataset = 'Mitch'\n",
    "GoF = 5"
   ],
   "id": "e8f1ca3c1bea36f8",
   "outputs": [],
   "execution_count": 13
  },
  {
   "metadata": {
    "ExecuteTime": {
     "end_time": "2024-09-21T21:21:04.273046Z",
     "start_time": "2024-09-21T21:20:56.593209Z"
    }
   },
   "cell_type": "code",
   "source": [
    "fitting_mesh_dancer = []\n",
    "for i in range(0, GoF):\n",
    "    offset = 6\n",
    "    reconstruct_dancer_i = o3d.io.read_triangle_mesh(fr'G:\\VS2022Projects\\tvm-editing-master\\TVMEditor.Test\\bin\\Release\\net5.0\\output\\{dataset}\\reference/deformed_reference_mesh_{i+offset:03}.obj')\n",
    "    original_dancer_i = o3d.io.read_triangle_mesh(fr'G:\\VS2022Projects\\tvm-editing-master\\TVMEditor.Test\\bin\\Release\\net5.0\\Data\\{dataset}\\meshes/mitch_fr0{i+offset:03}.obj')\n",
    "    print(reconstruct_dancer_i)\n",
    "    print(original_dancer_i)\n",
    "    reconstruct_dancer_i.compute_vertex_normals()\n",
    "    original_dancer_i.compute_vertex_normals()\n",
    "    #o3d.visualization.draw_geometries([reconstruct_dancer_i])\n",
    "    fitting_mesh_dancer_i = subdivide_surface_fitting(reconstruct_dancer_i, original_dancer_i, 1)\n",
    "    #print(np.array(fitting_mesh_dancer_i.triangles))\n",
    "    fitting_mesh_dancer.append(fitting_mesh_dancer_i)\n",
    "    o3d.io.write_triangle_mesh(fr'G:\\VS2022Projects\\tvm-editing-master\\TVMEditor.Test\\bin\\Release\\net5.0\\output\\{dataset}\\reference/fitting_mesh_{dataset}_{i+offset:03}.obj', fitting_mesh_dancer_i, write_vertex_normals=False, write_vertex_colors=False, write_triangle_uvs=False)\n",
    "    o3d.visualization.draw_geometries([fitting_mesh_dancer_i])"
   ],
   "id": "3c008558a90d2665",
   "outputs": [
    {
     "name": "stdout",
     "output_type": "stream",
     "text": [
      "TriangleMesh with 5002 points and 10000 triangles.\n",
      "TriangleMesh with 14992 points and 30000 triangles.\n",
      "TriangleMesh with 20002 points and 40000 triangles.\n",
      "[Open3D WARNING] Write OBJ can not include triangle normals.\n",
      "TriangleMesh with 5002 points and 10000 triangles.\n",
      "TriangleMesh with 14992 points and 30000 triangles.\n",
      "TriangleMesh with 20002 points and 40000 triangles.\n",
      "[Open3D WARNING] Write OBJ can not include triangle normals.\n",
      "TriangleMesh with 5002 points and 10000 triangles.\n",
      "TriangleMesh with 14993 points and 30000 triangles.\n",
      "TriangleMesh with 20002 points and 40000 triangles.\n",
      "[Open3D WARNING] Write OBJ can not include triangle normals.\n",
      "TriangleMesh with 5002 points and 10000 triangles.\n",
      "TriangleMesh with 14991 points and 30000 triangles.\n",
      "TriangleMesh with 20002 points and 40000 triangles.\n",
      "[Open3D WARNING] Write OBJ can not include triangle normals.\n",
      "TriangleMesh with 5002 points and 10000 triangles.\n",
      "TriangleMesh with 14990 points and 30000 triangles.\n",
      "TriangleMesh with 20002 points and 40000 triangles.\n",
      "[Open3D WARNING] Write OBJ can not include triangle normals.\n"
     ]
    }
   ],
   "execution_count": 21
  },
  {
   "metadata": {
    "ExecuteTime": {
     "end_time": "2024-09-21T21:19:20.986246Z",
     "start_time": "2024-09-21T21:19:17.109131Z"
    }
   },
   "cell_type": "code",
   "source": "o3d.visualization.draw_geometries(fitting_mesh_dancer)",
   "id": "ee352d60a59358e4",
   "outputs": [],
   "execution_count": 16
  },
  {
   "metadata": {
    "ExecuteTime": {
     "end_time": "2024-09-19T17:15:25.282671Z",
     "start_time": "2024-09-19T17:15:25.235209Z"
    }
   },
   "cell_type": "code",
   "source": [
    "loaded_decimated_reference_mesh = read_triangle_mesh_with_trimesh(r'G:\\VS2022Projects\\tvm-editing-master\\TVMEditor.Test\\bin\\Release\\net5.0\\Data\\Dancer\\reference_mesh/decimated_reference_mesh.obj', enable_post_processing=False)\n",
    "print(loaded_decimated_reference_mesh)\n",
    "loaded_decimated_reference_mesh_vertices = np.array(loaded_decimated_reference_mesh.vertices)"
   ],
   "id": "c259405a07704f2e",
   "outputs": [
    {
     "name": "stdout",
     "output_type": "stream",
     "text": [
      "TriangleMesh with 4999 points and 10000 triangles.\n"
     ]
    }
   ],
   "execution_count": 82
  },
  {
   "metadata": {
    "ExecuteTime": {
     "end_time": "2024-09-19T17:03:14.364359Z",
     "start_time": "2024-09-19T17:03:14.348736Z"
    }
   },
   "cell_type": "code",
   "source": "print(np.array(loaded_decimated_reference_mesh.triangles))",
   "id": "b1c76860b100610c",
   "outputs": [
    {
     "name": "stdout",
     "output_type": "stream",
     "text": [
      "[[   3    0    2]\n",
      " [  34   19   33]\n",
      " [  33   22   45]\n",
      " ...\n",
      " [4950 4890 4877]\n",
      " [4920 4950 4877]\n",
      " [4879 4846 4937]]\n"
     ]
    }
   ],
   "execution_count": 64
  },
  {
   "metadata": {
    "ExecuteTime": {
     "end_time": "2024-09-21T21:20:26.873267Z",
     "start_time": "2024-09-21T21:20:26.842006Z"
    }
   },
   "cell_type": "code",
   "source": [
    "loaded_decimated_reference_mesh = o3d.io.read_triangle_mesh(fr'G:\\VS2022Projects\\tvm-editing-master\\TVMEditor.Test\\bin\\Release\\net5.0\\Data\\{dataset}\\reference_mesh/decimated_reference_mesh.obj', enable_post_processing=False)\n",
    "print(loaded_decimated_reference_mesh)\n",
    "loaded_decimated_reference_mesh_vertices = np.array(loaded_decimated_reference_mesh.vertices)\n",
    "#loaded_decimated_reference_mesh_vertices"
   ],
   "id": "aa16fdb1c5622f9d",
   "outputs": [
    {
     "name": "stdout",
     "output_type": "stream",
     "text": [
      "TriangleMesh with 5002 points and 10000 triangles.\n"
     ]
    }
   ],
   "execution_count": 19
  },
  {
   "metadata": {
    "ExecuteTime": {
     "end_time": "2024-09-19T17:22:35.925780Z",
     "start_time": "2024-09-19T17:22:35.910147Z"
    }
   },
   "cell_type": "code",
   "source": "print(np.array(loaded_decimated_reference_mesh.triangles))",
   "id": "5b17ec9bb111fe17",
   "outputs": [
    {
     "name": "stdout",
     "output_type": "stream",
     "text": [
      "[[   0    1    2]\n",
      " [   3    4    5]\n",
      " [   5    6    7]\n",
      " ...\n",
      " [4946 4699 4698]\n",
      " [4959 4946 4698]\n",
      " [1894 1528 2956]]\n"
     ]
    }
   ],
   "execution_count": 92
  },
  {
   "metadata": {
    "ExecuteTime": {
     "end_time": "2024-09-21T21:20:28.413587Z",
     "start_time": "2024-09-21T21:20:28.382349Z"
    }
   },
   "cell_type": "code",
   "source": [
    "subdivided_decimated_reference_mesh = o3d.geometry.TriangleMesh.subdivide_midpoint(loaded_decimated_reference_mesh, number_of_iterations=1)\n",
    "print(subdivided_decimated_reference_mesh)\n",
    "print(np.array(subdivided_decimated_reference_mesh.triangles))\n",
    "subdivided_decimated_reference_mesh_vertices = np.array(subdivided_decimated_reference_mesh.vertices)\n",
    "subdivided_decimated_reference_mesh_vertices"
   ],
   "id": "9e26bffede174b85",
   "outputs": [
    {
     "name": "stdout",
     "output_type": "stream",
     "text": [
      "TriangleMesh with 20002 points and 40000 triangles.\n",
      "[[    0  5002  5004]\n",
      " [ 5002     1  5003]\n",
      " [ 5003     2  5004]\n",
      " ...\n",
      " [ 6348  1075 15056]\n",
      " [15056  2164 19607]\n",
      " [ 6348 15056 19607]]\n"
     ]
    },
    {
     "data": {
      "text/plain": [
       "array([[ 0.42324901,  1.14268994, -0.46395099],\n",
       "       [ 0.404158  ,  1.15783   , -0.45999601],\n",
       "       [ 0.40882301,  1.17725003, -0.468577  ],\n",
       "       ...,\n",
       "       [-0.25049099,  1.264575  ,  0.2881175 ],\n",
       "       [-0.2466175 ,  1.25975001,  0.300861  ],\n",
       "       [-0.2415075 ,  1.24099505,  0.290319  ]])"
      ]
     },
     "execution_count": 20,
     "metadata": {},
     "output_type": "execute_result"
    }
   ],
   "execution_count": 20
  },
  {
   "metadata": {
    "ExecuteTime": {
     "end_time": "2024-09-21T21:24:56.806274Z",
     "start_time": "2024-09-21T21:24:56.098209Z"
    }
   },
   "cell_type": "code",
   "source": [
    "subdivided_decimated_reference_mesh = o3d.geometry.TriangleMesh.subdivide_midpoint(loaded_decimated_reference_mesh, number_of_iterations=1)\n",
    "#print(subdivided_decimated_reference_mesh)\n",
    "subdivided_decimated_reference_mesh_vertices = np.array(subdivided_decimated_reference_mesh.vertices)\n",
    "#o3d.visualization.draw_geometries([subdivided_decimated_reference_mesh])\n",
    "displacements = []\n",
    "for i in range(0, GoF):\n",
    "    offset = 6\n",
    "    fitting_mesh_dancer_i = read_triangle_mesh_with_trimesh(fr'G:\\VS2022Projects\\tvm-editing-master\\TVMEditor.Test\\bin\\Release\\net5.0\\output\\{dataset}\\reference/fitting_mesh_{dataset}_{i+offset:03}.obj', enable_post_processing=False)\n",
    "    #fitting_mesh_dancer_i = fitting_mesh_dancer[i]\n",
    "    print(fitting_mesh_dancer_i, subdivided_decimated_reference_mesh)\n",
    "    fitting_mesh_vertices = np.array(fitting_mesh_dancer_i.vertices)\n",
    "    #print(np.array(fitting_mesh_dancer_i.triangles))\n",
    "    displacement_i = fitting_mesh_vertices - subdivided_decimated_reference_mesh_vertices\n",
    "    np.savetxt(fr'G:\\VS2022Projects\\tvm-editing-master\\TVMEditor.Test\\bin\\Release\\net5.0\\output\\{dataset}\\reference/displacements_{dataset}_{i+offset:03}.txt', displacement_i, fmt='%8f')\n",
    "    displacements.append(displacement_i)\n",
    "\n"
   ],
   "id": "12ab10dc7f6c788",
   "outputs": [
    {
     "name": "stdout",
     "output_type": "stream",
     "text": [
      "TriangleMesh with 20002 points and 40000 triangles. TriangleMesh with 20002 points and 40000 triangles.\n",
      "TriangleMesh with 20002 points and 40000 triangles. TriangleMesh with 20002 points and 40000 triangles.\n",
      "TriangleMesh with 20002 points and 40000 triangles. TriangleMesh with 20002 points and 40000 triangles.\n",
      "TriangleMesh with 20002 points and 40000 triangles. TriangleMesh with 20002 points and 40000 triangles.\n",
      "TriangleMesh with 20002 points and 40000 triangles. TriangleMesh with 20002 points and 40000 triangles.\n"
     ]
    }
   ],
   "execution_count": 24
  },
  {
   "metadata": {
    "ExecuteTime": {
     "end_time": "2024-09-21T21:25:54.282880Z",
     "start_time": "2024-09-21T21:25:54.235154Z"
    }
   },
   "cell_type": "code",
   "source": [
    "input_reference_mesh_path = r'G:\\VS2022Projects\\tvm-editing-master\\TVMEditor.Test\\bin\\Release\\net5.0\\Data\\Mitch\\reference_mesh/decimated_reference_mesh.obj'\n",
    "input_decimated_reference_mesh = read_triangle_mesh_with_trimesh(input_reference_mesh_path, enable_post_processing=False)\n",
    "print(input_decimated_reference_mesh)\n",
    "np.array(input_decimated_reference_mesh.vertices)"
   ],
   "id": "4c882e5caf8beccb",
   "outputs": [
    {
     "name": "stdout",
     "output_type": "stream",
     "text": [
      "TriangleMesh with 5002 points and 10000 triangles.\n"
     ]
    },
    {
     "data": {
      "text/plain": [
       "array([[ 0.423249,  1.14269 , -0.463951],\n",
       "       [ 0.404158,  1.15783 , -0.459996],\n",
       "       [ 0.408823,  1.17725 , -0.468577],\n",
       "       ...,\n",
       "       [ 0.329959,  1.65428 , -0.203166],\n",
       "       [-0.258648,  1.2667  ,  0.292346],\n",
       "       [ 0.3415  ,  1.34132 , -0.325197]])"
      ]
     },
     "execution_count": 25,
     "metadata": {},
     "output_type": "execute_result"
    }
   ],
   "execution_count": 25
  },
  {
   "metadata": {
    "ExecuteTime": {
     "end_time": "2024-09-21T21:26:07.042387Z",
     "start_time": "2024-09-21T21:26:06.933138Z"
    }
   },
   "cell_type": "code",
   "source": [
    "output_path = r'G:\\VS2022Projects\\tvm-editing-master\\TVMEditor.Test\\bin\\Release\\net5.0\\Data\\Mitch\\reference_mesh/encoded_decimated_reference_mesh.drc'\n",
    "result = subprocess.run([\n",
    "                            r'G:\\Github\\draco\\build\\Debug\\draco_encoder',\n",
    "                            '-i', input_reference_mesh_path,\n",
    "                            '-o', output_path,\n",
    "                            '-qp', str('14'),\n",
    "                            '-cl', '7'\n",
    "                            ], capture_output=True, text=True)\n",
    "print(result.stdout)\n",
    "print(result.stderr)"
   ],
   "id": "6e1578844a89b960",
   "outputs": [
    {
     "name": "stdout",
     "output_type": "stream",
     "text": [
      "Encoder options:\n",
      "  Compression level = 7\n",
      "  Positions: Quantization = 14 bits\n",
      "\n",
      "Encoded mesh saved to G:\\VS2022Projects\\tvm-editing-master\\TVMEditor.Test\\bin\\Release\\net5.0\\Data\\Mitch\\reference_mesh/encoded_decimated_reference_mesh.drc (48 ms to encode).\n",
      "\n",
      "Encoded size = 18344 bytes\n",
      "\n",
      "For better compression, increase the compression level up to '-cl 10' .\n",
      "\n",
      "\n",
      "\n"
     ]
    }
   ],
   "execution_count": 26
  },
  {
   "metadata": {
    "ExecuteTime": {
     "end_time": "2024-09-21T21:26:12.070588Z",
     "start_time": "2024-09-21T21:26:11.984882Z"
    }
   },
   "cell_type": "code",
   "source": [
    "result = subprocess.run([\n",
    "                            r'G:\\Github\\draco\\build\\Debug\\draco_decoder',\n",
    "                            '-i', output_path,\n",
    "                            '-o', r'G:\\VS2022Projects\\tvm-editing-master\\TVMEditor.Test\\bin\\Release\\net5.0\\Data\\Mitch\\reference_mesh/decode_decimated_reference_mesh.obj'\n",
    "                            ], capture_output=True, text=True)\n",
    "print(result.stdout)\n",
    "print(result.stderr)"
   ],
   "id": "1db58be58f18535",
   "outputs": [
    {
     "name": "stdout",
     "output_type": "stream",
     "text": [
      "Decoded geometry saved to G:\\VS2022Projects\\tvm-editing-master\\TVMEditor.Test\\bin\\Release\\net5.0\\Data\\Mitch\\reference_mesh/decode_decimated_reference_mesh.obj (12 ms to decode)\n",
      "\n",
      "\n"
     ]
    }
   ],
   "execution_count": 27
  },
  {
   "metadata": {
    "ExecuteTime": {
     "end_time": "2024-09-21T21:26:16.669989Z",
     "start_time": "2024-09-21T21:26:16.654362Z"
    }
   },
   "cell_type": "code",
   "source": "dataset = 'Mitch'",
   "id": "93213bcef3497141",
   "outputs": [],
   "execution_count": 28
  },
  {
   "metadata": {
    "ExecuteTime": {
     "end_time": "2024-09-21T21:26:37.068532Z",
     "start_time": "2024-09-21T21:26:36.927909Z"
    }
   },
   "cell_type": "code",
   "source": [
    "for i in range(0, GoF):\n",
    "    offset = 6\n",
    "    displacement = np.loadtxt(fr'G:\\VS2022Projects\\tvm-editing-master\\TVMEditor.Test\\bin\\Release\\net5.0\\output\\{dataset}\\reference/displacements_{dataset}_{i+offset:03}.txt')\n",
    "    pcd = o3d.geometry.PointCloud()\n",
    "    points = displacement\n",
    "    pcd.points = o3d.utility.Vector3dVector(points)\n",
    "    print(pcd)\n",
    "    #o3d.io.write_point_cloud(r'G:\\VS2022Projects\\tvm-editing-master\\TVMEditor.Test\\bin\\Release\\net5.0\\Data\\Dancer\\reference_mesh/dis.ply', pcd)\n",
    "    points=np.asarray(pcd.points)\n",
    "    dtype = o3d.core.float32\n",
    "    p_tensor = o3d.core.Tensor(points, dtype=dtype)\n",
    "    pc = o3d.t.geometry.PointCloud(p_tensor)\n",
    "    o3d.t.io.write_point_cloud(fr'G:\\VS2022Projects\\tvm-editing-master\\TVMEditor.Test\\bin\\Release\\net5.0\\Data\\{dataset}\\reference_mesh/dis_{dataset}_{i+offset:03}.ply', pc, write_ascii=True)"
   ],
   "id": "bc6875066e41d60d",
   "outputs": [
    {
     "name": "stdout",
     "output_type": "stream",
     "text": [
      "PointCloud with 20002 points.\n",
      "PointCloud with 20002 points.\n",
      "PointCloud with 20002 points.\n",
      "PointCloud with 20002 points.\n",
      "PointCloud with 20002 points.\n"
     ]
    }
   ],
   "execution_count": 29
  },
  {
   "metadata": {},
   "cell_type": "code",
   "outputs": [],
   "execution_count": null,
   "source": "dataset = 'Dancer'",
   "id": "4cb4ec2f6aa6dd83"
  },
  {
   "metadata": {
    "ExecuteTime": {
     "end_time": "2024-09-21T22:01:05.327966Z",
     "start_time": "2024-09-21T22:01:04.760069Z"
    }
   },
   "cell_type": "code",
   "source": [
    "import re\n",
    "\n",
    "qp = 8\n",
    "times = []\n",
    "for i in range(0, GoF):\n",
    "    offset = 6\n",
    "    result = subprocess.run([\n",
    "                                r'G:\\Github\\draco\\build\\Debug\\draco_encoder',\n",
    "                                #r'G:\\Github\\draco\\buildforSequenceEncoding\\Debug\\draco_encoder',\n",
    "                                '-point_cloud',\n",
    "                                '-i', fr'G:\\VS2022Projects\\tvm-editing-master\\TVMEditor.Test\\bin\\Release\\net5.0\\Data\\{dataset}\\reference_mesh/dis_{dataset}_{i+offset:03}.ply',\n",
    "                                '-o', fr'G:\\VS2022Projects\\tvm-editing-master\\TVMEditor.Test\\bin\\Release\\net5.0\\Data\\{dataset}\\reference_mesh/GoF{GoF}/dis_{dataset}_{i+offset:03}.drc',\n",
    "                                '-qp', str(qp),\n",
    "                                '-cl', '10'\n",
    "                                ], capture_output=True, text=True)\n",
    "    print(result.stdout)\n",
    "    time_pattern = re.compile(r\"\\((\\d+) ms to encode\\)\")\n",
    "    match = time_pattern.search(result.stdout)\n",
    "    if match:\n",
    "        times.append(int(match.group(1)))\n",
    "    \n",
    "    result = subprocess.run([\n",
    "                                r'G:\\Github\\draco\\build\\Debug\\draco_encoder',\n",
    "                                #r'G:\\Github\\draco\\buildforSequenceEncoding\\Debug\\draco_encoder',\n",
    "                                '-point_cloud',\n",
    "                                '-i', fr'G:\\VS2022Projects\\tvm-editing-master\\TVMEditor.Test\\bin\\Release\\net5.0\\Data\\{dataset}\\reference_mesh/dis_{dataset}_{i+offset:03}.ply',\n",
    "                                '-o', fr'G:\\VS2022Projects\\tvm-editing-master\\TVMEditor.Test\\bin\\Release\\net5.0\\Data\\{dataset}\\reference_mesh/GoF{GoF}/dis_{dataset}_{i+offset:03}_0.drc',\n",
    "                                '-qp', str(qp),\n",
    "                                '-cl', '0'\n",
    "                                ], capture_output=True, text=True)\n",
    "    print(result.stdout)\n",
    "\n",
    "        \n",
    "if times:\n",
    "    mean_time = sum(times) / len(times)\n",
    "    print(f\"Mean encoding time: {mean_time:.2f} ms\")\n",
    "print(f\"Average encoding time for qp {qp}: {mean_time:.2f} seconds\\n\\n\")"
   ],
   "id": "b4428b99255b500c",
   "outputs": [
    {
     "name": "stdout",
     "output_type": "stream",
     "text": [
      "Encoder options:\n",
      "  Compression level = 10\n",
      "  Positions: Quantization = 8 bits\n",
      "\n",
      "Encoded point cloud saved to G:\\VS2022Projects\\tvm-editing-master\\TVMEditor.Test\\bin\\Release\\net5.0\\Data\\Mitch\\reference_mesh/GoF5/dis_Mitch_006.drc (24 ms to encode).\n",
      "\n",
      "Encoded size = 18071 bytes\n",
      "\n",
      "\n",
      "Encoder options:\n",
      "  Compression level = 0\n",
      "  Positions: Quantization = 8 bits\n",
      "\n",
      "Encoded point cloud saved to G:\\VS2022Projects\\tvm-editing-master\\TVMEditor.Test\\bin\\Release\\net5.0\\Data\\Mitch\\reference_mesh/GoF5/dis_Mitch_006_0.drc (5 ms to encode).\n",
      "\n",
      "Encoded size = 49712 bytes\n",
      "\n",
      "For better compression, increase the compression level up to '-cl 10' .\n",
      "\n",
      "\n",
      "Encoder options:\n",
      "  Compression level = 10\n",
      "  Positions: Quantization = 8 bits\n",
      "\n",
      "Encoded point cloud saved to G:\\VS2022Projects\\tvm-editing-master\\TVMEditor.Test\\bin\\Release\\net5.0\\Data\\Mitch\\reference_mesh/GoF5/dis_Mitch_007.drc (23 ms to encode).\n",
      "\n",
      "Encoded size = 19197 bytes\n",
      "\n",
      "\n",
      "Encoder options:\n",
      "  Compression level = 0\n",
      "  Positions: Quantization = 8 bits\n",
      "\n",
      "Encoded point cloud saved to G:\\VS2022Projects\\tvm-editing-master\\TVMEditor.Test\\bin\\Release\\net5.0\\Data\\Mitch\\reference_mesh/GoF5/dis_Mitch_007_0.drc (5 ms to encode).\n",
      "\n",
      "Encoded size = 50046 bytes\n",
      "\n",
      "For better compression, increase the compression level up to '-cl 10' .\n",
      "\n",
      "\n",
      "Encoder options:\n",
      "  Compression level = 10\n",
      "  Positions: Quantization = 8 bits\n",
      "\n",
      "Encoded point cloud saved to G:\\VS2022Projects\\tvm-editing-master\\TVMEditor.Test\\bin\\Release\\net5.0\\Data\\Mitch\\reference_mesh/GoF5/dis_Mitch_008.drc (23 ms to encode).\n",
      "\n",
      "Encoded size = 19484 bytes\n",
      "\n",
      "\n",
      "Encoder options:\n",
      "  Compression level = 0\n",
      "  Positions: Quantization = 8 bits\n",
      "\n",
      "Encoded point cloud saved to G:\\VS2022Projects\\tvm-editing-master\\TVMEditor.Test\\bin\\Release\\net5.0\\Data\\Mitch\\reference_mesh/GoF5/dis_Mitch_008_0.drc (5 ms to encode).\n",
      "\n",
      "Encoded size = 49638 bytes\n",
      "\n",
      "For better compression, increase the compression level up to '-cl 10' .\n",
      "\n",
      "\n",
      "Encoder options:\n",
      "  Compression level = 10\n",
      "  Positions: Quantization = 8 bits\n",
      "\n",
      "Encoded point cloud saved to G:\\VS2022Projects\\tvm-editing-master\\TVMEditor.Test\\bin\\Release\\net5.0\\Data\\Mitch\\reference_mesh/GoF5/dis_Mitch_009.drc (23 ms to encode).\n",
      "\n",
      "Encoded size = 19225 bytes\n",
      "\n",
      "\n",
      "Encoder options:\n",
      "  Compression level = 0\n",
      "  Positions: Quantization = 8 bits\n",
      "\n",
      "Encoded point cloud saved to G:\\VS2022Projects\\tvm-editing-master\\TVMEditor.Test\\bin\\Release\\net5.0\\Data\\Mitch\\reference_mesh/GoF5/dis_Mitch_009_0.drc (5 ms to encode).\n",
      "\n",
      "Encoded size = 48993 bytes\n",
      "\n",
      "For better compression, increase the compression level up to '-cl 10' .\n",
      "\n",
      "\n",
      "Encoder options:\n",
      "  Compression level = 10\n",
      "  Positions: Quantization = 8 bits\n",
      "\n",
      "Encoded point cloud saved to G:\\VS2022Projects\\tvm-editing-master\\TVMEditor.Test\\bin\\Release\\net5.0\\Data\\Mitch\\reference_mesh/GoF5/dis_Mitch_010.drc (23 ms to encode).\n",
      "\n",
      "Encoded size = 19108 bytes\n",
      "\n",
      "\n",
      "Encoder options:\n",
      "  Compression level = 0\n",
      "  Positions: Quantization = 8 bits\n",
      "\n",
      "Encoded point cloud saved to G:\\VS2022Projects\\tvm-editing-master\\TVMEditor.Test\\bin\\Release\\net5.0\\Data\\Mitch\\reference_mesh/GoF5/dis_Mitch_010_0.drc (5 ms to encode).\n",
      "\n",
      "Encoded size = 48557 bytes\n",
      "\n",
      "For better compression, increase the compression level up to '-cl 10' .\n",
      "\n",
      "\n",
      "Mean encoding time: 23.20 ms\n",
      "Average encoding time for qp 8: 23.20 seconds\n",
      "\n",
      "\n"
     ]
    }
   ],
   "execution_count": 90
  },
  {
   "metadata": {
    "ExecuteTime": {
     "end_time": "2024-09-21T22:01:07.190226Z",
     "start_time": "2024-09-21T22:01:06.940182Z"
    }
   },
   "cell_type": "code",
   "source": [
    "times= []\n",
    "for i in range(0, GoF):\n",
    "    offset = 6\n",
    "    result = subprocess.run([\n",
    "                                r'G:\\Github\\draco\\build\\Debug\\draco_decoder',\n",
    "                                '-i', fr'G:\\VS2022Projects\\tvm-editing-master\\TVMEditor.Test\\bin\\Release\\net5.0\\Data\\{dataset}\\reference_mesh/GoF{GoF}/dis_{dataset}_{i+offset:03}_0.drc',\n",
    "                                '-o', fr'G:\\VS2022Projects\\tvm-editing-master\\TVMEditor.Test\\bin\\Release\\net5.0\\Data\\{dataset}\\reference_mesh/GoF{GoF}/decoded_{dataset}_{i+offset:03}_displacements.ply'\n",
    "                                ], capture_output=True, text=True)\n",
    "    print(result.stdout)\n",
    "    \n",
    "    result = subprocess.run([\n",
    "                                r'G:\\Github\\draco\\build\\Debug\\draco_decoder',\n",
    "                                '-i', fr'G:\\VS2022Projects\\tvm-editing-master\\TVMEditor.Test\\bin\\Release\\net5.0\\Data\\{dataset}\\reference_mesh/GoF{GoF}/dis_{dataset}_{i+offset:03}.drc',\n",
    "                                '-o', fr'G:\\VS2022Projects\\tvm-editing-master\\TVMEditor.Test\\bin\\Release\\net5.0\\Data\\{dataset}\\reference_mesh/GoF{GoF}/decoded_{dataset}_{i+offset:03}_displacements_10.ply'\n",
    "                                ], capture_output=True, text=True)\n",
    "    print(result.stdout)\n",
    "    time_pattern = re.compile(r\"\\((\\d+) ms to decode\\)\")\n",
    "    match = time_pattern.search(result.stdout)\n",
    "    if match:\n",
    "        times.append(int(match.group(1)))\n",
    "        \n",
    "if times:\n",
    "    mean_time = sum(times) / len(times)\n",
    "    print(f\"Mean encoding time: {mean_time:.2f} ms\")\n",
    "print(f\"Average encoding time for qp {qp}: {mean_time:.2f} seconds\\n\\n\")"
   ],
   "id": "872964a90431e5c0",
   "outputs": [
    {
     "name": "stdout",
     "output_type": "stream",
     "text": [
      "Decoded geometry saved to G:\\VS2022Projects\\tvm-editing-master\\TVMEditor.Test\\bin\\Release\\net5.0\\Data\\Mitch\\reference_mesh/GoF5/decoded_Mitch_006_displacements.ply (3 ms to decode)\n",
      "\n",
      "Decoded geometry saved to G:\\VS2022Projects\\tvm-editing-master\\TVMEditor.Test\\bin\\Release\\net5.0\\Data\\Mitch\\reference_mesh/GoF5/decoded_Mitch_006_displacements_10.ply (11 ms to decode)\n",
      "\n",
      "Decoded geometry saved to G:\\VS2022Projects\\tvm-editing-master\\TVMEditor.Test\\bin\\Release\\net5.0\\Data\\Mitch\\reference_mesh/GoF5/decoded_Mitch_007_displacements.ply (2 ms to decode)\n",
      "\n",
      "Decoded geometry saved to G:\\VS2022Projects\\tvm-editing-master\\TVMEditor.Test\\bin\\Release\\net5.0\\Data\\Mitch\\reference_mesh/GoF5/decoded_Mitch_007_displacements_10.ply (11 ms to decode)\n",
      "\n",
      "Decoded geometry saved to G:\\VS2022Projects\\tvm-editing-master\\TVMEditor.Test\\bin\\Release\\net5.0\\Data\\Mitch\\reference_mesh/GoF5/decoded_Mitch_008_displacements.ply (2 ms to decode)\n",
      "\n",
      "Decoded geometry saved to G:\\VS2022Projects\\tvm-editing-master\\TVMEditor.Test\\bin\\Release\\net5.0\\Data\\Mitch\\reference_mesh/GoF5/decoded_Mitch_008_displacements_10.ply (11 ms to decode)\n",
      "\n",
      "Decoded geometry saved to G:\\VS2022Projects\\tvm-editing-master\\TVMEditor.Test\\bin\\Release\\net5.0\\Data\\Mitch\\reference_mesh/GoF5/decoded_Mitch_009_displacements.ply (2 ms to decode)\n",
      "\n",
      "Decoded geometry saved to G:\\VS2022Projects\\tvm-editing-master\\TVMEditor.Test\\bin\\Release\\net5.0\\Data\\Mitch\\reference_mesh/GoF5/decoded_Mitch_009_displacements_10.ply (11 ms to decode)\n",
      "\n",
      "Decoded geometry saved to G:\\VS2022Projects\\tvm-editing-master\\TVMEditor.Test\\bin\\Release\\net5.0\\Data\\Mitch\\reference_mesh/GoF5/decoded_Mitch_010_displacements.ply (2 ms to decode)\n",
      "\n",
      "Decoded geometry saved to G:\\VS2022Projects\\tvm-editing-master\\TVMEditor.Test\\bin\\Release\\net5.0\\Data\\Mitch\\reference_mesh/GoF5/decoded_Mitch_010_displacements_10.ply (11 ms to decode)\n",
      "\n",
      "Mean encoding time: 11.00 ms\n",
      "Average encoding time for qp 8: 11.00 seconds\n",
      "\n",
      "\n"
     ]
    }
   ],
   "execution_count": 91
  },
  {
   "metadata": {
    "ExecuteTime": {
     "end_time": "2024-09-21T21:27:21.363767Z",
     "start_time": "2024-09-21T21:27:21.348135Z"
    }
   },
   "cell_type": "code",
   "source": [
    "def calculate_bitrate(file_size, duration):\n",
    "    return file_size * 8 / duration"
   ],
   "id": "9a1029f191a1d935",
   "outputs": [],
   "execution_count": 32
  },
  {
   "metadata": {
    "ExecuteTime": {
     "end_time": "2024-09-21T21:27:22.633740Z",
     "start_time": "2024-09-21T21:27:22.618111Z"
    }
   },
   "cell_type": "code",
   "source": [
    "number_frames = GoF\n",
    "frame_rate = 30"
   ],
   "id": "37809e0a051b9b2f",
   "outputs": [],
   "execution_count": 33
  },
  {
   "metadata": {
    "ExecuteTime": {
     "end_time": "2024-09-21T22:01:09.286181Z",
     "start_time": "2024-09-21T22:01:09.270186Z"
    }
   },
   "cell_type": "code",
   "source": [
    "total_size = 0\n",
    "offset = 6\n",
    "for i in range(0, GoF):\n",
    "    displacement_file_path = fr'G:\\VS2022Projects\\tvm-editing-master\\TVMEditor.Test\\bin\\Release\\net5.0\\Data\\{dataset}\\reference_mesh/GoF{GoF}/dis_{dataset}_{i+offset:03}.drc'\n",
    "    displacement_file_size = os.path.getsize(displacement_file_path)\n",
    "    total_size += displacement_file_size\n",
    "reference_mesh_file_path = fr'G:\\VS2022Projects\\tvm-editing-master\\TVMEditor.Test\\bin\\Release\\net5.0\\Data\\{dataset}\\reference_mesh/encoded_decimated_reference_mesh.drc'\n",
    "reference_mesh_file_size = os.path.getsize(reference_mesh_file_path)\n",
    "total_size += reference_mesh_file_size\n",
    "total_duration = number_frames / frame_rate\n",
    "overall_bitrate = calculate_bitrate(total_size, total_duration)\n",
    "\n",
    "print(f\"Total Size of {number_frames} DRC Files: {total_size} bytes\")\n",
    "print(f\"Overall Bitrate: {overall_bitrate} bits per second\")\n",
    "\n",
    "bitrate_kbps = overall_bitrate / 1000\n",
    "bitrate_mbps = overall_bitrate / 1000000\n",
    "\n",
    "\n",
    "print(f\"Overall Bitrate: {bitrate_kbps:.2f} Kbps\")\n",
    "print(f\"Overall Bitrate: {bitrate_mbps:.2f} Mbps\")"
   ],
   "id": "9fa2c7b92e88cca9",
   "outputs": [
    {
     "name": "stdout",
     "output_type": "stream",
     "text": [
      "Total Size of 5 DRC Files: 113429 bytes\n",
      "Overall Bitrate: 5444592.0 bits per second\n",
      "Overall Bitrate: 5444.59 Kbps\n",
      "Overall Bitrate: 5.44 Mbps\n"
     ]
    }
   ],
   "execution_count": 92
  },
  {
   "metadata": {
    "ExecuteTime": {
     "end_time": "2024-09-21T22:01:15.883078Z",
     "start_time": "2024-09-21T22:01:15.835870Z"
    }
   },
   "cell_type": "code",
   "source": [
    "original_displacements = []\n",
    "decoded_displacements = []\n",
    "dis_plys= []\n",
    "for i in range(0, GoF):\n",
    "    original_displacement = np.loadtxt(fr'G:\\VS2022Projects\\tvm-editing-master\\TVMEditor.Test\\bin\\Release\\net5.0\\output\\{dataset}\\reference/displacements_{dataset}_{i+offset:03}.txt')\n",
    "    decoded_displacement = o3d.io.read_point_cloud(fr'G:\\VS2022Projects\\tvm-editing-master\\TVMEditor.Test\\bin\\Release\\net5.0\\Data\\{dataset}\\reference_mesh/GoF{GoF}/decoded_{dataset}_{i+offset:03}_displacements.ply')\n",
    "    dis_ply = o3d.io.read_point_cloud(fr'G:\\VS2022Projects\\tvm-editing-master\\TVMEditor.Test\\bin\\Release\\net5.0\\Data\\{dataset}\\reference_mesh/GoF{GoF}/decoded_{dataset}_{i+offset:03}_displacements.ply')\n",
    "    original_displacements.append(original_displacement)\n",
    "    decoded_displacements.append(decoded_displacement)\n",
    "    dis_plys.append(dis_ply)"
   ],
   "id": "a224d841a10266ba",
   "outputs": [],
   "execution_count": 93
  },
  {
   "metadata": {
    "ExecuteTime": {
     "end_time": "2024-09-21T22:01:41.842798Z",
     "start_time": "2024-09-21T22:01:26.980083Z"
    }
   },
   "cell_type": "code",
   "source": [
    "d1s = []\n",
    "d2s = []\n",
    "mses = []\n",
    "rmses = []\n",
    "hausdorffs = []\n",
    "for m in range(0, GoF):\n",
    "    decode_decimated_reference_mesh = o3d.io.read_triangle_mesh(fr'G:\\VS2022Projects\\tvm-editing-master\\TVMEditor.Test\\bin\\Release\\net5.0\\Data\\{dataset}\\reference_mesh/decode_decimated_reference_mesh.obj', enable_post_processing=False)\n",
    "    #print(decode_decimated_reference_mesh)\n",
    "    np.array(decode_decimated_reference_mesh.vertices)\n",
    "    start = time.time()\n",
    "    subdivided_decoded_mesh = o3d.geometry.TriangleMesh.subdivide_midpoint(decode_decimated_reference_mesh, number_of_iterations=1)\n",
    "    mesh = deepcopy(subdivided_decoded_mesh)\n",
    "    triangles = deepcopy(mesh.triangles)\n",
    "    end = time.time()\n",
    "    print(\"subdivision time:\", end - start)\n",
    "    #print(subdivided_decoded_mesh)\n",
    "    input_decimated_reference_mesh = o3d.io.read_triangle_mesh(fr'G:\\VS2022Projects\\tvm-editing-master\\TVMEditor.Test\\bin\\Release\\net5.0\\Data\\{dataset}\\reference_mesh/decimated_reference_mesh.obj', enable_post_processing=False)\n",
    "    subdivided_mesh = o3d.geometry.TriangleMesh.subdivide_midpoint(input_decimated_reference_mesh, number_of_iterations=1)\n",
    "    #print(subdivided_mesh)\n",
    "    original_dancer = o3d.io.read_triangle_mesh(fr'G:\\VS2022Projects\\tvm-editing-master\\TVMEditor.Test\\bin\\Release\\net5.0\\Data\\{dataset}\\meshes/mitch_fr0{m+offset:03}.obj')\n",
    "    #print(original_dancer)\n",
    "    decoded_mesh_vertices = np.array(decode_decimated_reference_mesh.vertices)\n",
    "    subdivided_decoded_mesh_vertices = np.array(subdivided_decoded_mesh.vertices)\n",
    "    \n",
    "    \n",
    "    displacement = np.array(decoded_displacements[m].points)\n",
    "    \n",
    "    dis_indexer = o3d.geometry.PointCloud()\n",
    "    dis_indexer.points = o3d.utility.Vector3dVector(original_displacements[m])\n",
    "    dis_tree = o3d.geometry.KDTreeFlann(dis_indexer)\n",
    "    \n",
    "    pcd_indexer = o3d.geometry.PointCloud()\n",
    "    pcd_indexer.points = o3d.utility.Vector3dVector(subdivided_mesh.vertices)\n",
    "    pcd_tree = o3d.geometry.KDTreeFlann(pcd_indexer)\n",
    "    \n",
    "    reordered_vertices = deepcopy(subdivided_decoded_mesh_vertices)\n",
    "    start = time.time()\n",
    "    for i in range(0, len(subdivided_decoded_mesh_vertices)):\n",
    "        [k, index, _] = pcd_tree.search_knn_vector_3d(subdivided_decoded_mesh_vertices[i], 1)\n",
    "        [j, dis_index, _] = dis_tree.search_knn_vector_3d(original_displacements[m][index[0]], 1)\n",
    "        #print(displacement[dis_index], original_displacements[index[0]])\n",
    "        reordered_vertices[i] += displacement[dis_index[0]]\n",
    "    end = time.time()\n",
    "    print(\"rematching time:\", end - start)\n",
    "    reconstruct_mesh = o3d.geometry.TriangleMesh()\n",
    "    reconstruct_mesh.triangles = subdivided_decoded_mesh.triangles\n",
    "    reconstruct_mesh.vertices = o3d.utility.Vector3dVector(reordered_vertices)\n",
    "    reconstruct_mesh.compute_vertex_normals()\n",
    "    #o3d.visualization.draw_geometries([reconstruct_mesh])\n",
    "    o3d.io.write_triangle_mesh(fr'G:\\PycharmProjects\\Mesh_Editing\\Results\\decode_Ours\\{dataset}/GoF{GoF}/decoded_{dataset}_fr0{m+offset:03}.obj', reconstruct_mesh, write_vertex_normals=False, write_vertex_colors=False, write_triangle_uvs=False)\n",
    "    \n",
    "    d1 = max(compute_D1_psnr(original_dancer, reconstruct_mesh), compute_D1_psnr(reconstruct_mesh, original_dancer))\n",
    "    print(\"D1:\", d1)\n",
    "    d1s.append(d1)\n",
    "    \n",
    "    d2 = max(compute_D2_psnr(original_dancer, reconstruct_mesh), compute_D2_psnr(reconstruct_mesh, original_dancer))\n",
    "    print(\"D2:\", d2)\n",
    "    d2s.append(d2)\n",
    "\n",
    "    logmse1, logrmse1 = compute_MSE_RMSE(original_dancer, reconstruct_mesh)\n",
    "    logmse2, logrmse2 = compute_MSE_RMSE(reconstruct_mesh, original_dancer)\n",
    "    logmse = min(logmse1, logmse2)\n",
    "    logrmse = min(logrmse1, logrmse2)\n",
    "    print(\"log10 of mse:\", logmse, \", log10 of rmse:\", logrmse)\n",
    "    mses.append(logmse)\n",
    "    rmses.append(logrmse)\n",
    "    \n",
    "    hausdorff = compute_Hausdorff(original_dancer, reconstruct_mesh)\n",
    "    print(\"Hausdorff distance:\", hausdorff)\n",
    "    hausdorffs.append(hausdorff)\n",
    "o3d.visualization.draw_geometries([reconstruct_mesh])\n",
    "print(\"average D1:\", np.mean(d1s))\n",
    "print(\"average D2:\", np.mean(d2s))\n",
    "print(\"average log10 of mse:\", np.mean(mses))\n",
    "print(\"average log10 of rmse:\", np.mean(rmses))\n",
    "print(\"average Hausdorff:\", np.mean(hausdorffs))"
   ],
   "id": "8c4323933228077e",
   "outputs": [
    {
     "name": "stdout",
     "output_type": "stream",
     "text": [
      "subdivision time: 0.0\n",
      "rematching time: 0.14016199111938477\n",
      "[Open3D WARNING] Write OBJ can not include triangle normals.\n",
      "D1: 84.01788265533743\n",
      "D2: 88.8025602732282\n",
      "log10 of mse: -7.700294138433431 , log10 of rmse: -3.8501470692167157\n",
      "Hausdorff distance: 213.41862165001987\n",
      "subdivision time: 0.0\n",
      "rematching time: 0.13499927520751953\n",
      "[Open3D WARNING] Write OBJ can not include triangle normals.\n",
      "D1: 83.76102306982098\n",
      "D2: 88.56275786686727\n",
      "log10 of mse: -7.673375771474228 , log10 of rmse: -3.836687885737114\n",
      "Hausdorff distance: 213.6462492722064\n",
      "subdivision time: 0.009032964706420898\n",
      "rematching time: 0.13258790969848633\n",
      "[Open3D WARNING] Write OBJ can not include triangle normals.\n",
      "D1: 82.89282822136646\n",
      "D2: 87.64026401979585\n",
      "log10 of mse: -7.586142770621475 , log10 of rmse: -3.7930713853107374\n",
      "Hausdorff distance: 229.15598506321223\n",
      "subdivision time: 0.0\n",
      "rematching time: 0.13524413108825684\n",
      "[Open3D WARNING] Write OBJ can not include triangle normals.\n",
      "D1: 81.85710750378462\n",
      "D2: 86.61999605307776\n",
      "log10 of mse: -7.481021314501885 , log10 of rmse: -3.7405106572509426\n",
      "Hausdorff distance: 229.024711862974\n",
      "subdivision time: 0.0\n",
      "rematching time: 0.1359264850616455\n",
      "[Open3D WARNING] Write OBJ can not include triangle normals.\n",
      "D1: 80.94736950606315\n",
      "D2: 85.67363655959392\n",
      "log10 of mse: -7.3877287068408695 , log10 of rmse: -3.6938643534204347\n",
      "Hausdorff distance: 228.5939751182391\n",
      "average D1: 82.69524219127452\n",
      "average D2: 87.4598429545126\n",
      "average log10 of mse: -7.565712540374378\n",
      "average log10 of rmse: -3.782856270187189\n",
      "average Hausdorff: 222.76790859333033\n"
     ]
    }
   ],
   "execution_count": 95
  },
  {
   "metadata": {
    "ExecuteTime": {
     "end_time": "2024-09-18T14:23:32.024410Z",
     "start_time": "2024-09-18T14:23:31.993149Z"
    }
   },
   "cell_type": "code",
   "source": [
    "original_displacements = np.loadtxt(fr'G:\\VS2022Projects\\tvm-editing-master\\TVMEditor.Test\\bin\\Release\\net5.0\\output\\Dancer\\reference/displacements_{dataset}_005.txt')\n",
    "decoded_displacements = o3d.io.read_point_cloud(fr'G:\\VS2022Projects\\tvm-editing-master\\TVMEditor.Test\\bin\\Release\\net5.0\\Data\\Dancer\\reference_mesh\\GoF5/decoded_Dancer_005_displacements.ply')\n",
    "dis_ply = o3d.io.read_point_cloud(fr'G:\\VS2022Projects\\tvm-editing-master\\TVMEditor.Test\\bin\\Release\\net5.0\\Data\\Dancer\\reference_mesh/decoded_displacements.ply')\n",
    "displacement = np.array(decoded_displacements.points)\n",
    "displacement"
   ],
   "id": "81ea6da131d3cf9f",
   "outputs": [
    {
     "name": "stdout",
     "output_type": "stream",
     "text": [
      "[Open3D WARNING] Read PLY failed: unable to open file: G:\\VS2022Projects\\tvm-editing-master\\TVMEditor.Test\\bin\\Release\\net5.0\\Data\\Dancer\\reference_mesh/decoded_displacements.ply\n"
     ]
    },
    {
     "data": {
      "text/plain": [
       "array([[-0.20739794, -0.0242124 , -0.00519706],\n",
       "       [-0.20542887, -0.0242124 , -0.00716613],\n",
       "       [-0.20542887, -0.0242124 , -0.00716613],\n",
       "       ...,\n",
       "       [-0.02427474,  0.03289054,  0.00464827],\n",
       "       [-0.02230567,  0.03289054, -0.00125893],\n",
       "       [ 0.01510659,  0.00729267,  0.00464827]])"
      ]
     },
     "execution_count": 90,
     "metadata": {},
     "output_type": "execute_result"
    }
   ],
   "execution_count": 90
  },
  {
   "metadata": {
    "ExecuteTime": {
     "end_time": "2024-09-18T14:23:34.807027Z",
     "start_time": "2024-09-18T14:23:34.760140Z"
    }
   },
   "cell_type": "code",
   "source": [
    "decode_decimated_reference_mesh = read_triangle_mesh_with_trimesh(r'G:\\VS2022Projects\\tvm-editing-master\\TVMEditor.Test\\bin\\Release\\net5.0\\Data\\Dancer\\reference_mesh/decode_decimated_reference_mesh.obj', enable_post_processing=False)\n",
    "print(decode_decimated_reference_mesh)\n",
    "np.array(decode_decimated_reference_mesh.vertices)\n",
    "subdivided_decoded_mesh = o3d.geometry.TriangleMesh.subdivide_midpoint(decode_decimated_reference_mesh, number_of_iterations=1)\n",
    "print(subdivided_decoded_mesh)\n",
    "np.array(subdivided_decoded_mesh.vertices)"
   ],
   "id": "8b04c36455e30c8e",
   "outputs": [
    {
     "name": "stdout",
     "output_type": "stream",
     "text": [
      "TriangleMesh with 4996 points and 10000 triangles.\n",
      "TriangleMesh with 19996 points and 40000 triangles.\n"
     ]
    },
    {
     "data": {
      "text/plain": [
       "array([[-0.192079 ,  0.876832 ,  0.039511 ],\n",
       "       [-0.203194 ,  0.901284 ,  0.047818 ],\n",
       "       [-0.187633 ,  0.898944 ,  0.048052 ],\n",
       "       ...,\n",
       "       [ 0.09304  ,  0.9013425, -0.4686025],\n",
       "       [ 0.085143 ,  0.904092 , -0.4722295],\n",
       "       [ 0.0829785,  0.9076015, -0.475271 ]])"
      ]
     },
     "execution_count": 91,
     "metadata": {},
     "output_type": "execute_result"
    }
   ],
   "execution_count": 91
  },
  {
   "metadata": {
    "ExecuteTime": {
     "end_time": "2024-09-18T14:23:41.281328Z",
     "start_time": "2024-09-18T14:23:37.406196Z"
    }
   },
   "cell_type": "code",
   "source": [
    "decode_decimated_reference_mesh = read_triangle_mesh_with_trimesh(r'G:\\VS2022Projects\\tvm-editing-master\\TVMEditor.Test\\bin\\Release\\net5.0\\Data\\Dancer\\reference_mesh/decode_decimated_reference_mesh.obj', enable_post_processing=False)\n",
    "print(decode_decimated_reference_mesh)\n",
    "np.array(decode_decimated_reference_mesh.vertices)\n",
    "subdivided_decoded_mesh = o3d.geometry.TriangleMesh.subdivide_midpoint(decode_decimated_reference_mesh, number_of_iterations=1)\n",
    "print(subdivided_decoded_mesh)\n",
    "input_decimated_reference_mesh = read_triangle_mesh_with_trimesh(r'G:\\VS2022Projects\\tvm-editing-master\\TVMEditor.Test\\bin\\Release\\net5.0\\Data\\Dancer\\reference_mesh/decimated_reference_mesh.obj', enable_post_processing=False)\n",
    "subdivided_mesh = o3d.geometry.TriangleMesh.subdivide_midpoint(input_decimated_reference_mesh, number_of_iterations=1)\n",
    "print(subdivided_mesh)\n",
    "original_dancer = read_triangle_mesh_with_trimesh(fr'G:\\VS2022Projects\\tvm-editing-master\\TVMEditor.Test\\bin\\Release\\net5.0\\Data\\Dancer\\meshes/dancer_fr0005.obj')\n",
    "print(original_dancer)\n",
    "decoded_mesh_vertices = np.array(decode_decimated_reference_mesh.vertices)\n",
    "subdivided_decoded_mesh_vertices = np.array(subdivided_decoded_mesh.vertices)\n",
    "\n",
    "\n",
    "displacement = np.array(decoded_displacements.points)\n",
    "\n",
    "dis_indexer = o3d.geometry.PointCloud()\n",
    "dis_indexer.points = o3d.utility.Vector3dVector(original_displacements)\n",
    "dis_tree = o3d.geometry.KDTreeFlann(dis_indexer)\n",
    "\n",
    "pcd_indexer = o3d.geometry.PointCloud()\n",
    "pcd_indexer.points = o3d.utility.Vector3dVector(subdivided_mesh.vertices)\n",
    "pcd_tree = o3d.geometry.KDTreeFlann(pcd_indexer)\n",
    "\n",
    "reordered_vertices = deepcopy(subdivided_decoded_mesh_vertices)\n",
    "\n",
    "for i in range(0, len(subdivided_decoded_mesh_vertices)):\n",
    "    [k, index, _] = pcd_tree.search_knn_vector_3d(subdivided_decoded_mesh_vertices[i], 1)\n",
    "    #print(subdivided_decoded_mesh_vertices[i], np.array(subdivided_mesh.vertices)[index[0]], original_displacements[index[0]])\n",
    "    [j, dis_index, _] = dis_tree.search_knn_vector_3d(original_displacements[index[0]], 1)\n",
    "    #print(displacement[dis_index], original_displacements[index[0]])\n",
    "    reordered_vertices[i] += displacement[dis_index[0]]\n",
    "    \n",
    "subdivided_decoded_mesh.vertices = o3d.utility.Vector3dVector(reordered_vertices)\n",
    "\n",
    "o3d.visualization.draw_geometries([subdivided_decoded_mesh])\n",
    "d1 = max(compute_D1_psnr(original_dancer, subdivided_decoded_mesh), compute_D1_psnr(subdivided_decoded_mesh, original_dancer))\n",
    "print(\"D1:\", d1)\n",
    "d2 = max(compute_D2_psnr(original_dancer, subdivided_decoded_mesh), compute_D2_psnr(subdivided_decoded_mesh, original_dancer))\n",
    "print(\"D2:\", d2)"
   ],
   "id": "d9aa000fcd634c14",
   "outputs": [
    {
     "name": "stdout",
     "output_type": "stream",
     "text": [
      "TriangleMesh with 4996 points and 10000 triangles.\n",
      "TriangleMesh with 19996 points and 40000 triangles.\n",
      "TriangleMesh with 19996 points and 40000 triangles.\n",
      "TriangleMesh with 20788 points and 39380 triangles.\n",
      "D1: 53.08561264203229\n",
      "D2: 63.88097225514851\n"
     ]
    }
   ],
   "execution_count": 92
  }
 ],
 "metadata": {
  "kernelspec": {
   "display_name": "Python 3",
   "language": "python",
   "name": "python3"
  },
  "language_info": {
   "codemirror_mode": {
    "name": "ipython",
    "version": 2
   },
   "file_extension": ".py",
   "mimetype": "text/x-python",
   "name": "python",
   "nbconvert_exporter": "python",
   "pygments_lexer": "ipython2",
   "version": "2.7.6"
  }
 },
 "nbformat": 4,
 "nbformat_minor": 5
}
