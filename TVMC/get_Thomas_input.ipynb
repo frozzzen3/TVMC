{
 "cells": [
  {
   "metadata": {},
   "cell_type": "markdown",
   "source": "# Get input information for Thomas dataset",
   "id": "411ddc99d2a1fcaf"
  },
  {
   "cell_type": "code",
   "id": "initial_id",
   "metadata": {
    "collapsed": true,
    "ExecuteTime": {
     "end_time": "2024-09-22T17:37:28.277122Z",
     "start_time": "2024-09-22T17:37:28.261501Z"
    }
   },
   "source": [
    "from scipy.spatial.transform import Rotation as R\n",
    "import numpy as np"
   ],
   "outputs": [],
   "execution_count": 9
  },
  {
   "metadata": {
    "ExecuteTime": {
     "end_time": "2024-09-22T17:37:29.459640Z",
     "start_time": "2024-09-22T17:37:29.443574Z"
    }
   },
   "cell_type": "code",
   "source": [
    "dataset = 'Thomas'\n",
    "num_points = 2000"
   ],
   "id": "a73f6b572c7717e1",
   "outputs": [],
   "execution_count": 10
  },
  {
   "metadata": {
    "ExecuteTime": {
     "end_time": "2024-09-22T17:38:07.265971Z",
     "start_time": "2024-09-22T17:38:07.234721Z"
    }
   },
   "cell_type": "code",
   "source": [
    "transformed_centers_path = fr'G:\\VS2022Projects/tvm-editing-master\\TVMEditor.Test/bin\\Release/net5.0\\Data\\{dataset}/reference_centers_aligned.xyz'\n",
    "loaded_transformed_centers = np.loadtxt(transformed_centers_path)\n",
    "with open(transformed_centers_path, 'r') as file:\n",
    "    lines = file.readlines()\n",
    "    print(\"\".join(lines[:5])) "
   ],
   "id": "5f49955c1f7630b9",
   "outputs": [
    {
     "name": "stdout",
     "output_type": "stream",
     "text": [
      "-0.114878 0.534316 -0.081433\n",
      "-0.152864 0.801214 -0.091314\n",
      "0.175816 0.562390 -0.026995\n",
      "0.144186 1.117497 0.018002\n",
      "0.006939 0.991146 -0.084602\n",
      "\n"
     ]
    }
   ],
   "execution_count": 11
  },
  {
   "metadata": {
    "ExecuteTime": {
     "end_time": "2024-09-22T16:59:19.283100Z",
     "start_time": "2024-09-22T16:59:19.267463Z"
    }
   },
   "cell_type": "code",
   "source": [
    "def get_dual_quaternions(original_centers, transformed_centers):\n",
    "    moved_indices = []\n",
    "    for i in range(len(original_centers)):\n",
    "        if not (np.array_equal(original_centers[i], transformed_centers[i])):\n",
    "            moved_indices.append(i)\n",
    "    dual_quaternions = np.zeros((len(original_centers), 8), dtype=np.float32)\n",
    "    inverse_dual_quaternions = np.zeros((len(original_centers), 8), dtype=np.float32)\n",
    "    for i in moved_indices:\n",
    "        original = original_centers[i]\n",
    "        transformed = loaded_transformed_centers[i]\n",
    "        \n",
    "        rotation_quaternion = R.from_quat([0, 0, 0, 1])  \n",
    "    \n",
    "        translation = transformed - original\n",
    "        \n",
    "        rotation_quat = rotation_quaternion.as_quat()\n",
    "        \n",
    "        translation_quat = np.hstack((translation, [0]))\n",
    "        dual_quat = np.hstack((rotation_quat, 0.5 * translation_quat))\n",
    "        dual_quaternions[i] = dual_quat\n",
    "        \n",
    "        rotation_conjugate = np.hstack((-rotation_quat[:3], rotation_quat[3]))\n",
    "        inv_translation_quat = np.hstack((translation, [0]))\n",
    "        inverse_dual_quat = np.hstack((rotation_conjugate, -0.5 * inv_translation_quat))\n",
    "        inverse_dual_quaternions[i] = inverse_dual_quat\n",
    "        \n",
    "    return moved_indices, dual_quaternions, inverse_dual_quaternions"
   ],
   "id": "744a644a2fc6d2d6",
   "outputs": [],
   "execution_count": 6
  },
  {
   "metadata": {
    "ExecuteTime": {
     "end_time": "2024-09-22T17:38:15.948795Z",
     "start_time": "2024-09-22T17:38:14.982547Z"
    }
   },
   "cell_type": "code",
   "source": [
    "transformed_centers_path = fr'G:\\VS2022Projects/tvm-editing-master\\TVMEditor.Test/bin\\Release/net5.0\\Data\\{dataset}/reference_centers_aligned.xyz'\n",
    "loaded_transformed_centers = np.loadtxt(transformed_centers_path)\n",
    "\n",
    "for i in range (0, 15):\n",
    "    centers_path = fr'G:\\VS2022Projects/tvm-editing-master\\TVMEditor.Test/bin\\Release/net5.0\\Data\\{dataset}/centers/thomas_fr0res_2000_{i:03}.xyz'\n",
    "    loaded_centers = np.loadtxt(centers_path)\n",
    "    print(centers_path)\n",
    "    \n",
    "    indices, dual_quaternions, inverse_dual_quaternions = get_dual_quaternions(loaded_centers, loaded_transformed_centers)\n",
    "    \n",
    "    indices_path = fr'G:\\VS2022Projects/tvm-editing-master\\TVMEditor.Test/bin\\Release/net5.0\\Data\\{dataset}/indices_{i:03}.txt'\n",
    "    np.savetxt(indices_path, indices, fmt='%d')\n",
    "    \n",
    "    dual_quaternions_path = fr'G:\\VS2022Projects/tvm-editing-master\\TVMEditor.Test/bin\\Release/net5.0\\Data\\{dataset}\\transformations_{i:03}.txt'\n",
    "    with open(dual_quaternions_path, 'w') as file:\n",
    "        for dq in dual_quaternions:\n",
    "            dq_str = f\"{dq[0]};{dq[1]};{dq[2]};{dq[3]};{dq[4]};{dq[5]};{dq[6]};{dq[7]}\"\n",
    "            file.write(dq_str + '\\n')\n",
    "            \n",
    "    inverse_dual_quaternions_path = fr'G:\\VS2022Projects/tvm-editing-master\\TVMEditor.Test/bin\\Release/net5.0\\Data\\{dataset}\\inverse_transformations_{i:03}.txt'\n",
    "    with open(inverse_dual_quaternions_path, 'w') as file:\n",
    "        for inverse_dq in inverse_dual_quaternions:\n",
    "            inverse_dq_str = f\"{inverse_dq[0]};{inverse_dq[1]};{inverse_dq[2]};{inverse_dq[3]};{inverse_dq[4]};{inverse_dq[5]};{inverse_dq[6]};{inverse_dq[7]}\"\n",
    "            file.write(inverse_dq_str + '\\n')"
   ],
   "id": "3b44c4656800959b",
   "outputs": [
    {
     "name": "stdout",
     "output_type": "stream",
     "text": [
      "G:\\VS2022Projects/tvm-editing-master\\TVMEditor.Test/bin\\Release/net5.0\\Data\\Thomas/centers/thomas_fr0res_2000_000.xyz\n",
      "G:\\VS2022Projects/tvm-editing-master\\TVMEditor.Test/bin\\Release/net5.0\\Data\\Thomas/centers/thomas_fr0res_2000_001.xyz\n",
      "G:\\VS2022Projects/tvm-editing-master\\TVMEditor.Test/bin\\Release/net5.0\\Data\\Thomas/centers/thomas_fr0res_2000_002.xyz\n",
      "G:\\VS2022Projects/tvm-editing-master\\TVMEditor.Test/bin\\Release/net5.0\\Data\\Thomas/centers/thomas_fr0res_2000_003.xyz\n",
      "G:\\VS2022Projects/tvm-editing-master\\TVMEditor.Test/bin\\Release/net5.0\\Data\\Thomas/centers/thomas_fr0res_2000_004.xyz\n",
      "G:\\VS2022Projects/tvm-editing-master\\TVMEditor.Test/bin\\Release/net5.0\\Data\\Thomas/centers/thomas_fr0res_2000_005.xyz\n",
      "G:\\VS2022Projects/tvm-editing-master\\TVMEditor.Test/bin\\Release/net5.0\\Data\\Thomas/centers/thomas_fr0res_2000_006.xyz\n",
      "G:\\VS2022Projects/tvm-editing-master\\TVMEditor.Test/bin\\Release/net5.0\\Data\\Thomas/centers/thomas_fr0res_2000_007.xyz\n",
      "G:\\VS2022Projects/tvm-editing-master\\TVMEditor.Test/bin\\Release/net5.0\\Data\\Thomas/centers/thomas_fr0res_2000_008.xyz\n",
      "G:\\VS2022Projects/tvm-editing-master\\TVMEditor.Test/bin\\Release/net5.0\\Data\\Thomas/centers/thomas_fr0res_2000_009.xyz\n",
      "G:\\VS2022Projects/tvm-editing-master\\TVMEditor.Test/bin\\Release/net5.0\\Data\\Thomas/centers/thomas_fr0res_2000_010.xyz\n",
      "G:\\VS2022Projects/tvm-editing-master\\TVMEditor.Test/bin\\Release/net5.0\\Data\\Thomas/centers/thomas_fr0res_2000_011.xyz\n",
      "G:\\VS2022Projects/tvm-editing-master\\TVMEditor.Test/bin\\Release/net5.0\\Data\\Thomas/centers/thomas_fr0res_2000_012.xyz\n",
      "G:\\VS2022Projects/tvm-editing-master\\TVMEditor.Test/bin\\Release/net5.0\\Data\\Thomas/centers/thomas_fr0res_2000_013.xyz\n",
      "G:\\VS2022Projects/tvm-editing-master\\TVMEditor.Test/bin\\Release/net5.0\\Data\\Thomas/centers/thomas_fr0res_2000_014.xyz\n"
     ]
    }
   ],
   "execution_count": 12
  },
  {
   "metadata": {},
   "cell_type": "markdown",
   "source": "## go Mesh Editing",
   "id": "b157c35f78dccf43"
  }
 ],
 "metadata": {
  "kernelspec": {
   "display_name": "Python 3",
   "language": "python",
   "name": "python3"
  },
  "language_info": {
   "codemirror_mode": {
    "name": "ipython",
    "version": 2
   },
   "file_extension": ".py",
   "mimetype": "text/x-python",
   "name": "python",
   "nbconvert_exporter": "python",
   "pygments_lexer": "ipython2",
   "version": "2.7.6"
  }
 },
 "nbformat": 4,
 "nbformat_minor": 5
}
