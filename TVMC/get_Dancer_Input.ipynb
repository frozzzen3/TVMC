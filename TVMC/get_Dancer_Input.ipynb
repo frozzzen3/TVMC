{
 "cells": [
  {
   "metadata": {},
   "cell_type": "markdown",
   "source": "# Get input information for Dancer dataset",
   "id": "f4f9f2167a55f74f"
  },
  {
   "metadata": {
    "ExecuteTime": {
     "end_time": "2024-09-25T16:42:26.167257Z",
     "start_time": "2024-09-25T16:42:25.994869Z"
    }
   },
   "cell_type": "code",
   "source": [
    "from scipy.spatial.transform import Rotation as R\n",
    "import numpy as np"
   ],
   "id": "afc645a611c3cf05",
   "outputs": [],
   "execution_count": 1
  },
  {
   "metadata": {
    "ExecuteTime": {
     "end_time": "2024-09-25T16:42:27.187641Z",
     "start_time": "2024-09-25T16:42:27.172028Z"
    }
   },
   "cell_type": "code",
   "source": [
    "def get_dual_quaternions(original_centers, transformed_centers):\n",
    "    moved_indices = []\n",
    "    for i in range(len(original_centers)):\n",
    "        if not (np.array_equal(original_centers[i], transformed_centers[i])):\n",
    "            moved_indices.append(i)\n",
    "    dual_quaternions = np.zeros((len(original_centers), 8), dtype=np.float32)\n",
    "    inverse_dual_quaternions = np.zeros((len(original_centers), 8), dtype=np.float32)\n",
    "    for i in moved_indices:\n",
    "        original = original_centers[i]\n",
    "        transformed = loaded_transformed_centers[i]\n",
    "        \n",
    "        rotation_quaternion = R.from_quat([0, 0, 0, 1])  \n",
    "    \n",
    "        translation = transformed - original\n",
    "        \n",
    "        rotation_quat = rotation_quaternion.as_quat()\n",
    "        \n",
    "        translation_quat = np.hstack((translation, [0]))\n",
    "        dual_quat = np.hstack((rotation_quat, 0.5 * translation_quat))\n",
    "        dual_quaternions[i] = dual_quat\n",
    "        \n",
    "        rotation_conjugate = np.hstack((-rotation_quat[:3], rotation_quat[3]))\n",
    "        inv_translation_quat = np.hstack((translation, [0]))\n",
    "        inverse_dual_quat = np.hstack((rotation_conjugate, -0.5 * inv_translation_quat))\n",
    "        inverse_dual_quaternions[i] = inverse_dual_quat\n",
    "        \n",
    "    return moved_indices, dual_quaternions, inverse_dual_quaternions"
   ],
   "id": "3c53bb0e26d8e16d",
   "outputs": [],
   "execution_count": 2
  },
  {
   "metadata": {},
   "cell_type": "markdown",
   "source": "### dual quaternions are very eazy to reverse",
   "id": "5dd389c0f96d126b"
  },
  {
   "metadata": {
    "ExecuteTime": {
     "end_time": "2024-09-25T18:11:26.602897Z",
     "start_time": "2024-09-25T18:11:26.571668Z"
    }
   },
   "cell_type": "code",
   "source": [
    "transformed_centers_path = 'G:\\VS2022Projects/tvm-editing-master\\TVMEditor.Test/bin\\Release/net5.0\\Data\\Dancer_4000/reference_centers_aligned.xyz'\n",
    "loaded_transformed_centers = np.loadtxt(transformed_centers_path)\n",
    "with open(transformed_centers_path, 'r') as file:\n",
    "    lines = file.readlines()\n",
    "    print(\"\".join(lines[:5])) "
   ],
   "id": "d68466ed64c7655b",
   "outputs": [
    {
     "name": "stdout",
     "output_type": "stream",
     "text": [
      "0.057569 0.059827 0.181545\n",
      "0.019447 0.777767 0.190778\n",
      "0.046943 0.353584 0.208378\n",
      "0.027876 1.007359 0.121685\n",
      "-0.073825 0.449977 0.167576\n",
      "\n"
     ]
    }
   ],
   "execution_count": 7
  },
  {
   "cell_type": "code",
   "id": "initial_id",
   "metadata": {
    "collapsed": true,
    "ExecuteTime": {
     "end_time": "2024-09-25T18:12:04.215996Z",
     "start_time": "2024-09-25T18:12:02.240404Z"
    }
   },
   "source": [
    "transformed_centers_path = 'G:\\VS2022Projects/tvm-editing-master\\TVMEditor.Test/bin\\Release/net5.0\\Data\\Dancer_4000/reference_centers_aligned.xyz'\n",
    "loaded_transformed_centers = np.loadtxt(transformed_centers_path)\n",
    "\n",
    "for i in range (5, 20):\n",
    "    centers_path = f'G:\\VS2022Projects/tvm-editing-master\\TVMEditor.Test/bin\\Release/net5.0\\Data\\Dancer_4000/centers/dancer_fr0impr_3995_{i:03}.xyz'\n",
    "    loaded_centers = np.loadtxt(centers_path)\n",
    "    print(centers_path)\n",
    "    \n",
    "    indices, dual_quaternions, inverse_dual_quaternions = get_dual_quaternions(loaded_centers, loaded_transformed_centers)\n",
    "    \n",
    "    indices_path = f'G:\\VS2022Projects/tvm-editing-master\\TVMEditor.Test/bin\\Release/net5.0\\Data\\Dancer_4000/indices_{i:03}.txt'\n",
    "    np.savetxt(indices_path, indices, fmt='%d')\n",
    "    \n",
    "    dual_quaternions_path = fr'G:\\VS2022Projects/tvm-editing-master\\TVMEditor.Test/bin\\Release/net5.0\\Data\\Dancer_4000\\transformations_{i:03}.txt'\n",
    "    with open(dual_quaternions_path, 'w') as file:\n",
    "        for dq in dual_quaternions:\n",
    "            dq_str = f\"{dq[0]};{dq[1]};{dq[2]};{dq[3]};{dq[4]};{dq[5]};{dq[6]};{dq[7]}\"\n",
    "            file.write(dq_str + '\\n')\n",
    "            \n",
    "    inverse_dual_quaternions_path = fr'G:\\VS2022Projects/tvm-editing-master\\TVMEditor.Test/bin\\Release/net5.0\\Data\\Dancer_4000\\inverse_transformations_{i:03}.txt'\n",
    "    with open(inverse_dual_quaternions_path, 'w') as file:\n",
    "        for inverse_dq in inverse_dual_quaternions:\n",
    "            inverse_dq_str = f\"{inverse_dq[0]};{inverse_dq[1]};{inverse_dq[2]};{inverse_dq[3]};{inverse_dq[4]};{inverse_dq[5]};{inverse_dq[6]};{inverse_dq[7]}\"\n",
    "            file.write(inverse_dq_str + '\\n')"
   ],
   "outputs": [
    {
     "name": "stdout",
     "output_type": "stream",
     "text": [
      "G:\\VS2022Projects/tvm-editing-master\\TVMEditor.Test/bin\\Release/net5.0\\Data\\Dancer_4000/centers/dancer_fr0impr_3995_005.xyz\n",
      "G:\\VS2022Projects/tvm-editing-master\\TVMEditor.Test/bin\\Release/net5.0\\Data\\Dancer_4000/centers/dancer_fr0impr_3995_006.xyz\n",
      "G:\\VS2022Projects/tvm-editing-master\\TVMEditor.Test/bin\\Release/net5.0\\Data\\Dancer_4000/centers/dancer_fr0impr_3995_007.xyz\n",
      "G:\\VS2022Projects/tvm-editing-master\\TVMEditor.Test/bin\\Release/net5.0\\Data\\Dancer_4000/centers/dancer_fr0impr_3995_008.xyz\n",
      "G:\\VS2022Projects/tvm-editing-master\\TVMEditor.Test/bin\\Release/net5.0\\Data\\Dancer_4000/centers/dancer_fr0impr_3995_009.xyz\n",
      "G:\\VS2022Projects/tvm-editing-master\\TVMEditor.Test/bin\\Release/net5.0\\Data\\Dancer_4000/centers/dancer_fr0impr_3995_010.xyz\n",
      "G:\\VS2022Projects/tvm-editing-master\\TVMEditor.Test/bin\\Release/net5.0\\Data\\Dancer_4000/centers/dancer_fr0impr_3995_011.xyz\n",
      "G:\\VS2022Projects/tvm-editing-master\\TVMEditor.Test/bin\\Release/net5.0\\Data\\Dancer_4000/centers/dancer_fr0impr_3995_012.xyz\n",
      "G:\\VS2022Projects/tvm-editing-master\\TVMEditor.Test/bin\\Release/net5.0\\Data\\Dancer_4000/centers/dancer_fr0impr_3995_013.xyz\n",
      "G:\\VS2022Projects/tvm-editing-master\\TVMEditor.Test/bin\\Release/net5.0\\Data\\Dancer_4000/centers/dancer_fr0impr_3995_014.xyz\n",
      "G:\\VS2022Projects/tvm-editing-master\\TVMEditor.Test/bin\\Release/net5.0\\Data\\Dancer_4000/centers/dancer_fr0impr_3995_015.xyz\n",
      "G:\\VS2022Projects/tvm-editing-master\\TVMEditor.Test/bin\\Release/net5.0\\Data\\Dancer_4000/centers/dancer_fr0impr_3995_016.xyz\n",
      "G:\\VS2022Projects/tvm-editing-master\\TVMEditor.Test/bin\\Release/net5.0\\Data\\Dancer_4000/centers/dancer_fr0impr_3995_017.xyz\n",
      "G:\\VS2022Projects/tvm-editing-master\\TVMEditor.Test/bin\\Release/net5.0\\Data\\Dancer_4000/centers/dancer_fr0impr_3995_018.xyz\n",
      "G:\\VS2022Projects/tvm-editing-master\\TVMEditor.Test/bin\\Release/net5.0\\Data\\Dancer_4000/centers/dancer_fr0impr_3995_019.xyz\n"
     ]
    }
   ],
   "execution_count": 9
  }
 ],
 "metadata": {
  "kernelspec": {
   "display_name": "Python 3",
   "language": "python",
   "name": "python3"
  },
  "language_info": {
   "codemirror_mode": {
    "name": "ipython",
    "version": 2
   },
   "file_extension": ".py",
   "mimetype": "text/x-python",
   "name": "python",
   "nbconvert_exporter": "python",
   "pygments_lexer": "ipython2",
   "version": "2.7.6"
  }
 },
 "nbformat": 4,
 "nbformat_minor": 5
}
