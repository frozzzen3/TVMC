{
 "cells": [
  {
   "cell_type": "code",
   "id": "initial_id",
   "metadata": {
    "collapsed": true,
    "ExecuteTime": {
     "end_time": "2024-09-17T15:00:14.283988Z",
     "start_time": "2024-09-17T15:00:14.268370Z"
    }
   },
   "source": [
    "from copy import deepcopy\n",
    "import subprocess\n",
    "import numpy as np\n",
    "import open3d as o3d\n",
    "import trimesh\n",
    "import os\n",
    "import time\n",
    "import scipy\n",
    "from networkx import radius\n",
    "\n",
    "print(o3d.__version__)\n"
   ],
   "outputs": [
    {
     "name": "stdout",
     "output_type": "stream",
     "text": [
      "0.18.0\n"
     ]
    }
   ],
   "execution_count": 59
  },
  {
   "metadata": {
    "ExecuteTime": {
     "end_time": "2024-09-17T13:50:06.156368Z",
     "start_time": "2024-09-17T13:50:06.140733Z"
    }
   },
   "cell_type": "code",
   "source": [
    "dataset = 'Dancer'\n",
    "GoF = 5"
   ],
   "id": "62fd367e134bf73d",
   "outputs": [],
   "execution_count": 3
  },
  {
   "metadata": {
    "ExecuteTime": {
     "end_time": "2024-09-17T14:24:37.806185Z",
     "start_time": "2024-09-17T14:24:37.790033Z"
    }
   },
   "cell_type": "code",
   "source": [
    "input_dir = os.path.join(r'G:\\VS2022Projects\\tvm-editing-master\\TVMEditor.Test\\bin\\Release\\net5.0\\Data', os.path.join(dataset, 'meshes'))\n",
    "\n",
    "output_root_dir = os.path.join(r'G:\\PycharmProjects\\Mesh_Editing\\Results\\encode_Draco', dataset)\n",
    "print(input_dir)\n",
    "print(output_root_dir)\n",
    "obj_files = [f for f in os.listdir(input_dir) if f.endswith('.obj')]"
   ],
   "id": "a3f5126e114a02d5",
   "outputs": [
    {
     "name": "stdout",
     "output_type": "stream",
     "text": [
      "G:\\VS2022Projects\\tvm-editing-master\\TVMEditor.Test\\bin\\Release\\net5.0\\Data\\Dancer\\meshes\n",
      "G:\\PycharmProjects\\Mesh_Editing\\Results\\encode_Draco\\Dancer\n"
     ]
    }
   ],
   "execution_count": 29
  },
  {
   "metadata": {
    "ExecuteTime": {
     "end_time": "2024-09-17T14:28:37.721573Z",
     "start_time": "2024-09-17T14:28:36.602927Z"
    }
   },
   "cell_type": "code",
   "source": [
    "dancer_5 = o3d.io.read_triangle_mesh(os.path.join(input_dir, obj_files[0]))\n",
    "dancer_5.compute_vertex_normals()\n",
    "\n",
    "dancer_5_pcd = o3d.geometry.PointCloud()\n",
    "dancer_5_pcd.points = dancer_5.vertices\n",
    "\n",
    "\n",
    "dancer_5_keypoints = o3d.geometry.keypoint.compute_iss_keypoints(dancer_5_pcd)\n",
    "\n",
    "\n",
    "dancer_5.compute_vertex_normals()\n",
    "dancer_5.paint_uniform_color([0.5, 0.5, 0.5])\n",
    "dancer_5_keypoints.paint_uniform_color([1.0, 0.75, 0.0])\n",
    "o3d.visualization.draw_geometries([dancer_5_keypoints, dancer_5])\n",
    "print(dancer_5_keypoints)"
   ],
   "id": "98d77e43a323cbc1",
   "outputs": [
    {
     "name": "stdout",
     "output_type": "stream",
     "text": [
      "PointCloud with 417 points.\n"
     ]
    }
   ],
   "execution_count": 42
  },
  {
   "metadata": {
    "ExecuteTime": {
     "end_time": "2024-09-17T14:28:21.467629Z",
     "start_time": "2024-09-17T14:28:17.528637Z"
    }
   },
   "cell_type": "code",
   "source": [
    "dancer_6 = o3d.io.read_triangle_mesh(os.path.join(input_dir, obj_files[1]))\n",
    "dancer_6.compute_vertex_normals()\n",
    "\n",
    "dancer_6_pcd = o3d.geometry.PointCloud()\n",
    "dancer_6_pcd.points = dancer_6.vertices\n",
    "dancer_6_keypoints = o3d.geometry.keypoint.compute_iss_keypoints(dancer_6_pcd)\n",
    "dancer_6.compute_vertex_normals()\n",
    "\n",
    "dancer_6_keypoints.paint_uniform_color([1.0, 0.75, 0.0])\n",
    "o3d.visualization.draw_geometries([dancer_6_keypoints, dancer_6])\n",
    "print(dancer_6_keypoints)"
   ],
   "id": "6533e0d891bc56c8",
   "outputs": [
    {
     "name": "stdout",
     "output_type": "stream",
     "text": [
      "PointCloud with 408 points.\n"
     ]
    }
   ],
   "execution_count": 40
  },
  {
   "metadata": {},
   "cell_type": "code",
   "outputs": [],
   "execution_count": null,
   "source": "o3d.visualization.draw_geometries([dancer_5, dancer_6])",
   "id": "909f6295ba748923"
  },
  {
   "metadata": {
    "ExecuteTime": {
     "end_time": "2024-09-17T14:41:50.115848Z",
     "start_time": "2024-09-17T14:41:50.100213Z"
    }
   },
   "cell_type": "code",
   "source": [
    "reg_p2p = o3d.pipelines.registration.registration_icp(dancer_5_keypoints, dancer_6_keypoints, 0.1)\n",
    "print(reg_p2p.transformation)"
   ],
   "id": "acc3196ca6921de2",
   "outputs": [
    {
     "name": "stdout",
     "output_type": "stream",
     "text": [
      "[[ 9.99954662e-01 -9.27937280e-03 -2.13688974e-03  3.50598261e-04]\n",
      " [ 9.27143807e-03  9.99950197e-01 -3.69365908e-03 -2.47279284e-03]\n",
      " [ 2.17105816e-03  3.67367958e-03  9.99990895e-01 -3.71327693e-03]\n",
      " [ 0.00000000e+00  0.00000000e+00  0.00000000e+00  1.00000000e+00]]\n"
     ]
    }
   ],
   "execution_count": 58
  },
  {
   "metadata": {
    "ExecuteTime": {
     "end_time": "2024-09-17T14:41:15.931765Z",
     "start_time": "2024-09-17T14:40:52.483507Z"
    }
   },
   "cell_type": "code",
   "source": [
    "def draw_registration_result(source, target, transformation):\n",
    "    source_temp = deepcopy(source)\n",
    "    target_temp = deepcopy(target)\n",
    "\n",
    "    source_temp.transform(transformation)\n",
    "\n",
    "    # This is patched version for tutorial rendering.\n",
    "    # Use `draw` function for you application.\n",
    "    o3d.visualization.draw_geometries([source_temp, target_temp])\n",
    "dancer_6_keypoints.paint_uniform_color([1.0, 0, 0.0])\n",
    "draw_registration_result(dancer_5_keypoints, dancer_6_keypoints, reg_p2p.transformation)"
   ],
   "id": "31500e35f804f211",
   "outputs": [],
   "execution_count": 50
  },
  {
   "metadata": {
    "ExecuteTime": {
     "end_time": "2024-09-17T14:26:24.596298Z",
     "start_time": "2024-09-17T14:26:17.689750Z"
    }
   },
   "cell_type": "code",
   "source": "o3d.visualization.draw_geometries([dancer_5, dancer_6])",
   "id": "d3c9d1dbd66d2b9d",
   "outputs": [],
   "execution_count": 35
  },
  {
   "metadata": {
    "ExecuteTime": {
     "end_time": "2024-09-17T13:54:55.478099Z",
     "start_time": "2024-09-17T13:54:55.450112Z"
    }
   },
   "cell_type": "code",
   "source": [
    "def compute_distance(mesh):\n",
    "    edges = set()\n",
    "    triangles = np.asarray(mesh.triangles)\n",
    "    # Extract unique edges from the triangles\n",
    "    for tri in triangles:\n",
    "        for i in range(3):\n",
    "            edge = tuple(sorted((tri[i], tri[(i + 1) % 3])))\n",
    "            edges.add(edge)\n",
    "\n",
    "    vertices = np.asarray(mesh.vertices)\n",
    "    edge_lengths = []\n",
    "    # Calculate the length of each edge\n",
    "    for edge in edges:\n",
    "        v1, v2 = edge\n",
    "        length = np.linalg.norm(vertices[v1] - vertices[v2])\n",
    "        edge_lengths.append(length)\n",
    "    # Compute the average edge length\n",
    "    average_length = np.mean(edge_lengths)\n",
    "    radius = average_length * 6\n",
    "    return radius\n",
    "\n",
    "# get N(xl) and N(yt)\n",
    "def find_neighbors_mesh_radius(mesh, vertex, radius):\n",
    "    pcd = o3d.geometry.PointCloud()\n",
    "    vertices = np.array(mesh.vertices)\n",
    "    pcd.points = o3d.utility.Vector3dVector(vertices)\n",
    "    pcd_tree = o3d.geometry.KDTreeFlann(pcd)\n",
    "    [k, idx, _] = pcd_tree.search_radius_vector_3d(vertex, radius)\n",
    "    idx_np = np.asarray(idx[0:]) \n",
    "    neighbors = np.asarray(pcd.points)[idx_np]\n",
    "    return neighbors #N(xl)\n",
    "\n",
    "def find_neighbors_mesh_KNN(mesh, vertex, Q = 5):\n",
    "    pcd = o3d.geometry.PointCloud()\n",
    "    vertices = np.array(mesh.vertices)\n",
    "    pcd.points = o3d.utility.Vector3dVector(vertices)\n",
    "    pcd_tree = o3d.geometry.KDTreeFlann(pcd)\n",
    "    [k, idx, _] = pcd_tree.search_knn_vector_3d(vertex, Q)\n",
    "    idx_np = np.asarray(idx[0:]) \n",
    "    neighbors = np.asarray(pcd.points)[idx_np]\n",
    "    return neighbors #N(xl)\n",
    "\n",
    "def embedded_deform_vertex(mesh, rotation, translation, keynodes):\n",
    "    vertices = np.array(mesh.vertices)\n",
    "    updated_vertices = deepcopy(vertices)\n",
    "    pcd = o3d.geometry.PointCloud()\n",
    "    pcd.points = o3d.utility.Vector3dVector(keynodes)\n",
    "    pcd_tree = o3d.geometry.KDTreeFlann(pcd)\n",
    "    for i, xi in range(len(vertices)):\n",
    "        [k, idx, _] = pcd_tree.search_knn_vector_3d(xi, 5)\n",
    "        idx_np = np.asarray(idx[0:]) \n",
    "        neighbors = np.asarray(pcd.points)[idx_np]\n",
    "        xi_updated = np.zeros(3)\n",
    "        sigma = np.max(np.linalg.norm(neighbors - xi, axis=1))\n",
    "        sum = 0\n",
    "        for neighbor in neighbors:\n",
    "            sum += np.square(1- np.linalg.norm(neighbor - xi)/sigma)\n",
    "        for neighbor in neighbors:\n",
    "            [k, idx, _] = pcd_tree.search_knn_vector_3d(neighbor, 1)\n",
    "            s = idx[0]\n",
    "            weight = np.square(1- np.linalg.norm(neighbor - xi)/sigma) / sum\n",
    "            xi_updated += weight * (np.dot(rotation[s], (xi - neighbor)) + neighbor + translation[s])\n",
    "        updated_vertices[i] = xi_updated\n",
    "        \n",
    "    mesh.vertices = o3d.utility.Vector3dVector(updated_vertices)\n",
    "    return mesh"
   ],
   "id": "f498f4a886ee566f",
   "outputs": [],
   "execution_count": 9
  },
  {
   "metadata": {
    "ExecuteTime": {
     "end_time": "2024-09-17T17:59:35.259195Z",
     "start_time": "2024-09-17T17:59:35.248776Z"
    }
   },
   "cell_type": "code",
   "source": [
    "target = dancer_6\n",
    "source = dancer_5\n",
    "\n",
    "def function(params, source, target, keynodes):\n",
    "    R_vec = params[3:]\n",
    "    T = params[:3]\n",
    "    R = R_vec.reshape(-1, 3)\n",
    "    target_vertices = np.array(target.vertices)\n",
    "    source_vertices = np.array(source.vertices)\n",
    "    pcd = o3d.geometry.PointCloud()\n",
    "    pcd.points = o3d.utility.Vector3dVector(target_vertices)\n",
    "    pcd_tree = o3d.geometry.KDTreeFlann(pcd)\n",
    "    \n",
    "    keynodespcd = o3d.geometry.PointCloud()\n",
    "    keynodespcd.points = o3d.utility.Vector3dVector(keynodes)\n",
    "    keynodespcd_tree = o3d.geometry.KDTreeFlann(keynodespcd)\n",
    "    \n",
    "    Error_motion = 0\n",
    "    Error_rotation = 0\n",
    "    Error_Regulation = 0\n",
    "    \n",
    "    for vertex in source_vertices:\n",
    "        [k, idx, _] = pcd_tree.search_knn_vector_3d(vertex, 1)\n",
    "        Error_motion += np.square(np.linalg.norm(vertex, target_vertices[idx[0]]))\n",
    "    \n",
    "    for i, keynode in keynodes:\n",
    "        a1 = R[i][:, 0] \n",
    "        a2 = R[i][:, 1] \n",
    "        a3 = R[i][:, 2]\n",
    "        term1 = (np.dot(a1, a2)) ** 2\n",
    "        term2 = (np.dot(a1, a3)) ** 2\n",
    "        term3 = (np.dot(a2, a3)) ** 2\n",
    "        \n",
    "        term4 = (1 - np.dot(a1, a1)) ** 2\n",
    "        term5 = (1 - np.dot(a2, a2)) ** 2\n",
    "        term6 = (1 - np.dot(a3, a3)) ** 2\n",
    "        \n",
    "        total_sum = term1 + term2 + term3 + term4 + term5 + term6\n",
    "        Error_rotation += total_sum\n",
    "        \n",
    "    for i, keynode in keynodes:\n",
    "        [k, idx, _] = keynodespcd_tree.search_knn_vector_3d(keynode, 5)\n",
    "        idx_np = np.asarray(idx[0:]) \n",
    "        neighbors = np.asarray(keynodespcd.points)[idx_np]\n",
    "        sigma = np.max(np.linalg.norm(neighbors - keynode, axis=1))\n",
    "        sum = 0\n",
    "        for neighbor in neighbors:\n",
    "            sum += np.square(1- np.linalg.norm(neighbor - keynode)/sigma)\n",
    "            \n",
    "        \n",
    "        for neighbor in neighbors:\n",
    "            [k, idx, _] = keynodespcd_tree.search_knn_vector_3d(neighbor, 1)\n",
    "            s = idx[0]\n",
    "            weight = np.square(1- np.linalg.norm(neighbor - keynode)/sigma) / sum\n",
    "            Error_Regulation += weight * (np.dot(R[s], (keynode - neighbor)) + neighbor + T[s])\n",
    "    \n",
    "    error  = 100 * Error_motion + 10 * Error_rotation + Error_Regulation\n",
    "    return error"
   ],
   "id": "f97c893e6b76236b",
   "outputs": [],
   "execution_count": 60
  }
 ],
 "metadata": {
  "kernelspec": {
   "display_name": "Python 3",
   "language": "python",
   "name": "python3"
  },
  "language_info": {
   "codemirror_mode": {
    "name": "ipython",
    "version": 2
   },
   "file_extension": ".py",
   "mimetype": "text/x-python",
   "name": "python",
   "nbconvert_exporter": "python",
   "pygments_lexer": "ipython2",
   "version": "2.7.6"
  }
 },
 "nbformat": 4,
 "nbformat_minor": 5
}
