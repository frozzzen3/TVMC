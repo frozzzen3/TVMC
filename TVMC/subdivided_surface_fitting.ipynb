{
 "cells": [
  {
   "cell_type": "code",
   "id": "initial_id",
   "metadata": {
    "collapsed": true,
    "ExecuteTime": {
     "end_time": "2024-09-25T16:45:22.432363Z",
     "start_time": "2024-09-25T16:45:21.641746Z"
    }
   },
   "source": [
    "from copy import deepcopy\n",
    "\n",
    "import numpy as np\n",
    "import open3d as o3d\n",
    "import trimesh"
   ],
   "outputs": [
    {
     "name": "stdout",
     "output_type": "stream",
     "text": [
      "Jupyter environment detected. Enabling Open3D WebVisualizer.\n",
      "[Open3D INFO] WebRTC GUI backend enabled.\n",
      "[Open3D INFO] WebRTCWindowSystem: HTTP handshake server disabled.\n"
     ]
    }
   ],
   "execution_count": 1
  },
  {
   "metadata": {},
   "cell_type": "markdown",
   "source": [
    "simplify_vertex_clustering is not good for subdivide surface fitting, simplify_quadric_decimation is much better\n",
    "notes that boundary_weight will influence the result of decimated mesh, inappropriate setting leads to holes in the mesh."
   ],
   "id": "deed9ee57f0abcb6"
  },
  {
   "metadata": {
    "ExecuteTime": {
     "end_time": "2024-09-25T16:45:23.808349Z",
     "start_time": "2024-09-25T16:45:23.792711Z"
    }
   },
   "cell_type": "code",
   "source": "dataset = 'Dancer'",
   "id": "6a5b014244c73110",
   "outputs": [],
   "execution_count": 2
  },
  {
   "metadata": {
    "ExecuteTime": {
     "end_time": "2024-09-25T16:45:25.145483Z",
     "start_time": "2024-09-25T16:45:25.129871Z"
    }
   },
   "cell_type": "code",
   "source": [
    "def subdivide_surface_fitting(decimated_mesh, target_mesh, iterations=1):\n",
    "    subdivided_mesh = o3d.geometry.TriangleMesh.subdivide_midpoint(decimated_mesh, number_of_iterations=iterations)\n",
    "    print(subdivided_mesh)\n",
    "    subdivided_mesh.compute_vertex_normals()\n",
    "    \n",
    "    pcd_target = o3d.geometry.PointCloud()\n",
    "    pcd_target.points = o3d.utility.Vector3dVector(target_mesh.vertices)\n",
    "    pcd_tree = o3d.geometry.KDTreeFlann(pcd_target)\n",
    "    subdivided_vertices = np.array(subdivided_mesh.vertices)\n",
    "    target_vertices = np.array(target_mesh.vertices)\n",
    "    fitting_vertices = deepcopy(subdivided_vertices)\n",
    "    \n",
    "    for i in range(0, len(subdivided_vertices)):\n",
    "        [k, index, _] = pcd_tree.search_knn_vector_3d(subdivided_vertices[i], 1)\n",
    "        fitting_vertices[i] = target_vertices[np.asarray(index)]\n",
    "        \n",
    "    subdivided_mesh.vertices = o3d.utility.Vector3dVector(fitting_vertices)\n",
    "    return subdivided_mesh"
   ],
   "id": "76c94e4dd619a32d",
   "outputs": [],
   "execution_count": 3
  },
  {
   "metadata": {
    "ExecuteTime": {
     "end_time": "2024-09-25T18:15:02.823417Z",
     "start_time": "2024-09-25T18:14:59.798291Z"
    }
   },
   "cell_type": "code",
   "source": [
    "deformed_meshes = []\n",
    "all_meshes = o3d.geometry.TriangleMesh()\n",
    "for i in range(5,10):\n",
    "    mesh = o3d.io.read_triangle_mesh(fr'G:\\VS2022Projects\\tvm-editing-master\\TVMEditor.Test\\bin\\Release\\net5.0\\output\\{dataset}_4000\\output/deformed_{i:03}.obj')\n",
    "    mesh.compute_vertex_normals()\n",
    "    deformed_meshes.append(mesh)\n",
    "    all_meshes += mesh\n",
    "o3d.visualization.draw_geometries([all_meshes])\n",
    "print(all_meshes, all_meshes.has_vertex_normals())\n",
    "reference_pcd = o3d.geometry.PointCloud()\n",
    "reference_pcd.points = o3d.utility.Vector3dVector(all_meshes.vertices)\n",
    "reference_pcd.normals = o3d.utility.Vector3dVector(all_meshes.vertex_normals)\n",
    "print(reference_pcd, reference_pcd.has_normals())"
   ],
   "id": "50e70967869be3f1",
   "outputs": [
    {
     "name": "stdout",
     "output_type": "stream",
     "text": [
      "TriangleMesh with 98617 points and 196912 triangles. True\n",
      "PointCloud with 98617 points. True\n"
     ]
    }
   ],
   "execution_count": 9
  },
  {
   "metadata": {
    "ExecuteTime": {
     "end_time": "2024-09-25T18:15:12.491557Z",
     "start_time": "2024-09-25T18:15:05.675852Z"
    }
   },
   "cell_type": "code",
   "source": [
    "GoF = 5\n",
    "key = 3 # index of the key frame to fit \n",
    "fitting_meshes = []\n",
    "for i in range(0, 5):\n",
    "    if i==key:\n",
    "        continue\n",
    "    decimated_mesh_i = o3d.geometry.TriangleMesh.simplify_quadric_decimation(deformed_meshes[i], 10000, boundary_weight= 8000)\n",
    "    print(decimated_mesh_i)\n",
    "    fitting_mesh_i = subdivide_surface_fitting(decimated_mesh_i, deformed_meshes[key], 1)\n",
    "    print(fitting_mesh_i)\n",
    "    fitting_mesh_i.compute_vertex_normals()\n",
    "    fitting_meshes.append(fitting_mesh_i)\n",
    "fitting_meshes.append(deformed_meshes[key])\n",
    "o3d.visualization.draw_geometries(fitting_meshes)"
   ],
   "id": "c8abab4f5902708b",
   "outputs": [
    {
     "name": "stdout",
     "output_type": "stream",
     "text": [
      "TriangleMesh with 5039 points and 10000 triangles.\n",
      "TriangleMesh with 20082 points and 40000 triangles.\n",
      "TriangleMesh with 20082 points and 40000 triangles.\n",
      "TriangleMesh with 5036 points and 10000 triangles.\n",
      "TriangleMesh with 20075 points and 40000 triangles.\n",
      "TriangleMesh with 20075 points and 40000 triangles.\n",
      "TriangleMesh with 5036 points and 9999 triangles.\n",
      "TriangleMesh with 20074 points and 39996 triangles.\n",
      "TriangleMesh with 20074 points and 39996 triangles.\n",
      "TriangleMesh with 5043 points and 10000 triangles.\n",
      "TriangleMesh with 20091 points and 40000 triangles.\n",
      "TriangleMesh with 20091 points and 40000 triangles.\n"
     ]
    }
   ],
   "execution_count": 10
  },
  {
   "metadata": {
    "ExecuteTime": {
     "end_time": "2024-09-25T18:15:42.611625Z",
     "start_time": "2024-09-25T18:15:33.697879Z"
    }
   },
   "cell_type": "code",
   "source": [
    "all_meshes = o3d.geometry.TriangleMesh()\n",
    "for i in range(0,GoF):\n",
    "    all_meshes += fitting_meshes[i]\n",
    "print(all_meshes, all_meshes.has_vertex_normals())\n",
    "reference_pcd = o3d.geometry.PointCloud()\n",
    "reference_pcd.points = o3d.utility.Vector3dVector(all_meshes.vertices)\n",
    "reference_pcd.normals = o3d.utility.Vector3dVector(all_meshes.vertex_normals)\n",
    "print(reference_pcd, reference_pcd.has_normals())\n",
    "print('run Poisson surface reconstruction')\n",
    "with o3d.utility.VerbosityContextManager(o3d.utility.VerbosityLevel.Debug) as cm:\n",
    "    pre_reference_mesh, densities = o3d.geometry.TriangleMesh.create_from_point_cloud_poisson(reference_pcd, depth=9, linear_fit=True)\n",
    "print(pre_reference_mesh)\n",
    "pre_reference_mesh.compute_vertex_normals()\n",
    "\n",
    "pre_reference_mesh.paint_uniform_color([0.7, 0.7, 0.7])\n",
    "#o3d.visualization.draw_geometries([pre_reference_mesh])\n",
    "\n",
    "reference_mesh = o3d.geometry.TriangleMesh.simplify_quadric_decimation(pre_reference_mesh, 40000, boundary_weight= 8000)\n",
    "print(reference_mesh)\n",
    "reference_mesh.compute_vertex_normals()\n",
    "\n",
    "o3d.visualization.draw_geometries([reference_mesh])\n",
    "o3d.io.write_triangle_mesh(fr'G:\\VS2022Projects\\tvm-editing-master\\TVMEditor.Test\\bin\\Release\\net5.0\\Data\\{dataset}_4000/reference_mesh/reference_mesh_{GoF:02}.obj', reference_mesh, write_vertex_normals=False, write_vertex_colors=False, write_triangle_uvs=False)"
   ],
   "id": "3d7324b85119c998",
   "outputs": [
    {
     "name": "stdout",
     "output_type": "stream",
     "text": [
      "TriangleMesh with 100052 points and 199388 triangles. True\n",
      "PointCloud with 100052 points. True\n",
      "run Poisson surface reconstruction\n",
      "[Open3D DEBUG] Input Points / Samples: 100052 / 18593\n",
      "[Open3D DEBUG] #   Got kernel density: 0.0120001 (s), 335.371 (MB) / 394.531 (MB) / 571 (MB)\n",
      "[Open3D DEBUG] #     Got normal field: 0.241 (s), 363.969 (MB) / 394.531 (MB) / 571 (MB)\n",
      "[Open3D DEBUG] Point weight / Estimated Area: 7.763352e-06 / 7.767389e-01\n",
      "[Open3D DEBUG] #       Finalized tree: 0.15 (s), 408.281 (MB) / 408.281 (MB) / 571 (MB)\n",
      "[Open3D DEBUG] #  Set FEM constraints: 0.086 (s), 390.789 (MB) / 408.281 (MB) / 571 (MB)\n",
      "[Open3D DEBUG] #Set point constraints: 0.0279999 (s), 373.664 (MB) / 408.281 (MB) / 571 (MB)\n",
      "[Open3D DEBUG] Leaf Nodes / Active Nodes / Ghost Nodes: 851586 / 969072 / 4169\n",
      "[Open3D DEBUG] Memory Usage: 373.664 MB\n",
      "[Open3D DEBUG] # Linear system solved: 0.37 (s), 414.66 (MB) / 414.66 (MB) / 571 (MB)\n",
      "[Open3D DEBUG] Got average: 0.00300002 (s), 371.402 (MB) / 414.66 (MB) / 571 (MB)\n",
      "[Open3D DEBUG] Iso-Value: 5.043786e-01 = 5.046409e+04 / 1.000520e+05\n",
      "[Open3D DEBUG] #          Total Solve:       1.8 (s),     450.6 (MB)\n",
      "TriangleMesh with 178469 points and 356906 triangles.\n",
      "TriangleMesh with 20018 points and 40000 triangles.\n",
      "[Open3D WARNING] Write OBJ can not include triangle normals.\n"
     ]
    },
    {
     "data": {
      "text/plain": [
       "True"
      ]
     },
     "execution_count": 11,
     "metadata": {},
     "output_type": "execute_result"
    }
   ],
   "execution_count": 11
  },
  {
   "metadata": {},
   "cell_type": "markdown",
   "source": "## remember to adjust file path",
   "id": "64eebab7b61a8eb9"
  },
  {
   "metadata": {
    "ExecuteTime": {
     "end_time": "2024-09-25T18:15:57.750615Z",
     "start_time": "2024-09-25T18:15:56.297688Z"
    }
   },
   "cell_type": "code",
   "source": [
    "load_reference_mesh = o3d.io.read_triangle_mesh(fr'G:\\VS2022Projects\\tvm-editing-master\\TVMEditor.Test\\bin\\Release\\net5.0\\Data\\{dataset}_4000/reference_mesh/reference_mesh_{GoF:02}.obj', enable_post_processing = False)\n",
    "print(load_reference_mesh)\n",
    "\n",
    "o3d.io.write_triangle_mesh(fr'G:\\VS2022Projects\\tvm-editing-master\\TVMEditor.Test\\bin\\Release\\net5.0\\Data\\{dataset}_4000/reference_mesh/reference_mesh_{GoF:02}.obj', load_reference_mesh, write_vertex_normals=False, write_vertex_colors=False, write_triangle_uvs=False)\n",
    "load_reference_mesh = o3d.io.read_triangle_mesh(fr'G:\\VS2022Projects\\tvm-editing-master\\TVMEditor.Test\\bin\\Release\\net5.0\\Data\\{dataset}_4000/reference_mesh/reference_mesh_{GoF:02}.obj', enable_post_processing = False)\n",
    "print(load_reference_mesh)\n",
    "reference_vertices = np.array(load_reference_mesh.vertices)\n",
    "load_reference_mesh.compute_vertex_normals()\n",
    "o3d.visualization.draw_geometries([load_reference_mesh])\n",
    "load_reference_mesh.paint_uniform_color([0.7, 0.7, 0.7])\n",
    "print(reference_vertices)"
   ],
   "id": "beb5c29f50b59558",
   "outputs": [
    {
     "name": "stdout",
     "output_type": "stream",
     "text": [
      "TriangleMesh with 20006 points and 40000 triangles.\n",
      "TriangleMesh with 20006 points and 40000 triangles.\n",
      "[[-0.38001999  0.721461   -0.46918401]\n",
      " [-0.39118299  0.71949899 -0.468189  ]\n",
      " [-0.38920099  0.721461   -0.47045499]\n",
      " ...\n",
      " [-0.37731099 -0.37244299  0.195308  ]\n",
      " [ 0.215221   -0.32091901  0.197891  ]\n",
      " [-0.113743    0.92755902  0.30213699]]\n"
     ]
    }
   ],
   "execution_count": 12
  },
  {
   "metadata": {
    "ExecuteTime": {
     "end_time": "2024-09-25T18:16:06.240288Z",
     "start_time": "2024-09-25T18:16:05.899397Z"
    }
   },
   "cell_type": "code",
   "source": [
    "load_reference_mesh_trimesh = o3d.io.read_triangle_mesh(fr'G:\\VS2022Projects\\tvm-editing-master\\TVMEditor.Test\\bin\\Release\\net5.0\\Data\\{dataset}_4000/reference_mesh/reference_mesh_{GoF:02}.obj', enable_post_processing = False)\n",
    "\n",
    "print(np.array(load_reference_mesh_trimesh.vertices).__len__())\n",
    "decimated_reference_mesh = o3d.geometry.TriangleMesh.simplify_quadric_decimation(load_reference_mesh_trimesh, 10000, boundary_weight= 8000)\n",
    "print(decimated_reference_mesh)\n",
    "\n",
    "subdivided_mesh = o3d.geometry.TriangleMesh.subdivide_midpoint(decimated_reference_mesh, number_of_iterations=1)\n",
    "print(subdivided_mesh)\n",
    "o3d.io.write_triangle_mesh(fr'G:\\VS2022Projects\\tvm-editing-master\\TVMEditor.Test\\bin\\Release\\net5.0\\Data\\{dataset}_4000\\reference_mesh/decimated_reference_mesh.obj', decimated_reference_mesh, write_vertex_normals=False, write_vertex_colors=False, write_triangle_uvs=False)\n",
    "o3d.io.write_triangle_mesh(fr'G:\\VS2022Projects\\tvm-editing-master\\TVMEditor.Test\\bin\\Release\\net5.0\\Data\\{dataset}_4000\\reference_mesh/subdivided_reference_mesh.obj', subdivided_mesh, write_vertex_normals=False, write_vertex_colors=False, write_triangle_uvs=False)\n"
   ],
   "id": "5addb40478879587",
   "outputs": [
    {
     "name": "stdout",
     "output_type": "stream",
     "text": [
      "20006\n",
      "TriangleMesh with 5006 points and 10000 triangles.\n",
      "TriangleMesh with 20006 points and 40000 triangles.\n"
     ]
    },
    {
     "data": {
      "text/plain": [
       "True"
      ]
     },
     "execution_count": 13,
     "metadata": {},
     "output_type": "execute_result"
    }
   ],
   "execution_count": 13
  },
  {
   "metadata": {},
   "cell_type": "markdown",
   "source": "## Run mesh editing now",
   "id": "eabff965308a2c1e"
  }
 ],
 "metadata": {
  "kernelspec": {
   "display_name": "Python 3",
   "language": "python",
   "name": "python3"
  },
  "language_info": {
   "codemirror_mode": {
    "name": "ipython",
    "version": 2
   },
   "file_extension": ".py",
   "mimetype": "text/x-python",
   "name": "python",
   "nbconvert_exporter": "python",
   "pygments_lexer": "ipython2",
   "version": "2.7.6"
  }
 },
 "nbformat": 4,
 "nbformat_minor": 5
}
