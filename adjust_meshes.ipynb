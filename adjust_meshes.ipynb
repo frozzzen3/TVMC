{
 "cells": [
  {
   "cell_type": "code",
   "id": "initial_id",
   "metadata": {
    "collapsed": true,
    "ExecuteTime": {
     "end_time": "2024-09-21T20:20:01.068254Z",
     "start_time": "2024-09-21T20:20:00.661564Z"
    }
   },
   "source": [
    "import os\n",
    "import open3d as o3d\n",
    "import numpy as np\n",
    "import re\n",
    "\n",
    "print(o3d.__version__)"
   ],
   "outputs": [
    {
     "name": "stdout",
     "output_type": "stream",
     "text": [
      "Jupyter environment detected. Enabling Open3D WebVisualizer.\n",
      "[Open3D INFO] WebRTC GUI backend enabled.\n",
      "[Open3D INFO] WebRTCWindowSystem: HTTP handshake server disabled.\n",
      "0.18.0\n"
     ]
    }
   ],
   "execution_count": 1
  },
  {
   "metadata": {
    "ExecuteTime": {
     "end_time": "2024-09-21T20:21:15.605677Z",
     "start_time": "2024-09-21T20:21:15.590045Z"
    }
   },
   "cell_type": "code",
   "source": "dataset = 'Mitch'",
   "id": "f3d37ffab51c30cb",
   "outputs": [],
   "execution_count": 4
  },
  {
   "metadata": {
    "ExecuteTime": {
     "end_time": "2024-09-21T20:21:17.275620Z",
     "start_time": "2024-09-21T20:21:17.259987Z"
    }
   },
   "cell_type": "code",
   "source": [
    "obj_files_path = fr'G:\\VS2022Projects\\arap-volume-tracking-main\\data\\{dataset}\\raw'\n",
    "files = os.listdir(obj_files_path)\n",
    "obj_files = [file for file in files if file.endswith('.obj')]\n",
    "def extract_number(filename):\n",
    "    match = re.search(r'(\\d+)', filename)\n",
    "    return int(match.group(1)) if match else float('inf')\n",
    "\n",
    "\n",
    "obj_files.sort(key=extract_number)\n",
    "\n",
    "print(obj_files, len(obj_files))"
   ],
   "id": "aebcdff548ef9139",
   "outputs": [
    {
     "name": "stdout",
     "output_type": "stream",
     "text": [
      "['mitch_fr0001.obj', 'mitch_fr0002.obj', 'mitch_fr0003.obj', 'mitch_fr0004.obj', 'mitch_fr0005.obj', 'mitch_fr0006.obj', 'mitch_fr0007.obj', 'mitch_fr0008.obj', 'mitch_fr0009.obj', 'mitch_fr0010.obj', 'mitch_fr0011.obj', 'mitch_fr0012.obj', 'mitch_fr0013.obj', 'mitch_fr0014.obj', 'mitch_fr0015.obj'] 15\n"
     ]
    }
   ],
   "execution_count": 5
  },
  {
   "metadata": {
    "ExecuteTime": {
     "end_time": "2024-09-21T20:22:13.311222Z",
     "start_time": "2024-09-21T20:22:11.128512Z"
    }
   },
   "cell_type": "code",
   "source": [
    "from copy import deepcopy\n",
    "meshes = []\n",
    "for i in range (len(obj_files)):\n",
    "    mesh_i = o3d.io.read_triangle_mesh(os.path.join(obj_files_path, obj_files[i]))\n",
    "    print(mesh_i)\n",
    "\n",
    "    vertices_i = np.array(mesh_i.vertices)\n",
    "\n",
    "    scaled_vertices_i = deepcopy(vertices_i) / 1000\n",
    "    scaled_mesh_i = deepcopy(mesh_i)\n",
    "    scaled_mesh_i.vertices = o3d.utility.Vector3dVector(scaled_vertices_i)\n",
    "    meshes.append(scaled_mesh_i)\n",
    "    o3d.io.write_triangle_mesh(os.path.join(fr'G:\\VS2022Projects\\arap-volume-tracking-main\\data\\{dataset}', obj_files[i]), scaled_mesh_i, write_ascii=False,write_vertex_normals = False, write_triangle_uvs = False)"
   ],
   "id": "d523e2bead23bb14",
   "outputs": [
    {
     "name": "stdout",
     "output_type": "stream",
     "text": [
      "TriangleMesh with 16308 points and 30000 triangles.\n",
      "TriangleMesh with 16277 points and 30000 triangles.\n",
      "TriangleMesh with 16277 points and 30000 triangles.\n",
      "TriangleMesh with 16277 points and 30000 triangles.\n",
      "TriangleMesh with 16330 points and 30000 triangles.\n",
      "TriangleMesh with 16328 points and 30000 triangles.\n",
      "TriangleMesh with 16328 points and 30000 triangles.\n",
      "TriangleMesh with 16319 points and 30000 triangles.\n",
      "TriangleMesh with 16318 points and 30000 triangles.\n",
      "TriangleMesh with 16319 points and 30000 triangles.\n",
      "TriangleMesh with 16329 points and 30000 triangles.\n",
      "TriangleMesh with 16328 points and 30000 triangles.\n",
      "TriangleMesh with 16328 points and 30000 triangles.\n",
      "TriangleMesh with 16342 points and 30000 triangles.\n",
      "TriangleMesh with 16342 points and 30000 triangles.\n"
     ]
    }
   ],
   "execution_count": 6
  },
  {
   "metadata": {
    "ExecuteTime": {
     "end_time": "2024-09-21T21:18:51.048301Z",
     "start_time": "2024-09-21T21:18:31.627462Z"
    }
   },
   "cell_type": "code",
   "source": "o3d.visualization.draw_geometries(meshes[5:10])",
   "id": "86325225a41ad374",
   "outputs": [],
   "execution_count": 13
  },
  {
   "metadata": {
    "ExecuteTime": {
     "end_time": "2024-09-04T17:19:55.786768Z",
     "start_time": "2024-09-04T17:19:55.714768Z"
    }
   },
   "cell_type": "code",
   "source": [
    "testmesh = o3d.io.read_triangle_mesh(r'G:\\VS2022Projects\\arap-volume-tracking-main\\data\\Dancer/dancer_fr0001.obj')\n",
    "testvertices = np.array(testmesh.vertices)\n",
    "testvertices"
   ],
   "id": "7d1ee5e8e0ebde95",
   "outputs": [
    {
     "data": {
      "text/plain": [
       "array([[-0.32864299,  0.67661798, -0.37490401],\n",
       "       [-0.32662901,  0.675107  , -0.37490401],\n",
       "       [-0.32662901,  0.67208499, -0.37238601],\n",
       "       ...,\n",
       "       [ 0.0878347 , -0.020366  ,  0.229921  ],\n",
       "       [ 0.0772591 , -0.00676877,  0.21582   ],\n",
       "       [ 0.0777627 , -0.0123084 ,  0.215316  ]])"
      ]
     },
     "execution_count": 20,
     "metadata": {},
     "output_type": "execute_result"
    }
   ],
   "execution_count": 20
  },
  {
   "metadata": {
    "ExecuteTime": {
     "end_time": "2024-09-04T17:36:29.714661Z",
     "start_time": "2024-09-04T17:36:29.264664Z"
    }
   },
   "cell_type": "code",
   "source": [
    "mesh_i = o3d.io.read_triangle_mesh(os.path.join(obj_files_path, obj_files[3]))\n",
    "print(mesh_i)\n",
    "print(obj_files[3])\n",
    "vertices_i = np.array(mesh_i.vertices)\n",
    "\n",
    "scaled_vertices_i = deepcopy(vertices_i) / 10000\n",
    "scaled_mesh_i = deepcopy(mesh_i)\n",
    "scaled_mesh_i.vertices = o3d.utility.Vector3dVector(scaled_vertices_i)\n",
    "o3d.io.write_triangle_mesh(os.path.join(r'G:\\VS2022Projects\\arap-volume-tracking-main\\data\\Dancer', obj_files[3]), scaled_mesh_i)"
   ],
   "id": "be888bf9c41ab26c",
   "outputs": [
    {
     "name": "stdout",
     "output_type": "stream",
     "text": [
      "TriangleMesh with 20659 points and 39380 triangles.\n",
      "dancer_fr0004.obj\n",
      "[Open3D WARNING] Write PNG failed: image has no data.\n",
      "[Open3D WARNING] Write OBJ successful, but failed to write texture file.\n"
     ]
    },
    {
     "data": {
      "text/plain": [
       "True"
      ]
     },
     "execution_count": 27,
     "metadata": {},
     "output_type": "execute_result"
    }
   ],
   "execution_count": 27
  }
 ],
 "metadata": {
  "kernelspec": {
   "display_name": "Python 3",
   "language": "python",
   "name": "python3"
  },
  "language_info": {
   "codemirror_mode": {
    "name": "ipython",
    "version": 2
   },
   "file_extension": ".py",
   "mimetype": "text/x-python",
   "name": "python",
   "nbconvert_exporter": "python",
   "pygments_lexer": "ipython2",
   "version": "2.7.6"
  }
 },
 "nbformat": 4,
 "nbformat_minor": 5
}
