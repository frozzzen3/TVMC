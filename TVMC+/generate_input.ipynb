{
 "cells": [
  {
   "metadata": {
    "ExecuteTime": {
     "end_time": "2024-12-09T20:01:44.707267Z",
     "start_time": "2024-12-09T20:01:44.525240Z"
    }
   },
   "cell_type": "code",
   "source": [
    "from scipy.spatial.transform import Rotation as R\n",
    "import numpy as np"
   ],
   "id": "31a0fcf3fc6a48",
   "outputs": [],
   "execution_count": 3
  },
  {
   "metadata": {
    "ExecuteTime": {
     "end_time": "2024-12-09T20:07:40.839288Z",
     "start_time": "2024-12-09T20:07:40.813987Z"
    }
   },
   "cell_type": "code",
   "source": [
    "transformed_centers_path = r'G:\\VS2022Projects\\arap-volume-tracking-main\\data\\scene-max-4000/combined_mesh_0res_4000_004.xyz'\n",
    "loaded_transformed_centers = np.loadtxt(transformed_centers_path)\n",
    "with open(transformed_centers_path, 'r') as file:\n",
    "    lines = file.readlines()\n",
    "    print(\"\".join(lines[:5])) "
   ],
   "id": "a7133f786d351325",
   "outputs": [
    {
     "name": "stdout",
     "output_type": "stream",
     "text": [
      "-0.65743625 -2.2764578 0.16107747\n",
      "-0.66250813 -2.2309651 1.5619742\n",
      "-0.3686443 -0.302735 0.6004992\n",
      "0.20994216 -0.18073219 0.2659464\n",
      "-0.66087186 -2.758741 0.4889144\n",
      "\n"
     ]
    }
   ],
   "execution_count": 7
  },
  {
   "metadata": {
    "ExecuteTime": {
     "end_time": "2024-12-09T20:01:47.930484Z",
     "start_time": "2024-12-09T20:01:47.915112Z"
    }
   },
   "cell_type": "code",
   "source": [
    "def get_dual_quaternions(original_centers, transformed_centers):\n",
    "    moved_indices = []\n",
    "    for i in range(len(original_centers)):\n",
    "        if not (np.array_equal(original_centers[i], transformed_centers[i])):\n",
    "            moved_indices.append(i)\n",
    "    dual_quaternions = np.zeros((len(original_centers), 8), dtype=np.float32)\n",
    "    inverse_dual_quaternions = np.zeros((len(original_centers), 8), dtype=np.float32)\n",
    "    for i in moved_indices:\n",
    "        original = original_centers[i]\n",
    "        transformed = loaded_transformed_centers[i]\n",
    "        \n",
    "        rotation_quaternion = R.from_quat([0, 0, 0, 1])  \n",
    "    \n",
    "        translation = transformed - original\n",
    "        \n",
    "        rotation_quat = rotation_quaternion.as_quat()\n",
    "        \n",
    "        translation_quat = np.hstack((translation, [0]))\n",
    "        dual_quat = np.hstack((rotation_quat, 0.5 * translation_quat))\n",
    "        dual_quaternions[i] = dual_quat\n",
    "        \n",
    "        rotation_conjugate = np.hstack((-rotation_quat[:3], rotation_quat[3]))\n",
    "        inv_translation_quat = np.hstack((translation, [0]))\n",
    "        inverse_dual_quat = np.hstack((rotation_conjugate, -0.5 * inv_translation_quat))\n",
    "        inverse_dual_quaternions[i] = inverse_dual_quat\n",
    "        \n",
    "    return moved_indices, dual_quaternions, inverse_dual_quaternions"
   ],
   "id": "df76330e56caedf",
   "outputs": [],
   "execution_count": 5
  },
  {
   "metadata": {
    "ExecuteTime": {
     "end_time": "2024-12-09T20:10:18.747912Z",
     "start_time": "2024-12-09T20:10:17.025556Z"
    }
   },
   "cell_type": "code",
   "source": [
    "transformed_centers_path = r'G:\\VS2022Projects\\arap-volume-tracking-main\\data\\scene-max-4000/combined_mesh_0res_4000_003.xyz'\n",
    "loaded_transformed_centers = np.loadtxt(transformed_centers_path)\n",
    "\n",
    "for i in range (1, 8):\n",
    "    centers_path = fr'G:\\VS2022Projects\\tvm-editing\\TVMEditor.Test\\bin\\Release\\net5.0\\Data\\Drinking/centers/combined_mesh_0res_4000_{i:03}.xyz'\n",
    "    loaded_centers = np.loadtxt(centers_path)\n",
    "    print(centers_path)\n",
    "    \n",
    "    indices, dual_quaternions, inverse_dual_quaternions = get_dual_quaternions(loaded_centers, loaded_transformed_centers)\n",
    "    \n",
    "    indices_path = fr'G:\\VS2022Projects\\tvm-editing\\TVMEditor.Test\\bin\\Release\\net5.0\\Data\\Drinking/indices_{i:03}.txt'\n",
    "    np.savetxt(indices_path, indices, fmt='%d')\n",
    "    \n",
    "    dual_quaternions_path = fr'G:\\VS2022Projects\\tvm-editing\\TVMEditor.Test\\bin\\Release\\net5.0\\Data\\Drinking\\transformations_{i:03}.txt'\n",
    "    with open(dual_quaternions_path, 'w') as file:\n",
    "        for dq in dual_quaternions:\n",
    "            dq_str = f\"{dq[0]};{dq[1]};{dq[2]};{dq[3]};{dq[4]};{dq[5]};{dq[6]};{dq[7]}\"\n",
    "            file.write(dq_str + '\\n')\n",
    "            \n",
    "    inverse_dual_quaternions_path = fr'G:\\VS2022Projects\\tvm-editing\\TVMEditor.Test\\bin\\Release\\net5.0\\Data\\Drinking\\inverse_transformations_{i:03}.txt'\n",
    "    with open(inverse_dual_quaternions_path, 'w') as file:\n",
    "        for inverse_dq in inverse_dual_quaternions:\n",
    "            inverse_dq_str = f\"{inverse_dq[0]};{inverse_dq[1]};{inverse_dq[2]};{inverse_dq[3]};{inverse_dq[4]};{inverse_dq[5]};{inverse_dq[6]};{inverse_dq[7]}\"\n",
    "            file.write(inverse_dq_str + '\\n')"
   ],
   "id": "71ada7c8a7ac341",
   "outputs": [
    {
     "name": "stdout",
     "output_type": "stream",
     "text": [
      "G:\\VS2022Projects\\tvm-editing\\TVMEditor.Test\\bin\\Release\\net5.0\\Data\\Drinking/centers/combined_mesh_0res_4000_001.xyz\n",
      "G:\\VS2022Projects\\tvm-editing\\TVMEditor.Test\\bin\\Release\\net5.0\\Data\\Drinking/centers/combined_mesh_0res_4000_002.xyz\n",
      "G:\\VS2022Projects\\tvm-editing\\TVMEditor.Test\\bin\\Release\\net5.0\\Data\\Drinking/centers/combined_mesh_0res_4000_003.xyz\n",
      "G:\\VS2022Projects\\tvm-editing\\TVMEditor.Test\\bin\\Release\\net5.0\\Data\\Drinking/centers/combined_mesh_0res_4000_004.xyz\n",
      "G:\\VS2022Projects\\tvm-editing\\TVMEditor.Test\\bin\\Release\\net5.0\\Data\\Drinking/centers/combined_mesh_0res_4000_005.xyz\n",
      "G:\\VS2022Projects\\tvm-editing\\TVMEditor.Test\\bin\\Release\\net5.0\\Data\\Drinking/centers/combined_mesh_0res_4000_006.xyz\n",
      "G:\\VS2022Projects\\tvm-editing\\TVMEditor.Test\\bin\\Release\\net5.0\\Data\\Drinking/centers/combined_mesh_0res_4000_007.xyz\n"
     ]
    }
   ],
   "execution_count": 9
  }
 ],
 "metadata": {
  "kernelspec": {
   "display_name": "Python 3",
   "language": "python",
   "name": "python3"
  },
  "language_info": {
   "codemirror_mode": {
    "name": "ipython",
    "version": 2
   },
   "file_extension": ".py",
   "mimetype": "text/x-python",
   "name": "python",
   "nbconvert_exporter": "python",
   "pygments_lexer": "ipython2",
   "version": "2.7.6"
  }
 },
 "nbformat": 4,
 "nbformat_minor": 5
}
