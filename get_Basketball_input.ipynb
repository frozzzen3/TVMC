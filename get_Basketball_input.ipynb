{
 "cells": [
  {
   "metadata": {},
   "cell_type": "markdown",
   "source": "# Get input information for Basketball player dataset",
   "id": "f8ebf0eebcd8b05f"
  },
  {
   "cell_type": "code",
   "id": "initial_id",
   "metadata": {
    "collapsed": true,
    "ExecuteTime": {
     "end_time": "2024-09-24T18:48:22.820801Z",
     "start_time": "2024-09-24T18:48:22.704013Z"
    }
   },
   "source": [
    "from scipy.spatial.transform import Rotation as R\n",
    "import numpy as np"
   ],
   "outputs": [],
   "execution_count": 2
  },
  {
   "metadata": {
    "ExecuteTime": {
     "end_time": "2024-09-24T19:11:49.323036Z",
     "start_time": "2024-09-24T19:11:49.307394Z"
    }
   },
   "cell_type": "code",
   "source": [
    "transformed_centers_path = 'G:\\VS2022Projects/tvm-editing-master\\TVMEditor.Test/bin\\Release/net5.0\\Data\\Basketball/reference_centers_aligned.xyz'\n",
    "loaded_transformed_centers = np.loadtxt(transformed_centers_path)\n",
    "with open(transformed_centers_path, 'r') as file:\n",
    "    lines = file.readlines()\n",
    "    print(\"\".join(lines[:5])) "
   ],
   "id": "1ab21a75981b3980",
   "outputs": [
    {
     "name": "stdout",
     "output_type": "stream",
     "text": [
      "1.879000 10.427700 0.825523\n",
      "1.127389 1.025249 0.812634\n",
      "1.458546 8.638139 0.973774\n",
      "-2.594613 9.087575 -0.066926\n",
      "1.109344 3.873753 1.102992\n",
      "\n"
     ]
    }
   ],
   "execution_count": 5
  },
  {
   "metadata": {
    "ExecuteTime": {
     "end_time": "2024-09-24T18:48:30.007617Z",
     "start_time": "2024-09-24T18:48:29.976358Z"
    }
   },
   "cell_type": "code",
   "source": [
    "dataset = 'Basketball'\n",
    "num_points = 2000 - 5"
   ],
   "id": "638dd76e6c85fbd2",
   "outputs": [],
   "execution_count": 4
  },
  {
   "metadata": {},
   "cell_type": "code",
   "outputs": [],
   "execution_count": null,
   "source": "",
   "id": "42120f5d62fef48c"
  },
  {
   "metadata": {
    "ExecuteTime": {
     "end_time": "2024-09-24T19:11:51.939938Z",
     "start_time": "2024-09-24T19:11:51.924296Z"
    }
   },
   "cell_type": "code",
   "source": [
    "def get_dual_quaternions(original_centers, transformed_centers):\n",
    "    moved_indices = []\n",
    "    for i in range(len(original_centers)):\n",
    "        if not (np.array_equal(original_centers[i], transformed_centers[i])):\n",
    "            moved_indices.append(i)\n",
    "    dual_quaternions = np.zeros((len(original_centers), 8), dtype=np.float32)\n",
    "    inverse_dual_quaternions = np.zeros((len(original_centers), 8), dtype=np.float32)\n",
    "    for i in moved_indices:\n",
    "        original = original_centers[i]\n",
    "        transformed = loaded_transformed_centers[i]\n",
    "        \n",
    "        rotation_quaternion = R.from_quat([0, 0, 0, 1])  \n",
    "    \n",
    "        translation = transformed - original\n",
    "        \n",
    "        rotation_quat = rotation_quaternion.as_quat()\n",
    "        \n",
    "        translation_quat = np.hstack((translation, [0]))\n",
    "        dual_quat = np.hstack((rotation_quat, 0.5 * translation_quat))\n",
    "        dual_quaternions[i] = dual_quat\n",
    "        \n",
    "        rotation_conjugate = np.hstack((-rotation_quat[:3], rotation_quat[3]))\n",
    "        inv_translation_quat = np.hstack((translation, [0]))\n",
    "        inverse_dual_quat = np.hstack((rotation_conjugate, -0.5 * inv_translation_quat))\n",
    "        inverse_dual_quaternions[i] = inverse_dual_quat\n",
    "        \n",
    "    return moved_indices, dual_quaternions, inverse_dual_quaternions"
   ],
   "id": "a98a218aba950e6",
   "outputs": [],
   "execution_count": 6
  },
  {
   "metadata": {
    "ExecuteTime": {
     "end_time": "2024-09-24T19:12:10.192586Z",
     "start_time": "2024-09-24T19:12:09.111308Z"
    }
   },
   "cell_type": "code",
   "source": [
    "transformed_centers_path = 'G:\\VS2022Projects/tvm-editing-master\\TVMEditor.Test/bin\\Release/net5.0\\Data\\Basketball/reference_centers_aligned.xyz'\n",
    "loaded_transformed_centers = np.loadtxt(transformed_centers_path)\n",
    "# 16, 17, 18, 19, 20\n",
    "# 11 ~ 20\n",
    "# 10 ~ 24\n",
    "for i in range (10, 25):\n",
    "    centers_path = f'G:\\VS2022Projects/tvm-editing-master\\TVMEditor.Test/bin\\Release/net5.0\\Data\\Basketball/centers/basketball_player_fr0impr_1995_{i:03}.xyz'\n",
    "    loaded_centers = np.loadtxt(centers_path)\n",
    "    print(centers_path)\n",
    "    \n",
    "    indices, dual_quaternions, inverse_dual_quaternions = get_dual_quaternions(loaded_centers, loaded_transformed_centers)\n",
    "    \n",
    "    indices_path = f'G:\\VS2022Projects/tvm-editing-master\\TVMEditor.Test/bin\\Release/net5.0\\Data\\Basketball/indices_{i:03}.txt'\n",
    "    np.savetxt(indices_path, indices, fmt='%d')\n",
    "    \n",
    "    dual_quaternions_path = fr'G:\\VS2022Projects/tvm-editing-master\\TVMEditor.Test/bin\\Release/net5.0\\Data\\Basketball\\transformations_{i:03}.txt'\n",
    "    with open(dual_quaternions_path, 'w') as file:\n",
    "        for dq in dual_quaternions:\n",
    "            dq_str = f\"{dq[0]};{dq[1]};{dq[2]};{dq[3]};{dq[4]};{dq[5]};{dq[6]};{dq[7]}\"\n",
    "            file.write(dq_str + '\\n')\n",
    "            \n",
    "    inverse_dual_quaternions_path = fr'G:\\VS2022Projects/tvm-editing-master\\TVMEditor.Test/bin\\Release/net5.0\\Data\\Basketball\\inverse_transformations_{i:03}.txt'\n",
    "    with open(inverse_dual_quaternions_path, 'w') as file:\n",
    "        for inverse_dq in inverse_dual_quaternions:\n",
    "            inverse_dq_str = f\"{inverse_dq[0]};{inverse_dq[1]};{inverse_dq[2]};{inverse_dq[3]};{inverse_dq[4]};{inverse_dq[5]};{inverse_dq[6]};{inverse_dq[7]}\"\n",
    "            file.write(inverse_dq_str + '\\n')"
   ],
   "id": "fadb4e27f0782ae2",
   "outputs": [
    {
     "name": "stdout",
     "output_type": "stream",
     "text": [
      "G:\\VS2022Projects/tvm-editing-master\\TVMEditor.Test/bin\\Release/net5.0\\Data\\Basketball/centers/basketball_player_fr0impr_1995_010.xyz\n",
      "G:\\VS2022Projects/tvm-editing-master\\TVMEditor.Test/bin\\Release/net5.0\\Data\\Basketball/centers/basketball_player_fr0impr_1995_011.xyz\n",
      "G:\\VS2022Projects/tvm-editing-master\\TVMEditor.Test/bin\\Release/net5.0\\Data\\Basketball/centers/basketball_player_fr0impr_1995_012.xyz\n",
      "G:\\VS2022Projects/tvm-editing-master\\TVMEditor.Test/bin\\Release/net5.0\\Data\\Basketball/centers/basketball_player_fr0impr_1995_013.xyz\n",
      "G:\\VS2022Projects/tvm-editing-master\\TVMEditor.Test/bin\\Release/net5.0\\Data\\Basketball/centers/basketball_player_fr0impr_1995_014.xyz\n",
      "G:\\VS2022Projects/tvm-editing-master\\TVMEditor.Test/bin\\Release/net5.0\\Data\\Basketball/centers/basketball_player_fr0impr_1995_015.xyz\n",
      "G:\\VS2022Projects/tvm-editing-master\\TVMEditor.Test/bin\\Release/net5.0\\Data\\Basketball/centers/basketball_player_fr0impr_1995_016.xyz\n",
      "G:\\VS2022Projects/tvm-editing-master\\TVMEditor.Test/bin\\Release/net5.0\\Data\\Basketball/centers/basketball_player_fr0impr_1995_017.xyz\n",
      "G:\\VS2022Projects/tvm-editing-master\\TVMEditor.Test/bin\\Release/net5.0\\Data\\Basketball/centers/basketball_player_fr0impr_1995_018.xyz\n",
      "G:\\VS2022Projects/tvm-editing-master\\TVMEditor.Test/bin\\Release/net5.0\\Data\\Basketball/centers/basketball_player_fr0impr_1995_019.xyz\n",
      "G:\\VS2022Projects/tvm-editing-master\\TVMEditor.Test/bin\\Release/net5.0\\Data\\Basketball/centers/basketball_player_fr0impr_1995_020.xyz\n",
      "G:\\VS2022Projects/tvm-editing-master\\TVMEditor.Test/bin\\Release/net5.0\\Data\\Basketball/centers/basketball_player_fr0impr_1995_021.xyz\n",
      "G:\\VS2022Projects/tvm-editing-master\\TVMEditor.Test/bin\\Release/net5.0\\Data\\Basketball/centers/basketball_player_fr0impr_1995_022.xyz\n",
      "G:\\VS2022Projects/tvm-editing-master\\TVMEditor.Test/bin\\Release/net5.0\\Data\\Basketball/centers/basketball_player_fr0impr_1995_023.xyz\n",
      "G:\\VS2022Projects/tvm-editing-master\\TVMEditor.Test/bin\\Release/net5.0\\Data\\Basketball/centers/basketball_player_fr0impr_1995_024.xyz\n"
     ]
    }
   ],
   "execution_count": 7
  }
 ],
 "metadata": {
  "kernelspec": {
   "display_name": "Python 3",
   "language": "python",
   "name": "python3"
  },
  "language_info": {
   "codemirror_mode": {
    "name": "ipython",
    "version": 2
   },
   "file_extension": ".py",
   "mimetype": "text/x-python",
   "name": "python",
   "nbconvert_exporter": "python",
   "pygments_lexer": "ipython2",
   "version": "2.7.6"
  }
 },
 "nbformat": 4,
 "nbformat_minor": 5
}
