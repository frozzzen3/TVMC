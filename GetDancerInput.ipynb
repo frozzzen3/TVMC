{
 "cells": [
  {
   "metadata": {
    "ExecuteTime": {
     "end_time": "2024-09-06T14:07:58.199531Z",
     "start_time": "2024-09-06T14:07:57.733686Z"
    }
   },
   "cell_type": "code",
   "source": [
    "from scipy.spatial.transform import Rotation as R\n",
    "import open3d as o3d\n",
    "import numpy as np"
   ],
   "id": "afc645a611c3cf05",
   "outputs": [
    {
     "name": "stdout",
     "output_type": "stream",
     "text": [
      "Jupyter environment detected. Enabling Open3D WebVisualizer.\n",
      "[Open3D INFO] WebRTC GUI backend enabled.\n",
      "[Open3D INFO] WebRTCWindowSystem: HTTP handshake server disabled.\n"
     ]
    }
   ],
   "execution_count": 1
  },
  {
   "metadata": {
    "ExecuteTime": {
     "end_time": "2024-09-06T14:08:39.333814Z",
     "start_time": "2024-09-06T14:08:39.311815Z"
    }
   },
   "cell_type": "code",
   "source": [
    "def get_dual_quaternions(original_centers, transformed_centers):\n",
    "    moved_indices = []\n",
    "    for i in range(len(original_centers)):\n",
    "        if not (np.array_equal(original_centers[i], transformed_centers[i])):\n",
    "            moved_indices.append(i)\n",
    "    dual_quaternions = np.zeros((len(original_centers), 8), dtype=np.float32)\n",
    "    for i in moved_indices:\n",
    "        original = original_centers[i]\n",
    "        transformed = loaded_transformed_centers[i]\n",
    "        # Compute rotation - assume for simplicity no rotation (identity quaternion)\n",
    "        rotation_quaternion = R.from_quat([0, 0, 0, 1])  # Identity rotation\n",
    "    \n",
    "        # Compute translation as a vector\n",
    "        translation = transformed - original\n",
    "        \n",
    "        # Convert rotation to a quaternion\n",
    "        rotation_quat = rotation_quaternion.as_quat()\n",
    "        \n",
    "        # Dual quaternion: q + ϵ * (0.5 * t * q)\n",
    "        translation_quat = np.hstack((translation, [0]))\n",
    "        dual_quat = np.hstack((rotation_quat, 0.5 * translation_quat))\n",
    "        dual_quaternions[i] = dual_quat\n",
    "    return moved_indices, dual_quaternions"
   ],
   "id": "3c53bb0e26d8e16d",
   "outputs": [],
   "execution_count": 2
  },
  {
   "cell_type": "code",
   "id": "initial_id",
   "metadata": {
    "collapsed": true,
    "ExecuteTime": {
     "end_time": "2024-09-06T14:12:29.198029Z",
     "start_time": "2024-09-06T14:12:28.674996Z"
    }
   },
   "source": [
    "transformed_centers_path = 'G:\\VS2022Projects/tvm-editing-master\\TVMEditor.Test/bin\\Release/net5.0\\Data\\Dancer/reference_centers_aligned.xyz'\n",
    "loaded_transformed_centers = np.loadtxt(transformed_centers_path)\n",
    "\n",
    "for i in range (5, 20):\n",
    "    centers_path = f'G:\\VS2022Projects/tvm-editing-master\\TVMEditor.Test/bin\\Release/net5.0\\Data\\Dancer/centers/dancer_fr0res_2000_{i:03}.xyz'\n",
    "    loaded_centers = np.loadtxt(centers_path)\n",
    "    print(centers_path)\n",
    "    \n",
    "    indices, dual_quaternions = get_dual_quaternions(loaded_centers, loaded_transformed_centers)\n",
    "    \n",
    "    indices_path = f'G:\\VS2022Projects/tvm-editing-master\\TVMEditor.Test/bin\\Release/net5.0\\Data\\Dancer/indices_{i:03}.txt'\n",
    "    np.savetxt(indices_path, indices, fmt='%d')\n",
    "    \n",
    "    dual_quaternions_path = fr'G:\\VS2022Projects/tvm-editing-master\\TVMEditor.Test/bin\\Release/net5.0\\Data\\Dancer\\transformations_{i:03}.txt'\n",
    "    with open(dual_quaternions_path, 'w') as file:\n",
    "        for dq in dual_quaternions:\n",
    "            dq_str = f\"{dq[0]};{dq[1]};{dq[2]};{dq[3]};{dq[4]};{dq[5]};{dq[6]};{dq[7]}\"\n",
    "            file.write(dq_str + '\\n')"
   ],
   "outputs": [
    {
     "name": "stdout",
     "output_type": "stream",
     "text": [
      "G:\\VS2022Projects/tvm-editing-master\\TVMEditor.Test/bin\\Release/net5.0\\Data\\Dancer/centers/dancer_fr0res_2000_005.xyz\n",
      "G:\\VS2022Projects/tvm-editing-master\\TVMEditor.Test/bin\\Release/net5.0\\Data\\Dancer/centers/dancer_fr0res_2000_006.xyz\n",
      "G:\\VS2022Projects/tvm-editing-master\\TVMEditor.Test/bin\\Release/net5.0\\Data\\Dancer/centers/dancer_fr0res_2000_007.xyz\n",
      "G:\\VS2022Projects/tvm-editing-master\\TVMEditor.Test/bin\\Release/net5.0\\Data\\Dancer/centers/dancer_fr0res_2000_008.xyz\n",
      "G:\\VS2022Projects/tvm-editing-master\\TVMEditor.Test/bin\\Release/net5.0\\Data\\Dancer/centers/dancer_fr0res_2000_009.xyz\n",
      "G:\\VS2022Projects/tvm-editing-master\\TVMEditor.Test/bin\\Release/net5.0\\Data\\Dancer/centers/dancer_fr0res_2000_010.xyz\n",
      "G:\\VS2022Projects/tvm-editing-master\\TVMEditor.Test/bin\\Release/net5.0\\Data\\Dancer/centers/dancer_fr0res_2000_011.xyz\n",
      "G:\\VS2022Projects/tvm-editing-master\\TVMEditor.Test/bin\\Release/net5.0\\Data\\Dancer/centers/dancer_fr0res_2000_012.xyz\n",
      "G:\\VS2022Projects/tvm-editing-master\\TVMEditor.Test/bin\\Release/net5.0\\Data\\Dancer/centers/dancer_fr0res_2000_013.xyz\n",
      "G:\\VS2022Projects/tvm-editing-master\\TVMEditor.Test/bin\\Release/net5.0\\Data\\Dancer/centers/dancer_fr0res_2000_014.xyz\n",
      "G:\\VS2022Projects/tvm-editing-master\\TVMEditor.Test/bin\\Release/net5.0\\Data\\Dancer/centers/dancer_fr0res_2000_015.xyz\n",
      "G:\\VS2022Projects/tvm-editing-master\\TVMEditor.Test/bin\\Release/net5.0\\Data\\Dancer/centers/dancer_fr0res_2000_016.xyz\n",
      "G:\\VS2022Projects/tvm-editing-master\\TVMEditor.Test/bin\\Release/net5.0\\Data\\Dancer/centers/dancer_fr0res_2000_017.xyz\n",
      "G:\\VS2022Projects/tvm-editing-master\\TVMEditor.Test/bin\\Release/net5.0\\Data\\Dancer/centers/dancer_fr0res_2000_018.xyz\n",
      "G:\\VS2022Projects/tvm-editing-master\\TVMEditor.Test/bin\\Release/net5.0\\Data\\Dancer/centers/dancer_fr0res_2000_019.xyz\n"
     ]
    }
   ],
   "execution_count": 4
  }
 ],
 "metadata": {
  "kernelspec": {
   "display_name": "Python 3",
   "language": "python",
   "name": "python3"
  },
  "language_info": {
   "codemirror_mode": {
    "name": "ipython",
    "version": 2
   },
   "file_extension": ".py",
   "mimetype": "text/x-python",
   "name": "python",
   "nbconvert_exporter": "python",
   "pygments_lexer": "ipython2",
   "version": "2.7.6"
  }
 },
 "nbformat": 4,
 "nbformat_minor": 5
}
