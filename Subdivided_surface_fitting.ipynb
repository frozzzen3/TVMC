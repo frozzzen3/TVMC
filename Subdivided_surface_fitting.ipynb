{
 "cells": [
  {
   "cell_type": "code",
   "id": "initial_id",
   "metadata": {
    "collapsed": true,
    "ExecuteTime": {
     "end_time": "2024-09-06T18:24:47.572399Z",
     "start_time": "2024-09-06T18:24:47.567397Z"
    }
   },
   "source": [
    "from copy import deepcopy\n",
    "\n",
    "import numpy as np\n",
    "import open3d as o3d\n",
    "from open3d.examples.pipelines.colored_icp_registration import target"
   ],
   "outputs": [],
   "execution_count": 73
  },
  {
   "metadata": {
    "ExecuteTime": {
     "end_time": "2024-09-06T17:45:55.181848Z",
     "start_time": "2024-09-06T17:45:52.344344Z"
    }
   },
   "cell_type": "code",
   "source": [
    "mesh = o3d.io.read_triangle_mesh(fr'G:\\VS2022Projects\\tvm-editing-master\\TVMEditor.Test\\bin\\Release\\net5.0\\data\\Dancer\\meshes/dancer_fr0010.obj')\n",
    "print(mesh)\n",
    "testmesh = o3d.geometry.TriangleMesh()\n",
    "testmesh.vertices = mesh.vertices\n",
    "testmesh.triangles = mesh.triangles\n",
    "testmesh.compute_vertex_normals()\n",
    "\n",
    "print(testmesh.has_textures())\n",
    "print(testmesh)\n",
    "#o3d.visualization.draw_geometries([testmesh])"
   ],
   "id": "94f565a10ab5329e",
   "outputs": [
    {
     "name": "stdout",
     "output_type": "stream",
     "text": [
      "TriangleMesh with 20913 points and 39357 triangles.\n",
      "False\n",
      "TriangleMesh with 20913 points and 39357 triangles.\n"
     ]
    }
   ],
   "execution_count": 42
  },
  {
   "metadata": {
    "ExecuteTime": {
     "end_time": "2024-09-06T18:36:41.040081Z",
     "start_time": "2024-09-06T18:36:34.565396Z"
    }
   },
   "cell_type": "code",
   "source": [
    "decimated_mesh = o3d.geometry.TriangleMesh.simplify_quadric_decimation(testmesh, 10000, boundary_weight= 8000)\n",
    "print(decimated_mesh)\n",
    "decimated_mesh.compute_vertex_normals()\n",
    "o3d.visualization.draw_geometries([decimated_mesh])"
   ],
   "id": "5a573c2b3f58fa8d",
   "outputs": [
    {
     "name": "stdout",
     "output_type": "stream",
     "text": [
      "TriangleMesh with 6168 points and 10000 triangles.\n"
     ]
    }
   ],
   "execution_count": 97
  },
  {
   "metadata": {},
   "cell_type": "markdown",
   "source": [
    "simplify_vertex_clustering is not good for subdivide surface fitting, simplify_quadric_decimation is much better\n",
    "notes that boundary_weight will influence the result of decimated mesh, inappropriate setting leads to holes in the mesh."
   ],
   "id": "deed9ee57f0abcb6"
  },
  {
   "metadata": {
    "ExecuteTime": {
     "end_time": "2024-09-06T18:56:28.458352Z",
     "start_time": "2024-09-06T18:56:28.441870Z"
    }
   },
   "cell_type": "code",
   "source": [
    "def subdivide_surface_fitting(decimated_mesh, target_mesh, iterations=1):\n",
    "    subdivided_mesh = o3d.geometry.TriangleMesh()\n",
    "    subdivided_mesh = o3d.geometry.TriangleMesh.subdivide_midpoint(decimated_mesh, number_of_iterations=iterations)\n",
    "    print(subdivided_mesh)\n",
    "    subdivided_mesh.compute_vertex_normals()\n",
    "    #o3d.visualization.draw_geometries([subdivided_mesh])\n",
    "    \n",
    "    pcd_target = o3d.geometry.PointCloud()\n",
    "    pcd_target.points = o3d.utility.Vector3dVector(target_mesh.vertices)\n",
    "    pcd_tree = o3d.geometry.KDTreeFlann(pcd_target)\n",
    "    subdivided_vertices = np.array(subdivided_mesh.vertices)\n",
    "    target_vertices = np.array(target_mesh.vertices)\n",
    "    fitting_vertices = deepcopy(subdivided_vertices)\n",
    "    \n",
    "    for i in range(0, len(subdivided_vertices)):\n",
    "        [k, index, _] = pcd_tree.search_knn_vector_3d(subdivided_vertices[i], 1)\n",
    "        fitting_vertices[i] = target_vertices[np.asarray(index)]\n",
    "        \n",
    "    subdivided_mesh.vertices = o3d.utility.Vector3dVector(fitting_vertices)\n",
    "    return subdivided_mesh"
   ],
   "id": "76c94e4dd619a32d",
   "outputs": [],
   "execution_count": 105
  },
  {
   "metadata": {
    "ExecuteTime": {
     "end_time": "2024-09-06T18:41:13.233759Z",
     "start_time": "2024-09-06T18:41:02.291277Z"
    }
   },
   "cell_type": "code",
   "source": [
    "fitting_mesh = subdivide_surface_fitting(decimated_mesh, mesh, 1)\n",
    "fitting_mesh.compute_vertex_normals()\n",
    "fitting_mesh.paint_uniform_color([0.7, 0.7, 0.7])\n",
    "mesh.compute_vertex_normals()\n",
    "o3d.visualization.draw_geometries([fitting_mesh])"
   ],
   "id": "cb0789b26a6791a2",
   "outputs": [
    {
     "name": "stdout",
     "output_type": "stream",
     "text": [
      "TriangleMesh with 22314 points and 40000 triangles.\n",
      "22314\n"
     ]
    }
   ],
   "execution_count": 99
  },
  {
   "metadata": {
    "ExecuteTime": {
     "end_time": "2024-09-06T18:54:30.184053Z",
     "start_time": "2024-09-06T18:54:26.504682Z"
    }
   },
   "cell_type": "code",
   "source": [
    "deformed_meshes = []\n",
    "all_meshes = o3d.geometry.TriangleMesh()\n",
    "for i in range(5,10):\n",
    "    mesh = o3d.io.read_triangle_mesh(fr'G:\\VS2022Projects\\tvm-editing-master\\TVMEditor.Test\\bin\\Release\\net5.0\\output\\Dancer\\output/deformed_{i:03}.obj')\n",
    "    mesh.compute_vertex_normals()\n",
    "    #print(mesh)\n",
    "    deformed_meshes.append(mesh)\n",
    "    all_meshes += mesh\n",
    "o3d.visualization.draw_geometries([all_meshes])\n",
    "print(all_meshes, all_meshes.has_vertex_normals())\n",
    "reference_pcd = o3d.geometry.PointCloud()\n",
    "reference_pcd.points = o3d.utility.Vector3dVector(all_meshes.vertices)\n",
    "reference_pcd.normals = o3d.utility.Vector3dVector(all_meshes.vertex_normals)\n",
    "print(reference_pcd, reference_pcd.has_normals())"
   ],
   "id": "50e70967869be3f1",
   "outputs": [
    {
     "name": "stdout",
     "output_type": "stream",
     "text": [
      "TriangleMesh with 98617 points and 196912 triangles. True\n",
      "PointCloud with 98617 points. True\n"
     ]
    }
   ],
   "execution_count": 102
  },
  {
   "metadata": {
    "ExecuteTime": {
     "end_time": "2024-09-06T19:01:29.072548Z",
     "start_time": "2024-09-06T19:01:28.298549Z"
    }
   },
   "cell_type": "code",
   "source": [
    "GoF = 5\n",
    "key = 0\n",
    "fitting_meshes = []\n",
    "for i in range(0,GoF):\n",
    "    if i==key:\n",
    "        continue\n",
    "    decimated_mesh_i = o3d.geometry.TriangleMesh.simplify_quadric_decimation(deformed_meshes[i], 10000, boundary_weight= 8000)\n",
    "    print(decimated_mesh_i)\n",
    "    fitting_mesh_i = subdivide_surface_fitting(decimated_mesh_i, deformed_meshes[key], 1)\n",
    "    print(fitting_mesh_i)\n",
    "    fitting_mesh_i.compute_vertex_normals()\n",
    "    fitting_meshes.append(fitting_mesh_i)\n",
    "fitting_meshes.append(deformed_meshes[key])"
   ],
   "id": "c8abab4f5902708b",
   "outputs": [
    {
     "name": "stdout",
     "output_type": "stream",
     "text": [
      "TriangleMesh with 5035 points and 9999 triangles.\n",
      "TriangleMesh with 20072 points and 39996 triangles.\n",
      "TriangleMesh with 20072 points and 39996 triangles.\n",
      "TriangleMesh with 5038 points and 10000 triangles.\n",
      "TriangleMesh with 20080 points and 40000 triangles.\n",
      "TriangleMesh with 20080 points and 40000 triangles.\n",
      "TriangleMesh with 5042 points and 9999 triangles.\n",
      "TriangleMesh with 20088 points and 39996 triangles.\n",
      "TriangleMesh with 20088 points and 39996 triangles.\n",
      "TriangleMesh with 5041 points and 10000 triangles.\n",
      "TriangleMesh with 20087 points and 40000 triangles.\n",
      "TriangleMesh with 20087 points and 40000 triangles.\n"
     ]
    }
   ],
   "execution_count": 123
  },
  {
   "metadata": {
    "ExecuteTime": {
     "end_time": "2024-09-06T19:21:45.365231Z",
     "start_time": "2024-09-06T19:21:40.885220Z"
    }
   },
   "cell_type": "code",
   "source": [
    "deformed_meshes = []\n",
    "all_meshes = o3d.geometry.TriangleMesh()\n",
    "for i in range(0,GoF):\n",
    "    all_meshes += fitting_meshes[i]\n",
    "#o3d.visualization.draw_geometries([all_meshes])\n",
    "print(all_meshes, all_meshes.has_vertex_normals())\n",
    "reference_pcd = o3d.geometry.PointCloud()\n",
    "reference_pcd.points = o3d.utility.Vector3dVector(all_meshes.vertices)\n",
    "reference_pcd.normals = o3d.utility.Vector3dVector(all_meshes.vertex_normals)\n",
    "print(reference_pcd, reference_pcd.has_normals())\n",
    "print('run Poisson surface reconstruction')\n",
    "with o3d.utility.VerbosityContextManager(o3d.utility.VerbosityLevel.Debug) as cm:\n",
    "    pre_reference_mesh, densities = o3d.geometry.TriangleMesh.create_from_point_cloud_poisson(reference_pcd, depth=9, linear_fit=True)\n",
    "print(mesh)\n",
    "pre_reference_mesh.compute_vertex_normals()\n",
    "\n",
    "pre_reference_mesh.paint_uniform_color([0.7, 0.7, 0.7])\n",
    "o3d.visualization.draw_geometries([pre_reference_mesh])"
   ],
   "id": "3d7324b85119c998",
   "outputs": [
    {
     "name": "stdout",
     "output_type": "stream",
     "text": [
      "TriangleMesh with 100051 points and 199372 triangles. True\n",
      "PointCloud with 100051 points. True\n",
      "run Poisson surface reconstruction\n",
      "[Open3D DEBUG] Input Points / Samples: 100051 / 18528\n",
      "[Open3D DEBUG] #   Got kernel density: 0.0120001 (s), 433.355 (MB) / 433.355 (MB) / 603 (MB)\n",
      "[Open3D DEBUG] #     Got normal field: 0.236 (s), 435.086 (MB) / 435.086 (MB) / 603 (MB)\n",
      "[Open3D DEBUG] Point weight / Estimated Area: 7.589807e-06 / 7.593678e-01\n",
      "[Open3D DEBUG] #       Finalized tree: 0.151 (s), 464.398 (MB) / 464.398 (MB) / 603 (MB)\n",
      "[Open3D DEBUG] #  Set FEM constraints: 0.0870001 (s), 447.199 (MB) / 464.398 (MB) / 603 (MB)\n",
      "[Open3D DEBUG] #Set point constraints: 0.027 (s), 445.844 (MB) / 464.398 (MB) / 603 (MB)\n",
      "[Open3D DEBUG] Leaf Nodes / Active Nodes / Ghost Nodes: 839231 / 955032 / 4089\n",
      "[Open3D DEBUG] Memory Usage: 445.844 MB\n",
      "[Open3D DEBUG] # Linear system solved: 0.344 (s), 471.207 (MB) / 471.207 (MB) / 603 (MB)\n",
      "[Open3D DEBUG] Got average: 0.00300002 (s), 450.488 (MB) / 471.207 (MB) / 603 (MB)\n",
      "[Open3D DEBUG] Iso-Value: 5.041317e-01 = 5.043888e+04 / 1.000510e+05\n",
      "[Open3D DEBUG] #          Total Solve:       1.7 (s),     473.6 (MB)\n",
      "TriangleMesh with 174864 points and 349728 triangles.\n"
     ]
    }
   ],
   "execution_count": 132
  },
  {
   "metadata": {
    "ExecuteTime": {
     "end_time": "2024-09-06T19:21:51.965930Z",
     "start_time": "2024-09-06T19:21:46.808508Z"
    }
   },
   "cell_type": "code",
   "source": [
    "reference_mesh = o3d.geometry.TriangleMesh.simplify_quadric_decimation(pre_reference_mesh, 40000, boundary_weight= 8000)\n",
    "print(reference_mesh)\n",
    "reference_mesh.compute_vertex_normals()\n",
    "o3d.visualization.draw_geometries([reference_mesh])"
   ],
   "id": "b5b9141f52c1c783",
   "outputs": [
    {
     "name": "stdout",
     "output_type": "stream",
     "text": [
      "TriangleMesh with 20008 points and 40000 triangles.\n"
     ]
    }
   ],
   "execution_count": 133
  }
 ],
 "metadata": {
  "kernelspec": {
   "display_name": "Python 3",
   "language": "python",
   "name": "python3"
  },
  "language_info": {
   "codemirror_mode": {
    "name": "ipython",
    "version": 2
   },
   "file_extension": ".py",
   "mimetype": "text/x-python",
   "name": "python",
   "nbconvert_exporter": "python",
   "pygments_lexer": "ipython2",
   "version": "2.7.6"
  }
 },
 "nbformat": 4,
 "nbformat_minor": 5
}
