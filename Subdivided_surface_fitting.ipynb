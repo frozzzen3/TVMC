{
 "cells": [
  {
   "cell_type": "code",
   "id": "initial_id",
   "metadata": {
    "collapsed": true,
    "ExecuteTime": {
     "end_time": "2024-09-19T14:39:14.423652Z",
     "start_time": "2024-09-19T14:39:13.412015Z"
    }
   },
   "source": [
    "from copy import deepcopy\n",
    "\n",
    "import numpy as np\n",
    "import open3d as o3d\n",
    "import trimesh"
   ],
   "outputs": [
    {
     "name": "stdout",
     "output_type": "stream",
     "text": [
      "Jupyter environment detected. Enabling Open3D WebVisualizer.\n",
      "[Open3D INFO] WebRTC GUI backend enabled.\n",
      "[Open3D INFO] WebRTCWindowSystem: HTTP handshake server disabled.\n"
     ]
    }
   ],
   "execution_count": 1
  },
  {
   "metadata": {},
   "cell_type": "markdown",
   "source": [
    "simplify_vertex_clustering is not good for subdivide surface fitting, simplify_quadric_decimation is much better\n",
    "notes that boundary_weight will influence the result of decimated mesh, inappropriate setting leads to holes in the mesh."
   ],
   "id": "deed9ee57f0abcb6"
  },
  {
   "metadata": {
    "ExecuteTime": {
     "end_time": "2024-09-19T14:39:16.234075Z",
     "start_time": "2024-09-19T14:39:16.218446Z"
    }
   },
   "cell_type": "code",
   "source": [
    "def subdivide_surface_fitting(decimated_mesh, target_mesh, iterations=1):\n",
    "    subdivided_mesh = o3d.geometry.TriangleMesh.subdivide_midpoint(decimated_mesh, number_of_iterations=iterations)\n",
    "    print(subdivided_mesh)\n",
    "    subdivided_mesh.compute_vertex_normals()\n",
    "    \n",
    "    pcd_target = o3d.geometry.PointCloud()\n",
    "    pcd_target.points = o3d.utility.Vector3dVector(target_mesh.vertices)\n",
    "    pcd_tree = o3d.geometry.KDTreeFlann(pcd_target)\n",
    "    subdivided_vertices = np.array(subdivided_mesh.vertices)\n",
    "    target_vertices = np.array(target_mesh.vertices)\n",
    "    fitting_vertices = deepcopy(subdivided_vertices)\n",
    "    \n",
    "    for i in range(0, len(subdivided_vertices)):\n",
    "        [k, index, _] = pcd_tree.search_knn_vector_3d(subdivided_vertices[i], 1)\n",
    "        fitting_vertices[i] = target_vertices[np.asarray(index)]\n",
    "        \n",
    "    subdivided_mesh.vertices = o3d.utility.Vector3dVector(fitting_vertices)\n",
    "    return subdivided_mesh"
   ],
   "id": "76c94e4dd619a32d",
   "outputs": [],
   "execution_count": 2
  },
  {
   "metadata": {
    "ExecuteTime": {
     "end_time": "2024-09-19T18:18:33.207849Z",
     "start_time": "2024-09-19T18:18:22.751216Z"
    }
   },
   "cell_type": "code",
   "source": [
    "deformed_meshes = []\n",
    "all_meshes = o3d.geometry.TriangleMesh()\n",
    "for i in range(5,20):\n",
    "    mesh = o3d.io.read_triangle_mesh(fr'G:\\VS2022Projects\\tvm-editing-master\\TVMEditor.Test\\bin\\Release\\net5.0\\output\\Dancer\\output/deformed_{i:03}.obj')\n",
    "    mesh.compute_vertex_normals()\n",
    "    deformed_meshes.append(mesh)\n",
    "    all_meshes += mesh\n",
    "o3d.visualization.draw_geometries([all_meshes])\n",
    "print(all_meshes, all_meshes.has_vertex_normals())\n",
    "reference_pcd = o3d.geometry.PointCloud()\n",
    "reference_pcd.points = o3d.utility.Vector3dVector(all_meshes.vertices)\n",
    "reference_pcd.normals = o3d.utility.Vector3dVector(all_meshes.vertex_normals)\n",
    "print(reference_pcd, reference_pcd.has_normals())"
   ],
   "id": "50e70967869be3f1",
   "outputs": [
    {
     "name": "stdout",
     "output_type": "stream",
     "text": [
      "TriangleMesh with 295815 points and 590681 triangles. True\n",
      "PointCloud with 295815 points. True\n"
     ]
    }
   ],
   "execution_count": 14
  },
  {
   "metadata": {
    "ExecuteTime": {
     "end_time": "2024-09-19T18:18:58.678565Z",
     "start_time": "2024-09-19T18:18:55.859848Z"
    }
   },
   "cell_type": "code",
   "source": [
    "GoF = 15\n",
    "key = 7 # index of the key frame to fit \n",
    "fitting_meshes = []\n",
    "for i in range(0,GoF):\n",
    "    if i==key:\n",
    "        continue\n",
    "    decimated_mesh_i = o3d.geometry.TriangleMesh.simplify_quadric_decimation(deformed_meshes[i], 10000, boundary_weight= 8000)\n",
    "    print(decimated_mesh_i)\n",
    "    fitting_mesh_i = subdivide_surface_fitting(decimated_mesh_i, deformed_meshes[key], 1)\n",
    "    print(fitting_mesh_i)\n",
    "    fitting_mesh_i.compute_vertex_normals()\n",
    "    fitting_meshes.append(fitting_mesh_i)\n",
    "fitting_meshes.append(deformed_meshes[key])"
   ],
   "id": "c8abab4f5902708b",
   "outputs": [
    {
     "name": "stdout",
     "output_type": "stream",
     "text": [
      "TriangleMesh with 5038 points and 9999 triangles.\n",
      "TriangleMesh with 20077 points and 39996 triangles.\n",
      "TriangleMesh with 20077 points and 39996 triangles.\n",
      "TriangleMesh with 5035 points and 9999 triangles.\n",
      "TriangleMesh with 20072 points and 39996 triangles.\n",
      "TriangleMesh with 20072 points and 39996 triangles.\n",
      "TriangleMesh with 5038 points and 10000 triangles.\n",
      "TriangleMesh with 20080 points and 40000 triangles.\n",
      "TriangleMesh with 20080 points and 40000 triangles.\n",
      "TriangleMesh with 5042 points and 9999 triangles.\n",
      "TriangleMesh with 20088 points and 39996 triangles.\n",
      "TriangleMesh with 20088 points and 39996 triangles.\n",
      "TriangleMesh with 5041 points and 10000 triangles.\n",
      "TriangleMesh with 20087 points and 40000 triangles.\n",
      "TriangleMesh with 20087 points and 40000 triangles.\n",
      "TriangleMesh with 5044 points and 10000 triangles.\n",
      "TriangleMesh with 20093 points and 40000 triangles.\n",
      "TriangleMesh with 20093 points and 40000 triangles.\n",
      "TriangleMesh with 5042 points and 10000 triangles.\n",
      "TriangleMesh with 20087 points and 40000 triangles.\n",
      "TriangleMesh with 20087 points and 40000 triangles.\n",
      "TriangleMesh with 5034 points and 9999 triangles.\n",
      "TriangleMesh with 20069 points and 39996 triangles.\n",
      "TriangleMesh with 20069 points and 39996 triangles.\n",
      "TriangleMesh with 5033 points and 9999 triangles.\n",
      "TriangleMesh with 20066 points and 39996 triangles.\n",
      "TriangleMesh with 20066 points and 39996 triangles.\n",
      "TriangleMesh with 5037 points and 9999 triangles.\n",
      "TriangleMesh with 20077 points and 39996 triangles.\n",
      "TriangleMesh with 20077 points and 39996 triangles.\n",
      "TriangleMesh with 5040 points and 10000 triangles.\n",
      "TriangleMesh with 20085 points and 40000 triangles.\n",
      "TriangleMesh with 20085 points and 40000 triangles.\n",
      "TriangleMesh with 5036 points and 9999 triangles.\n",
      "TriangleMesh with 20081 points and 39996 triangles.\n",
      "TriangleMesh with 20081 points and 39996 triangles.\n",
      "TriangleMesh with 5040 points and 9999 triangles.\n",
      "TriangleMesh with 20082 points and 39996 triangles.\n",
      "TriangleMesh with 20082 points and 39996 triangles.\n",
      "TriangleMesh with 5039 points and 9999 triangles.\n",
      "TriangleMesh with 20078 points and 39996 triangles.\n",
      "TriangleMesh with 20078 points and 39996 triangles.\n"
     ]
    }
   ],
   "execution_count": 15
  },
  {
   "metadata": {
    "ExecuteTime": {
     "end_time": "2024-09-19T18:19:33.070737Z",
     "start_time": "2024-09-19T18:19:07.867009Z"
    }
   },
   "cell_type": "code",
   "source": [
    "all_meshes = o3d.geometry.TriangleMesh()\n",
    "for i in range(0,GoF):\n",
    "    all_meshes += fitting_meshes[i]\n",
    "print(all_meshes, all_meshes.has_vertex_normals())\n",
    "reference_pcd = o3d.geometry.PointCloud()\n",
    "reference_pcd.points = o3d.utility.Vector3dVector(all_meshes.vertices)\n",
    "reference_pcd.normals = o3d.utility.Vector3dVector(all_meshes.vertex_normals)\n",
    "print(reference_pcd, reference_pcd.has_normals())\n",
    "print('run Poisson surface reconstruction')\n",
    "with o3d.utility.VerbosityContextManager(o3d.utility.VerbosityLevel.Debug) as cm:\n",
    "    pre_reference_mesh, densities = o3d.geometry.TriangleMesh.create_from_point_cloud_poisson(reference_pcd, depth=9, linear_fit=True)\n",
    "print(pre_reference_mesh)\n",
    "pre_reference_mesh.compute_vertex_normals()\n",
    "\n",
    "pre_reference_mesh.paint_uniform_color([0.7, 0.7, 0.7])\n",
    "#o3d.visualization.draw_geometries([pre_reference_mesh])\n",
    "\n",
    "reference_mesh = o3d.geometry.TriangleMesh.simplify_quadric_decimation(pre_reference_mesh, 40000, boundary_weight= 8000)\n",
    "print(reference_mesh)\n",
    "reference_mesh.compute_vertex_normals()\n",
    "\n",
    "o3d.visualization.draw_geometries([reference_mesh])\n",
    "o3d.io.write_triangle_mesh(fr'G:\\VS2022Projects\\tvm-editing-master\\TVMEditor.Test\\bin\\Release\\net5.0\\Data\\Dancer/reference_mesh/reference_mesh_{GoF:02}.obj', reference_mesh, write_vertex_normals=False, write_vertex_colors=False, write_triangle_uvs=False)"
   ],
   "id": "3d7324b85119c998",
   "outputs": [
    {
     "name": "stdout",
     "output_type": "stream",
     "text": [
      "TriangleMesh with 300838 points and 599329 triangles. True\n",
      "PointCloud with 300838 points. True\n",
      "run Poisson surface reconstruction\n",
      "[Open3D DEBUG] Input Points / Samples: 300838 / 18462\n",
      "[Open3D DEBUG] #   Got kernel density: 0.0120001 (s), 437.273 (MB) / 497.426 (MB) / 651 (MB)\n",
      "[Open3D DEBUG] #     Got normal field: 0.191 (s), 457.676 (MB) / 497.426 (MB) / 651 (MB)\n",
      "[Open3D DEBUG] Point weight / Estimated Area: 2.573483e-06 / 7.742016e-01\n",
      "[Open3D DEBUG] #       Finalized tree: 0.161 (s), 502.918 (MB) / 502.918 (MB) / 651 (MB)\n",
      "[Open3D DEBUG] #  Set FEM constraints: 0.347 (s), 484.707 (MB) / 502.918 (MB) / 651 (MB)\n",
      "[Open3D DEBUG] #Set point constraints: 0.033 (s), 483.52 (MB) / 502.918 (MB) / 651 (MB)\n",
      "[Open3D DEBUG] Leaf Nodes / Active Nodes / Ghost Nodes: 873398 / 998152 / 17\n",
      "[Open3D DEBUG] Memory Usage: 483.520 MB\n",
      "[Open3D DEBUG] # Linear system solved: 0.352 (s), 518.879 (MB) / 518.879 (MB) / 651 (MB)\n",
      "[Open3D DEBUG] Got average: 0.00300002 (s), 497.621 (MB) / 518.879 (MB) / 651 (MB)\n",
      "[Open3D DEBUG] Iso-Value: 5.035142e-01 = 1.514762e+05 / 3.008380e+05\n",
      "[Open3D DEBUG] #          Total Solve:       2.0 (s),     542.5 (MB)\n",
      "TriangleMesh with 186112 points and 372240 triangles.\n",
      "TriangleMesh with 20005 points and 40000 triangles.\n",
      "[Open3D WARNING] Write OBJ can not include triangle normals.\n"
     ]
    },
    {
     "data": {
      "text/plain": [
       "True"
      ]
     },
     "execution_count": 16,
     "metadata": {},
     "output_type": "execute_result"
    }
   ],
   "execution_count": 16
  },
  {
   "metadata": {
    "ExecuteTime": {
     "end_time": "2024-09-19T18:20:52.511640Z",
     "start_time": "2024-09-19T18:20:50.374050Z"
    }
   },
   "cell_type": "code",
   "source": [
    "load_reference_mesh = o3d.io.read_triangle_mesh(fr'G:\\VS2022Projects\\tvm-editing-master\\TVMEditor.Test\\bin\\Release\\net5.0\\Data\\Dancer/reference_mesh/reference_mesh_{GoF:02}.obj', enable_post_processing = False)\n",
    "print(load_reference_mesh)\n",
    "\n",
    "o3d.io.write_triangle_mesh(fr'G:\\VS2022Projects\\tvm-editing-master\\TVMEditor.Test\\bin\\Release\\net5.0\\Data\\Dancer/reference_mesh/reference_mesh.obj_{GoF:02}', load_reference_mesh, write_vertex_normals=False, write_vertex_colors=False, write_triangle_uvs=False)\n",
    "load_reference_mesh = o3d.io.read_triangle_mesh(fr'G:\\VS2022Projects\\tvm-editing-master\\TVMEditor.Test\\bin\\Release\\net5.0\\Data\\Dancer/reference_mesh/reference_mesh_{GoF:02}.obj', enable_post_processing = False)\n",
    "print(load_reference_mesh)\n",
    "reference_vertices = np.array(load_reference_mesh.vertices)\n",
    "load_reference_mesh.compute_vertex_normals()\n",
    "o3d.visualization.draw_geometries([load_reference_mesh])\n",
    "load_reference_mesh.paint_uniform_color([0.7, 0.7, 0.7])\n",
    "print(reference_vertices)"
   ],
   "id": "beb5c29f50b59558",
   "outputs": [
    {
     "name": "stdout",
     "output_type": "stream",
     "text": [
      "TriangleMesh with 19993 points and 40000 triangles.\n",
      "[Open3D WARNING] Write geometry::TriangleMesh failed: unknown file extension.\n",
      "TriangleMesh with 19993 points and 40000 triangles.\n",
      "[[ 0.0789528   0.89884597 -0.47032499]\n",
      " [ 0.0719497   0.88984197 -0.468503  ]\n",
      " [ 0.074003    0.90584898 -0.46656099]\n",
      " ...\n",
      " [-0.33023399  0.80180103  0.131146  ]\n",
      " [-0.33223501  0.80980498  0.129778  ]\n",
      " [-0.0125943   1.04575002  0.192404  ]]\n"
     ]
    }
   ],
   "execution_count": 17
  },
  {
   "metadata": {
    "ExecuteTime": {
     "end_time": "2024-09-19T18:20:55.038130Z",
     "start_time": "2024-09-19T18:20:54.705198Z"
    }
   },
   "cell_type": "code",
   "source": [
    "load_reference_mesh_trimesh = o3d.io.read_triangle_mesh(fr'G:\\VS2022Projects\\tvm-editing-master\\TVMEditor.Test\\bin\\Release\\net5.0\\Data\\Dancer/reference_mesh/reference_mesh_{GoF}.obj', enable_post_processing = False)\n",
    "\n",
    "print(np.array(load_reference_mesh_trimesh.vertices).__len__())\n",
    "decimated_reference_mesh = o3d.geometry.TriangleMesh.simplify_quadric_decimation(load_reference_mesh_trimesh, 10000, boundary_weight= 8000)\n",
    "print(decimated_reference_mesh)\n",
    "\n",
    "subdivided_mesh = o3d.geometry.TriangleMesh.subdivide_midpoint(decimated_reference_mesh, number_of_iterations=1)\n",
    "print(subdivided_mesh)\n",
    "o3d.io.write_triangle_mesh(r'G:\\VS2022Projects\\tvm-editing-master\\TVMEditor.Test\\bin\\Release\\net5.0\\Data\\Dancer\\reference_mesh/decimated_reference_mesh.obj', decimated_reference_mesh, write_vertex_normals=False, write_vertex_colors=False, write_triangle_uvs=False)\n",
    "o3d.io.write_triangle_mesh(r'G:\\VS2022Projects\\tvm-editing-master\\TVMEditor.Test\\bin\\Release\\net5.0\\Data\\Dancer\\reference_mesh/subdivided_reference_mesh.obj', subdivided_mesh, write_vertex_normals=False, write_vertex_colors=False, write_triangle_uvs=False)\n"
   ],
   "id": "5addb40478879587",
   "outputs": [
    {
     "name": "stdout",
     "output_type": "stream",
     "text": [
      "19993\n",
      "TriangleMesh with 4993 points and 10000 triangles.\n",
      "TriangleMesh with 19993 points and 40000 triangles.\n"
     ]
    },
    {
     "data": {
      "text/plain": [
       "True"
      ]
     },
     "execution_count": 18,
     "metadata": {},
     "output_type": "execute_result"
    }
   ],
   "execution_count": 18
  },
  {
   "metadata": {},
   "cell_type": "markdown",
   "source": "## this function helps avoid that the order of vertices changes, which is caused by open3d",
   "id": "454ddf5f5f64e4d4"
  },
  {
   "metadata": {
    "ExecuteTime": {
     "end_time": "2024-09-17T18:23:41.417432Z",
     "start_time": "2024-09-17T18:23:41.401817Z"
    }
   },
   "cell_type": "code",
   "source": [
    "def read_triangle_mesh_with_trimesh(avatar_name,enable_post_processing=False):\n",
    "    # EDIT: next 4 lines replace to maintain order even in case of degenerate and non referenced\n",
    "    # scene_patch = trimesh.load(avatar_name,process=enable_post_processing)\n",
    "    if enable_post_processing:\n",
    "        scene_patch = trimesh.load(avatar_name,process=True)\n",
    "    else:\n",
    "        scene_patch = trimesh.load(avatar_name,process=False,maintain_order=True) \n",
    "    mesh = o3d.geometry.TriangleMesh(\n",
    "        o3d.utility.Vector3dVector(scene_patch.vertices),\n",
    "        o3d.utility.Vector3iVector(scene_patch.faces)\n",
    "    ) \n",
    "    if scene_patch.vertex_normals.size:\n",
    "        mesh.vertex_normals = o3d.utility.Vector3dVector(scene_patch.vertex_normals.copy())\n",
    "    if scene_patch.visual.defined:\n",
    "        # either texture or vertex colors if no uvs present.\n",
    "        if scene_patch.visual.kind == 'vertex':\n",
    "            mesh.vertex_colors = o3d.utility.Vector3dVector(scene_patch.visual.vertex_colors[:,:3]/255) # no alpha channel support\n",
    "        elif scene_patch.visual.kind == 'texture':\n",
    "            uv = scene_patch.visual.uv\n",
    "            if uv.shape[0] == scene_patch.vertices.shape[0]:\n",
    "                mesh.triangle_uvs = o3d.utility.Vector2dVector(uv[scene_patch.faces.flatten()])\n",
    "            elif uv.shape[0] != scene_patch.faces.shape[0] * 3:\n",
    "                assert False\n",
    "            else:\n",
    "                mesh.triangle_uvs = o3d.utility.Vector2dVector(uv)\n",
    "                if scene_patch.visual.material is not None and scene_patch.visual.material.image is not None:\n",
    "                    if scene_patch.visual.material.image.mode == 'RGB':\n",
    "                        mesh.textures = [o3d.geometry.Image(np.asarray(scene_patch.visual.material.image))]\n",
    "                    else:\n",
    "                        assert False\n",
    "        else:\n",
    "            assert False\n",
    "    return mesh"
   ],
   "id": "53eabb8bf315c320",
   "outputs": [],
   "execution_count": 9
  },
  {
   "metadata": {},
   "cell_type": "markdown",
   "source": "## deal with reorder problem",
   "id": "c55787082c225960"
  },
  {
   "metadata": {},
   "cell_type": "markdown",
   "source": "try store a reindexer in color attribute, but Draco eliminates all color information when encoding, so this is not feasible for our project",
   "id": "dec45e24fb3070e2"
  },
  {
   "metadata": {},
   "cell_type": "code",
   "source": [
    "mesh = deepcopy(load_reference_mesh)\n",
    "true_colors = np.array(mesh.vertex_colors,copy=True)\n",
    "vertex_reindexer = np.arange(len(mesh.vertices))\n",
    "mesh.vertex_colors = o3d.utility.Vector3dVector((vertex_reindexer / vertex_reindexer[-1]).reshape(-1,1)[:,[0,0,0]])\n",
    "o3d.io.write_triangle_mesh(\n",
    "    r'G:\\VS2022Projects\\tvm-editing-master\\TVMEditor.Test\\bin\\Release\\net5.0\\Data\\Dancer\\reference_mesh/order_reference_mesh.obj',mesh,\n",
    "    write_ascii=False,write_vertex_normals = False, write_vertex_colors = True\n",
    ")\n",
    "hardened_mesh = o3d.io.read_triangle_mesh(r'G:\\VS2022Projects\\tvm-editing-master\\TVMEditor.Test\\bin\\Release\\net5.0\\Data\\Dancer\\reference_mesh/order_reference_mesh.obj',enable_post_processing = False)\n",
    "remaining_reordered_vertices = (np.asarray(hardened_mesh.vertex_colors)[:,0] * vertex_reindexer[-1] + 0.5).astype(int)\n",
    "hardened_mesh.vertex_colors = o3d.utility.Vector3dVector(true_colors[remaining_reordered_vertices])\n",
    "# reorder all additional data linked to the vertices using the remaining_reordered_vertices\n",
    "# store the hardened_mesh using the final filename"
   ],
   "id": "e0c2e373f3114a64",
   "outputs": [],
   "execution_count": null
  }
 ],
 "metadata": {
  "kernelspec": {
   "display_name": "Python 3",
   "language": "python",
   "name": "python3"
  },
  "language_info": {
   "codemirror_mode": {
    "name": "ipython",
    "version": 2
   },
   "file_extension": ".py",
   "mimetype": "text/x-python",
   "name": "python",
   "nbconvert_exporter": "python",
   "pygments_lexer": "ipython2",
   "version": "2.7.6"
  }
 },
 "nbformat": 4,
 "nbformat_minor": 5
}
