{
 "cells": [
  {
   "cell_type": "code",
   "id": "initial_id",
   "metadata": {
    "collapsed": true,
    "ExecuteTime": {
     "end_time": "2024-09-21T20:50:21.146450Z",
     "start_time": "2024-09-21T20:50:20.277118Z"
    }
   },
   "source": [
    "from copy import deepcopy\n",
    "\n",
    "import numpy as np\n",
    "import open3d as o3d\n",
    "import trimesh\n",
    "from open3d.examples.visualization.to_mitsuba import dataset"
   ],
   "outputs": [
    {
     "name": "stdout",
     "output_type": "stream",
     "text": [
      "Jupyter environment detected. Enabling Open3D WebVisualizer.\n",
      "[Open3D INFO] WebRTC GUI backend enabled.\n",
      "[Open3D INFO] WebRTCWindowSystem: HTTP handshake server disabled.\n"
     ]
    }
   ],
   "execution_count": 1
  },
  {
   "metadata": {},
   "cell_type": "markdown",
   "source": [
    "simplify_vertex_clustering is not good for subdivide surface fitting, simplify_quadric_decimation is much better\n",
    "notes that boundary_weight will influence the result of decimated mesh, inappropriate setting leads to holes in the mesh."
   ],
   "id": "deed9ee57f0abcb6"
  },
  {
   "metadata": {
    "ExecuteTime": {
     "end_time": "2024-09-21T21:13:03.970633Z",
     "start_time": "2024-09-21T21:13:03.955008Z"
    }
   },
   "cell_type": "code",
   "source": [
    "def subdivide_surface_fitting(decimated_mesh, target_mesh, iterations=1):\n",
    "    subdivided_mesh = o3d.geometry.TriangleMesh.subdivide_midpoint(decimated_mesh, number_of_iterations=iterations)\n",
    "    print(subdivided_mesh)\n",
    "    subdivided_mesh.compute_vertex_normals()\n",
    "    \n",
    "    pcd_target = o3d.geometry.PointCloud()\n",
    "    pcd_target.points = o3d.utility.Vector3dVector(target_mesh.vertices)\n",
    "    pcd_tree = o3d.geometry.KDTreeFlann(pcd_target)\n",
    "    subdivided_vertices = np.array(subdivided_mesh.vertices)\n",
    "    target_vertices = np.array(target_mesh.vertices)\n",
    "    fitting_vertices = deepcopy(subdivided_vertices)\n",
    "    \n",
    "    for i in range(0, len(subdivided_vertices)):\n",
    "        [k, index, _] = pcd_tree.search_knn_vector_3d(subdivided_vertices[i], 1)\n",
    "        fitting_vertices[i] = target_vertices[np.asarray(index)]\n",
    "        \n",
    "    subdivided_mesh.vertices = o3d.utility.Vector3dVector(fitting_vertices)\n",
    "    return subdivided_mesh"
   ],
   "id": "76c94e4dd619a32d",
   "outputs": [],
   "execution_count": 9
  },
  {
   "metadata": {
    "ExecuteTime": {
     "end_time": "2024-09-21T21:13:16.993143Z",
     "start_time": "2024-09-21T21:13:05.018720Z"
    }
   },
   "cell_type": "code",
   "source": [
    "deformed_meshes = []\n",
    "all_meshes = o3d.geometry.TriangleMesh()\n",
    "for i in range(1,16):\n",
    "    mesh = o3d.io.read_triangle_mesh(fr'G:\\VS2022Projects\\tvm-editing-master\\TVMEditor.Test\\bin\\Release\\net5.0\\output\\Mitch\\output/deformed_{i:03}.obj')\n",
    "    mesh.compute_vertex_normals()\n",
    "    deformed_meshes.append(mesh)\n",
    "    all_meshes += mesh\n",
    "o3d.visualization.draw_geometries([all_meshes])\n",
    "print(all_meshes, all_meshes.has_vertex_normals())\n",
    "reference_pcd = o3d.geometry.PointCloud()\n",
    "reference_pcd.points = o3d.utility.Vector3dVector(all_meshes.vertices)\n",
    "reference_pcd.normals = o3d.utility.Vector3dVector(all_meshes.vertex_normals)\n",
    "print(reference_pcd, reference_pcd.has_normals())"
   ],
   "id": "50e70967869be3f1",
   "outputs": [
    {
     "name": "stdout",
     "output_type": "stream",
     "text": [
      "TriangleMesh with 224896 points and 450000 triangles. True\n",
      "PointCloud with 224896 points. True\n"
     ]
    }
   ],
   "execution_count": 10
  },
  {
   "metadata": {
    "ExecuteTime": {
     "end_time": "2024-09-21T21:15:23.407203Z",
     "start_time": "2024-09-21T21:15:17.675820Z"
    }
   },
   "cell_type": "code",
   "source": [
    "GoF = 5\n",
    "key = 7 # index of the key frame to fit \n",
    "fitting_meshes = []\n",
    "for i in range(5, 5 + GoF):\n",
    "    if i==key:\n",
    "        continue\n",
    "    decimated_mesh_i = o3d.geometry.TriangleMesh.simplify_quadric_decimation(deformed_meshes[i], 10000, boundary_weight= 8000)\n",
    "    print(decimated_mesh_i)\n",
    "    fitting_mesh_i = subdivide_surface_fitting(decimated_mesh_i, deformed_meshes[key], 1)\n",
    "    print(fitting_mesh_i)\n",
    "    fitting_mesh_i.compute_vertex_normals()\n",
    "    fitting_meshes.append(fitting_mesh_i)\n",
    "fitting_meshes.append(deformed_meshes[key])\n",
    "o3d.visualization.draw_geometries(fitting_meshes)"
   ],
   "id": "c8abab4f5902708b",
   "outputs": [
    {
     "name": "stdout",
     "output_type": "stream",
     "text": [
      "TriangleMesh with 5013 points and 10000 triangles.\n",
      "TriangleMesh with 20034 points and 40000 triangles.\n",
      "TriangleMesh with 20034 points and 40000 triangles.\n",
      "TriangleMesh with 5013 points and 9999 triangles.\n",
      "TriangleMesh with 20033 points and 39996 triangles.\n",
      "TriangleMesh with 20033 points and 39996 triangles.\n",
      "TriangleMesh with 5017 points and 9999 triangles.\n",
      "TriangleMesh with 20041 points and 39996 triangles.\n",
      "TriangleMesh with 20041 points and 39996 triangles.\n",
      "TriangleMesh with 5019 points and 10000 triangles.\n",
      "TriangleMesh with 20047 points and 40000 triangles.\n",
      "TriangleMesh with 20047 points and 40000 triangles.\n"
     ]
    }
   ],
   "execution_count": 11
  },
  {
   "metadata": {
    "ExecuteTime": {
     "end_time": "2024-09-21T21:15:43.828814Z",
     "start_time": "2024-09-21T21:15:35.422191Z"
    }
   },
   "cell_type": "code",
   "source": [
    "all_meshes = o3d.geometry.TriangleMesh()\n",
    "for i in range(0,GoF):\n",
    "    all_meshes += fitting_meshes[i]\n",
    "print(all_meshes, all_meshes.has_vertex_normals())\n",
    "reference_pcd = o3d.geometry.PointCloud()\n",
    "reference_pcd.points = o3d.utility.Vector3dVector(all_meshes.vertices)\n",
    "reference_pcd.normals = o3d.utility.Vector3dVector(all_meshes.vertex_normals)\n",
    "print(reference_pcd, reference_pcd.has_normals())\n",
    "print('run Poisson surface reconstruction')\n",
    "with o3d.utility.VerbosityContextManager(o3d.utility.VerbosityLevel.Debug) as cm:\n",
    "    pre_reference_mesh, densities = o3d.geometry.TriangleMesh.create_from_point_cloud_poisson(reference_pcd, depth=9, linear_fit=True)\n",
    "print(pre_reference_mesh)\n",
    "pre_reference_mesh.compute_vertex_normals()\n",
    "\n",
    "pre_reference_mesh.paint_uniform_color([0.7, 0.7, 0.7])\n",
    "#o3d.visualization.draw_geometries([pre_reference_mesh])\n",
    "\n",
    "reference_mesh = o3d.geometry.TriangleMesh.simplify_quadric_decimation(pre_reference_mesh, 40000, boundary_weight= 8000)\n",
    "print(reference_mesh)\n",
    "reference_mesh.compute_vertex_normals()\n",
    "\n",
    "o3d.visualization.draw_geometries([reference_mesh])\n",
    "o3d.io.write_triangle_mesh(fr'G:\\VS2022Projects\\tvm-editing-master\\TVMEditor.Test\\bin\\Release\\net5.0\\Data\\Mitch/reference_mesh/reference_mesh_{GoF:02}.obj', reference_mesh, write_vertex_normals=False, write_vertex_colors=False, write_triangle_uvs=False)"
   ],
   "id": "3d7324b85119c998",
   "outputs": [
    {
     "name": "stdout",
     "output_type": "stream",
     "text": [
      "TriangleMesh with 95148 points and 189992 triangles. True\n",
      "PointCloud with 95148 points. True\n",
      "run Poisson surface reconstruction\n",
      "[Open3D DEBUG] Input Points / Samples: 95148 / 14472\n",
      "[Open3D DEBUG] #   Got kernel density: 0.013 (s), 351.938 (MB) / 416.637 (MB) / 606 (MB)\n",
      "[Open3D DEBUG] #     Got normal field: 0.235 (s), 383.09 (MB) / 416.637 (MB) / 606 (MB)\n",
      "[Open3D DEBUG] Point weight / Estimated Area: 9.307476e-06 / 8.855877e-01\n",
      "[Open3D DEBUG] #       Finalized tree: 0.152 (s), 427.41 (MB) / 427.41 (MB) / 606 (MB)\n",
      "[Open3D DEBUG] #  Set FEM constraints: 0.096 (s), 408.867 (MB) / 427.41 (MB) / 606 (MB)\n",
      "[Open3D DEBUG] #Set point constraints: 0.03 (s), 388.84 (MB) / 427.41 (MB) / 606 (MB)\n",
      "[Open3D DEBUG] Leaf Nodes / Active Nodes / Ghost Nodes: 886754 / 1003360 / 10073\n",
      "[Open3D DEBUG] Memory Usage: 388.840 MB\n",
      "[Open3D DEBUG] # Linear system solved: 0.389 (s), 430.5 (MB) / 430.5 (MB) / 606 (MB)\n",
      "[Open3D DEBUG] Got average: 0.00399995 (s), 411.305 (MB) / 430.5 (MB) / 606 (MB)\n",
      "[Open3D DEBUG] Iso-Value: 5.040683e-01 = 4.796109e+04 / 9.514800e+04\n",
      "[Open3D DEBUG] #          Total Solve:       1.8 (s),     473.6 (MB)\n",
      "TriangleMesh with 190569 points and 381114 triangles.\n",
      "TriangleMesh with 20014 points and 40000 triangles.\n",
      "[Open3D WARNING] Write OBJ can not include triangle normals.\n"
     ]
    },
    {
     "data": {
      "text/plain": [
       "True"
      ]
     },
     "execution_count": 12,
     "metadata": {},
     "output_type": "execute_result"
    }
   ],
   "execution_count": 12
  },
  {
   "metadata": {},
   "cell_type": "markdown",
   "source": "## remember to adjust file path",
   "id": "64eebab7b61a8eb9"
  },
  {
   "metadata": {
    "ExecuteTime": {
     "end_time": "2024-09-21T21:15:51.716288Z",
     "start_time": "2024-09-21T21:15:50.146190Z"
    }
   },
   "cell_type": "code",
   "source": [
    "load_reference_mesh = o3d.io.read_triangle_mesh(fr'G:\\VS2022Projects\\tvm-editing-master\\TVMEditor.Test\\bin\\Release\\net5.0\\Data\\Mitch/reference_mesh/reference_mesh_{GoF:02}.obj', enable_post_processing = False)\n",
    "print(load_reference_mesh)\n",
    "\n",
    "o3d.io.write_triangle_mesh(fr'G:\\VS2022Projects\\tvm-editing-master\\TVMEditor.Test\\bin\\Release\\net5.0\\Data\\Mitch/reference_mesh/reference_mesh_{GoF:02}.obj', load_reference_mesh, write_vertex_normals=False, write_vertex_colors=False, write_triangle_uvs=False)\n",
    "load_reference_mesh = o3d.io.read_triangle_mesh(fr'G:\\VS2022Projects\\tvm-editing-master\\TVMEditor.Test\\bin\\Release\\net5.0\\Data\\Mitch/reference_mesh/reference_mesh_{GoF:02}.obj', enable_post_processing = False)\n",
    "print(load_reference_mesh)\n",
    "reference_vertices = np.array(load_reference_mesh.vertices)\n",
    "load_reference_mesh.compute_vertex_normals()\n",
    "o3d.visualization.draw_geometries([load_reference_mesh])\n",
    "load_reference_mesh.paint_uniform_color([0.7, 0.7, 0.7])\n",
    "print(reference_vertices)"
   ],
   "id": "beb5c29f50b59558",
   "outputs": [
    {
     "name": "stdout",
     "output_type": "stream",
     "text": [
      "TriangleMesh with 20006 points and 40000 triangles.\n",
      "TriangleMesh with 20006 points and 40000 triangles.\n",
      "[[ 0.42036399  1.14646995 -0.46491101]\n",
      " [ 0.41304499  1.14443994 -0.46144599]\n",
      " [ 0.42036399  1.15957999 -0.46789399]\n",
      " ...\n",
      " [-0.141303    0.103927   -0.0238941 ]\n",
      " [ 0.27610001  1.62351    -0.00624901]\n",
      " [-0.247096    1.26523995  0.28488499]]\n"
     ]
    }
   ],
   "execution_count": 13
  },
  {
   "metadata": {
    "ExecuteTime": {
     "end_time": "2024-09-21T21:15:57.793208Z",
     "start_time": "2024-09-21T21:15:57.461632Z"
    }
   },
   "cell_type": "code",
   "source": [
    "load_reference_mesh_trimesh = o3d.io.read_triangle_mesh(fr'G:\\VS2022Projects\\tvm-editing-master\\TVMEditor.Test\\bin\\Release\\net5.0\\Data\\Mitch/reference_mesh/reference_mesh_{GoF:02}.obj', enable_post_processing = False)\n",
    "\n",
    "print(np.array(load_reference_mesh_trimesh.vertices).__len__())\n",
    "decimated_reference_mesh = o3d.geometry.TriangleMesh.simplify_quadric_decimation(load_reference_mesh_trimesh, 10000, boundary_weight= 8000)\n",
    "print(decimated_reference_mesh)\n",
    "\n",
    "subdivided_mesh = o3d.geometry.TriangleMesh.subdivide_midpoint(decimated_reference_mesh, number_of_iterations=1)\n",
    "print(subdivided_mesh)\n",
    "o3d.io.write_triangle_mesh(r'G:\\VS2022Projects\\tvm-editing-master\\TVMEditor.Test\\bin\\Release\\net5.0\\Data\\Mitch\\reference_mesh/decimated_reference_mesh.obj', decimated_reference_mesh, write_vertex_normals=False, write_vertex_colors=False, write_triangle_uvs=False)\n",
    "o3d.io.write_triangle_mesh(r'G:\\VS2022Projects\\tvm-editing-master\\TVMEditor.Test\\bin\\Release\\net5.0\\Data\\Mitch\\reference_mesh/subdivided_reference_mesh.obj', subdivided_mesh, write_vertex_normals=False, write_vertex_colors=False, write_triangle_uvs=False)\n"
   ],
   "id": "5addb40478879587",
   "outputs": [
    {
     "name": "stdout",
     "output_type": "stream",
     "text": [
      "20006\n",
      "TriangleMesh with 5006 points and 10000 triangles.\n",
      "TriangleMesh with 20006 points and 40000 triangles.\n"
     ]
    },
    {
     "data": {
      "text/plain": [
       "True"
      ]
     },
     "execution_count": 14,
     "metadata": {},
     "output_type": "execute_result"
    }
   ],
   "execution_count": 14
  },
  {
   "metadata": {},
   "cell_type": "markdown",
   "source": "## Run mesh editing now",
   "id": "eabff965308a2c1e"
  }
 ],
 "metadata": {
  "kernelspec": {
   "display_name": "Python 3",
   "language": "python",
   "name": "python3"
  },
  "language_info": {
   "codemirror_mode": {
    "name": "ipython",
    "version": 2
   },
   "file_extension": ".py",
   "mimetype": "text/x-python",
   "name": "python",
   "nbconvert_exporter": "python",
   "pygments_lexer": "ipython2",
   "version": "2.7.6"
  }
 },
 "nbformat": 4,
 "nbformat_minor": 5
}
