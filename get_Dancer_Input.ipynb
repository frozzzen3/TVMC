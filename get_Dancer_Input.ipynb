{
 "cells": [
  {
   "metadata": {},
   "cell_type": "markdown",
   "source": "# Get input information for Dancer dataset",
   "id": "f4f9f2167a55f74f"
  },
  {
   "metadata": {
    "ExecuteTime": {
     "end_time": "2024-09-19T16:12:54.264829Z",
     "start_time": "2024-09-19T16:12:54.093319Z"
    }
   },
   "cell_type": "code",
   "source": [
    "from scipy.spatial.transform import Rotation as R\n",
    "import numpy as np"
   ],
   "id": "afc645a611c3cf05",
   "outputs": [],
   "execution_count": 1
  },
  {
   "metadata": {
    "ExecuteTime": {
     "end_time": "2024-09-19T16:12:56.597732Z",
     "start_time": "2024-09-19T16:12:56.582103Z"
    }
   },
   "cell_type": "code",
   "source": [
    "def get_dual_quaternions(original_centers, transformed_centers):\n",
    "    moved_indices = []\n",
    "    for i in range(len(original_centers)):\n",
    "        if not (np.array_equal(original_centers[i], transformed_centers[i])):\n",
    "            moved_indices.append(i)\n",
    "    dual_quaternions = np.zeros((len(original_centers), 8), dtype=np.float32)\n",
    "    inverse_dual_quaternions = np.zeros((len(original_centers), 8), dtype=np.float32)\n",
    "    for i in moved_indices:\n",
    "        original = original_centers[i]\n",
    "        transformed = loaded_transformed_centers[i]\n",
    "        \n",
    "        rotation_quaternion = R.from_quat([0, 0, 0, 1])  \n",
    "    \n",
    "        translation = transformed - original\n",
    "        \n",
    "        rotation_quat = rotation_quaternion.as_quat()\n",
    "        \n",
    "        translation_quat = np.hstack((translation, [0]))\n",
    "        dual_quat = np.hstack((rotation_quat, 0.5 * translation_quat))\n",
    "        dual_quaternions[i] = dual_quat\n",
    "        \n",
    "        rotation_conjugate = np.hstack((-rotation_quat[:3], rotation_quat[3]))\n",
    "        inv_translation_quat = np.hstack((translation, [0]))\n",
    "        inverse_dual_quat = np.hstack((rotation_conjugate, -0.5 * inv_translation_quat))\n",
    "        inverse_dual_quaternions[i] = inverse_dual_quat\n",
    "        \n",
    "    return moved_indices, dual_quaternions, inverse_dual_quaternions"
   ],
   "id": "3c53bb0e26d8e16d",
   "outputs": [],
   "execution_count": 2
  },
  {
   "metadata": {},
   "cell_type": "markdown",
   "source": "### dual quaternions are very eazy to reverse",
   "id": "5dd389c0f96d126b"
  },
  {
   "metadata": {
    "ExecuteTime": {
     "end_time": "2024-09-19T18:16:32.284664Z",
     "start_time": "2024-09-19T18:16:32.269024Z"
    }
   },
   "cell_type": "code",
   "source": [
    "transformed_centers_path = 'G:\\VS2022Projects/tvm-editing-master\\TVMEditor.Test/bin\\Release/net5.0\\Data\\Dancer/reference_centers_aligned.xyz'\n",
    "loaded_transformed_centers = np.loadtxt(transformed_centers_path)\n",
    "with open(transformed_centers_path, 'r') as file:\n",
    "    lines = file.readlines()\n",
    "    print(\"\".join(lines[:5])) "
   ],
   "id": "d68466ed64c7655b",
   "outputs": [
    {
     "name": "stdout",
     "output_type": "stream",
     "text": [
      "0.055526 0.078598 0.171532\n",
      "0.022288 0.792588 0.236942\n",
      "0.018028 0.357584 0.217594\n",
      "0.030021 1.006488 0.127878\n",
      "-0.072214 0.462698 0.142656\n",
      "\n"
     ]
    }
   ],
   "execution_count": 5
  },
  {
   "cell_type": "code",
   "id": "initial_id",
   "metadata": {
    "collapsed": true,
    "ExecuteTime": {
     "end_time": "2024-09-19T18:16:50.445883Z",
     "start_time": "2024-09-19T18:16:49.491154Z"
    }
   },
   "source": [
    "transformed_centers_path = 'G:\\VS2022Projects/tvm-editing-master\\TVMEditor.Test/bin\\Release/net5.0\\Data\\Dancer/reference_centers_aligned.xyz'\n",
    "loaded_transformed_centers = np.loadtxt(transformed_centers_path)\n",
    "\n",
    "for i in range (5, 20):\n",
    "    centers_path = f'G:\\VS2022Projects/tvm-editing-master\\TVMEditor.Test/bin\\Release/net5.0\\Data\\Dancer/centers/dancer_fr0res_2000_{i:03}.xyz'\n",
    "    loaded_centers = np.loadtxt(centers_path)\n",
    "    print(centers_path)\n",
    "    \n",
    "    indices, dual_quaternions, inverse_dual_quaternions = get_dual_quaternions(loaded_centers, loaded_transformed_centers)\n",
    "    \n",
    "    indices_path = f'G:\\VS2022Projects/tvm-editing-master\\TVMEditor.Test/bin\\Release/net5.0\\Data\\Dancer/indices_{i:03}.txt'\n",
    "    np.savetxt(indices_path, indices, fmt='%d')\n",
    "    \n",
    "    dual_quaternions_path = fr'G:\\VS2022Projects/tvm-editing-master\\TVMEditor.Test/bin\\Release/net5.0\\Data\\Dancer\\transformations_{i:03}.txt'\n",
    "    with open(dual_quaternions_path, 'w') as file:\n",
    "        for dq in dual_quaternions:\n",
    "            dq_str = f\"{dq[0]};{dq[1]};{dq[2]};{dq[3]};{dq[4]};{dq[5]};{dq[6]};{dq[7]}\"\n",
    "            file.write(dq_str + '\\n')\n",
    "            \n",
    "    inverse_dual_quaternions_path = fr'G:\\VS2022Projects/tvm-editing-master\\TVMEditor.Test/bin\\Release/net5.0\\Data\\Dancer\\inverse_transformations_{i:03}.txt'\n",
    "    with open(inverse_dual_quaternions_path, 'w') as file:\n",
    "        for inverse_dq in inverse_dual_quaternions:\n",
    "            inverse_dq_str = f\"{inverse_dq[0]};{inverse_dq[1]};{inverse_dq[2]};{inverse_dq[3]};{inverse_dq[4]};{inverse_dq[5]};{inverse_dq[6]};{inverse_dq[7]}\"\n",
    "            file.write(inverse_dq_str + '\\n')"
   ],
   "outputs": [
    {
     "name": "stdout",
     "output_type": "stream",
     "text": [
      "G:\\VS2022Projects/tvm-editing-master\\TVMEditor.Test/bin\\Release/net5.0\\Data\\Dancer/centers/dancer_fr0res_2000_005.xyz\n",
      "G:\\VS2022Projects/tvm-editing-master\\TVMEditor.Test/bin\\Release/net5.0\\Data\\Dancer/centers/dancer_fr0res_2000_006.xyz\n",
      "G:\\VS2022Projects/tvm-editing-master\\TVMEditor.Test/bin\\Release/net5.0\\Data\\Dancer/centers/dancer_fr0res_2000_007.xyz\n",
      "G:\\VS2022Projects/tvm-editing-master\\TVMEditor.Test/bin\\Release/net5.0\\Data\\Dancer/centers/dancer_fr0res_2000_008.xyz\n",
      "G:\\VS2022Projects/tvm-editing-master\\TVMEditor.Test/bin\\Release/net5.0\\Data\\Dancer/centers/dancer_fr0res_2000_009.xyz\n",
      "G:\\VS2022Projects/tvm-editing-master\\TVMEditor.Test/bin\\Release/net5.0\\Data\\Dancer/centers/dancer_fr0res_2000_010.xyz\n",
      "G:\\VS2022Projects/tvm-editing-master\\TVMEditor.Test/bin\\Release/net5.0\\Data\\Dancer/centers/dancer_fr0res_2000_011.xyz\n",
      "G:\\VS2022Projects/tvm-editing-master\\TVMEditor.Test/bin\\Release/net5.0\\Data\\Dancer/centers/dancer_fr0res_2000_012.xyz\n",
      "G:\\VS2022Projects/tvm-editing-master\\TVMEditor.Test/bin\\Release/net5.0\\Data\\Dancer/centers/dancer_fr0res_2000_013.xyz\n",
      "G:\\VS2022Projects/tvm-editing-master\\TVMEditor.Test/bin\\Release/net5.0\\Data\\Dancer/centers/dancer_fr0res_2000_014.xyz\n",
      "G:\\VS2022Projects/tvm-editing-master\\TVMEditor.Test/bin\\Release/net5.0\\Data\\Dancer/centers/dancer_fr0res_2000_015.xyz\n",
      "G:\\VS2022Projects/tvm-editing-master\\TVMEditor.Test/bin\\Release/net5.0\\Data\\Dancer/centers/dancer_fr0res_2000_016.xyz\n",
      "G:\\VS2022Projects/tvm-editing-master\\TVMEditor.Test/bin\\Release/net5.0\\Data\\Dancer/centers/dancer_fr0res_2000_017.xyz\n",
      "G:\\VS2022Projects/tvm-editing-master\\TVMEditor.Test/bin\\Release/net5.0\\Data\\Dancer/centers/dancer_fr0res_2000_018.xyz\n",
      "G:\\VS2022Projects/tvm-editing-master\\TVMEditor.Test/bin\\Release/net5.0\\Data\\Dancer/centers/dancer_fr0res_2000_019.xyz\n"
     ]
    }
   ],
   "execution_count": 6
  }
 ],
 "metadata": {
  "kernelspec": {
   "display_name": "Python 3",
   "language": "python",
   "name": "python3"
  },
  "language_info": {
   "codemirror_mode": {
    "name": "ipython",
    "version": 2
   },
   "file_extension": ".py",
   "mimetype": "text/x-python",
   "name": "python",
   "nbconvert_exporter": "python",
   "pygments_lexer": "ipython2",
   "version": "2.7.6"
  }
 },
 "nbformat": 4,
 "nbformat_minor": 5
}
