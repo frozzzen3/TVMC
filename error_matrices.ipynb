{
 "cells": [
  {
   "metadata": {
    "ExecuteTime": {
     "end_time": "2024-09-16T13:56:28.187775Z",
     "start_time": "2024-09-16T13:56:27.655157Z"
    }
   },
   "cell_type": "code",
   "source": [
    "import subprocess\n",
    "import os\n",
    "import time\n",
    "import numpy as np\n",
    "import open3d as o3d\n",
    "import re\n",
    "\n",
    "from open3d.examples.visualization.to_mitsuba import dataset"
   ],
   "id": "2afc5eea8c79f0ef",
   "outputs": [
    {
     "name": "stdout",
     "output_type": "stream",
     "text": [
      "Jupyter environment detected. Enabling Open3D WebVisualizer.\n",
      "[Open3D INFO] WebRTC GUI backend enabled.\n",
      "[Open3D INFO] WebRTCWindowSystem: HTTP handshake server disabled.\n"
     ]
    }
   ],
   "execution_count": 1
  },
  {
   "metadata": {
    "ExecuteTime": {
     "end_time": "2024-09-16T16:39:41.314012Z",
     "start_time": "2024-09-16T16:39:41.298378Z"
    }
   },
   "cell_type": "code",
   "source": [
    "dataset = 'Dancer'\n",
    "qp = 10\n",
    "def extract_number(filename):\n",
    "    match = re.search(r'(\\d+)', filename)\n",
    "    return int(match.group(1)) if match else float('inf')"
   ],
   "id": "e244d4e149500b62",
   "outputs": [],
   "execution_count": 86
  },
  {
   "metadata": {
    "ExecuteTime": {
     "end_time": "2024-09-16T16:39:42.751583Z",
     "start_time": "2024-09-16T16:39:42.642199Z"
    }
   },
   "cell_type": "code",
   "source": [
    "original_input_dir = os.path.join(r'G:\\VS2022Projects\\tvm-editing-master\\TVMEditor.Test\\bin\\Release\\net5.0\\Data', os.path.join(dataset, 'meshes'))\n",
    "decoded_input_dir = os.path.join(r'G:\\PycharmProjects\\Mesh_Editing\\Results\\decode_Draco', dataset)\n",
    "files = os.listdir(original_input_dir)\n",
    "original_obj_files = [file for file in files if file.endswith('.obj')]\n",
    "\n",
    "original_obj_files.sort(key=extract_number)\n",
    "decoded_obj_path = os.path.join(decoded_input_dir, f'{dataset}_qp_{qp}')\n",
    "decoded_files = os.listdir(decoded_obj_path)\n",
    "decoded_obj_files = [file for file in decoded_files if file.endswith('.obj')]\n",
    "test_original_mesh = o3d.io.read_triangle_mesh(os.path.join(original_input_dir, original_obj_files[0]))\n",
    "test_decoded_mesh = o3d.io.read_triangle_mesh(os.path.join(decoded_obj_path, decoded_obj_files[0]))\n",
    "print(test_original_mesh, test_decoded_mesh)"
   ],
   "id": "763bd2f6c20bc1d1",
   "outputs": [
    {
     "name": "stdout",
     "output_type": "stream",
     "text": [
      "TriangleMesh with 19724 points and 39380 triangles. TriangleMesh with 19445 points and 39372 triangles.\n"
     ]
    }
   ],
   "execution_count": 87
  },
  {
   "metadata": {},
   "cell_type": "markdown",
   "source": "## Point-to-point error (D1), D1-PSNR (peak signal-to-noise ratio)",
   "id": "c37f4eafc3af435e"
  },
  {
   "cell_type": "code",
   "id": "initial_id",
   "metadata": {
    "collapsed": true,
    "ExecuteTime": {
     "end_time": "2024-09-16T15:24:27.915037Z",
     "start_time": "2024-09-16T15:24:27.899564Z"
    }
   },
   "source": [
    "def compute_D1_psnr(original_mesh, decoded_mesh):\n",
    "    \n",
    "    original_vertices = np.array(original_mesh.vertices)\n",
    "    #original_vertices = normalize_vertices(original_vertices)\n",
    "    decoded_vertices = np.array(decoded_mesh.vertices)\n",
    "    #decoded_vertices = normalize_vertices(decoded_vertices)\n",
    "    \n",
    "    pcd_original = o3d.geometry.PointCloud()\n",
    "    pcd_original.points = o3d.utility.Vector3dVector(original_vertices)\n",
    "    \n",
    "    pcd_decoded = o3d.geometry.PointCloud()\n",
    "    pcd_decoded.points = o3d.utility.Vector3dVector(decoded_vertices)\n",
    "    pcd_tree = o3d.geometry.KDTreeFlann(pcd_decoded)\n",
    "    \n",
    "    MSE = 0\n",
    "    for i in range(0, len(original_vertices)):\n",
    "        [k, index, _] = pcd_tree.search_knn_vector_3d(original_vertices[i], 1)\n",
    "        MSE += np.square(np.linalg.norm(original_vertices[i] - decoded_vertices[index]))\n",
    "    MSE = MSE / len(original_vertices)\n",
    "    \n",
    "    aabb = pcd_original.get_axis_aligned_bounding_box()\n",
    "    min_bound = aabb.get_min_bound()\n",
    "\n",
    "    max_bound = aabb.get_max_bound()\n",
    "\n",
    "    signal_peak = np.linalg.norm(max_bound - min_bound)\n",
    "    psnr = 20 * np.log10(signal_peak) - 10 * np.log10(MSE)\n",
    "    \n",
    "    return psnr"
   ],
   "outputs": [],
   "execution_count": 60
  },
  {
   "metadata": {
    "ExecuteTime": {
     "end_time": "2024-09-16T15:01:10.055827Z",
     "start_time": "2024-09-16T15:01:10.040201Z"
    }
   },
   "cell_type": "code",
   "source": [
    "A = (1, 2, 3)\n",
    "print(np.linalg.norm(A))\n",
    "print(np.mean(A))"
   ],
   "id": "65628e8059abe9e9",
   "outputs": [
    {
     "name": "stdout",
     "output_type": "stream",
     "text": [
      "3.7416573867739413\n",
      "2.0\n"
     ]
    }
   ],
   "execution_count": 55
  },
  {
   "metadata": {
    "ExecuteTime": {
     "end_time": "2024-09-16T15:35:46.229317Z",
     "start_time": "2024-09-16T15:35:45.937667Z"
    }
   },
   "cell_type": "code",
   "source": [
    "d1 = max(compute_D1_psnr(test_original_mesh, test_decoded_mesh), compute_D1_psnr(test_decoded_mesh, test_original_mesh))\n",
    "print(d1)"
   ],
   "id": "7e46cc891c6a291a",
   "outputs": [
    {
     "name": "stdout",
     "output_type": "stream",
     "text": [
      "97.86869073879592\n"
     ]
    }
   ],
   "execution_count": 61
  },
  {
   "metadata": {},
   "cell_type": "markdown",
   "source": "## Point-to-plane error (D2), D2-PSNR (peak signal-to-noise ratio)",
   "id": "5ade33c904723b00"
  },
  {
   "metadata": {
    "ExecuteTime": {
     "end_time": "2024-09-16T15:55:22.485166Z",
     "start_time": "2024-09-16T15:55:22.469529Z"
    }
   },
   "cell_type": "code",
   "source": [
    "def compute_D2_psnr(original_mesh, decoded_mesh):\n",
    "    decoded_mesh.compute_vertex_normals()\n",
    "    \n",
    "    original_vertices = np.array(original_mesh.vertices)\n",
    "    decoded_vertices = np.array(decoded_mesh.vertices)\n",
    "    \n",
    "    pcd_original = o3d.geometry.PointCloud()\n",
    "    pcd_original.points = o3d.utility.Vector3dVector(original_vertices)\n",
    "    \n",
    "    \n",
    "    pcd_decoded = o3d.geometry.PointCloud()\n",
    "    pcd_decoded.points = o3d.utility.Vector3dVector(decoded_vertices)\n",
    "    pcd_decoded.normals = o3d.utility.Vector3dVector(decoded_mesh.vertex_normals)\n",
    "    pcd_tree = o3d.geometry.KDTreeFlann(pcd_decoded)\n",
    "    \n",
    "    MSE = 0\n",
    "    for i in range(0, len(original_vertices)):\n",
    "        [k, index, _] = pcd_tree.search_knn_vector_3d(original_vertices[i], 1)\n",
    "        MSE += np.square(np.dot((original_vertices[i] - decoded_vertices[index])[0], np.array(pcd_decoded.normals)[index][0]))\n",
    "    MSE = MSE / len(original_vertices)\n",
    "    \n",
    "    aabb = pcd_original.get_axis_aligned_bounding_box()\n",
    "    min_bound = aabb.get_min_bound()\n",
    "\n",
    "    max_bound = aabb.get_max_bound()\n",
    "\n",
    "    signal_peak = np.linalg.norm(max_bound - min_bound)\n",
    "    psnr = 20 * np.log10(signal_peak) - 10 * np.log10(MSE)\n",
    "    \n",
    "    return psnr"
   ],
   "id": "bfe09f5bb6c41022",
   "outputs": [],
   "execution_count": 75
  },
  {
   "metadata": {
    "ExecuteTime": {
     "end_time": "2024-09-16T15:55:24.632233Z",
     "start_time": "2024-09-16T15:55:23.801338Z"
    }
   },
   "cell_type": "code",
   "source": [
    "d2 = max(compute_D2_psnr(test_original_mesh, test_decoded_mesh), compute_D2_psnr(test_decoded_mesh, test_original_mesh))\n",
    "print(d2)"
   ],
   "id": "c73fa25efdb1a16",
   "outputs": [
    {
     "name": "stdout",
     "output_type": "stream",
     "text": [
      "102.6052241255284\n"
     ]
    }
   ],
   "execution_count": 76
  },
  {
   "metadata": {},
   "cell_type": "markdown",
   "source": "## RMSE",
   "id": "b4b4b731b0469d4e"
  },
  {
   "metadata": {
    "ExecuteTime": {
     "end_time": "2024-09-16T16:27:28.689269Z",
     "start_time": "2024-09-16T16:27:28.659122Z"
    }
   },
   "cell_type": "code",
   "source": [
    "def compute_MSE_RMSE(original_mesh, decoded_mesh):\n",
    "    \n",
    "    original_vertices = np.array(original_mesh.vertices)\n",
    "    #original_vertices = normalize_vertices(original_vertices)\n",
    "    decoded_vertices = np.array(decoded_mesh.vertices)\n",
    "    #decoded_vertices = normalize_vertices(decoded_vertices)\n",
    "    \n",
    "    pcd_original = o3d.geometry.PointCloud()\n",
    "    pcd_original.points = o3d.utility.Vector3dVector(original_vertices)\n",
    "    \n",
    "    pcd_decoded = o3d.geometry.PointCloud()\n",
    "    pcd_decoded.points = o3d.utility.Vector3dVector(decoded_vertices)\n",
    "    pcd_tree = o3d.geometry.KDTreeFlann(pcd_decoded)\n",
    "    \n",
    "    MSE = 0\n",
    "    for i in range(0, len(original_vertices)):\n",
    "        [k, index, _] = pcd_tree.search_knn_vector_3d(original_vertices[i], 1)\n",
    "        MSE += np.square(np.linalg.norm(original_vertices[i] - decoded_vertices[index]))\n",
    "    MSE = MSE / len(original_vertices)\n",
    "    RMSE =np.sqrt(MSE)\n",
    "    \n",
    "    return np.log10(MSE), np.log10(RMSE)"
   ],
   "id": "49f3ca01f94ae9af",
   "outputs": [],
   "execution_count": 81
  },
  {
   "metadata": {
    "ExecuteTime": {
     "end_time": "2024-09-16T16:27:32.674739Z",
     "start_time": "2024-09-16T16:27:32.527289Z"
    }
   },
   "cell_type": "code",
   "source": [
    "mse, rmse = compute_MSE_RMSE(test_original_mesh, test_decoded_mesh)\n",
    "print(mse, rmse)"
   ],
   "id": "38777629ee20548c",
   "outputs": [
    {
     "name": "stdout",
     "output_type": "stream",
     "text": [
      "-9.120304100036503 -4.560152050018251\n"
     ]
    }
   ],
   "execution_count": 83
  },
  {
   "metadata": {},
   "cell_type": "markdown",
   "source": "## Hausdorff distance",
   "id": "91e0a9d8e1557dbe"
  },
  {
   "metadata": {
    "ExecuteTime": {
     "end_time": "2024-09-16T16:42:11.863788Z",
     "start_time": "2024-09-16T16:42:03.559796Z"
    }
   },
   "cell_type": "code",
   "source": [
    "from scipy.spatial.distance import directed_hausdorff\n",
    "test_original_vertices = np.array(test_original_mesh.vertices)\n",
    "test_decoded_vertices = np.array(test_decoded_mesh.vertices)\n",
    "hausdorff = directed_hausdorff(test_original_vertices, test_decoded_vertices)\n",
    "print(hausdorff[0] * 1e4)"
   ],
   "id": "2adc536108a2686",
   "outputs": [
    {
     "name": "stdout",
     "output_type": "stream",
     "text": [
      "14.685178498337223\n"
     ]
    }
   ],
   "execution_count": 92
  }
 ],
 "metadata": {
  "kernelspec": {
   "display_name": "Python 3",
   "language": "python",
   "name": "python3"
  },
  "language_info": {
   "codemirror_mode": {
    "name": "ipython",
    "version": 2
   },
   "file_extension": ".py",
   "mimetype": "text/x-python",
   "name": "python",
   "nbconvert_exporter": "python",
   "pygments_lexer": "ipython2",
   "version": "2.7.6"
  }
 },
 "nbformat": 4,
 "nbformat_minor": 5
}
