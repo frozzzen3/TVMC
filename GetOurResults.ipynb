{
 "cells": [
  {
   "cell_type": "code",
   "id": "initial_id",
   "metadata": {
    "collapsed": true,
    "ExecuteTime": {
     "end_time": "2024-09-10T17:51:45.842095Z",
     "start_time": "2024-09-10T17:51:44.994802Z"
    }
   },
   "source": [
    "from copy import deepcopy\n",
    "import subprocess\n",
    "import numpy as np\n",
    "import open3d as o3d\n",
    "import trimesh\n",
    "from attr import dataclass\n"
   ],
   "outputs": [
    {
     "name": "stdout",
     "output_type": "stream",
     "text": [
      "Jupyter environment detected. Enabling Open3D WebVisualizer.\n",
      "[Open3D INFO] WebRTC GUI backend enabled.\n",
      "[Open3D INFO] WebRTCWindowSystem: HTTP handshake server disabled.\n"
     ]
    }
   ],
   "execution_count": 2
  },
  {
   "metadata": {
    "ExecuteTime": {
     "end_time": "2024-09-09T17:22:35.203218Z",
     "start_time": "2024-09-09T17:22:35.184217Z"
    }
   },
   "cell_type": "code",
   "source": "print(o3d.__version__)",
   "id": "ad3a169a21e9b041",
   "outputs": [
    {
     "name": "stdout",
     "output_type": "stream",
     "text": [
      "0.18.0\n"
     ]
    }
   ],
   "execution_count": 9
  },
  {
   "metadata": {
    "ExecuteTime": {
     "end_time": "2024-09-10T17:53:01.078639Z",
     "start_time": "2024-09-10T17:53:01.062639Z"
    }
   },
   "cell_type": "code",
   "source": [
    "def subdivide_surface_fitting(decimated_mesh, target_mesh, iterations=1):\n",
    "    subdivided_mesh = o3d.geometry.TriangleMesh()\n",
    "    subdivided_mesh = o3d.geometry.TriangleMesh.subdivide_midpoint(decimated_mesh, number_of_iterations=iterations)\n",
    "    print(subdivided_mesh)\n",
    "    subdivided_mesh.compute_vertex_normals()\n",
    "    #o3d.visualization.draw_geometries([subdivided_mesh])\n",
    "    \n",
    "    pcd_target = o3d.geometry.PointCloud()\n",
    "    pcd_target.points = o3d.utility.Vector3dVector(target_mesh.vertices)\n",
    "    pcd_tree = o3d.geometry.KDTreeFlann(pcd_target)\n",
    "    subdivided_vertices = np.array(subdivided_mesh.vertices)\n",
    "    target_vertices = np.array(target_mesh.vertices)\n",
    "    fitting_vertices = deepcopy(subdivided_vertices)\n",
    "    \n",
    "    for i in range(0, len(subdivided_vertices)):\n",
    "        [k, index, _] = pcd_tree.search_knn_vector_3d(subdivided_vertices[i], 1)\n",
    "        fitting_vertices[i] = target_vertices[np.asarray(index)]\n",
    "        #print(fitting_vertices[i], target_vertices[index])\n",
    "    subdivided_mesh.vertices = o3d.utility.Vector3dVector(fitting_vertices)\n",
    "    return subdivided_mesh"
   ],
   "id": "fffe541e735d365f",
   "outputs": [],
   "execution_count": 8
  },
  {
   "metadata": {
    "ExecuteTime": {
     "end_time": "2024-09-09T17:05:00.882555Z",
     "start_time": "2024-09-09T17:05:00.692037Z"
    }
   },
   "cell_type": "code",
   "source": [
    "load_reference_mesh = o3d.io.read_triangle_mesh(r'G:\\VS2022Projects\\tvm-editing-master\\TVMEditor.Test\\bin\\Release\\net5.0\\Data\\Dancer/reference_mesh.obj', enable_post_processing = False)\n",
    "print(load_reference_mesh)\n",
    "o3d.io.write_triangle_mesh(r'G:\\VS2022Projects\\tvm-editing-master\\TVMEditor.Test\\bin\\Release\\net5.0\\Data\\Dancer/reference_mesh.obj', load_reference_mesh, write_vertex_normals=False, write_vertex_colors=False, write_triangle_uvs=False)"
   ],
   "id": "c425796e3c366ad9",
   "outputs": [
    {
     "name": "stdout",
     "output_type": "stream",
     "text": [
      "TriangleMesh with 20002 points and 40000 triangles.\n"
     ]
    },
    {
     "data": {
      "text/plain": [
       "True"
      ]
     },
     "execution_count": 5,
     "metadata": {},
     "output_type": "execute_result"
    }
   ],
   "execution_count": 5
  },
  {
   "metadata": {
    "ExecuteTime": {
     "end_time": "2024-09-09T17:06:23.399645Z",
     "start_time": "2024-09-09T17:06:23.335276Z"
    }
   },
   "cell_type": "code",
   "source": [
    "load_reference_mesh = o3d.io.read_triangle_mesh(r'G:\\VS2022Projects\\tvm-editing-master\\TVMEditor.Test\\bin\\Release\\net5.0\\Data\\Dancer/reference_mesh.obj', enable_post_processing = False)\n",
    "print(np.array(load_reference_mesh.vertices))"
   ],
   "id": "6084dde14b90523",
   "outputs": [
    {
     "name": "stdout",
     "output_type": "stream",
     "text": [
      "[[ 0.0791106   0.90974599 -0.477777  ]\n",
      " [ 0.0861452   0.90974599 -0.48245999]\n",
      " [ 0.0861452   0.905756   -0.48109001]\n",
      " ...\n",
      " [-0.127333    1.02546     0.26905501]\n",
      " [ 0.174541   -0.25041699  0.27527499]\n",
      " [-0.0575035   0.39899501  0.31645399]]\n"
     ]
    }
   ],
   "execution_count": 7
  },
  {
   "metadata": {
    "ExecuteTime": {
     "end_time": "2024-09-10T17:51:58.994039Z",
     "start_time": "2024-09-10T17:51:58.976019Z"
    }
   },
   "cell_type": "code",
   "source": [
    "def read_triangle_mesh_with_trimesh(avatar_name,enable_post_processing=False):\n",
    "    # EDIT: next 4 lines replace to maintain order even in case of degenerate and non referenced\n",
    "    # scene_patch = trimesh.load(avatar_name,process=enable_post_processing)\n",
    "    if enable_post_processing:\n",
    "        scene_patch = trimesh.load(avatar_name,process=True)\n",
    "    else:\n",
    "        scene_patch = trimesh.load(avatar_name,process=False,maintain_order=True) \n",
    "    mesh = o3d.geometry.TriangleMesh(\n",
    "        o3d.utility.Vector3dVector(scene_patch.vertices),\n",
    "        o3d.utility.Vector3iVector(scene_patch.faces)\n",
    "    ) \n",
    "    if scene_patch.vertex_normals.size:\n",
    "        mesh.vertex_normals = o3d.utility.Vector3dVector(scene_patch.vertex_normals.copy())\n",
    "    if scene_patch.visual.defined:\n",
    "        # either texture or vertex colors if no uvs present.\n",
    "        if scene_patch.visual.kind == 'vertex':\n",
    "            mesh.vertex_colors = o3d.utility.Vector3dVector(scene_patch.visual.vertex_colors[:,:3]/255) # no alpha channel support\n",
    "        elif scene_patch.visual.kind == 'texture':\n",
    "            uv = scene_patch.visual.uv\n",
    "            if uv.shape[0] == scene_patch.vertices.shape[0]:\n",
    "                mesh.triangle_uvs = o3d.utility.Vector2dVector(uv[scene_patch.faces.flatten()])\n",
    "            elif uv.shape[0] != scene_patch.faces.shape[0] * 3:\n",
    "                assert False\n",
    "            else:\n",
    "                mesh.triangle_uvs = o3d.utility.Vector2dVector(uv)\n",
    "                if scene_patch.visual.material is not None and scene_patch.visual.material.image is not None:\n",
    "                    if scene_patch.visual.material.image.mode == 'RGB':\n",
    "                        mesh.textures = [o3d.geometry.Image(np.asarray(scene_patch.visual.material.image))]\n",
    "                    else:\n",
    "                        assert False\n",
    "        else:\n",
    "            assert False\n",
    "    return mesh"
   ],
   "id": "10d5ab1e18103cb7",
   "outputs": [],
   "execution_count": 4
  },
  {
   "metadata": {
    "ExecuteTime": {
     "end_time": "2024-09-10T14:10:18.815614Z",
     "start_time": "2024-09-10T14:10:18.429611Z"
    }
   },
   "cell_type": "code",
   "source": [
    "load_reference_mesh_trimesh = read_triangle_mesh_with_trimesh(r'G:\\VS2022Projects\\tvm-editing-master\\TVMEditor.Test\\bin\\Release\\net5.0\\Data\\Dancer/reference_mesh.obj', enable_post_processing = False)\n",
    "\n",
    "print(np.array(load_reference_mesh_trimesh.vertices).__len__())\n",
    "decimated_reference_mesh = o3d.geometry.TriangleMesh.simplify_quadric_decimation(load_reference_mesh_trimesh, 10000, boundary_weight= 8000)\n",
    "print(decimated_reference_mesh)\n",
    "\n",
    "subdivided_mesh = o3d.geometry.TriangleMesh.subdivide_midpoint(decimated_reference_mesh, number_of_iterations=1)\n",
    "print(subdivided_mesh)\n",
    "o3d.io.write_triangle_mesh(r'G:\\VS2022Projects\\tvm-editing-master\\TVMEditor.Test\\bin\\Release\\net5.0\\Data\\Dancer\\reference_mesh/decimated_reference_mesh.obj', decimated_reference_mesh, write_vertex_normals=False, write_vertex_colors=False, write_triangle_uvs=False)\n",
    "o3d.io.write_triangle_mesh(r'G:\\VS2022Projects\\tvm-editing-master\\TVMEditor.Test\\bin\\Release\\net5.0\\Data\\Dancer\\reference_mesh/subdivided_reference_mesh.obj', subdivided_mesh, write_vertex_normals=False, write_vertex_colors=False, write_triangle_uvs=False)\n"
   ],
   "id": "a1103c5a089b4c19",
   "outputs": [
    {
     "name": "stdout",
     "output_type": "stream",
     "text": [
      "20002\n",
      "TriangleMesh with 5002 points and 10000 triangles.\n",
      "TriangleMesh with 20002 points and 40000 triangles.\n"
     ]
    },
    {
     "data": {
      "text/plain": [
       "True"
      ]
     },
     "execution_count": 90,
     "metadata": {},
     "output_type": "execute_result"
    }
   ],
   "execution_count": 90
  },
  {
   "metadata": {
    "ExecuteTime": {
     "end_time": "2024-09-10T13:32:14.624925Z",
     "start_time": "2024-09-10T13:32:14.491926Z"
    }
   },
   "cell_type": "code",
   "source": [
    "subdivided_mesh = o3d.geometry.TriangleMesh.subdivide_midpoint(decimated_reference_mesh, number_of_iterations=1)\n",
    "o3d.io.write_triangle_mesh(r'G:\\VS2022Projects\\tvm-editing-master\\TVMEditor.Test\\bin\\Release\\net5.0\\Data\\Dancer\\reference_mesh/subdivided_reference_mesh1.obj', subdivided_mesh, write_vertex_normals=False, write_vertex_colors=False, write_triangle_uvs=False)"
   ],
   "id": "336e06e4be8cdf25",
   "outputs": [
    {
     "data": {
      "text/plain": [
       "True"
      ]
     },
     "execution_count": 74,
     "metadata": {},
     "output_type": "execute_result"
    }
   ],
   "execution_count": 74
  },
  {
   "metadata": {
    "ExecuteTime": {
     "end_time": "2024-09-10T14:10:30.614824Z",
     "start_time": "2024-09-10T14:10:27.405726Z"
    }
   },
   "cell_type": "code",
   "source": [
    "reconstruct_dancer_5 = o3d.io.read_triangle_mesh(r'G:\\VS2022Projects\\tvm-editing-master\\TVMEditor.Test\\bin\\Release\\net5.0\\output\\Dancer\\reference/deformed_reference_mesh_005.obj')\n",
    "original_dancer_5 = o3d.io.read_triangle_mesh(r'G:\\VS2022Projects\\tvm-editing-master\\TVMEditor.Test\\bin\\Release\\net5.0\\Data\\Dancer\\meshes/dancer_fr0005.obj')\n",
    "print(reconstruct_dancer_5)\n",
    "print(original_dancer_5)\n",
    "reconstruct_dancer_5.compute_vertex_normals()\n",
    "original_dancer_5.compute_vertex_normals()\n",
    "o3d.visualization.draw_geometries([reconstruct_dancer_5])"
   ],
   "id": "4bd21da4b4b85b81",
   "outputs": [
    {
     "name": "stdout",
     "output_type": "stream",
     "text": [
      "TriangleMesh with 4996 points and 10000 triangles.\n",
      "TriangleMesh with 19724 points and 39380 triangles.\n"
     ]
    }
   ],
   "execution_count": 91
  },
  {
   "metadata": {
    "ExecuteTime": {
     "end_time": "2024-09-09T17:21:25.250076Z",
     "start_time": "2024-09-09T17:21:05.848154Z"
    }
   },
   "cell_type": "code",
   "source": [
    "decimated_reconstructed_5 = o3d.geometry.TriangleMesh.simplify_quadric_decimation(reconstruct_dancer_5, 10000, boundary_weight= 8000)\n",
    "fitting_mesh_dancer_5 = subdivide_surface_fitting(decimated_reconstructed_5, original_dancer_5, 1)\n",
    "fitting_mesh_dancer_5.compute_vertex_normals()\n",
    "\n",
    "o3d.visualization.draw_geometries([fitting_mesh_dancer_5])\n"
   ],
   "id": "55ab7031411c2271",
   "outputs": [
    {
     "name": "stdout",
     "output_type": "stream",
     "text": [
      "TriangleMesh with 5002 points and 10000 triangles.\n",
      "TriangleMesh with 20002 points and 40000 triangles.\n",
      "TriangleMesh with 20002 points and 40000 triangles.\n"
     ]
    }
   ],
   "execution_count": 8
  },
  {
   "metadata": {},
   "cell_type": "code",
   "outputs": [],
   "execution_count": null,
   "source": "o3d.io.write_triangle_mesh(r'G:\\VS2022Projects\\tvm-editing-master\\TVMEditor.Test\\bin\\Release\\net5.0\\output\\Dancer\\reference/fitting_mesh_dancer_5.obj', fitting_mesh_dancer_5, write_vertex_normals=False, write_vertex_colors=False, write_triangle_uvs=False)",
   "id": "2dc0b370bdbef53b"
  },
  {
   "metadata": {
    "ExecuteTime": {
     "end_time": "2024-09-10T17:52:14.409685Z",
     "start_time": "2024-09-10T17:52:12.852546Z"
    }
   },
   "cell_type": "code",
   "source": [
    "GoF = 5\n",
    "for i in range(0, GoF):\n",
    "    offset = 5\n",
    "    reconstruct_dancer_i = o3d.io.read_triangle_mesh(fr'G:\\VS2022Projects\\tvm-editing-master\\TVMEditor.Test\\bin\\Release\\net5.0\\output\\Dancer\\reference/deformed_reference_mesh_{i+offset:03}.obj')\n",
    "    original_dancer_i = o3d.io.read_triangle_mesh(fr'G:\\VS2022Projects\\tvm-editing-master\\TVMEditor.Test\\bin\\Release\\net5.0\\Data\\Dancer\\meshes/dancer_fr0{i+offset:03}.obj')\n",
    "    #print(reconstruct_dancer_i)\n",
    "    #print(original_dancer_i)\n",
    "    reconstruct_dancer_i.compute_vertex_normals()\n",
    "    original_dancer_i.compute_vertex_normals()\n",
    "    #o3d.visualization.draw_geometries([reconstruct_dancer_i])\n",
    "    decimated_reconstructed_i = o3d.geometry.TriangleMesh.simplify_quadric_decimation(reconstruct_dancer_i, 10000, boundary_weight= 8000)\n",
    "    #print(decimated_reconstructed_i)\n",
    "    o3d.io.write_triangle_mesh(fr'G:\\VS2022Projects\\tvm-editing-master\\TVMEditor.Test\\bin\\Release\\net5.0\\output\\Dancer\\reference/decimated_reconstructed_{i+offset:03}.obj', decimated_reconstructed_i, write_vertex_normals=False, write_vertex_colors=False, write_triangle_uvs=False)\n",
    "    fitting_mesh_dancer_i = subdivide_surface_fitting(decimated_reconstructed_i, original_dancer_i, 1)\n",
    "    #print(fitting_mesh_dancer_i)\n",
    "    fitting_mesh_dancer_i.compute_vertex_normals()\n",
    "    o3d.io.write_triangle_mesh(fr'G:\\VS2022Projects\\tvm-editing-master\\TVMEditor.Test\\bin\\Release\\net5.0\\output\\Dancer\\reference/fitting_mesh_dancer_{i+offset:03}.obj', fitting_mesh_dancer_i, write_vertex_normals=False, write_vertex_colors=False, write_triangle_uvs=False)\n",
    "    #o3d.visualization.draw_geometries([fitting_mesh_dancer_i])"
   ],
   "id": "667e3ec49316de2c",
   "outputs": [
    {
     "name": "stdout",
     "output_type": "stream",
     "text": [
      "[Open3D WARNING] Write OBJ can not include triangle normals.\n",
      "TriangleMesh with 19996 points and 40000 triangles.\n",
      "[Open3D WARNING] Write OBJ can not include triangle normals.\n",
      "[Open3D WARNING] Write OBJ can not include triangle normals.\n",
      "TriangleMesh with 19996 points and 40000 triangles.\n",
      "[Open3D WARNING] Write OBJ can not include triangle normals.\n",
      "[Open3D WARNING] Write OBJ can not include triangle normals.\n",
      "TriangleMesh with 19996 points and 40000 triangles.\n",
      "[Open3D WARNING] Write OBJ can not include triangle normals.\n",
      "[Open3D WARNING] Write OBJ can not include triangle normals.\n",
      "TriangleMesh with 19996 points and 40000 triangles.\n",
      "[Open3D WARNING] Write OBJ can not include triangle normals.\n",
      "[Open3D WARNING] Write OBJ can not include triangle normals.\n",
      "TriangleMesh with 19996 points and 40000 triangles.\n",
      "[Open3D WARNING] Write OBJ can not include triangle normals.\n"
     ]
    }
   ],
   "execution_count": 5
  },
  {
   "metadata": {
    "ExecuteTime": {
     "end_time": "2024-09-10T17:53:11.388497Z",
     "start_time": "2024-09-10T17:53:11.378177Z"
    }
   },
   "cell_type": "code",
   "source": [
    "def normalize_point_cloud(pcd, min_range=0, max_range=1):\n",
    "    points = np.asarray(pcd.points)\n",
    "    \n",
    "    min_bound = points.min(axis=0)\n",
    "    max_bound = points.max(axis=0)\n",
    "    \n",
    "    normalized_points = (points - min_bound) / (max_bound - min_bound)  \n",
    "    normalized_points = normalized_points * (max_range - min_range) + min_range  \n",
    "    \n",
    "    pcd.points = o3d.utility.Vector3dVector(normalized_points)\n",
    "    return pcd\n",
    "\n",
    "def normalize_vertices(vertices, min_range=0, max_range=1):\n",
    "    min_bound = np.min(vertices, axis=0)\n",
    "    max_bound = np.max(vertices, axis=0)\n",
    "    \n",
    "    normalized_vertices = (vertices - min_bound) / (max_bound - min_bound)\n",
    "    \n",
    "    normalized_vertices = normalized_vertices * (max_range - min_range) + min_range\n",
    "    \n",
    "    return normalized_vertices\n",
    "\n",
    "def compute_D1_psnr(original_mesh, decoded_mesh):\n",
    "    \n",
    "    original_vertices = np.array(original_mesh.vertices)\n",
    "    #original_vertices = normalize_vertices(original_vertices)\n",
    "    decoded_vertices = np.array(decoded_mesh.vertices)\n",
    "    #decoded_vertices = normalize_vertices(decoded_vertices)\n",
    "    \n",
    "    pcd_original = o3d.geometry.PointCloud()\n",
    "    pcd_original.points = o3d.utility.Vector3dVector(original_vertices)\n",
    "    \n",
    "    pcd_decoded = o3d.geometry.PointCloud()\n",
    "    pcd_decoded.points = o3d.utility.Vector3dVector(decoded_vertices)\n",
    "    pcd_tree = o3d.geometry.KDTreeFlann(pcd_decoded)\n",
    "    \n",
    "\n",
    "    #for i in range(0, len(decoded_vertices)):\n",
    "    #    print('decoded', decoded_vertices[i])\n",
    "    #for i in range(0, len(original_vertices)):\n",
    "    #    print('original', original_vertices[i])\n",
    "    MSE = 0\n",
    "    for i in range(0, len(original_vertices)):\n",
    "        [k, index, _] = pcd_tree.search_knn_vector_3d(original_vertices[i], 1)\n",
    "        #print(original_vertices[i], decoded_vertices[index])\n",
    "        MSE += np.square(original_vertices[i] - decoded_vertices[index])\n",
    "        #if (np.square(original_vertices[i] - decoded_vertices[index]) != 0).any():\n",
    "         #   print(original_vertices[i], decoded_vertices[index])\n",
    "    MSE = np.mean(MSE)\n",
    "    print(MSE)\n",
    "    aabb = pcd_original.get_axis_aligned_bounding_box()\n",
    "    min_bound = aabb.get_min_bound()\n",
    "\n",
    "    max_bound = aabb.get_max_bound()\n",
    "\n",
    "    signal_peak = np.linalg.norm(max_bound - min_bound)\n",
    "    print(signal_peak)\n",
    "    psnr = 20 * np.log10(signal_peak) - 10 * np.log10(MSE)\n",
    "    \n",
    "    return psnr\n",
    "\n",
    "def read_triangle_mesh_with_trimesh(avatar_name,enable_post_processing=False):\n",
    "    # EDIT: next 4 lines replace to maintain order even in case of degenerate and non referenced\n",
    "    # scene_patch = trimesh.load(avatar_name,process=enable_post_processing)\n",
    "    if enable_post_processing:\n",
    "        scene_patch = trimesh.load(avatar_name,process=True)\n",
    "    else:\n",
    "        scene_patch = trimesh.load(avatar_name,process=False,maintain_order=True) \n",
    "    mesh = o3d.geometry.TriangleMesh(\n",
    "        o3d.utility.Vector3dVector(scene_patch.vertices),\n",
    "        o3d.utility.Vector3iVector(scene_patch.faces)\n",
    "    ) \n",
    "    if scene_patch.vertex_normals.size:\n",
    "        mesh.vertex_normals = o3d.utility.Vector3dVector(scene_patch.vertex_normals.copy())\n",
    "    if scene_patch.visual.defined:\n",
    "        # either texture or vertex colors if no uvs present.\n",
    "        if scene_patch.visual.kind == 'vertex':\n",
    "            mesh.vertex_colors = o3d.utility.Vector3dVector(scene_patch.visual.vertex_colors[:,:3]/255) # no alpha channel support\n",
    "        elif scene_patch.visual.kind == 'texture':\n",
    "            uv = scene_patch.visual.uv\n",
    "            if uv.shape[0] == scene_patch.vertices.shape[0]:\n",
    "                mesh.triangle_uvs = o3d.utility.Vector2dVector(uv[scene_patch.faces.flatten()])\n",
    "            elif uv.shape[0] != scene_patch.faces.shape[0] * 3:\n",
    "                assert False\n",
    "            else:\n",
    "                mesh.triangle_uvs = o3d.utility.Vector2dVector(uv)\n",
    "                if scene_patch.visual.material is not None and scene_patch.visual.material.image is not None:\n",
    "                    if scene_patch.visual.material.image.mode == 'RGB':\n",
    "                        mesh.textures = [o3d.geometry.Image(np.asarray(scene_patch.visual.material.image))]\n",
    "                    else:\n",
    "                        assert False\n",
    "        else:\n",
    "            assert False\n",
    "    return mesh\n"
   ],
   "id": "e1fe0068afac68e2",
   "outputs": [],
   "execution_count": 9
  },
  {
   "metadata": {
    "ExecuteTime": {
     "end_time": "2024-09-10T18:17:42.469414Z",
     "start_time": "2024-09-10T18:17:40.881687Z"
    }
   },
   "cell_type": "code",
   "source": [
    "GoF = 5\n",
    "for i in range(0, 5):\n",
    "    offset = 5\n",
    "    reconstruct_dancer_i = o3d.io.read_triangle_mesh(fr'G:\\VS2022Projects\\tvm-editing-master\\TVMEditor.Test\\bin\\Release\\net5.0\\output\\Dancer\\reference/deformed_reference_mesh_{i+offset:03}.obj', enable_post_processing=False)\n",
    "    original_dancer_i = read_triangle_mesh_with_trimesh(fr'G:\\VS2022Projects\\tvm-editing-master\\TVMEditor.Test\\bin\\Release\\net5.0\\Data\\Dancer\\meshes/dancer_fr0{i+offset:03}.obj')\n",
    "    print(reconstruct_dancer_i)\n",
    "    print(original_dancer_i)\n",
    "    fitting_mesh_dancer_i = subdivide_surface_fitting(reconstruct_dancer_i, original_dancer_i, 1)\n",
    "    fitting_mesh_dancer_i.compute_vertex_normals()\n",
    "    o3d.io.write_triangle_mesh(fr'G:\\VS2022Projects\\tvm-editing-master\\TVMEditor.Test\\bin\\Release\\net5.0\\output\\Dancer\\reference/fitting_mesh_dancer_{i+offset:03}.obj', fitting_mesh_dancer_i, write_vertex_normals=False, write_vertex_colors=False, write_triangle_uvs=False)\n",
    "    #o3d.visualization.draw_geometries([fitting_mesh_dancer_i])"
   ],
   "id": "f2eed38eacd695c1",
   "outputs": [
    {
     "name": "stdout",
     "output_type": "stream",
     "text": [
      "TriangleMesh with 4996 points and 10000 triangles.\n",
      "TriangleMesh with 20788 points and 39380 triangles.\n",
      "TriangleMesh with 19996 points and 40000 triangles.\n",
      "[Open3D WARNING] Write OBJ can not include triangle normals.\n",
      "TriangleMesh with 4996 points and 10000 triangles.\n",
      "TriangleMesh with 20833 points and 39411 triangles.\n",
      "TriangleMesh with 19996 points and 40000 triangles.\n",
      "[Open3D WARNING] Write OBJ can not include triangle normals.\n",
      "TriangleMesh with 4996 points and 10000 triangles.\n",
      "TriangleMesh with 20658 points and 39373 triangles.\n",
      "TriangleMesh with 19996 points and 40000 triangles.\n",
      "[Open3D WARNING] Write OBJ can not include triangle normals.\n",
      "TriangleMesh with 4996 points and 10000 triangles.\n",
      "TriangleMesh with 20778 points and 39392 triangles.\n",
      "TriangleMesh with 19996 points and 40000 triangles.\n",
      "[Open3D WARNING] Write OBJ can not include triangle normals.\n",
      "TriangleMesh with 4996 points and 10000 triangles.\n",
      "TriangleMesh with 20887 points and 39356 triangles.\n",
      "TriangleMesh with 19996 points and 40000 triangles.\n",
      "[Open3D WARNING] Write OBJ can not include triangle normals.\n"
     ]
    }
   ],
   "execution_count": 29
  },
  {
   "metadata": {
    "ExecuteTime": {
     "end_time": "2024-09-09T17:52:32.051Z",
     "start_time": "2024-09-09T17:52:32.043540Z"
    }
   },
   "cell_type": "code",
   "source": [
    "input_path = r'G:\\VS2022Projects\\tvm-editing-master\\TVMEditor.Test\\bin\\Release\\net5.0\\Data\\Dancer\\reference_mesh/reference_mesh.obj'\n",
    "input_path2 = r'G:\\VS2022Projects\\tvm-editing-master\\TVMEditor.Test\\bin\\Release\\net5.0\\Data\\Dancer\\reference_mesh/order_reference_mesh.obj'\n",
    "output_path = r'G:\\VS2022Projects\\tvm-editing-master\\TVMEditor.Test\\bin\\Release\\net5.0\\Data\\Dancer\\reference_mesh/encode.drc'"
   ],
   "id": "33a9f447fdd62d78",
   "outputs": [],
   "execution_count": 27
  },
  {
   "metadata": {
    "ExecuteTime": {
     "end_time": "2024-09-09T17:55:32.371457Z",
     "start_time": "2024-09-09T17:55:32.311849Z"
    }
   },
   "cell_type": "code",
   "source": [
    "mesh = o3d.io.read_triangle_mesh(input_path2)\n",
    "print(mesh)\n",
    "np.array(mesh.vertex_colors)"
   ],
   "id": "af15735da2c692c9",
   "outputs": [
    {
     "name": "stdout",
     "output_type": "stream",
     "text": [
      "TriangleMesh with 20002 points and 40000 triangles.\n"
     ]
    },
    {
     "data": {
      "text/plain": [
       "array([[0.00000000e+00, 0.00000000e+00, 0.00000000e+00],\n",
       "       [4.99974994e-05, 4.99974994e-05, 4.99974994e-05],\n",
       "       [9.99949989e-05, 9.99949989e-05, 9.99949989e-05],\n",
       "       ...,\n",
       "       [9.99899983e-01, 9.99899983e-01, 9.99899983e-01],\n",
       "       [9.99949992e-01, 9.99949992e-01, 9.99949992e-01],\n",
       "       [1.00000000e+00, 1.00000000e+00, 1.00000000e+00]])"
      ]
     },
     "execution_count": 37,
     "metadata": {},
     "output_type": "execute_result"
    }
   ],
   "execution_count": 37
  },
  {
   "metadata": {
    "ExecuteTime": {
     "end_time": "2024-09-09T18:15:44.108077Z",
     "start_time": "2024-09-09T18:15:43.792507Z"
    }
   },
   "cell_type": "code",
   "source": [
    "result = subprocess.run([\n",
    "                            r'G:\\Github\\draco\\build\\Debug\\draco_encoder',\n",
    "                            '-i', input_path2,\n",
    "                            '-o', output_path,\n",
    "                            '-qp', str('14')\n",
    "                            ], capture_output=True, text=True)\n",
    "print(result.stdout)"
   ],
   "id": "16d0a666c5d43ae5",
   "outputs": [
    {
     "name": "stdout",
     "output_type": "stream",
     "text": [
      "Encoder options:\n",
      "  Compression level = 7\n",
      "  Positions: Quantization = 14 bits\n",
      "\n",
      "Encoded mesh saved to G:\\VS2022Projects\\tvm-editing-master\\TVMEditor.Test\\bin\\Release\\net5.0\\Data\\Dancer\\reference_mesh/encode.drc (187 ms to encode).\n",
      "\n",
      "Encoded size = 62329 bytes\n",
      "\n",
      "For better compression, increase the compression level up to '-cl 10' .\n",
      "\n",
      "\n"
     ]
    }
   ],
   "execution_count": 59
  },
  {
   "metadata": {
    "ExecuteTime": {
     "end_time": "2024-09-09T18:19:22.844785Z",
     "start_time": "2024-09-09T18:19:22.619343Z"
    }
   },
   "cell_type": "code",
   "source": [
    "result = subprocess.run([\n",
    "                            r'G:\\Github\\draco\\build\\Debug\\draco_decoder',\n",
    "                            '-i', output_path,\n",
    "                            '-o', r'G:\\VS2022Projects\\tvm-editing-master\\TVMEditor.Test\\bin\\Release\\net5.0\\Data\\Dancer\\reference_mesh/decode_order.obj'\n",
    "                            ], capture_output=True, text=True)\n",
    "print(result.stdout)"
   ],
   "id": "aea06d1fcd5cfa3d",
   "outputs": [
    {
     "name": "stdout",
     "output_type": "stream",
     "text": [
      "Decoded geometry saved to G:\\VS2022Projects\\tvm-editing-master\\TVMEditor.Test\\bin\\Release\\net5.0\\Data\\Dancer\\reference_mesh/decode_order.obj (50 ms to decode)\n",
      "\n"
     ]
    }
   ],
   "execution_count": 61
  },
  {
   "metadata": {
    "ExecuteTime": {
     "end_time": "2024-09-09T18:19:25.264603Z",
     "start_time": "2024-09-09T18:19:25.215139Z"
    }
   },
   "cell_type": "code",
   "source": [
    "mesh = o3d.io.read_triangle_mesh(r'G:\\VS2022Projects\\tvm-editing-master\\TVMEditor.Test\\bin\\Release\\net5.0\\Data\\Dancer\\reference_mesh/decode_order.obj')\n",
    "mesh.vertex_colors"
   ],
   "id": "2c4d89455f2ef8b",
   "outputs": [
    {
     "data": {
      "text/plain": [
       "std::vector<Eigen::Vector3d> with 0 elements.\n",
       "Use numpy.asarray() to access data."
      ]
     },
     "execution_count": 62,
     "metadata": {},
     "output_type": "execute_result"
    }
   ],
   "execution_count": 62
  },
  {
   "metadata": {},
   "cell_type": "markdown",
   "source": "## get error",
   "id": "c1a810d654242a2e"
  },
  {
   "metadata": {
    "ExecuteTime": {
     "end_time": "2024-09-10T17:54:52.561500Z",
     "start_time": "2024-09-10T17:54:52.544535Z"
    }
   },
   "cell_type": "code",
   "source": [
    "def normalize_point_cloud(pcd, min_range=0, max_range=1):\n",
    "    points = np.asarray(pcd.points)\n",
    "    \n",
    "    min_bound = points.min(axis=0)\n",
    "    max_bound = points.max(axis=0)\n",
    "    \n",
    "    normalized_points = (points - min_bound) / (max_bound - min_bound)  \n",
    "    normalized_points = normalized_points * (max_range - min_range) + min_range  \n",
    "    \n",
    "    pcd.points = o3d.utility.Vector3dVector(normalized_points)\n",
    "    return pcd\n",
    "\n",
    "def normalize_vertices(vertices, min_range=0, max_range=1):\n",
    "    min_bound = np.min(vertices, axis=0)\n",
    "    max_bound = np.max(vertices, axis=0)\n",
    "    \n",
    "    normalized_vertices = (vertices - min_bound) / (max_bound - min_bound)\n",
    "    \n",
    "    normalized_vertices = normalized_vertices * (max_range - min_range) + min_range\n",
    "    \n",
    "    return normalized_vertices\n",
    "\n",
    "def compute_D1_psnr(original_mesh, decoded_mesh):\n",
    "    \n",
    "    original_vertices = np.array(original_mesh.vertices)\n",
    "    #original_vertices = normalize_vertices(original_vertices)\n",
    "    decoded_vertices = np.array(decoded_mesh.vertices)\n",
    "    #decoded_vertices = normalize_vertices(decoded_vertices)\n",
    "    \n",
    "    pcd_original = o3d.geometry.PointCloud()\n",
    "    pcd_original.points = o3d.utility.Vector3dVector(original_vertices)\n",
    "    \n",
    "    pcd_decoded = o3d.geometry.PointCloud()\n",
    "    pcd_decoded.points = o3d.utility.Vector3dVector(decoded_vertices)\n",
    "    pcd_tree = o3d.geometry.KDTreeFlann(pcd_decoded)\n",
    "    \n",
    "\n",
    "    \n",
    "    MSE = 0\n",
    "    for i in range(0, len(original_vertices)):\n",
    "        [k, index, _] = pcd_tree.search_knn_vector_3d(original_vertices[i], 1)\n",
    "        MSE += np.square(original_vertices[i] - decoded_vertices[index])\n",
    "        #print(original_vertices[i], decoded_vertices[index])\n",
    "    MSE = np.mean(MSE)\n",
    "    print(MSE)\n",
    "    aabb = pcd_original.get_axis_aligned_bounding_box()\n",
    "    min_bound = aabb.get_min_bound()\n",
    "\n",
    "    max_bound = aabb.get_max_bound()\n",
    "\n",
    "    signal_peak = np.linalg.norm(max_bound - min_bound)\n",
    "    print(signal_peak)\n",
    "    psnr = 20 * np.log10(signal_peak) - 10 * np.log10(MSE)\n",
    "    \n",
    "    return psnr"
   ],
   "id": "dc5fc7ce292c58c",
   "outputs": [],
   "execution_count": 14
  },
  {
   "metadata": {
    "ExecuteTime": {
     "end_time": "2024-09-10T20:12:09.667711Z",
     "start_time": "2024-09-10T20:12:09.657715Z"
    }
   },
   "cell_type": "code",
   "source": [
    "def read_triangle_mesh_with_trimesh(avatar_name,enable_post_processing=False):\n",
    "    # EDIT: next 4 lines replace to maintain order even in case of degenerate and non referenced\n",
    "    # scene_patch = trimesh.load(avatar_name,process=enable_post_processing)\n",
    "    if enable_post_processing:\n",
    "        scene_patch = trimesh.load(avatar_name,process=True)\n",
    "    else:\n",
    "        scene_patch = trimesh.load(avatar_name,process=False,maintain_order=True) \n",
    "    mesh = o3d.geometry.TriangleMesh(\n",
    "        o3d.utility.Vector3dVector(scene_patch.vertices),\n",
    "        o3d.utility.Vector3iVector(scene_patch.faces)\n",
    "    ) \n",
    "    if scene_patch.vertex_normals.size:\n",
    "        mesh.vertex_normals = o3d.utility.Vector3dVector(scene_patch.vertex_normals.copy())\n",
    "    if scene_patch.visual.defined:\n",
    "        # either texture or vertex colors if no uvs present.\n",
    "        if scene_patch.visual.kind == 'vertex':\n",
    "            mesh.vertex_colors = o3d.utility.Vector3dVector(scene_patch.visual.vertex_colors[:,:3]/255) # no alpha channel support\n",
    "        elif scene_patch.visual.kind == 'texture':\n",
    "            uv = scene_patch.visual.uv\n",
    "            if uv.shape[0] == scene_patch.vertices.shape[0]:\n",
    "                mesh.triangle_uvs = o3d.utility.Vector2dVector(uv[scene_patch.faces.flatten()])\n",
    "            elif uv.shape[0] != scene_patch.faces.shape[0] * 3:\n",
    "                assert False\n",
    "            else:\n",
    "                mesh.triangle_uvs = o3d.utility.Vector2dVector(uv)\n",
    "                if scene_patch.visual.material is not None and scene_patch.visual.material.image is not None:\n",
    "                    if scene_patch.visual.material.image.mode == 'RGB':\n",
    "                        mesh.textures = [o3d.geometry.Image(np.asarray(scene_patch.visual.material.image))]\n",
    "                    else:\n",
    "                        assert False\n",
    "        else:\n",
    "            assert False\n",
    "    return mesh\n"
   ],
   "id": "fbfd7f573c756afe",
   "outputs": [],
   "execution_count": 145
  },
  {
   "metadata": {
    "ExecuteTime": {
     "end_time": "2024-09-10T17:54:30.827550Z",
     "start_time": "2024-09-10T17:54:30.605551Z"
    }
   },
   "cell_type": "code",
   "source": [
    "reconstruct = read_triangle_mesh_with_trimesh(fr'G:\\VS2022Projects\\tvm-editing-master\\TVMEditor.Test\\bin\\Release\\net5.0\\output\\Dancer\\reference/fitting_mesh_dancer_005.obj')\n",
    "print(reconstruct)\n",
    "original_dancer = read_triangle_mesh_with_trimesh(fr'G:\\VS2022Projects\\tvm-editing-master\\TVMEditor.Test\\bin\\Release\\net5.0\\Data\\Dancer\\meshes/dancer_fr0005.obj')\n",
    "print(original_dancer)\n",
    "#d1 = compute_D1_psnr(original_dancer, reconstruct)\n",
    "#print(d1)"
   ],
   "id": "28b5b761a5f360c6",
   "outputs": [
    {
     "name": "stdout",
     "output_type": "stream",
     "text": [
      "TriangleMesh with 19996 points and 40000 triangles.\n",
      "TriangleMesh with 20788 points and 39380 triangles.\n"
     ]
    }
   ],
   "execution_count": 12
  },
  {
   "metadata": {
    "ExecuteTime": {
     "end_time": "2024-09-10T17:54:57.891759Z",
     "start_time": "2024-09-10T17:54:57.772753Z"
    }
   },
   "cell_type": "code",
   "source": [
    "d1 = compute_D1_psnr(reconstruct, original_dancer)\n",
    "print(reconstruct, original_dancer)\n",
    "print(d1)"
   ],
   "id": "75527678ca13240c",
   "outputs": [
    {
     "name": "stdout",
     "output_type": "stream",
     "text": [
      "0.0\n",
      "2.153985834371712\n",
      "TriangleMesh with 19996 points and 40000 triangles. TriangleMesh with 20788 points and 39380 triangles.\n",
      "inf\n"
     ]
    },
    {
     "name": "stderr",
     "output_type": "stream",
     "text": [
      "C:\\Users\\Windows\\AppData\\Local\\Temp\\ipykernel_32512\\289853084.py:53: RuntimeWarning: divide by zero encountered in log10\n",
      "  psnr = 20 * np.log10(signal_peak) - 10 * np.log10(MSE)\n"
     ]
    }
   ],
   "execution_count": 16
  },
  {
   "metadata": {
    "ExecuteTime": {
     "end_time": "2024-09-10T18:19:16.706999Z",
     "start_time": "2024-09-10T18:19:16.394640Z"
    }
   },
   "cell_type": "code",
   "source": [
    "reference_mesh = read_triangle_mesh_with_trimesh(r'G:\\VS2022Projects\\tvm-editing-master\\TVMEditor.Test\\bin\\Release\\net5.0\\Data\\Dancer/reference_mesh.obj')\n",
    "print(reference_mesh)\n",
    "decimated_reference_mesh = o3d.geometry.TriangleMesh.simplify_quadric_decimation(reference_mesh, 10000, boundary_weight= 8000)\n",
    "print(decimated_reference_mesh)\n",
    "decimated_reference_mesh_vertices = np.array(decimated_reference_mesh.vertices)\n",
    "o3d.io.write_triangle_mesh(r'G:\\VS2022Projects\\tvm-editing-master\\TVMEditor.Test\\bin\\Release\\net5.0\\Data\\Dancer\\reference_mesh/decimated_reference_mesh.obj', decimated_reference_mesh, write_vertex_normals=False, write_vertex_colors=False, write_triangle_uvs=False)\n",
    "loaded_decimated_reference_mesh = read_triangle_mesh_with_trimesh(r'G:\\VS2022Projects\\tvm-editing-master\\TVMEditor.Test\\bin\\Release\\net5.0\\Data\\Dancer\\reference_mesh/decimated_reference_mesh.obj', enable_post_processing=False)\n",
    "print(loaded_decimated_reference_mesh)\n",
    "loaded_decimated_reference_mesh_vertices = np.array(loaded_decimated_reference_mesh.vertices)\n",
    "loaded_decimated_reference_mesh_vertices"
   ],
   "id": "92b6281169d111c4",
   "outputs": [
    {
     "name": "stdout",
     "output_type": "stream",
     "text": [
      "TriangleMesh with 20002 points and 40000 triangles.\n",
      "TriangleMesh with 5002 points and 10000 triangles.\n",
      "TriangleMesh with 4996 points and 10000 triangles.\n"
     ]
    },
    {
     "data": {
      "text/plain": [
       "array([[ 0.0758296,  0.911741 , -0.472649 ],\n",
       "       [ 0.0902357,  0.911741 , -0.48194  ],\n",
       "       [ 0.0901355,  0.903519 , -0.477867 ],\n",
       "       ...,\n",
       "       [ 0.0342721,  0.614468 ,  0.0390702],\n",
       "       [ 0.289648 , -0.456912 ,  0.0853124],\n",
       "       [-0.201152 ,  0.548629 ,  0.0756965]])"
      ]
     },
     "execution_count": 32,
     "metadata": {},
     "output_type": "execute_result"
    }
   ],
   "execution_count": 32
  },
  {
   "metadata": {},
   "cell_type": "code",
   "outputs": [],
   "execution_count": null,
   "source": [
    "reference_mesh = read_triangle_mesh_with_trimesh(r'G:\\VS2022Projects\\tvm-editing-master\\TVMEditor.Test\\bin\\Release\\net5.0\\Data\\Dancer/reference_mesh.obj')\n",
    "print(reference_mesh)\n",
    "decimated_reference_mesh = o3d.geometry.TriangleMesh.simplify_quadric_decimation(reference_mesh, 10000, boundary_weight= 8000)\n",
    "print(decimated_reference_mesh)\n",
    "decimated_reference_mesh_vertices = np.array(decimated_reference_mesh.vertices)\n"
   ],
   "id": "56dd1b2fb02c4363"
  },
  {
   "metadata": {
    "ExecuteTime": {
     "end_time": "2024-09-10T17:58:22.671451Z",
     "start_time": "2024-09-10T17:58:22.654453Z"
    }
   },
   "cell_type": "code",
   "source": "decimated_reference_mesh_vertices",
   "id": "b25194bccf404984",
   "outputs": [
    {
     "data": {
      "text/plain": [
       "array([[ 0.07582965,  0.911741  , -0.472649  ],\n",
       "       [ 0.09023573,  0.911741  , -0.48194025],\n",
       "       [ 0.09013545,  0.9035185 , -0.477867  ],\n",
       "       ...,\n",
       "       [ 0.0342721 ,  0.614468  ,  0.0390702 ],\n",
       "       [ 0.2896475 , -0.456912  ,  0.08531235],\n",
       "       [-0.201152  ,  0.548629  ,  0.0756965 ]])"
      ]
     },
     "execution_count": 19,
     "metadata": {},
     "output_type": "execute_result"
    }
   ],
   "execution_count": 19
  },
  {
   "metadata": {
    "ExecuteTime": {
     "end_time": "2024-09-10T18:00:05.542843Z",
     "start_time": "2024-09-10T18:00:05.534843Z"
    }
   },
   "cell_type": "code",
   "source": [
    "subdivided_decimated_reference_mesh = o3d.geometry.TriangleMesh.subdivide_midpoint(decimated_reference_mesh, number_of_iterations=1)\n",
    "print(subdivided_decimated_reference_mesh)\n",
    "subdivided_decimated_reference_mesh_vertices = np.array(subdivided_decimated_reference_mesh.vertices)"
   ],
   "id": "ba98f035802243b",
   "outputs": [
    {
     "name": "stdout",
     "output_type": "stream",
     "text": [
      "TriangleMesh with 20002 points and 40000 triangles.\n"
     ]
    }
   ],
   "execution_count": 20
  },
  {
   "metadata": {
    "ExecuteTime": {
     "end_time": "2024-09-10T18:00:08.761528Z",
     "start_time": "2024-09-10T18:00:08.752527Z"
    }
   },
   "cell_type": "code",
   "source": "subdivided_decimated_reference_mesh_vertices",
   "id": "9dc13badfb389c6c",
   "outputs": [
    {
     "data": {
      "text/plain": [
       "array([[ 0.07582965,  0.911741  , -0.472649  ],\n",
       "       [ 0.09023573,  0.911741  , -0.48194025],\n",
       "       [ 0.09013545,  0.9035185 , -0.477867  ],\n",
       "       ...,\n",
       "       [ 0.18076125, -0.41358662,  0.30659475],\n",
       "       [-0.04329998,  0.79348337,  0.31874463],\n",
       "       [-0.05850105,  0.398496  ,  0.316869  ]])"
      ]
     },
     "execution_count": 21,
     "metadata": {},
     "output_type": "execute_result"
    }
   ],
   "execution_count": 21
  },
  {
   "metadata": {},
   "cell_type": "markdown",
   "source": "## get displacements",
   "id": "625b9793fec60cc3"
  },
  {
   "metadata": {
    "ExecuteTime": {
     "end_time": "2024-09-10T18:20:28.431151Z",
     "start_time": "2024-09-10T18:20:28.424152Z"
    }
   },
   "cell_type": "code",
   "source": [
    "decimated_reference_mesh = loaded_decimated_reference_mesh\n",
    "print(decimated_reference_mesh)"
   ],
   "id": "97351f77388b3e19",
   "outputs": [
    {
     "name": "stdout",
     "output_type": "stream",
     "text": [
      "TriangleMesh with 4996 points and 10000 triangles.\n"
     ]
    }
   ],
   "execution_count": 33
  },
  {
   "metadata": {
    "ExecuteTime": {
     "end_time": "2024-09-10T18:27:55.400495Z",
     "start_time": "2024-09-10T18:27:55.398497Z"
    }
   },
   "cell_type": "code",
   "source": [
    "dataset = 'Dancer'\n",
    "GoF = 5"
   ],
   "id": "e8f1ca3c1bea36f8",
   "outputs": [],
   "execution_count": 49
  },
  {
   "metadata": {
    "ExecuteTime": {
     "end_time": "2024-09-10T18:21:43.780357Z",
     "start_time": "2024-09-10T18:21:42.105368Z"
    }
   },
   "cell_type": "code",
   "source": [
    "for i in range(0, GoF):\n",
    "    offset = 5\n",
    "    reconstruct_dancer_i = read_triangle_mesh_with_trimesh(fr'G:\\VS2022Projects\\tvm-editing-master\\TVMEditor.Test\\bin\\Release\\net5.0\\output\\Dancer\\reference/deformed_reference_mesh_{i+offset:03}.obj')\n",
    "    original_dancer_i = read_triangle_mesh_with_trimesh(fr'G:\\VS2022Projects\\tvm-editing-master\\TVMEditor.Test\\bin\\Release\\net5.0\\Data\\Dancer\\meshes/dancer_fr0{i+offset:03}.obj')\n",
    "\n",
    "    fitting_mesh_dancer_i = subdivide_surface_fitting(reconstruct_dancer_i, original_dancer_i, 1)\n",
    "    print(fitting_mesh_dancer_i)\n",
    "    o3d.io.write_triangle_mesh(fr'G:\\VS2022Projects\\tvm-editing-master\\TVMEditor.Test\\bin\\Release\\net5.0\\output\\Dancer\\reference/fitting_mesh_dancer_{i+offset:03}.obj', fitting_mesh_dancer_i, write_vertex_normals=False, write_vertex_colors=False, write_triangle_uvs=False)\n",
    "    #o3d.visualization.draw_geometries([fitting_mesh_dancer_i])"
   ],
   "id": "523a5cc74ba5c68b",
   "outputs": [
    {
     "name": "stdout",
     "output_type": "stream",
     "text": [
      "TriangleMesh with 19996 points and 40000 triangles.\n",
      "TriangleMesh with 19996 points and 40000 triangles.\n",
      "[Open3D WARNING] Write OBJ can not include triangle normals.\n",
      "TriangleMesh with 19996 points and 40000 triangles.\n",
      "TriangleMesh with 19996 points and 40000 triangles.\n",
      "[Open3D WARNING] Write OBJ can not include triangle normals.\n",
      "TriangleMesh with 19996 points and 40000 triangles.\n",
      "TriangleMesh with 19996 points and 40000 triangles.\n",
      "[Open3D WARNING] Write OBJ can not include triangle normals.\n",
      "TriangleMesh with 19996 points and 40000 triangles.\n",
      "TriangleMesh with 19996 points and 40000 triangles.\n",
      "[Open3D WARNING] Write OBJ can not include triangle normals.\n",
      "TriangleMesh with 19996 points and 40000 triangles.\n",
      "TriangleMesh with 19996 points and 40000 triangles.\n",
      "[Open3D WARNING] Write OBJ can not include triangle normals.\n"
     ]
    }
   ],
   "execution_count": 35
  },
  {
   "metadata": {
    "ExecuteTime": {
     "end_time": "2024-09-10T18:23:10.650084Z",
     "start_time": "2024-09-10T18:23:10.635587Z"
    }
   },
   "cell_type": "code",
   "source": [
    "subdivided_decimated_reference_mesh = o3d.geometry.TriangleMesh.subdivide_midpoint(decimated_reference_mesh, number_of_iterations=1)\n",
    "print(subdivided_decimated_reference_mesh)\n",
    "subdivided_decimated_reference_mesh_vertices = np.array(subdivided_decimated_reference_mesh.vertices)\n",
    "subdivided_decimated_reference_mesh_vertices"
   ],
   "id": "51d7680736e505d3",
   "outputs": [
    {
     "name": "stdout",
     "output_type": "stream",
     "text": [
      "TriangleMesh with 19996 points and 40000 triangles.\n"
     ]
    },
    {
     "data": {
      "text/plain": [
       "array([[ 0.0758296 ,  0.911741  , -0.472649  ],\n",
       "       [ 0.0902357 ,  0.911741  , -0.48194   ],\n",
       "       [ 0.0901355 ,  0.903519  , -0.477867  ],\n",
       "       ...,\n",
       "       [ 0.1807615 , -0.4135865 ,  0.306595  ],\n",
       "       [-0.0433    ,  0.7934835 ,  0.3187445 ],\n",
       "       [-0.05850105,  0.398496  ,  0.316869  ]])"
      ]
     },
     "execution_count": 47,
     "metadata": {},
     "output_type": "execute_result"
    }
   ],
   "execution_count": 47
  },
  {
   "metadata": {
    "ExecuteTime": {
     "end_time": "2024-09-10T18:30:13.740099Z",
     "start_time": "2024-09-10T18:30:13.050184Z"
    }
   },
   "cell_type": "code",
   "source": [
    "displacements = []\n",
    "for i in range(0, GoF):\n",
    "    offset = 5\n",
    "    fitting_mesh_dancer_i = read_triangle_mesh_with_trimesh(fr'G:\\VS2022Projects\\tvm-editing-master\\TVMEditor.Test\\bin\\Release\\net5.0\\output\\Dancer\\reference/fitting_mesh_dancer_{i+offset:03}.obj')\n",
    "    print(fitting_mesh_dancer_i, subdivided_decimated_reference_mesh)\n",
    "    fitting_mesh_vertices = np.array(fitting_mesh_dancer_i.vertices)\n",
    "    displacement_i = subdivided_decimated_reference_mesh_vertices - fitting_mesh_vertices\n",
    "    \n",
    "    np.savetxt(fr'G:\\VS2022Projects\\tvm-editing-master\\TVMEditor.Test\\bin\\Release\\net5.0\\output\\Dancer\\reference/displacements_{dataset}_{i+offset:03}.txt', displacement_i, fmt='%8f')\n",
    "    displacements.append(displacement_i)"
   ],
   "id": "12ab10dc7f6c788",
   "outputs": [
    {
     "name": "stdout",
     "output_type": "stream",
     "text": [
      "TriangleMesh with 19996 points and 40000 triangles. TriangleMesh with 19996 points and 40000 triangles.\n",
      "TriangleMesh with 19996 points and 40000 triangles. TriangleMesh with 19996 points and 40000 triangles.\n",
      "TriangleMesh with 19996 points and 40000 triangles. TriangleMesh with 19996 points and 40000 triangles.\n",
      "TriangleMesh with 19996 points and 40000 triangles. TriangleMesh with 19996 points and 40000 triangles.\n",
      "TriangleMesh with 19996 points and 40000 triangles. TriangleMesh with 19996 points and 40000 triangles.\n"
     ]
    }
   ],
   "execution_count": 55
  },
  {
   "metadata": {
    "ExecuteTime": {
     "end_time": "2024-09-10T18:37:32.929648Z",
     "start_time": "2024-09-10T18:37:32.897657Z"
    }
   },
   "cell_type": "code",
   "source": [
    "input_reference_mesh_path = r'G:\\VS2022Projects\\tvm-editing-master\\TVMEditor.Test\\bin\\Release\\net5.0\\Data\\Dancer\\reference_mesh/decimated_reference_mesh.obj'\n",
    "input_decimated_reference_mesh = read_triangle_mesh_with_trimesh(input_reference_mesh_path, enable_post_processing=False)\n",
    "np.array(input_decimated_reference_mesh.vertices)"
   ],
   "id": "4c882e5caf8beccb",
   "outputs": [
    {
     "data": {
      "text/plain": [
       "array([[ 0.0758296,  0.911741 , -0.472649 ],\n",
       "       [ 0.0902357,  0.911741 , -0.48194  ],\n",
       "       [ 0.0901355,  0.903519 , -0.477867 ],\n",
       "       ...,\n",
       "       [ 0.0342721,  0.614468 ,  0.0390702],\n",
       "       [ 0.289648 , -0.456912 ,  0.0853124],\n",
       "       [-0.201152 ,  0.548629 ,  0.0756965]])"
      ]
     },
     "execution_count": 57,
     "metadata": {},
     "output_type": "execute_result"
    }
   ],
   "execution_count": 57
  },
  {
   "metadata": {
    "ExecuteTime": {
     "end_time": "2024-09-10T19:02:00.862188Z",
     "start_time": "2024-09-10T19:02:00.765190Z"
    }
   },
   "cell_type": "code",
   "source": [
    "output_path = r'G:\\VS2022Projects\\tvm-editing-master\\TVMEditor.Test\\bin\\Release\\net5.0\\Data\\Dancer\\reference_mesh/1.drc'\n",
    "result = subprocess.run([\n",
    "                            r'G:\\Github\\draco\\build\\Debug\\draco_encoder',\n",
    "                            '-i', input_reference_mesh_path,\n",
    "                            '-o', output_path,\n",
    "                            '-qp', str('14'),\n",
    "                            '-cl', '7'\n",
    "                            ], capture_output=True, text=True)\n",
    "print(result.stdout)"
   ],
   "id": "6e1578844a89b960",
   "outputs": [
    {
     "name": "stdout",
     "output_type": "stream",
     "text": [
      "Encoder options:\n",
      "  Compression level = 7\n",
      "  Positions: Quantization = 14 bits\n",
      "\n",
      "Encoded mesh saved to G:\\VS2022Projects\\tvm-editing-master\\TVMEditor.Test\\bin\\Release\\net5.0\\Data\\Dancer\\reference_mesh/1.drc (49 ms to encode).\n",
      "\n",
      "Encoded size = 18111 bytes\n",
      "\n",
      "For better compression, increase the compression level up to '-cl 10' .\n",
      "\n",
      "\n"
     ]
    }
   ],
   "execution_count": 67
  },
  {
   "metadata": {
    "ExecuteTime": {
     "end_time": "2024-09-10T19:02:02.528309Z",
     "start_time": "2024-09-10T19:02:02.437763Z"
    }
   },
   "cell_type": "code",
   "source": [
    "result = subprocess.run([\n",
    "                            r'G:\\Github\\draco\\build\\Debug\\draco_decoder',\n",
    "                            '-i', output_path,\n",
    "                            '-o', r'G:\\VS2022Projects\\tvm-editing-master\\TVMEditor.Test\\bin\\Release\\net5.0\\Data\\Dancer\\reference_mesh/decode.obj'\n",
    "                            ], capture_output=True, text=True)\n",
    "print(result.stdout)"
   ],
   "id": "1db58be58f18535",
   "outputs": [
    {
     "name": "stdout",
     "output_type": "stream",
     "text": [
      "Decoded geometry saved to G:\\VS2022Projects\\tvm-editing-master\\TVMEditor.Test\\bin\\Release\\net5.0\\Data\\Dancer\\reference_mesh/decode.obj (13 ms to decode)\n",
      "\n"
     ]
    }
   ],
   "execution_count": 68
  },
  {
   "metadata": {
    "ExecuteTime": {
     "end_time": "2024-09-10T19:03:43.149140Z",
     "start_time": "2024-09-10T19:03:43.111142Z"
    }
   },
   "cell_type": "code",
   "source": [
    "decoded_mesh = read_triangle_mesh_with_trimesh(r'G:\\VS2022Projects\\tvm-editing-master\\TVMEditor.Test\\bin\\Release\\net5.0\\Data\\Dancer\\reference_mesh/decode.obj', enable_post_processing=False)\n",
    "print(decoded_mesh)\n",
    "np.array(decoded_mesh.vertices)"
   ],
   "id": "c1398883a47249ad",
   "outputs": [
    {
     "name": "stdout",
     "output_type": "stream",
     "text": [
      "TriangleMesh with 4996 points and 10000 triangles.\n"
     ]
    },
    {
     "data": {
      "text/plain": [
       "array([[-0.053439,  1.16511 ,  0.158964],\n",
       "       [-0.045483,  1.176458,  0.163878],\n",
       "       [-0.046887,  1.157154,  0.161655],\n",
       "       ...,\n",
       "       [-0.423731,  0.700051, -0.446256],\n",
       "       [-0.430517,  0.700752, -0.440874],\n",
       "       [-0.43859 ,  0.686947, -0.438768]])"
      ]
     },
     "execution_count": 70,
     "metadata": {},
     "output_type": "execute_result"
    }
   ],
   "execution_count": 70
  },
  {
   "metadata": {
    "ExecuteTime": {
     "end_time": "2024-09-10T19:20:00.550517Z",
     "start_time": "2024-09-10T19:19:58.934826Z"
    }
   },
   "cell_type": "code",
   "source": [
    "test = o3d.geometry.TriangleMesh.subdivide_midpoint(decoded_mesh, number_of_iterations=1)\n",
    "print(test)\n",
    "subdivided_mesh = o3d.geometry.TriangleMesh.subdivide_midpoint(input_decimated_reference_mesh, number_of_iterations=1)\n",
    "print(subdivided_mesh)\n",
    "test_vertices = np.array(test.vertices)\n",
    "subdivided_vertices = np.array(subdivided_mesh.vertices)\n",
    "test.compute_vertex_normals()\n",
    "subdivided_mesh.compute_vertex_normals()\n",
    "test.paint_uniform_color([1,0,0])\n",
    "o3d.visualization.draw_geometries([test, subdivided_mesh])\n"
   ],
   "id": "8266fda9055550c5",
   "outputs": [
    {
     "name": "stdout",
     "output_type": "stream",
     "text": [
      "TriangleMesh with 19996 points and 40000 triangles.\n",
      "TriangleMesh with 19996 points and 40000 triangles.\n"
     ]
    }
   ],
   "execution_count": 75
  },
  {
   "metadata": {
    "ExecuteTime": {
     "end_time": "2024-09-10T20:15:25.660356Z",
     "start_time": "2024-09-10T20:15:25.643669Z"
    }
   },
   "cell_type": "code",
   "source": [
    "#displacement = np.loadtxt(fr'G:\\VS2022Projects\\tvm-editing-master\\TVMEditor.Test\\bin\\Release\\net5.0\\output\\Dancer\\reference/displacements_{dataset}_005.txt')\n",
    "dis_mesh = o3d.io.read_point_cloud(fr'G:\\VS2022Projects\\tvm-editing-master\\TVMEditor.Test\\bin\\Release\\net5.0\\Data\\Dancer\\reference_mesh/decoded_displacements.ply')\n",
    "displacement = np.array(dis_mesh.points)\n",
    "displacement"
   ],
   "id": "9796315262f4bcc",
   "outputs": [
    {
     "data": {
      "text/plain": [
       "array([[ 0.20789456,  0.02429643,  0.00555527],\n",
       "       [ 0.20593131,  0.02429643,  0.00653692],\n",
       "       [ 0.20593131,  0.02429643,  0.00800939],\n",
       "       ...,\n",
       "       [ 0.02089098,  0.00319103,  0.00408281],\n",
       "       [-0.00365019, -0.00957037,  0.00555527],\n",
       "       [ 0.00469381,  0.00171857, -0.00278872]])"
      ]
     },
     "execution_count": 156,
     "metadata": {},
     "output_type": "execute_result"
    }
   ],
   "execution_count": 156
  },
  {
   "metadata": {
    "ExecuteTime": {
     "end_time": "2024-09-10T20:15:28.474374Z",
     "start_time": "2024-09-10T20:15:28.358374Z"
    }
   },
   "cell_type": "code",
   "source": [
    "pcd_indexer = o3d.geometry.PointCloud()\n",
    "pcd_indexer.points = o3d.utility.Vector3dVector(subdivided_mesh.vertices)\n",
    "pcd_tree = o3d.geometry.KDTreeFlann(pcd_indexer)\n",
    "re_test_vertices = deepcopy(test_vertices)\n",
    "for i in range(0, len(test_vertices)):\n",
    "    [k, index, _] = pcd_tree.search_knn_vector_3d(test_vertices[i], 1)\n",
    "    re_test_vertices[i] -= displacement[index[0]]\n",
    "    #print(test_vertices[i], subdivided_vertices[index], index[0])\n",
    "    #print(displacement[index[0]])\n",
    "test.vertices = o3d.utility.Vector3dVector(re_test_vertices)\n",
    "re_test_vertices"
   ],
   "id": "3797581e09e46d23",
   "outputs": [
    {
     "data": {
      "text/plain": [
       "array([[-0.0812015 ,  1.15308415,  0.16420683],\n",
       "       [-0.0732455 ,  1.16590462,  0.16863001],\n",
       "       [-0.07514032,  1.1441465 ,  0.16640701],\n",
       "       ...,\n",
       "       [-0.11092802,  0.87557361, -0.47366695],\n",
       "       [-0.12127912,  0.87832311, -0.47827559],\n",
       "       [-0.12491606,  0.88036014, -0.48278957]])"
      ]
     },
     "execution_count": 157,
     "metadata": {},
     "output_type": "execute_result"
    }
   ],
   "execution_count": 157
  },
  {
   "metadata": {
    "ExecuteTime": {
     "end_time": "2024-09-10T20:22:54.066423Z",
     "start_time": "2024-09-10T20:22:40.647120Z"
    }
   },
   "cell_type": "code",
   "source": [
    "test.paint_uniform_color([0.7,0.7,0.7])\n",
    "original_dancer.paint_uniform_color([1,0,0])\n",
    "o3d.visualization.draw_geometries([test])\n",
    "print(test)"
   ],
   "id": "e7ccf0cafd7e5aa4",
   "outputs": [
    {
     "name": "stdout",
     "output_type": "stream",
     "text": [
      "TriangleMesh with 19996 points and 40000 triangles.\n"
     ]
    }
   ],
   "execution_count": 164
  },
  {
   "metadata": {
    "ExecuteTime": {
     "end_time": "2024-09-10T20:22:57.184473Z",
     "start_time": "2024-09-10T20:22:56.955463Z"
    }
   },
   "cell_type": "code",
   "source": [
    "d1 = max(compute_D1_psnr(original_dancer, test), compute_D1_psnr(test, original_dancer))\n",
    "print(d1)"
   ],
   "id": "77924d694ad5f6fd",
   "outputs": [
    {
     "name": "stdout",
     "output_type": "stream",
     "text": [
      "0.1040679195887176\n",
      "2.1541824332553636\n",
      "0.0004167020142322769\n",
      "2.154245462451233\n",
      "40.46764773971224\n"
     ]
    }
   ],
   "execution_count": 165
  },
  {
   "metadata": {
    "ExecuteTime": {
     "end_time": "2024-09-10T19:46:27.028220Z",
     "start_time": "2024-09-10T19:46:26.906262Z"
    }
   },
   "cell_type": "code",
   "source": "print(compute_D1_psnr(original_dancer, test))",
   "id": "b200b52116b5b945",
   "outputs": [
    {
     "name": "stdout",
     "output_type": "stream",
     "text": [
      "0.10430502592332601\n",
      "2.1541824332553636\n",
      "16.482597246913755\n"
     ]
    }
   ],
   "execution_count": 111
  },
  {
   "metadata": {
    "ExecuteTime": {
     "end_time": "2024-09-10T19:40:27.679691700Z",
     "start_time": "2024-09-10T19:40:20.701511Z"
    }
   },
   "cell_type": "code",
   "source": [
    "import re\n",
    "import os\n",
    "\n",
    "original_input_dir = os.path.join(r'G:\\VS2022Projects\\tvm-editing-master\\TVMEditor.Test\\bin\\Release\\net5.0\\Data', os.path.join(dataset, 'meshes'))\n",
    "decoded_input_dir = os.path.join(r'G:\\PycharmProjects\\Mesh_Editing\\Results\\decode_Draco', dataset)\n",
    "\n",
    "files = os.listdir(original_input_dir)\n",
    "original_obj_files = [file for file in files if file.endswith('.obj')]\n",
    "def extract_number(filename):\n",
    "    match = re.search(r'(\\d+)', filename)\n",
    "    return int(match.group(1)) if match else float('inf')\n",
    "\n",
    "original_obj_files.sort(key=extract_number)\n",
    "    \n",
    "qps = range(6,15)\n",
    "result_file_path = os.path.join(r'G:\\PycharmProjects\\Mesh_Editing\\Results', f'{dataset}_D1_PSNR_results.txt')\n",
    "with open(result_file_path, 'w') as result_file:\n",
    "    for qp in qps:\n",
    "        d1_psnr_values = []\n",
    "        decoded_obj_path = os.path.join(decoded_input_dir, f'{dataset}_qp_{qp}')\n",
    "        files = os.listdir(decoded_obj_path)\n",
    "        decoded_obj_files = [file for file in files if file.endswith('.obj')]\n",
    "        for i in range(len(original_obj_files)):\n",
    "            original_mesh = o3d.io.read_triangle_mesh(os.path.join(original_input_dir, original_obj_files[i]))\n",
    "            decoded_mesh = o3d.io.read_triangle_mesh(os.path.join(decoded_obj_path, decoded_obj_files[i]))\n",
    "            d1_psnr = max(compute_D1_psnr(original_mesh, decoded_mesh), compute_D1_psnr(decoded_mesh, original_mesh))\n",
    "            d1_psnr_values.append(d1_psnr)\n",
    "            \n",
    "        avg_psnr_5 = np.mean(d1_psnr_values[:5])\n",
    "        avg_psnr_10 = np.mean(d1_psnr_values[:10])\n",
    "        avg_psnr_15 = np.mean(d1_psnr_values[:15])\n",
    "        avg_psnr = np.mean(d1_psnr_values)\n",
    "\n",
    "        result_file.write(f\"qp={qp}, Number of frames: {5}, Average D1 PSNR: {avg_psnr_5}\\n\")\n",
    "        result_file.write(f\"qp={qp}, Number of frames: {10}, Average D1 PSNR: {avg_psnr_10}\\n\")\n",
    "        result_file.write(f\"qp={qp}, Number of frames: {15}, Average D1 PSNR: {avg_psnr_15}\\n\")\n",
    "        \n",
    "        print(f\"qp={qp}, Number of frames: {len(original_obj_files)}, Average D1 PSNR: {avg_psnr}\\n\")"
   ],
   "id": "6da87ba7d97a4277",
   "outputs": [
    {
     "name": "stdout",
     "output_type": "stream",
     "text": [
      "1.373884003623045\n",
      "2.154182467483461\n",
      "0.14703490331987157\n",
      "2.1506494733131905\n",
      "1.3415661943519048\n",
      "2.1489807178796845\n",
      "0.14471352531646292\n",
      "2.1509806482521374\n",
      "1.3400588257808106\n",
      "2.1495747096785562\n",
      "0.14400835193956504\n",
      "2.144647842629626\n",
      "1.3438243599327462\n",
      "2.160141938959326\n",
      "0.13957657459180384\n",
      "2.156660888360939\n",
      "1.3662830963046815\n",
      "2.1679880499474744\n",
      "0.14038101639807626\n",
      "2.168679591817534\n",
      "1.3704191574927174\n",
      "2.1751943388149377\n",
      "0.14366281972624328\n",
      "2.1824967399118087\n",
      "1.4091069366071851\n",
      "2.1800171671271986\n",
      "0.14483653368265623\n",
      "2.180429837686529\n",
      "1.4161677046357497\n",
      "2.180608537220912\n",
      "0.154992412286531\n",
      "2.1858150078686784\n",
      "1.4055336725229919\n",
      "2.171643552469872\n",
      "0.14492850563013007\n",
      "2.1798360441355893\n",
      "1.3721963475788541\n",
      "2.159199371971853\n",
      "0.14938904788201993\n",
      "2.1559997437460754\n",
      "1.3480193958179514\n",
      "2.1595790473832817\n",
      "0.14219138552671085\n",
      "2.1611988211301267\n",
      "1.3346837051075386\n",
      "2.158615660372041\n",
      "0.14522228482064148\n",
      "2.1580751169147705\n",
      "1.349168662067357\n",
      "2.1658708183857107\n",
      "0.14536323792466413\n",
      "2.1641225798591606\n",
      "1.3664618183674493\n",
      "2.1650048066717305\n",
      "0.14627182215599335\n",
      "2.1695689916252032\n",
      "1.3743906234106789\n",
      "2.15797553798312\n",
      "0.1422993272117029\n",
      "2.153103170968496\n",
      "qp=6, Number of frames: 15, Average D1 PSNR: 15.093491079065267\n",
      "\n",
      "0.33309439596921653\n",
      "2.154182467483461\n",
      "0.12561908030269897\n",
      "2.1511081476420477\n",
      "0.32627923070886894\n",
      "2.1489807178796845\n",
      "0.1217208599113299\n",
      "2.1512599149935308\n",
      "0.3311792414399694\n",
      "2.1495747096785562\n",
      "0.12300015294444244\n",
      "2.150559994872724\n",
      "0.3319371576259909\n",
      "2.160141938959326\n",
      "0.12390462407619263\n",
      "2.1571203995576234\n",
      "0.33520658762006056\n",
      "2.1679880499474744\n",
      "0.12328578594910744\n",
      "2.1691411534167773\n",
      "0.34054350837865494\n",
      "2.1751943388149377\n",
      "0.12379774961735669\n",
      "2.1773963032241754\n",
      "0.34248892223915123\n",
      "2.1800171671271986\n",
      "0.12884591431083184\n",
      "2.1808812598327822\n",
      "0.3429435137717249\n",
      "2.180608537220912\n",
      "0.1285435446177686\n",
      "2.180733212971879\n",
      "0.3429351785595096\n",
      "2.171643552469872\n",
      "0.1283904821145746\n",
      "2.1748643010188466\n",
      "0.33789496465287594\n",
      "2.159199371971853\n",
      "0.12554621001477617\n",
      "2.1564270970745194\n",
      "0.33273657835872433\n",
      "2.1595790473832817\n",
      "0.12722573979153412\n",
      "2.1612582203686332\n",
      "0.32976279593606955\n",
      "2.158615660372041\n",
      "0.12526704573315775\n",
      "2.1588755740314993\n",
      "0.3298428533937075\n",
      "2.1658708183857107\n",
      "0.12455890093469289\n",
      "2.1649254192408725\n",
      "0.33113554430783587\n",
      "2.1650048066717305\n",
      "0.12474651250204961\n",
      "2.169441228637415\n",
      "0.3353027487761287\n",
      "2.15797553798312\n",
      "0.12395996591777785\n",
      "2.1590649490432092\n",
      "qp=7, Number of frames: 15, Average D1 PSNR: 15.729469343442178\n",
      "\n",
      "0.08237404734889027\n",
      "2.154182467483461\n",
      "0.05865584829114553\n",
      "2.1540552280681675\n"
     ]
    },
    {
     "ename": "KeyboardInterrupt",
     "evalue": "",
     "output_type": "error",
     "traceback": [
      "\u001B[1;31m---------------------------------------------------------------------------\u001B[0m",
      "\u001B[1;31mKeyboardInterrupt\u001B[0m                         Traceback (most recent call last)",
      "Cell \u001B[1;32mIn[108], line 26\u001B[0m\n\u001B[0;32m     24\u001B[0m     original_mesh \u001B[38;5;241m=\u001B[39m o3d\u001B[38;5;241m.\u001B[39mio\u001B[38;5;241m.\u001B[39mread_triangle_mesh(os\u001B[38;5;241m.\u001B[39mpath\u001B[38;5;241m.\u001B[39mjoin(original_input_dir, original_obj_files[i]))\n\u001B[0;32m     25\u001B[0m     decoded_mesh \u001B[38;5;241m=\u001B[39m o3d\u001B[38;5;241m.\u001B[39mio\u001B[38;5;241m.\u001B[39mread_triangle_mesh(os\u001B[38;5;241m.\u001B[39mpath\u001B[38;5;241m.\u001B[39mjoin(decoded_obj_path, decoded_obj_files[i]))\n\u001B[1;32m---> 26\u001B[0m     d1_psnr \u001B[38;5;241m=\u001B[39m \u001B[38;5;28mmax\u001B[39m(\u001B[43mcompute_D1_psnr\u001B[49m\u001B[43m(\u001B[49m\u001B[43moriginal_mesh\u001B[49m\u001B[43m,\u001B[49m\u001B[43m \u001B[49m\u001B[43mdecoded_mesh\u001B[49m\u001B[43m)\u001B[49m, compute_D1_psnr(decoded_mesh, original_mesh))\n\u001B[0;32m     27\u001B[0m     d1_psnr_values\u001B[38;5;241m.\u001B[39mappend(d1_psnr)\n\u001B[0;32m     29\u001B[0m avg_psnr_5 \u001B[38;5;241m=\u001B[39m np\u001B[38;5;241m.\u001B[39mmean(d1_psnr_values[:\u001B[38;5;241m5\u001B[39m])\n",
      "Cell \u001B[1;32mIn[14], line 42\u001B[0m, in \u001B[0;36mcompute_D1_psnr\u001B[1;34m(original_mesh, decoded_mesh)\u001B[0m\n\u001B[0;32m     40\u001B[0m \u001B[38;5;28;01mfor\u001B[39;00m i \u001B[38;5;129;01min\u001B[39;00m \u001B[38;5;28mrange\u001B[39m(\u001B[38;5;241m0\u001B[39m, \u001B[38;5;28mlen\u001B[39m(original_vertices)):\n\u001B[0;32m     41\u001B[0m     [k, index, _] \u001B[38;5;241m=\u001B[39m pcd_tree\u001B[38;5;241m.\u001B[39msearch_knn_vector_3d(original_vertices[i], \u001B[38;5;241m1\u001B[39m)\n\u001B[1;32m---> 42\u001B[0m     MSE \u001B[38;5;241m+\u001B[39m\u001B[38;5;241m=\u001B[39m np\u001B[38;5;241m.\u001B[39msquare(original_vertices[i] \u001B[38;5;241m-\u001B[39m \u001B[43mdecoded_vertices\u001B[49m\u001B[43m[\u001B[49m\u001B[43mindex\u001B[49m\u001B[43m]\u001B[49m)\n\u001B[0;32m     43\u001B[0m     \u001B[38;5;66;03m#print(original_vertices[i], decoded_vertices[index])\u001B[39;00m\n\u001B[0;32m     44\u001B[0m MSE \u001B[38;5;241m=\u001B[39m np\u001B[38;5;241m.\u001B[39mmean(MSE)\n",
      "\u001B[1;31mKeyboardInterrupt\u001B[0m: "
     ]
    }
   ],
   "execution_count": 108
  },
  {
   "metadata": {
    "ExecuteTime": {
     "end_time": "2024-09-10T19:55:07.371091Z",
     "start_time": "2024-09-10T19:55:07.345081Z"
    }
   },
   "cell_type": "code",
   "source": [
    "pcd = o3d.geometry.PointCloud()\n",
    "points = displacement.astype(np.float32)\n",
    "pcd.points = o3d.utility.Vector3dVector(points)\n",
    "print(pcd)\n",
    "o3d.io.write_point_cloud(r'G:\\VS2022Projects\\tvm-editing-master\\TVMEditor.Test\\bin\\Release\\net5.0\\Data\\Dancer\\reference_mesh/dis.ply', pcd)"
   ],
   "id": "16d4c49609d2d109",
   "outputs": [
    {
     "name": "stdout",
     "output_type": "stream",
     "text": [
      "PointCloud with 19996 points.\n"
     ]
    },
    {
     "data": {
      "text/plain": [
       "True"
      ]
     },
     "execution_count": 122,
     "metadata": {},
     "output_type": "execute_result"
    }
   ],
   "execution_count": 122
  },
  {
   "metadata": {
    "ExecuteTime": {
     "end_time": "2024-09-10T19:58:06.353407Z",
     "start_time": "2024-09-10T19:58:06.318419Z"
    }
   },
   "cell_type": "code",
   "source": [
    "points=np.asarray(pcd.points)\n",
    "dtype = o3d.core.float32\n",
    "p_tensor = o3d.core.Tensor(points, dtype=dtype)\n",
    "pc = o3d.t.geometry.PointCloud(p_tensor)\n",
    "o3d.t.io.write_point_cloud(r'G:\\VS2022Projects\\tvm-editing-master\\TVMEditor.Test\\bin\\Release\\net5.0\\Data\\Dancer\\reference_mesh/dis_32.ply', pc, write_ascii=True)"
   ],
   "id": "bc6875066e41d60d",
   "outputs": [
    {
     "data": {
      "text/plain": [
       "True"
      ]
     },
     "execution_count": 124,
     "metadata": {},
     "output_type": "execute_result"
    }
   ],
   "execution_count": 124
  },
  {
   "metadata": {
    "ExecuteTime": {
     "end_time": "2024-09-10T19:55:08.898943Z",
     "start_time": "2024-09-10T19:55:08.880944Z"
    }
   },
   "cell_type": "code",
   "source": [
    "testpcd = o3d.io.read_point_cloud(r'G:\\VS2022Projects\\tvm-editing-master\\TVMEditor.Test\\bin\\Release\\net5.0\\Data\\Dancer\\reference_mesh/dis.ply')\n",
    "print(testpcd)\n",
    "np.array(testpcd.points)[0].dtype"
   ],
   "id": "c0ef86694dda3685",
   "outputs": [
    {
     "name": "stdout",
     "output_type": "stream",
     "text": [
      "PointCloud with 19996 points.\n"
     ]
    },
    {
     "data": {
      "text/plain": [
       "dtype('float64')"
      ]
     },
     "execution_count": 123,
     "metadata": {},
     "output_type": "execute_result"
    }
   ],
   "execution_count": 123
  },
  {
   "metadata": {
    "ExecuteTime": {
     "end_time": "2024-09-10T20:16:01.254676Z",
     "start_time": "2024-09-10T20:16:01.172676Z"
    }
   },
   "cell_type": "code",
   "source": [
    "result = subprocess.run([\n",
    "                            r'G:\\Github\\draco\\build\\Debug\\draco_encoder',\n",
    "                            '-point_cloud',\n",
    "                            '-i', r'G:\\VS2022Projects\\tvm-editing-master\\TVMEditor.Test\\bin\\Release\\net5.0\\Data\\Dancer\\reference_mesh/dis_32.ply',\n",
    "                            '-o', r'G:\\VS2022Projects\\tvm-editing-master\\TVMEditor.Test\\bin\\Release\\net5.0\\Data\\Dancer\\reference_mesh/dis.drc',\n",
    "                            '-qp', str('10'),\n",
    "                            '-cl', '7'\n",
    "                            ], capture_output=True, text=True)\n",
    "print(result.stdout)"
   ],
   "id": "b4428b99255b500c",
   "outputs": [
    {
     "name": "stdout",
     "output_type": "stream",
     "text": [
      "Encoder options:\n",
      "  Compression level = 7\n",
      "  Positions: Quantization = 10 bits\n",
      "\n",
      "Encoded point cloud saved to G:\\VS2022Projects\\tvm-editing-master\\TVMEditor.Test\\bin\\Release\\net5.0\\Data\\Dancer\\reference_mesh/dis.drc (27 ms to encode).\n",
      "\n",
      "Encoded size = 21590 bytes\n",
      "\n",
      "For better compression, increase the compression level up to '-cl 10' .\n",
      "\n",
      "\n"
     ]
    }
   ],
   "execution_count": 160
  },
  {
   "metadata": {
    "ExecuteTime": {
     "end_time": "2024-09-10T20:16:25.220587Z",
     "start_time": "2024-09-10T20:16:25.106149Z"
    }
   },
   "cell_type": "code",
   "source": [
    "result = subprocess.run([\n",
    "                            r'G:\\Github\\draco\\build\\Debug\\draco_decoder',\n",
    "                            '-i', r'G:\\VS2022Projects\\tvm-editing-master\\TVMEditor.Test\\bin\\Release\\net5.0\\Data\\Dancer\\reference_mesh/dis.drc',\n",
    "                            '-o', r'G:\\VS2022Projects\\tvm-editing-master\\TVMEditor.Test\\bin\\Release\\net5.0\\Data\\Dancer\\reference_mesh/decoded_displacements.obj'\n",
    "                            ], capture_output=True, text=True)\n",
    "print(result.stdout)"
   ],
   "id": "872964a90431e5c0",
   "outputs": [
    {
     "name": "stdout",
     "output_type": "stream",
     "text": [
      "Decoded geometry saved to G:\\VS2022Projects\\tvm-editing-master\\TVMEditor.Test\\bin\\Release\\net5.0\\Data\\Dancer\\reference_mesh/decoded_displacements.obj (12 ms to decode)\n",
      "\n"
     ]
    }
   ],
   "execution_count": 163
  },
  {
   "metadata": {
    "ExecuteTime": {
     "end_time": "2024-09-10T20:03:05.252725Z",
     "start_time": "2024-09-10T20:03:05.235726Z"
    }
   },
   "cell_type": "code",
   "source": [
    "def calculate_bitrate(file_size, duration):\n",
    "    return file_size * 8 / duration"
   ],
   "id": "9a1029f191a1d935",
   "outputs": [],
   "execution_count": 131
  },
  {
   "metadata": {
    "ExecuteTime": {
     "end_time": "2024-09-10T20:06:58.462981Z",
     "start_time": "2024-09-10T20:06:58.458990Z"
    }
   },
   "cell_type": "code",
   "source": [
    "number_frames = 5\n",
    "frame_rate = 30"
   ],
   "id": "37809e0a051b9b2f",
   "outputs": [],
   "execution_count": 138
  },
  {
   "metadata": {
    "ExecuteTime": {
     "end_time": "2024-09-10T20:24:29.392227Z",
     "start_time": "2024-09-10T20:24:29.386225Z"
    }
   },
   "cell_type": "code",
   "source": [
    "total_size = 0\n",
    "displacement_file_path = r'G:\\VS2022Projects\\tvm-editing-master\\TVMEditor.Test\\bin\\Release\\net5.0\\Data\\Dancer\\reference_mesh/dis.drc'\n",
    "displacement_file_size = os.path.getsize(displacement_file_path)\n",
    "total_size += displacement_file_size * number_frames\n",
    "reference_mesh_file_path = r'G:\\VS2022Projects\\tvm-editing-master\\TVMEditor.Test\\bin\\Release\\net5.0\\Data\\Dancer\\reference_mesh/1.drc'\n",
    "reference_mesh_file_size = os.path.getsize(reference_mesh_file_path)\n",
    "total_size += reference_mesh_file_size\n",
    "total_duration = number_frames / frame_rate\n",
    "overall_bitrate = calculate_bitrate(total_size, total_duration)\n",
    "\n",
    "print(f\"Total Size of {number_frames} DRC Files: {total_size} bytes\")\n",
    "print(f\"Overall Bitrate: {overall_bitrate} bits per second\")\n",
    "\n",
    "bitrate_kbps = overall_bitrate / 1000\n",
    "bitrate_mbps = overall_bitrate / 1000000\n",
    "\n",
    "\n",
    "print(f\"Overall Bitrate: {bitrate_kbps:.2f} Kbps\")\n",
    "print(f\"Overall Bitrate: {bitrate_mbps:.2f} Mbps\")"
   ],
   "id": "9fa2c7b92e88cca9",
   "outputs": [
    {
     "name": "stdout",
     "output_type": "stream",
     "text": [
      "Total Size of 5 DRC Files: 126061 bytes\n",
      "Overall Bitrate: 6050928.0 bits per second\n",
      "Overall Bitrate: 6050.93 Kbps\n",
      "Overall Bitrate: 6.05 Mbps\n"
     ]
    }
   ],
   "execution_count": 168
  }
 ],
 "metadata": {
  "kernelspec": {
   "display_name": "Python 3",
   "language": "python",
   "name": "python3"
  },
  "language_info": {
   "codemirror_mode": {
    "name": "ipython",
    "version": 2
   },
   "file_extension": ".py",
   "mimetype": "text/x-python",
   "name": "python",
   "nbconvert_exporter": "python",
   "pygments_lexer": "ipython2",
   "version": "2.7.6"
  }
 },
 "nbformat": 4,
 "nbformat_minor": 5
}
