{
 "cells": [
  {
   "metadata": {},
   "cell_type": "markdown",
   "source": [
    "## Get input information\n",
    "To use Mesh Editing, we need \n",
    " - centers information: .bin or .xyz files\n",
    "  - Transformations: dual quaternions .txt files "
   ],
   "id": "89e1a0e4e3dc56fb"
  },
  {
   "metadata": {
    "ExecuteTime": {
     "end_time": "2024-09-11T21:31:41.594455Z",
     "start_time": "2024-09-11T21:31:41.095685Z"
    }
   },
   "cell_type": "code",
   "source": [
    "from scipy.spatial.transform import Rotation as R\n",
    "import open3d as o3d\n",
    "import numpy as np"
   ],
   "id": "17e55f81a2022344",
   "outputs": [
    {
     "name": "stdout",
     "output_type": "stream",
     "text": [
      "Jupyter environment detected. Enabling Open3D WebVisualizer.\n",
      "[Open3D INFO] WebRTC GUI backend enabled.\n",
      "[Open3D INFO] WebRTCWindowSystem: HTTP handshake server disabled.\n"
     ]
    }
   ],
   "execution_count": 1
  },
  {
   "metadata": {},
   "cell_type": "markdown",
   "source": "## bin to xyz ",
   "id": "2ad4982775eff00b"
  },
  {
   "cell_type": "code",
   "id": "initial_id",
   "metadata": {
    "collapsed": true,
    "ExecuteTime": {
     "end_time": "2024-09-11T21:32:22.722227Z",
     "start_time": "2024-09-11T21:32:22.408217Z"
    }
   },
   "source": [
    "import struct\n",
    "#file_path = 'D:\\VS2022Projects/tvm-editing-master\\TVMEditor.Test\\Data\\pent\\centers\\mesh_000res_1000_000.bin'\n",
    "file_path = 'G:\\VS2022Projects/arap-volume-tracking-main\\data\\Levi\\Frame_00vg_512_000.bin'\n",
    "print(file_path)\n",
    "\n",
    "def load_bin(file_path):\n",
    "    with open(file_path, 'rb') as f:\n",
    "        c = struct.unpack('i', f.read(4))[0]\n",
    "        \n",
    "        vectors = np.zeros((c, 3), dtype=np.float32)\n",
    "        \n",
    "        for i in range(c):\n",
    "            x, y, z = struct.unpack('3f', f.read(12))\n",
    "            vectors[i] = (x, y, z)\n",
    "    \n",
    "    return vectors\n",
    "\n",
    "centers = load_bin(file_path)\n",
    "print(centers, centers.__len__())"
   ],
   "outputs": [
    {
     "name": "stdout",
     "output_type": "stream",
     "text": [
      "D:\\VS2022Projects/arap-volume-tracking-main\\data\\Levi\\Frame_00vg_512_000.bin\n"
     ]
    },
    {
     "ename": "FileNotFoundError",
     "evalue": "[Errno 2] No such file or directory: 'D:\\\\VS2022Projects/arap-volume-tracking-main\\\\data\\\\Levi\\\\Frame_00vg_512_000.bin'",
     "output_type": "error",
     "traceback": [
      "\u001B[1;31m---------------------------------------------------------------------------\u001B[0m",
      "\u001B[1;31mFileNotFoundError\u001B[0m                         Traceback (most recent call last)",
      "Cell \u001B[1;32mIn[2], line 18\u001B[0m\n\u001B[0;32m     14\u001B[0m             vectors[i] \u001B[38;5;241m=\u001B[39m (x, y, z)\n\u001B[0;32m     16\u001B[0m     \u001B[38;5;28;01mreturn\u001B[39;00m vectors\n\u001B[1;32m---> 18\u001B[0m centers \u001B[38;5;241m=\u001B[39m \u001B[43mload_bin\u001B[49m\u001B[43m(\u001B[49m\u001B[43mfile_path\u001B[49m\u001B[43m)\u001B[49m\n\u001B[0;32m     19\u001B[0m \u001B[38;5;28mprint\u001B[39m(centers, centers\u001B[38;5;241m.\u001B[39m\u001B[38;5;21m__len__\u001B[39m())\n",
      "Cell \u001B[1;32mIn[2], line 7\u001B[0m, in \u001B[0;36mload_bin\u001B[1;34m(file_path)\u001B[0m\n\u001B[0;32m      6\u001B[0m \u001B[38;5;28;01mdef\u001B[39;00m \u001B[38;5;21mload_bin\u001B[39m(file_path):\n\u001B[1;32m----> 7\u001B[0m     \u001B[38;5;28;01mwith\u001B[39;00m \u001B[38;5;28;43mopen\u001B[39;49m\u001B[43m(\u001B[49m\u001B[43mfile_path\u001B[49m\u001B[43m,\u001B[49m\u001B[43m \u001B[49m\u001B[38;5;124;43m'\u001B[39;49m\u001B[38;5;124;43mrb\u001B[39;49m\u001B[38;5;124;43m'\u001B[39;49m\u001B[43m)\u001B[49m \u001B[38;5;28;01mas\u001B[39;00m f:\n\u001B[0;32m      8\u001B[0m         c \u001B[38;5;241m=\u001B[39m struct\u001B[38;5;241m.\u001B[39munpack(\u001B[38;5;124m'\u001B[39m\u001B[38;5;124mi\u001B[39m\u001B[38;5;124m'\u001B[39m, f\u001B[38;5;241m.\u001B[39mread(\u001B[38;5;241m4\u001B[39m))[\u001B[38;5;241m0\u001B[39m]\n\u001B[0;32m     10\u001B[0m         vectors \u001B[38;5;241m=\u001B[39m np\u001B[38;5;241m.\u001B[39mzeros((c, \u001B[38;5;241m3\u001B[39m), dtype\u001B[38;5;241m=\u001B[39mnp\u001B[38;5;241m.\u001B[39mfloat32)\n",
      "File \u001B[1;32m~\\anaconda3\\envs\\open3d\\lib\\site-packages\\IPython\\core\\interactiveshell.py:284\u001B[0m, in \u001B[0;36m_modified_open\u001B[1;34m(file, *args, **kwargs)\u001B[0m\n\u001B[0;32m    277\u001B[0m \u001B[38;5;28;01mif\u001B[39;00m file \u001B[38;5;129;01min\u001B[39;00m {\u001B[38;5;241m0\u001B[39m, \u001B[38;5;241m1\u001B[39m, \u001B[38;5;241m2\u001B[39m}:\n\u001B[0;32m    278\u001B[0m     \u001B[38;5;28;01mraise\u001B[39;00m \u001B[38;5;167;01mValueError\u001B[39;00m(\n\u001B[0;32m    279\u001B[0m         \u001B[38;5;124mf\u001B[39m\u001B[38;5;124m\"\u001B[39m\u001B[38;5;124mIPython won\u001B[39m\u001B[38;5;124m'\u001B[39m\u001B[38;5;124mt let you open fd=\u001B[39m\u001B[38;5;132;01m{\u001B[39;00mfile\u001B[38;5;132;01m}\u001B[39;00m\u001B[38;5;124m by default \u001B[39m\u001B[38;5;124m\"\u001B[39m\n\u001B[0;32m    280\u001B[0m         \u001B[38;5;124m\"\u001B[39m\u001B[38;5;124mas it is likely to crash IPython. If you know what you are doing, \u001B[39m\u001B[38;5;124m\"\u001B[39m\n\u001B[0;32m    281\u001B[0m         \u001B[38;5;124m\"\u001B[39m\u001B[38;5;124myou can use builtins\u001B[39m\u001B[38;5;124m'\u001B[39m\u001B[38;5;124m open.\u001B[39m\u001B[38;5;124m\"\u001B[39m\n\u001B[0;32m    282\u001B[0m     )\n\u001B[1;32m--> 284\u001B[0m \u001B[38;5;28;01mreturn\u001B[39;00m \u001B[43mio_open\u001B[49m\u001B[43m(\u001B[49m\u001B[43mfile\u001B[49m\u001B[43m,\u001B[49m\u001B[43m \u001B[49m\u001B[38;5;241;43m*\u001B[39;49m\u001B[43margs\u001B[49m\u001B[43m,\u001B[49m\u001B[43m \u001B[49m\u001B[38;5;241;43m*\u001B[39;49m\u001B[38;5;241;43m*\u001B[39;49m\u001B[43mkwargs\u001B[49m\u001B[43m)\u001B[49m\n",
      "\u001B[1;31mFileNotFoundError\u001B[0m: [Errno 2] No such file or directory: 'D:\\\\VS2022Projects/arap-volume-tracking-main\\\\data\\\\Levi\\\\Frame_00vg_512_000.bin'"
     ]
    }
   ],
   "execution_count": 2
  },
  {
   "metadata": {},
   "cell_type": "markdown",
   "source": "## xyz to bin",
   "id": "6e1da337b0f7b3e1"
  },
  {
   "metadata": {
    "ExecuteTime": {
     "end_time": "2024-08-30T20:58:49.817404Z",
     "start_time": "2024-08-30T20:58:49.790221Z"
    }
   },
   "cell_type": "code",
   "source": [
    "def save_bin(file_path, centers):\n",
    "    with open(file_path, 'wb') as f:\n",
    "        c = len(centers)\n",
    "        f.write(struct.pack('i', c))\n",
    "        \n",
    "        for vector in centers:\n",
    "            f.write(struct.pack('3f', *vector))\n",
    "\n",
    "new_file_path = 'D:\\VS2022Projects/tvm-editing-master\\TVMEditor.Test\\Data\\pent\\centers\\mesh_000res_1000_000_out.bin'\n",
    "save_bin(new_file_path, centers)"
   ],
   "id": "41706a4c128579b0",
   "outputs": [],
   "execution_count": 2
  },
  {
   "metadata": {},
   "cell_type": "markdown",
   "source": "## draw centers",
   "id": "62b0ca76d4754d54"
  },
  {
   "metadata": {
    "ExecuteTime": {
     "end_time": "2024-09-11T21:34:35.243820Z",
     "start_time": "2024-09-11T21:34:35.228185Z"
    }
   },
   "cell_type": "code",
   "source": [
    "def draw_centers(centers, radius, color):\n",
    "    spheres = []\n",
    "    sphere_radius = radius \n",
    "    \n",
    "    for point in centers:\n",
    "        mesh_sphere = o3d.geometry.TriangleMesh.create_sphere(radius=sphere_radius)\n",
    "        mesh_sphere.compute_vertex_normals()\n",
    "        \n",
    "        mesh_sphere.translate(point)\n",
    "        \n",
    "        spheres.append(mesh_sphere)\n",
    "    \n",
    "    all_spheres = o3d.geometry.TriangleMesh()\n",
    "    for sphere in spheres:\n",
    "        all_spheres += sphere\n",
    "    \n",
    "    all_spheres.paint_uniform_color(color) \n",
    "    \n",
    "    o3d.visualization.draw_geometries([all_spheres])"
   ],
   "id": "2a93f851fbcc4083",
   "outputs": [],
   "execution_count": 8
  },
  {
   "metadata": {},
   "cell_type": "markdown",
   "source": "## Apply Transformation",
   "id": "e2e5ea885507a786"
  },
  {
   "metadata": {
    "ExecuteTime": {
     "end_time": "2024-09-11T21:33:25.129210Z",
     "start_time": "2024-09-11T21:33:25.097895Z"
    }
   },
   "cell_type": "code",
   "source": [
    "#file_path = 'D:\\VS2022Projects/tvm-editing-master\\TVMEditor.Test/bin\\Release/net5.0\\Data\\pent/transformations_1.txt'\n",
    "file_path = r'G:\\VS2022Projects/tvm-editing-master\\TVMEditor.Test/bin\\Release/net5.0\\Data\\Dancer\\inverse_transformations_005.txt'\n",
    "\n",
    "real_data = []\n",
    "dual_data = []\n",
    "\n",
    "with open(file_path, 'r') as file:\n",
    "    for line in file:\n",
    "        values = line.strip().split(';')\n",
    "        \n",
    "        real_values = tuple(float(value) for value in values[:4]) \n",
    "        dual_values = tuple(float(value) for value in values[4:]) \n",
    "        \n",
    "        real_data.append(real_values)\n",
    "        dual_data.append(dual_values)\n",
    "\n",
    "def create_matrix_3x3(real):\n",
    "    rx, ry, rz, rw = real\n",
    "    \n",
    "    matrix = np.zeros((3, 3))\n",
    "\n",
    "    matrix[0, 0] = rw * rw + rx * rx - ry * ry - rz * rz\n",
    "    matrix[0, 1] = 2 * rx * ry - 2 * rw * rz\n",
    "    matrix[0, 2] = 2 * rx * rz + 2 * rw * ry\n",
    "    matrix[1, 0] = 2 * rx * ry + 2 * rw * rz\n",
    "    matrix[1, 1] = rw * rw - rx * rx + ry * ry - rz * rz\n",
    "    matrix[1, 2] = 2 * ry * rz - 2 * rw * rx\n",
    "    matrix[2, 0] = 2 * rx * rz - 2 * rw * ry\n",
    "    matrix[2, 1] = 2 * ry * rz + 2 * rw * rx\n",
    "    matrix[2, 2] = rw * rw - rx * rx - ry * ry + rz * rz\n",
    "    \n",
    "    return matrix\n",
    "\n",
    "print(real_data.__len__())"
   ],
   "id": "6d1070347e19a1d1",
   "outputs": [
    {
     "name": "stdout",
     "output_type": "stream",
     "text": [
      "2000\n"
     ]
    }
   ],
   "execution_count": 5
  },
  {
   "metadata": {
    "ExecuteTime": {
     "end_time": "2024-09-11T21:33:35.212732Z",
     "start_time": "2024-09-11T21:33:35.181472Z"
    }
   },
   "cell_type": "code",
   "source": [
    "centers_path = 'G:\\VS2022Projects/tvm-editing-master\\TVMEditor.Test/bin\\Release/net5.0\\Data\\Dancer/centers/dancer_fr0res_2000_005.xyz'\n",
    "centers = np.loadtxt(centers_path)\n",
    "reference_centers_path = 'G:\\VS2022Projects/tvm-editing-master\\TVMEditor.Test/bin\\Release/net5.0\\Data\\Dancer/reference_center/reference_centers_aligned.xyz'\n",
    "reference_centers = np.loadtxt(reference_centers_path)\n",
    "\n",
    "draw_centers(reference_centers, 0.01, [1.0,0,0])"
   ],
   "id": "162f5f7a48e3138",
   "outputs": [],
   "execution_count": 6
  },
  {
   "metadata": {
    "ExecuteTime": {
     "end_time": "2024-09-11T21:35:41.206012Z",
     "start_time": "2024-09-11T21:35:41.174752Z"
    }
   },
   "cell_type": "code",
   "source": [
    "def quaternion_multiply(quaternion1, quaternion0):\n",
    "    x0, y0, z0, w0 = quaternion0\n",
    "    x1, y1, z1, w1 = quaternion1\n",
    "    return np.array([-x1*x0 - y1*y0 - z1*z0 + w1*w0,\n",
    "                         x1*w0 + y1*z0 - z1*y0 + w1*x0,\n",
    "                        -x1*z0 + y1*w0 + z1*x0 + w1*y0,\n",
    "                         x1*y0 - y1*x0 + z1*w0 + w1*z0], dtype=np.float64)"
   ],
   "id": "306bde4fe92c79",
   "outputs": [],
   "execution_count": 11
  },
  {
   "metadata": {
    "ExecuteTime": {
     "end_time": "2024-09-11T21:35:42.798347Z",
     "start_time": "2024-09-11T21:35:42.751480Z"
    }
   },
   "cell_type": "code",
   "source": [
    "transformed_centers = []\n",
    "Transformations = []\n",
    "for i in range(len(reference_centers)):\n",
    "    real_values = real_data[i]  \n",
    "    dual_values = dual_data[i]  \n",
    "    r = R.from_quat(real_data[i])\n",
    "    Transformations.append(r.as_matrix())\n",
    "    point = reference_centers[i]\n",
    "    x1 = real_values[0]\n",
    "    y1 = real_values[1]\n",
    "    z1 = real_values[2]\n",
    "    w1 = real_values[3]\n",
    "    x2 = dual_values[0]\n",
    "    y2 = dual_values[1]\n",
    "    z2 = dual_values[2]\n",
    "    w2 = dual_values[3]\n",
    "    Conjugate = (-x1,-y1,-z1, w1)\n",
    "    TQ = quaternion_multiply(dual_values, Conjugate)\n",
    "    Vector = (TQ[1]*2, TQ[2]*2, TQ[3]*2) # not TQ[0]*2, TQ[1]*2, TQ[2]*2, TQ[0] is w \n",
    "    transformed_center = Vector +  np.dot(r.as_matrix(), point)\n",
    "    #print(transformed_center)\n",
    "    transformed_centers.append(transformed_center)\n",
    "    \n",
    "file_path = 'G:\\VS2022Projects/tvm-editing-master\\TVMEditor.Test/bin\\Release/net5.0\\Data\\pent/transformed_centers_0.txt'\n",
    "np.savetxt(file_path,transformed_centers)"
   ],
   "id": "66bda7e8eca30f07",
   "outputs": [],
   "execution_count": 12
  },
  {
   "metadata": {
    "ExecuteTime": {
     "end_time": "2024-09-11T21:36:06.487778Z",
     "start_time": "2024-09-11T21:36:01.258312Z"
    }
   },
   "cell_type": "code",
   "source": "draw_centers(transformed_centers, 0.01, [1.0,0,0])",
   "id": "abed366fd93d0b83",
   "outputs": [],
   "execution_count": 13
  },
  {
   "metadata": {},
   "cell_type": "markdown",
   "source": "## Use transformed centers and centers to get indices and transformation dual quaternions, codes below are used for test and evaluation, to get input of each dataset, refer to Get{dataset}input",
   "id": "8def015054466a9e"
  },
  {
   "metadata": {
    "ExecuteTime": {
     "end_time": "2024-09-11T21:37:51.208851Z",
     "start_time": "2024-09-11T21:37:51.081476Z"
    }
   },
   "cell_type": "code",
   "source": [
    "transformed_centers_path = 'G:\\VS2022Projects/tvm-editing-master\\TVMEditor.Test/bin\\Release/net5.0\\Data\\pent/transformed_centers_0.txt'\n",
    "\n",
    "loaded_transformed_centers = np.loadtxt(transformed_centers_path)\n",
    "print(loaded_transformed_centers)"
   ],
   "id": "412d348c3daf4895",
   "outputs": [
    {
     "ename": "FileNotFoundError",
     "evalue": "G:\\VS2022Projects/tvm-editing-master\\TVMEditor.Test/bin\\Release/net5.0\\Data\\pent/transformed_centers_0.txt not found.",
     "output_type": "error",
     "traceback": [
      "\u001B[1;31m---------------------------------------------------------------------------\u001B[0m",
      "\u001B[1;31mFileNotFoundError\u001B[0m                         Traceback (most recent call last)",
      "Cell \u001B[1;32mIn[17], line 3\u001B[0m\n\u001B[0;32m      1\u001B[0m transformed_centers_path \u001B[38;5;241m=\u001B[39m \u001B[38;5;124m'\u001B[39m\u001B[38;5;124mG:\u001B[39m\u001B[38;5;124m\\\u001B[39m\u001B[38;5;124mVS2022Projects/tvm-editing-master\u001B[39m\u001B[38;5;124m\\\u001B[39m\u001B[38;5;124mTVMEditor.Test/bin\u001B[39m\u001B[38;5;124m\\\u001B[39m\u001B[38;5;124mRelease/net5.0\u001B[39m\u001B[38;5;124m\\\u001B[39m\u001B[38;5;124mData\u001B[39m\u001B[38;5;124m\\\u001B[39m\u001B[38;5;124mpent/transformed_centers_0.txt\u001B[39m\u001B[38;5;124m'\u001B[39m\n\u001B[1;32m----> 3\u001B[0m loaded_transformed_centers \u001B[38;5;241m=\u001B[39m \u001B[43mnp\u001B[49m\u001B[38;5;241;43m.\u001B[39;49m\u001B[43mloadtxt\u001B[49m\u001B[43m(\u001B[49m\u001B[43mtransformed_centers_path\u001B[49m\u001B[43m)\u001B[49m\n\u001B[0;32m      4\u001B[0m \u001B[38;5;28mprint\u001B[39m(loaded_transformed_centers)\n",
      "File \u001B[1;32m~\\anaconda3\\envs\\open3d\\lib\\site-packages\\numpy\\lib\\npyio.py:1356\u001B[0m, in \u001B[0;36mloadtxt\u001B[1;34m(fname, dtype, comments, delimiter, converters, skiprows, usecols, unpack, ndmin, encoding, max_rows, quotechar, like)\u001B[0m\n\u001B[0;32m   1353\u001B[0m \u001B[38;5;28;01mif\u001B[39;00m \u001B[38;5;28misinstance\u001B[39m(delimiter, \u001B[38;5;28mbytes\u001B[39m):\n\u001B[0;32m   1354\u001B[0m     delimiter \u001B[38;5;241m=\u001B[39m delimiter\u001B[38;5;241m.\u001B[39mdecode(\u001B[38;5;124m'\u001B[39m\u001B[38;5;124mlatin1\u001B[39m\u001B[38;5;124m'\u001B[39m)\n\u001B[1;32m-> 1356\u001B[0m arr \u001B[38;5;241m=\u001B[39m \u001B[43m_read\u001B[49m\u001B[43m(\u001B[49m\u001B[43mfname\u001B[49m\u001B[43m,\u001B[49m\u001B[43m \u001B[49m\u001B[43mdtype\u001B[49m\u001B[38;5;241;43m=\u001B[39;49m\u001B[43mdtype\u001B[49m\u001B[43m,\u001B[49m\u001B[43m \u001B[49m\u001B[43mcomment\u001B[49m\u001B[38;5;241;43m=\u001B[39;49m\u001B[43mcomment\u001B[49m\u001B[43m,\u001B[49m\u001B[43m \u001B[49m\u001B[43mdelimiter\u001B[49m\u001B[38;5;241;43m=\u001B[39;49m\u001B[43mdelimiter\u001B[49m\u001B[43m,\u001B[49m\n\u001B[0;32m   1357\u001B[0m \u001B[43m            \u001B[49m\u001B[43mconverters\u001B[49m\u001B[38;5;241;43m=\u001B[39;49m\u001B[43mconverters\u001B[49m\u001B[43m,\u001B[49m\u001B[43m \u001B[49m\u001B[43mskiplines\u001B[49m\u001B[38;5;241;43m=\u001B[39;49m\u001B[43mskiprows\u001B[49m\u001B[43m,\u001B[49m\u001B[43m \u001B[49m\u001B[43musecols\u001B[49m\u001B[38;5;241;43m=\u001B[39;49m\u001B[43musecols\u001B[49m\u001B[43m,\u001B[49m\n\u001B[0;32m   1358\u001B[0m \u001B[43m            \u001B[49m\u001B[43munpack\u001B[49m\u001B[38;5;241;43m=\u001B[39;49m\u001B[43munpack\u001B[49m\u001B[43m,\u001B[49m\u001B[43m \u001B[49m\u001B[43mndmin\u001B[49m\u001B[38;5;241;43m=\u001B[39;49m\u001B[43mndmin\u001B[49m\u001B[43m,\u001B[49m\u001B[43m \u001B[49m\u001B[43mencoding\u001B[49m\u001B[38;5;241;43m=\u001B[39;49m\u001B[43mencoding\u001B[49m\u001B[43m,\u001B[49m\n\u001B[0;32m   1359\u001B[0m \u001B[43m            \u001B[49m\u001B[43mmax_rows\u001B[49m\u001B[38;5;241;43m=\u001B[39;49m\u001B[43mmax_rows\u001B[49m\u001B[43m,\u001B[49m\u001B[43m \u001B[49m\u001B[43mquote\u001B[49m\u001B[38;5;241;43m=\u001B[39;49m\u001B[43mquotechar\u001B[49m\u001B[43m)\u001B[49m\n\u001B[0;32m   1361\u001B[0m \u001B[38;5;28;01mreturn\u001B[39;00m arr\n",
      "File \u001B[1;32m~\\anaconda3\\envs\\open3d\\lib\\site-packages\\numpy\\lib\\npyio.py:975\u001B[0m, in \u001B[0;36m_read\u001B[1;34m(fname, delimiter, comment, quote, imaginary_unit, usecols, skiplines, max_rows, converters, ndmin, unpack, dtype, encoding)\u001B[0m\n\u001B[0;32m    973\u001B[0m     fname \u001B[38;5;241m=\u001B[39m os\u001B[38;5;241m.\u001B[39mfspath(fname)\n\u001B[0;32m    974\u001B[0m \u001B[38;5;28;01mif\u001B[39;00m \u001B[38;5;28misinstance\u001B[39m(fname, \u001B[38;5;28mstr\u001B[39m):\n\u001B[1;32m--> 975\u001B[0m     fh \u001B[38;5;241m=\u001B[39m \u001B[43mnp\u001B[49m\u001B[38;5;241;43m.\u001B[39;49m\u001B[43mlib\u001B[49m\u001B[38;5;241;43m.\u001B[39;49m\u001B[43m_datasource\u001B[49m\u001B[38;5;241;43m.\u001B[39;49m\u001B[43mopen\u001B[49m\u001B[43m(\u001B[49m\u001B[43mfname\u001B[49m\u001B[43m,\u001B[49m\u001B[43m \u001B[49m\u001B[38;5;124;43m'\u001B[39;49m\u001B[38;5;124;43mrt\u001B[39;49m\u001B[38;5;124;43m'\u001B[39;49m\u001B[43m,\u001B[49m\u001B[43m \u001B[49m\u001B[43mencoding\u001B[49m\u001B[38;5;241;43m=\u001B[39;49m\u001B[43mencoding\u001B[49m\u001B[43m)\u001B[49m\n\u001B[0;32m    976\u001B[0m     \u001B[38;5;28;01mif\u001B[39;00m encoding \u001B[38;5;129;01mis\u001B[39;00m \u001B[38;5;28;01mNone\u001B[39;00m:\n\u001B[0;32m    977\u001B[0m         encoding \u001B[38;5;241m=\u001B[39m \u001B[38;5;28mgetattr\u001B[39m(fh, \u001B[38;5;124m'\u001B[39m\u001B[38;5;124mencoding\u001B[39m\u001B[38;5;124m'\u001B[39m, \u001B[38;5;124m'\u001B[39m\u001B[38;5;124mlatin1\u001B[39m\u001B[38;5;124m'\u001B[39m)\n",
      "File \u001B[1;32m~\\anaconda3\\envs\\open3d\\lib\\site-packages\\numpy\\lib\\_datasource.py:193\u001B[0m, in \u001B[0;36mopen\u001B[1;34m(path, mode, destpath, encoding, newline)\u001B[0m\n\u001B[0;32m    156\u001B[0m \u001B[38;5;250m\u001B[39m\u001B[38;5;124;03m\"\"\"\u001B[39;00m\n\u001B[0;32m    157\u001B[0m \u001B[38;5;124;03mOpen `path` with `mode` and return the file object.\u001B[39;00m\n\u001B[0;32m    158\u001B[0m \n\u001B[1;32m   (...)\u001B[0m\n\u001B[0;32m    189\u001B[0m \n\u001B[0;32m    190\u001B[0m \u001B[38;5;124;03m\"\"\"\u001B[39;00m\n\u001B[0;32m    192\u001B[0m ds \u001B[38;5;241m=\u001B[39m DataSource(destpath)\n\u001B[1;32m--> 193\u001B[0m \u001B[38;5;28;01mreturn\u001B[39;00m \u001B[43mds\u001B[49m\u001B[38;5;241;43m.\u001B[39;49m\u001B[43mopen\u001B[49m\u001B[43m(\u001B[49m\u001B[43mpath\u001B[49m\u001B[43m,\u001B[49m\u001B[43m \u001B[49m\u001B[43mmode\u001B[49m\u001B[43m,\u001B[49m\u001B[43m \u001B[49m\u001B[43mencoding\u001B[49m\u001B[38;5;241;43m=\u001B[39;49m\u001B[43mencoding\u001B[49m\u001B[43m,\u001B[49m\u001B[43m \u001B[49m\u001B[43mnewline\u001B[49m\u001B[38;5;241;43m=\u001B[39;49m\u001B[43mnewline\u001B[49m\u001B[43m)\u001B[49m\n",
      "File \u001B[1;32m~\\anaconda3\\envs\\open3d\\lib\\site-packages\\numpy\\lib\\_datasource.py:533\u001B[0m, in \u001B[0;36mDataSource.open\u001B[1;34m(self, path, mode, encoding, newline)\u001B[0m\n\u001B[0;32m    530\u001B[0m     \u001B[38;5;28;01mreturn\u001B[39;00m _file_openers[ext](found, mode\u001B[38;5;241m=\u001B[39mmode,\n\u001B[0;32m    531\u001B[0m                               encoding\u001B[38;5;241m=\u001B[39mencoding, newline\u001B[38;5;241m=\u001B[39mnewline)\n\u001B[0;32m    532\u001B[0m \u001B[38;5;28;01melse\u001B[39;00m:\n\u001B[1;32m--> 533\u001B[0m     \u001B[38;5;28;01mraise\u001B[39;00m \u001B[38;5;167;01mFileNotFoundError\u001B[39;00m(\u001B[38;5;124mf\u001B[39m\u001B[38;5;124m\"\u001B[39m\u001B[38;5;132;01m{\u001B[39;00mpath\u001B[38;5;132;01m}\u001B[39;00m\u001B[38;5;124m not found.\u001B[39m\u001B[38;5;124m\"\u001B[39m)\n",
      "\u001B[1;31mFileNotFoundError\u001B[0m: G:\\VS2022Projects/tvm-editing-master\\TVMEditor.Test/bin\\Release/net5.0\\Data\\pent/transformed_centers_0.txt not found."
     ]
    }
   ],
   "execution_count": 17
  },
  {
   "metadata": {
    "ExecuteTime": {
     "end_time": "2024-09-11T21:37:17.104784Z",
     "start_time": "2024-09-11T21:37:17.089151Z"
    }
   },
   "cell_type": "code",
   "source": [
    "def get_dual_quaternions(original_centers, transformed_centers):\n",
    "    moved_indices = []\n",
    "    for i in range(len(original_centers)):\n",
    "        if not (np.array_equal(original_centers[i], transformed_centers[i])):\n",
    "            moved_indices.append(i)\n",
    "    dual_quaternions = np.zeros((len(original_centers), 8), dtype=np.float32)\n",
    "    for i in moved_indices:\n",
    "        original = original_centers[i]\n",
    "        transformed = loaded_transformed_centers[i]\n",
    "\n",
    "        rotation_quaternion = R.from_quat([0, 0, 0, 1]) \n",
    "    \n",
    "        translation = transformed - original\n",
    "        \n",
    "        rotation_quat = rotation_quaternion.as_quat()\n",
    "        \n",
    "        # Dual quaternion: q + ϵ * (0.5 * t * q)\n",
    "        translation_quat = np.hstack((translation, [0]))\n",
    "        dual_quat = np.hstack((rotation_quat, 0.5 * translation_quat))\n",
    "        dual_quaternions[i] = dual_quat\n",
    "    return moved_indices, dual_quaternions"
   ],
   "id": "3afaab5af05a6d60",
   "outputs": [],
   "execution_count": 15
  },
  {
   "metadata": {
    "ExecuteTime": {
     "end_time": "2024-09-11T21:37:27.691718Z",
     "start_time": "2024-09-11T21:37:27.660459Z"
    }
   },
   "cell_type": "code",
   "source": "indices, dual_quaternions = get_dual_quaternions(centers, transformed_centers)",
   "id": "a113e88ba12563f7",
   "outputs": [
    {
     "ename": "NameError",
     "evalue": "name 'loaded_transformed_centers' is not defined",
     "output_type": "error",
     "traceback": [
      "\u001B[1;31m---------------------------------------------------------------------------\u001B[0m",
      "\u001B[1;31mNameError\u001B[0m                                 Traceback (most recent call last)",
      "Cell \u001B[1;32mIn[16], line 1\u001B[0m\n\u001B[1;32m----> 1\u001B[0m indices, dual_quaternions \u001B[38;5;241m=\u001B[39m \u001B[43mget_dual_quaternions\u001B[49m\u001B[43m(\u001B[49m\u001B[43mcenters\u001B[49m\u001B[43m,\u001B[49m\u001B[43m \u001B[49m\u001B[43mtransformed_centers\u001B[49m\u001B[43m)\u001B[49m\n",
      "Cell \u001B[1;32mIn[15], line 9\u001B[0m, in \u001B[0;36mget_dual_quaternions\u001B[1;34m(original_centers, transformed_centers)\u001B[0m\n\u001B[0;32m      7\u001B[0m \u001B[38;5;28;01mfor\u001B[39;00m i \u001B[38;5;129;01min\u001B[39;00m moved_indices:\n\u001B[0;32m      8\u001B[0m     original \u001B[38;5;241m=\u001B[39m original_centers[i]\n\u001B[1;32m----> 9\u001B[0m     transformed \u001B[38;5;241m=\u001B[39m \u001B[43mloaded_transformed_centers\u001B[49m[i]\n\u001B[0;32m     11\u001B[0m     rotation_quaternion \u001B[38;5;241m=\u001B[39m R\u001B[38;5;241m.\u001B[39mfrom_quat([\u001B[38;5;241m0\u001B[39m, \u001B[38;5;241m0\u001B[39m, \u001B[38;5;241m0\u001B[39m, \u001B[38;5;241m1\u001B[39m]) \n\u001B[0;32m     13\u001B[0m     translation \u001B[38;5;241m=\u001B[39m transformed \u001B[38;5;241m-\u001B[39m original\n",
      "\u001B[1;31mNameError\u001B[0m: name 'loaded_transformed_centers' is not defined"
     ]
    }
   ],
   "execution_count": 16
  },
  {
   "metadata": {
    "ExecuteTime": {
     "end_time": "2024-09-06T16:00:15.683028Z",
     "start_time": "2024-09-06T16:00:15.654029Z"
    }
   },
   "cell_type": "code",
   "source": [
    "#transformed_centers_path = 'D:\\VS2022Projects/tvm-editing-master\\TVMEditor.Test/bin\\Release/net5.0\\Data\\Levi/reference_centers_aligned.xyz'\n",
    "#transformed_centers_path = 'G:\\VS2022Projects/tvm-editing-master\\TVMEditor.Test/bin\\Release/net5.0\\Data\\Levi/centers/Frame_00res_4000_001.xyz'\n",
    "transformed_centers_path = 'G:\\VS2022Projects/tvm-editing-master\\TVMEditor.Test/bin\\Release/net5.0\\Data\\Dancer/reference_centers_aligned.xyz'\n",
    "loaded_transformed_centers = np.loadtxt(transformed_centers_path)\n",
    "#print(loaded_transformed_centers)\n",
    "\n",
    "#centers_path = 'G:\\VS2022Projects/tvm-editing-master\\TVMEditor.Test/bin\\Release/net5.0\\Data\\Dancer/centers/Frame_00res_4000_000.xyz'\n",
    "centers_path = 'G:\\VS2022Projects/tvm-editing-master\\TVMEditor.Test/bin\\Release/net5.0\\Data\\Dancer/centers/dancer_fr0res_2000_005.xyz'\n",
    "loaded_centers = np.loadtxt(centers_path)\n",
    "#print(loaded_centers)\n",
    "\n",
    "indices, dual_quaternions = get_dual_quaternions(loaded_centers, loaded_transformed_centers)"
   ],
   "id": "5c11e5fd159ab5e3",
   "outputs": [],
   "execution_count": 37
  },
  {
   "metadata": {
    "ExecuteTime": {
     "end_time": "2024-09-04T17:58:14.272945Z",
     "start_time": "2024-09-04T17:58:14.251948Z"
    }
   },
   "cell_type": "code",
   "source": [
    "#indices_path = 'G:\\VS2022Projects/tvm-editing-master\\TVMEditor.Test/bin\\Release/net5.0\\Data\\Levi/indices.txt'\n",
    "indices_path = 'G:\\VS2022Projects/tvm-editing-master\\TVMEditor.Test/bin\\Release/net5.0\\Data\\Dancer/indices.txt'\n",
    "np.savetxt(indices_path, indices, fmt='%d')"
   ],
   "id": "1688bb80f2c47008",
   "outputs": [],
   "execution_count": 33
  },
  {
   "metadata": {
    "ExecuteTime": {
     "end_time": "2024-09-04T17:58:21.236104Z",
     "start_time": "2024-09-04T17:58:21.207459Z"
    }
   },
   "cell_type": "code",
   "source": [
    "dual_quaternions_path = r'G:\\VS2022Projects/tvm-editing-master\\TVMEditor.Test/bin\\Release/net5.0\\Data\\Dancer\\transformations.txt'\n",
    "\n",
    "# Open the file for writing\n",
    "with open(dual_quaternions_path, 'w') as file:\n",
    "    for dq in dual_quaternions:\n",
    "        # Format the dual quaternion into the desired string format\n",
    "        dq_str = f\"{dq[0]};{dq[1]};{dq[2]};{dq[3]};{dq[4]};{dq[5]};{dq[6]};{dq[7]}\"\n",
    "        file.write(dq_str + '\\n')\n",
    "\n",
    "# Optionally, print the first few lines to verify the saved file\n",
    "with open(dual_quaternions_path, 'r') as file:\n",
    "    lines = file.readlines()\n",
    "    print(\"\".join(lines[:5]))  # Print the first 5 lines to verify"
   ],
   "id": "3e3a71f184f86751",
   "outputs": [
    {
     "name": "stdout",
     "output_type": "stream",
     "text": [
      "0.0;0.0;0.0;1.0;0.0056657250970602036;0.000894415017683059;-0.006727435160428286;0.0\n",
      "0.0;0.0;0.0;1.0;-0.005258947145193815;-0.0030945499893277884;0.0071906400844454765;0.0\n",
      "0.0;0.0;0.0;1.0;-0.0027163515333086252;-0.00023604999296367168;-0.0033335499465465546;0.0\n",
      "0.0;0.0;0.0;1.0;0.015940947458148003;-0.000542099995072931;0.015590755268931389;0.0\n",
      "0.0;0.0;0.0;1.0;-0.006049539893865585;-0.0007469850243069232;-0.005049725063145161;0.0\n",
      "\n"
     ]
    }
   ],
   "execution_count": 34
  },
  {
   "metadata": {
    "ExecuteTime": {
     "end_time": "2024-09-06T20:48:46.888465Z",
     "start_time": "2024-09-06T20:46:53.704029Z"
    }
   },
   "cell_type": "code",
   "source": [
    "mesh_0 = o3d.io.read_triangle_mesh(r'G:\\VS2022Projects\\tvm-editing-master\\TVMEditor.Test\\bin\\Release\\net5.0\\Data\\Dancer\\meshes/dancer_fr0005.obj')\n",
    "mesh_1 = o3d.io.read_triangle_mesh(r'G:\\VS2022Projects\\tvm-editing-master\\TVMEditor.Test\\bin\\Release\\net5.0\\Data\\Dancer\\meshes/dancer_fr0006.obj')\n",
    "deformed_mesh_0 = o3d.io.read_triangle_mesh(r'G:\\VS2022Projects\\tvm-editing-master\\TVMEditor.Test\\bin\\Release\\net5.0\\output\\Dancer\\reference/deformed_reference_mesh_005.obj')\n",
    "deformed_mesh_1 = o3d.io.read_triangle_mesh(r'G:\\VS2022Projects\\tvm-editing-master\\TVMEditor.Test\\bin\\Release\\net5.0\\output\\Dancer\\reference/deformed_reference_mesh_006.obj')\n",
    "deformed_mesh_2 = o3d.io.read_triangle_mesh(r'G:\\VS2022Projects\\tvm-editing-master\\TVMEditor.Test\\bin\\Release\\net5.0\\output\\Dancer\\reference/deformed_reference_mesh_007.obj')\n",
    "deformed_mesh_3 = o3d.io.read_triangle_mesh(r'G:\\VS2022Projects\\tvm-editing-master\\TVMEditor.Test\\bin\\Release\\net5.0\\output\\Dancer\\reference/deformed_reference_mesh_008.obj')\n",
    "deformed_mesh_4 = o3d.io.read_triangle_mesh(r'G:\\VS2022Projects\\tvm-editing-master\\TVMEditor.Test\\bin\\Release\\net5.0\\output\\Dancer\\reference/deformed_reference_mesh_009.obj')\n",
    "fitting_mesh_5 = o3d.io.read_triangle_mesh(r'G:\\VS2022Projects\\tvm-editing-master\\TVMEditor.Test\\bin\\Release\\net5.0\\output\\Dancer\\reference/fitting_mesh_dancer_5.obj')\n",
    "mesh_0.compute_vertex_normals()\n",
    "mesh_1.compute_vertex_normals()\n",
    "deformed_mesh_0.compute_vertex_normals()\n",
    "deformed_mesh_1.compute_vertex_normals()\n",
    "deformed_mesh_2.compute_vertex_normals()\n",
    "deformed_mesh_3.compute_vertex_normals()\n",
    "deformed_mesh_4.compute_vertex_normals()\n",
    "fitting_mesh_5.compute_vertex_normals()\n",
    "fitting_mesh_5.paint_uniform_color([0.7, 0.7, 0.7])\n",
    "mesh_1.paint_uniform_color([0, 1, 0])\n",
    "o3d.visualization.draw_geometries([mesh_0])"
   ],
   "id": "adc4f5e2ce64fade",
   "outputs": [],
   "execution_count": 100
  },
  {
   "metadata": {
    "ExecuteTime": {
     "end_time": "2024-09-06T13:43:31.960149Z",
     "start_time": "2024-09-06T13:43:20.216980Z"
    }
   },
   "cell_type": "code",
   "source": [
    "mesh1 = o3d.io.read_triangle_mesh(r'G:\\VS2022Projects\\arap-volume-tracking-main\\data\\Dancer/dancer_fr0001.obj')\n",
    "mesh2 = o3d.io.read_triangle_mesh(r'G:\\VS2022Projects\\arap-volume-tracking-main\\data\\Dancer/dancer_fr0002.obj')\n",
    "mesh3 = o3d.io.read_triangle_mesh(r'G:\\VS2022Projects\\arap-volume-tracking-main\\data\\Dancer/dancer_fr0003.obj')\n",
    "mesh4 = o3d.io.read_triangle_mesh(r'G:\\VS2022Projects\\arap-volume-tracking-main\\data\\Dancer/dancer_fr0004.obj')\n",
    "mesh1.compute_vertex_normals()\n",
    "mesh2.compute_vertex_normals()\n",
    "mesh3.compute_vertex_normals()\n",
    "mesh4.compute_vertex_normals()\n",
    "\n",
    "o3d.visualization.draw_geometries([mesh1, mesh2, mesh3, mesh4])"
   ],
   "id": "3d74ec3e5e3f53fd",
   "outputs": [],
   "execution_count": 3
  },
  {
   "metadata": {
    "ExecuteTime": {
     "end_time": "2024-09-06T15:32:14.926176Z",
     "start_time": "2024-09-06T15:32:14.304142Z"
    }
   },
   "cell_type": "code",
   "source": [
    "deformed_meshes = []\n",
    "all_meshes = o3d.geometry.TriangleMesh()\n",
    "for i in range(5,20):\n",
    "    mesh = o3d.io.read_triangle_mesh(fr'G:\\VS2022Projects\\tvm-editing-master\\TVMEditor.Test\\bin\\Release\\net5.0\\output\\Dancer\\output/deformed_{i:03}.obj')\n",
    "    mesh.compute_vertex_normals()\n",
    "    #print(mesh)\n",
    "    deformed_meshes.append(mesh)\n",
    "    all_meshes += mesh\n",
    "#o3d.visualization.draw_geometries([all_meshes])\n",
    "print(all_meshes, all_meshes.has_vertex_normals())\n",
    "reference_pcd = o3d.geometry.PointCloud()\n",
    "reference_pcd.points = o3d.utility.Vector3dVector(all_meshes.vertices)\n",
    "reference_pcd.normals = o3d.utility.Vector3dVector(all_meshes.vertex_normals)\n",
    "print(reference_pcd, reference_pcd.has_normals())"
   ],
   "id": "d1046cae7711e7aa",
   "outputs": [
    {
     "name": "stdout",
     "output_type": "stream",
     "text": [
      "TriangleMesh with 295815 points and 590681 triangles. True\n",
      "PointCloud with 295815 points. True\n"
     ]
    }
   ],
   "execution_count": 17
  },
  {
   "metadata": {
    "ExecuteTime": {
     "end_time": "2024-09-06T19:31:05.820465Z",
     "start_time": "2024-09-06T19:31:03.905196Z"
    }
   },
   "cell_type": "code",
   "source": [
    "load_reference_mesh = o3d.io.read_triangle_mesh(r'G:\\VS2022Projects\\tvm-editing-master\\TVMEditor.Test\\bin\\Release\\net5.0\\Data\\Dancer/reference_mesh.obj')\n",
    "print(load_reference_mesh)\n",
    "load_reference_mesh.compute_vertex_normals()\n",
    "o3d.visualization.draw_geometries([load_reference_mesh])"
   ],
   "id": "d06c772b0b5b68ad",
   "outputs": [
    {
     "name": "stdout",
     "output_type": "stream",
     "text": [
      "TriangleMesh with 20002 points and 40000 triangles.\n"
     ]
    }
   ],
   "execution_count": 70
  },
  {
   "metadata": {
    "ExecuteTime": {
     "end_time": "2024-09-06T19:32:18.577797Z",
     "start_time": "2024-09-06T19:31:39.351541Z"
    }
   },
   "cell_type": "code",
   "source": [
    "import open3d as o3d\n",
    "import numpy as np\n",
    "spheres = []\n",
    "\n",
    "# Define the radius of the spheres\n",
    "sphere_radius = 0.01  # Adjust the radius as needed\n",
    "changed_sphere = o3d.geometry.TriangleMesh()\n",
    "# Create a mesh sphere for each point and translate it to the point's location\n",
    "count = 0\n",
    "for i in range(loaded_transformed_centers.__len__()):\n",
    "    point = loaded_transformed_centers[i]\n",
    "    # Create a sphere mesh\n",
    "    mesh_sphere = o3d.geometry.TriangleMesh.create_sphere(radius=sphere_radius)\n",
    "    mesh_sphere.compute_vertex_normals()\n",
    "    \n",
    "    # Translate the sphere to the point's location\n",
    "    mesh_sphere.translate(point)\n",
    "    mesh_sphere.paint_uniform_color([1, 0, 0])  # Light grey color\n",
    "    # Add the sphere to the list\n",
    "    spheres.append(mesh_sphere)\n",
    "print(spheres.__len__(), count)\n",
    "# Combine all the spheres into one mesh\n",
    "post_spheres = o3d.geometry.TriangleMesh()\n",
    "for sphere in spheres:\n",
    "    post_spheres += sphere\n",
    "\n",
    "spheres = []\n",
    "\n",
    "# Define the radius of the spheres\n",
    "sphere_radius = 0.01  # Adjust the radius as needed\n",
    "changed_sphere = o3d.geometry.TriangleMesh()\n",
    "# Create a mesh sphere for each point and translate it to the point's location\n",
    "count = 0\n",
    "for i in range(loaded_centers.__len__()):\n",
    "    point = loaded_centers[i]\n",
    "    # Create a sphere mesh\n",
    "    mesh_sphere = o3d.geometry.TriangleMesh.create_sphere(radius=sphere_radius)\n",
    "    mesh_sphere.compute_vertex_normals()\n",
    "    \n",
    "    # Translate the sphere to the point's location\n",
    "    mesh_sphere.translate(point)\n",
    "    mesh_sphere.paint_uniform_color([0, 1, 0])  # Light grey color\n",
    "    # Add the sphere to the list\n",
    "    spheres.append(mesh_sphere)\n",
    "print(spheres.__len__(), count)\n",
    "# Combine all the spheres into one mesh\n",
    "post_spheres1 = o3d.geometry.TriangleMesh()\n",
    "for sphere in spheres:\n",
    "    post_spheres1 += sphere\n",
    "# Optionally, you can set the color of the spheres\n",
    "#all_spheres.paint_uniform_color([0.7, 0.7, 0.7])  # Light grey color\n",
    "\n",
    "# Draw the combined mesh\n",
    "o3d.visualization.draw_geometries([post_spheres, load_reference_mesh])"
   ],
   "id": "cfb0edfaaf046acf",
   "outputs": [
    {
     "name": "stdout",
     "output_type": "stream",
     "text": [
      "2000 0\n",
      "2000 0\n"
     ]
    }
   ],
   "execution_count": 72
  },
  {
   "metadata": {},
   "cell_type": "code",
   "outputs": [],
   "execution_count": null,
   "source": [
    "transformed_centers_path = 'G:\\VS2022Projects/tvm-editing-master\\TVMEditor.Test/bin\\Release/net5.0\\Data\\Dancer/reference_centers_aligned.xyz'\n",
    "loaded_transformed_centers = np.loadtxt(transformed_centers_path)\n",
    "#print(loaded_transformed_centers)\n",
    "\n",
    "#centers_path = 'G:\\VS2022Projects/tvm-editing-master\\TVMEditor.Test/bin\\Release/net5.0\\Data\\Dancer/centers/Frame_00res_4000_000.xyz'\n",
    "centers_path = 'G:\\VS2022Projects/tvm-editing-master\\TVMEditor.Test/bin\\Release/net5.0\\Data\\Dancer/centers/dancer_fr0res_2000_005.xyz'\n",
    "loaded_centers = np.loadtxt(centers_path)\n",
    "#print(loaded_centers)\n",
    "\n",
    "indices, dual_quaternions = get_dual_quaternions(loaded_centers, loaded_transformed_centers)"
   ],
   "id": "aa47c9677e45af2"
  }
 ],
 "metadata": {
  "kernelspec": {
   "display_name": "Python 3",
   "language": "python",
   "name": "python3"
  },
  "language_info": {
   "codemirror_mode": {
    "name": "ipython",
    "version": 2
   },
   "file_extension": ".py",
   "mimetype": "text/x-python",
   "name": "python",
   "nbconvert_exporter": "python",
   "pygments_lexer": "ipython2",
   "version": "2.7.6"
  }
 },
 "nbformat": 4,
 "nbformat_minor": 5
}
